{
 "cells": [
  {
   "cell_type": "markdown",
   "id": "ddfa9ae6-69fe-444a-b994-8c4c5970a7ec",
   "metadata": {},
   "source": [
    "# Proyecto - Asistente de IA para aerolíneas\n",
    "\n",
    "Ahora, reuniremos lo que hemos aprendido para crear un asistente de IA para atención al cliente para una aerolínea."
   ]
  },
  {
   "cell_type": "code",
   "execution_count": 2,
   "id": "8b50bbe2-c0b1-49c3-9a5c-1ba7efa2bcb4",
   "metadata": {},
   "outputs": [],
   "source": [
    "# imports\n",
    "\n",
    "import os\n",
    "import json\n",
    "from dotenv import load_dotenv\n",
    "from openai import OpenAI\n",
    "import gradio as gr"
   ]
  },
  {
   "cell_type": "code",
   "execution_count": 3,
   "id": "747e8786-9da8-4342-b6c9-f5f69c2e22ae",
   "metadata": {},
   "outputs": [
    {
     "name": "stdout",
     "output_type": "stream",
     "text": [
      "OpenAI API Key exists and begins sk-jNMIe\n"
     ]
    }
   ],
   "source": [
    "# Inicialización\n",
    "\n",
    "load_dotenv()\n",
    "\n",
    "openai_api_key = os.getenv('OPENAI_API_KEY')\n",
    "if openai_api_key:\n",
    "    print(f\"OpenAI API Key exists and begins {openai_api_key[:8]}\")\n",
    "else:\n",
    "    print(\"OpenAI API Key Sin Configurar\")\n",
    "    \n",
    "MODEL = \"gpt-4o-mini\"\n",
    "openai = OpenAI()"
   ]
  },
  {
   "cell_type": "code",
   "execution_count": 4,
   "id": "0a521d84-d07c-49ab-a0df-d6451499ed97",
   "metadata": {},
   "outputs": [],
   "source": [
    "system_message = \"Eres un asistente útil para una aerolínea llamada FlightAI. \"\n",
    "system_message += \"Da respuestas breves y corteses, de no más de una oración. \"\n",
    "system_message += \"Se siempre preciso. Si no sabes la respuesta, dilo.\""
   ]
  },
  {
   "cell_type": "code",
   "execution_count": null,
   "id": "61a2a15d-b559-4844-b377-6bd5cb4949f6",
   "metadata": {},
   "outputs": [],
   "source": [
    "# Esta función parece bastante más simple que la de mi video, porque estamos aprovechando las últimas actualizaciones de Gradio.\n",
    "\n",
    "def chat(message, history):\n",
    "    messages = [{\"role\": \"system\", \"content\": system_message}] + history + [{\"role\": \"user\", \"content\": message}]\n",
    "    response = openai.chat.completions.create(model=MODEL, messages=messages)\n",
    "    return response.choices[0].message.content\n",
    "\n",
    "gr.ChatInterface(fn=chat, type=\"messages\").launch()"
   ]
  },
  {
   "cell_type": "markdown",
   "id": "36bedabf-a0a7-4985-ad8e-07ed6a55a3a4",
   "metadata": {},
   "source": [
    "## Herramientas\n",
    "\n",
    "Las herramientas son una característica increíblemente poderosa que ofrecen los LLM de vanguardia.\n",
    "\n",
    "Con las herramientas, puedes escribir una función y hacer que el LLM llame a esa función como parte de su respuesta.\n",
    "\n",
    "Suena casi espeluznante... ¿le estamos dando el poder de ejecutar código en nuestra máquina?\n",
    "\n",
    "Bueno, más o menos."
   ]
  },
  {
   "cell_type": "code",
   "execution_count": 43,
   "id": "0696acb1-0b05-4dc2-80d5-771be04f1fb2",
   "metadata": {},
   "outputs": [
    {
     "name": "stdout",
     "output_type": "stream",
     "text": [
      "get_wether\n",
      "Se solicitó la herramienta get_wether para Londres\n"
     ]
    }
   ],
   "source": [
    "# Vamos a hacer una función útil\n",
    "\n",
    "ticket_prices = {\"londres\": \"799€\", \"parís\": \"899€\", \"tokyo\": \"1400€\", \"berlin\": \"499€\"}\n",
    "\n",
    "def get_ticket_price(destination_city):\n",
    "    print(f\"Se solicitó la herramienta get_ticket_price para {destination_city}\")\n",
    "    city = destination_city.lower()\n",
    "    return ticket_prices.get(city, \"Unknown\")\n",
    "\n",
    "def get_wether(destination_city):\n",
    "    print(f\"Se solicitó la herramienta get_wether para {destination_city}\")\n",
    "    wether = {\"londres\": \"lluvia\", \"parís\": \"frío\", \"tokyo\": \"tifón\", \"berlin\": \"nieve\"}\n",
    "    city = destination_city.lower()\n",
    "    return wether.get(city, \"Unknown\")"
   ]
  },
  {
   "cell_type": "code",
   "execution_count": 36,
   "id": "80ca4e09-6287-4d3f-997d-fa6afbcf6c85",
   "metadata": {},
   "outputs": [
    {
     "name": "stdout",
     "output_type": "stream",
     "text": [
      "Se solicitó la herramienta get_ticket_price para berlin\n",
      "Se solicitó la herramienta get_wether para berlin\n",
      "499€ nieve\n"
     ]
    }
   ],
   "source": [
    "print(get_ticket_price(\"berlin\"),get_wether(\"berlin\"))"
   ]
  },
  {
   "cell_type": "code",
   "execution_count": 37,
   "id": "4afceded-7178-4c05-8fa6-9f2085e6a344",
   "metadata": {},
   "outputs": [],
   "source": [
    "# Hay una estructura de diccionario particular que se requiere para describir nuestra función:\n",
    "\n",
    "price_function = {\n",
    "    \"name\": \"get_ticket_price\",\n",
    "    \"description\": \"Obtén el precio de un billete de ida y vuelta a la ciudad de destino. Llámalo siempre que necesites saber el precio del billete, por ejemplo, cuando un cliente pregunte '¿Cuánto cuesta un billete a esta ciudad?'\",\n",
    "    \"parameters\": {\n",
    "        \"type\": \"object\",\n",
    "        \"properties\": {\n",
    "            \"destination_city\": {\n",
    "                \"type\": \"string\",\n",
    "                \"description\": \"La ciudad a la que el cliente desea viajar\",\n",
    "            },\n",
    "        },\n",
    "        \"required\": [\"destination_city\"],\n",
    "        \"additionalProperties\": False\n",
    "    }\n",
    "}\n",
    "\n",
    "wether_function = {\n",
    "    \"name\": \"get_wether\",\n",
    "    \"description\": \"Se utiliza cuando se necesite obtener el tiempo de una ciudad, por ejemplo, cuando preguntan ¿Cuál es el tiempo en tokyo? o ¿Habrá buen día en la ciudad?\",\n",
    "    \"parameters\": {\n",
    "        \"type\": \"object\",\n",
    "        \"properties\": {\n",
    "            \"destination_city\": {\n",
    "                \"type\": \"string\",\n",
    "                \"description\": \"La ciudad sobre la que se quiere obtener el estado del tiempo\",\n",
    "            },\n",
    "        },\n",
    "        \"required\": [\"destination_city\"],\n",
    "        \"additionalProperties\": False\n",
    "    }\n",
    "}"
   ]
  },
  {
   "cell_type": "code",
   "execution_count": 38,
   "id": "bdca8679-935f-4e7f-97e6-e71a4d4f228c",
   "metadata": {},
   "outputs": [],
   "source": [
    "# Y esto está incluido en una lista de herramientas:\n",
    "\n",
    "tools = [\n",
    "    {\"type\": \"function\", \"function\": price_function},\n",
    "    {\"type\": \"function\", \"function\": wether_function}\n",
    "         ]"
   ]
  },
  {
   "cell_type": "markdown",
   "id": "c3d3554f-b4e3-4ce7-af6f-68faa6dd2340",
   "metadata": {},
   "source": [
    "## Cómo hacer que OpenAI use nuestra herramienta\n",
    "\n",
    "Hay algunos detalles complicados para permitir que OpenAI \"llame a nuestra herramienta\"\n",
    "\n",
    "Lo que realmente hacemos es darle al LLM la oportunidad de informarnos que quiere que ejecutemos la herramienta.\n",
    "\n",
    "Así es como se ve la nueva función de chat:"
   ]
  },
  {
   "cell_type": "code",
   "execution_count": 39,
   "id": "ce9b0744-9c78-408d-b9df-9f6fd9ed78cf",
   "metadata": {},
   "outputs": [],
   "source": [
    "def chat(message, history):\n",
    "    messages = [{\"role\": \"system\", \"content\": system_message}] + history + [{\"role\": \"user\", \"content\": message}]\n",
    "    response = openai.chat.completions.create(model=MODEL, messages=messages, tools=tools)\n",
    "\n",
    "    if response.choices[0].finish_reason==\"tool_calls\":\n",
    "        message = response.choices[0].message\n",
    "        # response, city = handle_tool_call(message)\n",
    "        response = handle_tool_call_01(message)\n",
    "        messages.append(message)\n",
    "        messages.append(response)\n",
    "        response = openai.chat.completions.create(model=MODEL, messages=messages)\n",
    "    \n",
    "    return response.choices[0].message.content"
   ]
  },
  {
   "cell_type": "code",
   "execution_count": 40,
   "id": "b0992986-ea09-4912-a076-8e5603ee631f",
   "metadata": {},
   "outputs": [],
   "source": [
    "#Tenemos que escribir esa función handle_tool_call:\n",
    "\n",
    "def handle_tool_call(message):\n",
    "    tool_call = message.tool_calls[0]\n",
    "    arguments = json.loads(tool_call.function.arguments)\n",
    "    city = arguments.get('destination_city')\n",
    "    price = get_ticket_price(city)\n",
    "    response = {\n",
    "        \"role\": \"tool\",\n",
    "        \"content\": json.dumps({\"destination_city\": city,\"price\": price}),\n",
    "        \"tool_call_id\": message.tool_calls[0].id\n",
    "    }\n",
    "    return response, city\n",
    "\n",
    "def handle_tool_call_01(message):\n",
    "    tool_call = message.tool_calls[0]\n",
    "    arguments = json.loads(tool_call.function.arguments)\n",
    "\n",
    "    if tool_call.function.name == \"get_ticket_price\":\n",
    "        city = arguments.get('destination_city')\n",
    "        price = get_ticket_price(city)\n",
    "        response = {\n",
    "            \"role\": \"tool\",\n",
    "            \"content\": json.dumps({\"destination_city\": city,\"price\": price}),\n",
    "            \"tool_call_id\": message.tool_calls[0].id\n",
    "        }\n",
    "\n",
    "    if tool_call.function.name == \"get_wether\":\n",
    "        city = arguments.get('destination_city')\n",
    "        wether = get_wether(city)\n",
    "        response = {\n",
    "            \"role\": \"tool\",\n",
    "            \"content\": json.dumps({\"destination_city\": city,\"wether\": wether}),\n",
    "            \"tool_call_id\": message.tool_calls[0].id\n",
    "        }\n",
    "\n",
    "    return response"
   ]
  },
  {
   "cell_type": "code",
   "execution_count": null,
   "id": "f4be8a71-b19e-4c2f-80df-f59ff2661f14",
   "metadata": {},
   "outputs": [],
   "source": [
    "gr.ChatInterface(fn=chat, type=\"messages\").launch(inbrowser=True)"
   ]
  }
 ],
 "metadata": {
  "kernelspec": {
   "display_name": "llms",
   "language": "python",
   "name": "python3"
  },
  "language_info": {
   "codemirror_mode": {
    "name": "ipython",
    "version": 3
   },
   "file_extension": ".py",
   "mimetype": "text/x-python",
   "name": "python",
   "nbconvert_exporter": "python",
   "pygments_lexer": "ipython3",
   "version": "3.11.11"
  }
 },
 "nbformat": 4,
 "nbformat_minor": 5
}
