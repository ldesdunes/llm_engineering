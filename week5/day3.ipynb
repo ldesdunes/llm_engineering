{
 "cells": [
  {
   "cell_type": "markdown",
   "id": "dfe37963-1af6-44fc-a841-8e462443f5e6",
   "metadata": {},
   "source": [
    "## Trabajador experto en conocimiento (RAG)\n",
    "\n",
    "### Un agente de respuesta a preguntas que es un trabajador experto en conocimiento\n",
    "### Para ser utilizado por empleados de Insurellm, una empresa de tecnología de seguros\n",
    "### El agente debe ser preciso y la solución debe ser de bajo costo.\n",
    "\n",
    "Este proyecto utilizará RAG (Retrieval Augmented Generation) para garantizar que nuestro asistente de preguntas y respuestas tenga una alta precisión."
   ]
  },
  {
   "cell_type": "code",
   "execution_count": 1,
   "id": "ba2779af-84ef-4227-9e9e-6eaf0df87e77",
   "metadata": {},
   "outputs": [],
   "source": [
    "# imports\n",
    "\n",
    "import os\n",
    "import glob\n",
    "from dotenv import load_dotenv\n",
    "import gradio as gr"
   ]
  },
  {
   "cell_type": "code",
   "execution_count": 2,
   "id": "802137aa-8a74-45e0-a487-d1974927d7ca",
   "metadata": {},
   "outputs": [],
   "source": [
    "# imports para langchain y Chroma y plotly\n",
    "\n",
    "from langchain.document_loaders import DirectoryLoader, TextLoader\n",
    "from langchain.text_splitter import CharacterTextSplitter\n",
    "from langchain.schema import Document\n",
    "from langchain_openai import OpenAIEmbeddings, ChatOpenAI\n",
    "from langchain_chroma import Chroma\n",
    "import numpy as np\n",
    "from sklearn.manifold import TSNE\n",
    "import plotly.graph_objects as go"
   ]
  },
  {
   "cell_type": "code",
   "execution_count": 3,
   "id": "58c85082-e417-4708-9efe-81a5d55d1424",
   "metadata": {},
   "outputs": [],
   "source": [
    "# El precio es un factor para nuestra empresa, por eso vamos a utilizar un modelo de bajo costo.\n",
    "\n",
    "MODEL = \"gpt-4o-mini\"\n",
    "db_name = \"vector_db\""
   ]
  },
  {
   "cell_type": "code",
   "execution_count": 4,
   "id": "ee78efcb-60fe-449e-a944-40bab26261af",
   "metadata": {},
   "outputs": [],
   "source": [
    "# Cargar variables de entorno en un archivo llamado .env\n",
    "\n",
    "load_dotenv()\n",
    "os.environ['OPENAI_API_KEY'] = os.getenv('OPENAI_API_KEY', 'your-key-if-not-using-env')"
   ]
  },
  {
   "cell_type": "code",
   "execution_count": 5,
   "id": "730711a9-6ffe-4eee-8f48-d6cfb7314905",
   "metadata": {},
   "outputs": [],
   "source": [
    "# Leer documentos usando los cargadores de LangChain\n",
    "# Tomar todo lo que está en todas las subcarpetas de nuestra base de conocimiento\n",
    "\n",
    "folders = glob.glob(\"knowledge-base/*\")\n",
    "\n",
    "# Con agradecimientos a CG y Jon R, estudiantes del curso, por esta solución necesaria para algunos usuarios.\n",
    "text_loader_kwargs = {'encoding': 'utf-8'}\n",
    "# Si esto no funciona, algunos usuarios de Windows podrían necesitar descomentar la siguiente línea.\n",
    "# text_loader_kwargs={'autodetect_encoding': True}\n",
    "\n",
    "documents = []\n",
    "for folder in folders:\n",
    "    doc_type = os.path.basename(folder)\n",
    "    loader = DirectoryLoader(folder, glob=\"**/*.md\", loader_cls=TextLoader, loader_kwargs=text_loader_kwargs)\n",
    "    folder_docs = loader.load()\n",
    "    for doc in folder_docs:\n",
    "        doc.metadata[\"doc_type\"] = doc_type\n",
    "        documents.append(doc)"
   ]
  },
  {
   "cell_type": "markdown",
   "id": "f065d4b1-80b7-4e15-abd4-60a83e752ea8",
   "metadata": {},
   "source": [
    "# Ten en cuenta:\n",
    "\n",
    "En la siguiente celda, dividimos el texto en fragmentos.\n",
    "\n",
    "Dos estudiantes me informaron que la siguiente celda hizo que su computadora se bloqueara.\n",
    "Pudieron solucionarlo cambiando chunk_size de 1000 a 2000 y chunk_overlap de 200 a 400.\n",
    "Esto no debería ser obligatorio, pero si le sucede a usted, ¡realice ese cambio!\n",
    "(Tenga en cuenta que LangChain puede emitir una advertencia sobre un fragmento mayor a 1000; esto se puede ignorar sin problemas).\n",
    "\n",
    "_Muchas gracias a Steven W y Nir P por esta valiosa contribución._"
   ]
  },
  {
   "cell_type": "code",
   "execution_count": 6,
   "id": "7310c9c8-03c1-4efc-a104-5e89aec6db1a",
   "metadata": {},
   "outputs": [
    {
     "name": "stderr",
     "output_type": "stream",
     "text": [
      "Created a chunk of size 1252, which is longer than the specified 1000\n"
     ]
    }
   ],
   "source": [
    "text_splitter = CharacterTextSplitter(chunk_size=1000, chunk_overlap=200)\n",
    "chunks = text_splitter.split_documents(documents)"
   ]
  },
  {
   "cell_type": "code",
   "execution_count": 7,
   "id": "cd06e02f-6d9b-44cc-a43d-e1faa8acc7bb",
   "metadata": {},
   "outputs": [
    {
     "data": {
      "text/plain": [
       "137"
      ]
     },
     "execution_count": 7,
     "metadata": {},
     "output_type": "execute_result"
    }
   ],
   "source": [
    "len(chunks)"
   ]
  },
  {
   "cell_type": "code",
   "execution_count": 8,
   "id": "2c54b4b6-06da-463d-bee7-4dd456c2b887",
   "metadata": {},
   "outputs": [
    {
     "name": "stdout",
     "output_type": "stream",
     "text": [
      "Document types found: contracts, products, employees, company\n"
     ]
    }
   ],
   "source": [
    "doc_types = set(chunk.metadata['doc_type'] for chunk in chunks)\n",
    "print(f\"Document types found: {', '.join(doc_types)}\")"
   ]
  },
  {
   "cell_type": "markdown",
   "id": "77f7d2a6-ccfa-425b-a1c3-5e55b23bd013",
   "metadata": {},
   "source": [
    "## Una nota al margen sobre las incrustaciones y los \"LLM de codificación automática\"\n",
    "\n",
    "Asignaremos cada fragmento de texto a un vector que representa el significado del texto, conocido como incrustación.\n",
    "\n",
    "OpenAI ofrece un modelo para hacer esto, que utilizaremos llamando a su API con un código LangChain.\n",
    "\n",
    "Este modelo es un ejemplo de un \"LLM de codificación automática\" que genera una salida dada una entrada completa.\n",
    "Es diferente a todos los demás LLM que hemos analizado hoy, que se conocen como \"LLM autorregresivos\", y generan tokens futuros basados ​​solo en el contexto pasado.\n",
    "\n",
    "Otro ejemplo de un LLM de codificación automática es BERT de Google. Además de la incrustación, los LLM de codificación automática se utilizan a menudo para la clasificación.\n",
    "\n",
    "### Nota al margen\n",
    "\n",
    "En la semana 8 volveremos a RAG y a las incrustaciones vectoriales, y utilizaremos un codificador vectorial de código abierto para que los datos nunca abandonen nuestra computadora; esa es una consideración importante cuando se crean sistemas empresariales y los datos deben permanecer internos."
   ]
  },
  {
   "cell_type": "code",
   "execution_count": 9,
   "id": "78998399-ac17-4e28-b15f-0b5f51e6ee23",
   "metadata": {},
   "outputs": [],
   "source": [
    "# Coloque los fragmentos de datos en un almacén vectorial que asocie una incrustación vectorial con cada fragmento\n",
    "\n",
    "embeddings = OpenAIEmbeddings()"
   ]
  },
  {
   "cell_type": "code",
   "execution_count": 10,
   "id": "763e51ff-5787-4a56-8176-36b7c5796fe3",
   "metadata": {},
   "outputs": [],
   "source": [
    "# Verifique si ya existe un almacén de datos Chroma; si es así, elimine la colección para comenzar desde cero\n",
    "\n",
    "if os.path.exists(db_name):\n",
    "    Chroma(persist_directory=db_name, embedding_function=embeddings).delete_collection()"
   ]
  },
  {
   "cell_type": "code",
   "execution_count": 11,
   "id": "99fe3a37-480f-4d55-be48-120588d5846b",
   "metadata": {},
   "outputs": [
    {
     "name": "stdout",
     "output_type": "stream",
     "text": [
      "Vectorstore created with 137 documents\n"
     ]
    }
   ],
   "source": [
    "# ¡Crea nuestro almacén de vectores Chroma!\n",
    "\n",
    "vectorstore = Chroma.from_documents(documents=chunks, embedding=embeddings, persist_directory=db_name)\n",
    "print(f\"Vectorstore creado con {vectorstore._collection.count()} documentos\")"
   ]
  },
  {
   "cell_type": "code",
   "execution_count": 12,
   "id": "057868f6-51a6-4087-94d1-380145821550",
   "metadata": {},
   "outputs": [
    {
     "name": "stdout",
     "output_type": "stream",
     "text": [
      "Los vectores tienen 1,536 dimensiones\n"
     ]
    }
   ],
   "source": [
    "# Obtenemos un vector y encuentramos cuántas dimensiones tiene\n",
    "\n",
    "collection = vectorstore._collection\n",
    "sample_embedding = collection.get(limit=1, include=[\"embeddings\"])[\"embeddings\"][0]\n",
    "dimensions = len(sample_embedding)\n",
    "print(f\"Los vectores tienen {dimensions:,} dimensiones\")"
   ]
  },
  {
   "cell_type": "code",
   "execution_count": 15,
   "id": "61e393a0-dd4c-419f-842f-60c1cb3b716b",
   "metadata": {},
   "outputs": [
    {
     "name": "stdout",
     "output_type": "stream",
     "text": [
      "[-0.01937656 -0.01097325 -0.00347928 ... -0.00429004 -0.03100249\n",
      " -0.01543326]\n"
     ]
    }
   ],
   "source": [
    "print(sample_embedding)"
   ]
  },
  {
   "cell_type": "markdown",
   "id": "b0d45462-a818-441c-b010-b85b32bcf618",
   "metadata": {},
   "source": [
    "## Visualización del almacén de vectores\n",
    "\n",
    "Tomémonos un minuto para observar los documentos y sus vectores de incrustación para ver qué está sucediendo."
   ]
  },
  {
   "cell_type": "code",
   "execution_count": 16,
   "id": "b98adf5e-d464-4bd2-9bdf-bc5b6770263b",
   "metadata": {},
   "outputs": [],
   "source": [
    "# Prework\n",
    "\n",
    "result = collection.get(include=['embeddings', 'documents', 'metadatas'])\n",
    "vectors = np.array(result['embeddings'])\n",
    "documents = result['documents']\n",
    "doc_types = [metadata['doc_type'] for metadata in result['metadatas']]\n",
    "colors = [['blue', 'green', 'red', 'orange'][['products', 'employees', 'contracts', 'company'].index(t)] for t in doc_types]\n"
   ]
  },
  {
   "cell_type": "code",
   "execution_count": 18,
   "id": "427149d5-e5d8-4abd-bb6f-7ef0333cca21",
   "metadata": {},
   "outputs": [
    {
     "data": {
      "application/vnd.plotly.v1+json": {
       "config": {
        "plotlyServerURL": "https://plotly.com"
       },
       "data": [
        {
         "hoverinfo": "text",
         "marker": {
          "color": [
           "blue",
           "blue",
           "blue",
           "blue",
           "blue",
           "blue",
           "blue",
           "blue",
           "blue",
           "blue",
           "blue",
           "blue",
           "blue",
           "blue",
           "blue",
           "blue",
           "blue",
           "blue",
           "blue",
           "blue",
           "blue",
           "blue",
           "blue",
           "blue",
           "blue",
           "red",
           "red",
           "red",
           "red",
           "red",
           "red",
           "red",
           "red",
           "red",
           "red",
           "red",
           "red",
           "red",
           "red",
           "red",
           "red",
           "red",
           "red",
           "red",
           "red",
           "red",
           "red",
           "red",
           "red",
           "red",
           "red",
           "red",
           "red",
           "red",
           "red",
           "red",
           "red",
           "red",
           "red",
           "red",
           "red",
           "red",
           "red",
           "red",
           "red",
           "red",
           "red",
           "red",
           "red",
           "red",
           "red",
           "red",
           "red",
           "red",
           "red",
           "red",
           "red",
           "red",
           "red",
           "red",
           "red",
           "orange",
           "orange",
           "orange",
           "green",
           "green",
           "green",
           "green",
           "green",
           "green",
           "green",
           "green",
           "green",
           "green",
           "green",
           "green",
           "green",
           "green",
           "green",
           "green",
           "green",
           "green",
           "green",
           "green",
           "green",
           "green",
           "green",
           "green",
           "green",
           "green",
           "green",
           "green",
           "green",
           "green",
           "green",
           "green",
           "green",
           "green",
           "green",
           "green",
           "green",
           "green",
           "green",
           "green",
           "green",
           "green",
           "green",
           "green",
           "green",
           "green",
           "green",
           "green",
           "green",
           "green",
           "green",
           "green",
           "green"
          ],
          "opacity": 0.8,
          "size": 10
         },
         "mode": "markers",
         "text": [
          "Type: products<br>Text: # Resumen del producto\n\n# Rellm: Solución de reaseguro empresarial basada en IA\n\n## Resumen\n\nRellm e...",
          "Type: products<br>Text: ## Características\n\n### Análisis impulsados ​​por IA\nRellm utiliza algoritmos de IA de vanguardia pa...",
          "Type: products<br>Text: ### Módulo de evaluación de riesgos\nEl módulo de evaluación de riesgos integral de Rellm permite a l...",
          "Type: products<br>Text: ### Portales para clientes y corredores\nRellm ofrece portales dedicados tanto para clientes como par...",
          "Type: products<br>Text: Únase al creciente número de organizaciones que aprovechan Rellm para mejorar sus procesos de reaseg...",
          "Type: products<br>Text: - **T3 2026**:\n- Lanzamiento de una plataforma comunitaria para que los usuarios de Rellm intercambi...",
          "Type: products<br>Text: # Resumen del producto\n\n# Markellm\n\n## Resumen\n\nMarkelm es un innovador mercado bilateral diseñado p...",
          "Type: products<br>Text: ## Características\n\n- **Emparejamiento impulsado por IA**: Markellm utiliza sofisticados algoritmos ...",
          "Type: products<br>Text: - **Recomendaciones personalizadas**: según los perfiles y las preferencias de los usuarios, Markell...",
          "Type: products<br>Text: ## Precios\n\nEn Markellm, creemos en la transparencia y la flexibilidad. Nuestra estructura de precio...",
          "Type: products<br>Text: ## Hoja de ruta 2025-2026\n\n### T1 de 2025\n- Lanzar una versión de aplicación móvil de Markellm, lo q...",
          "Type: products<br>Text: ### T4 2026\n- Implementar mejoras de aprendizaje automático en nuestro algoritmo de IA, aumentando a...",
          "Type: products<br>Text: # Resumen del producto\n\n# Homellm\n\n## Resumen\nHomellm es un innovador producto de seguros para el ho...",
          "Type: products<br>Text: ## Características\n### 1. Evaluación de riesgos impulsada por IA\nHomellm utiliza sofisticados algori...",
          "Type: products<br>Text: ### 3. Procesamiento de reclamos instantáneo\nEl sistema de gestión de reclamos impulsado por IA en H...",
          "Type: products<br>Text: ### 5. Integración multicanal\nHomellm se integra perfectamente en las plataformas de seguros existen...",
          "Type: products<br>Text: - **Nivel básico:** a partir de $5000/mes para pequeñas aseguradoras con funciones de integración bá...",
          "Type: products<br>Text: ## Hoja de ruta\nLa hoja de ruta de desarrollo de Homellm incluye los siguientes hitos clave:\n\n- **T1...",
          "Type: products<br>Text: Con Homellm, Insurellm se compromete a transformar el panorama de los seguros para el hogar, asegura...",
          "Type: products<br>Text: # Resumen del producto\n\n# Carllm\n\n## Resumen\n\nCarllm es un innovador producto de seguros para automó...",
          "Type: products<br>Text: ## Características\n\n- **Evaluación de riesgos impulsada por IA**: Carllm aprovecha la inteligencia a...",
          "Type: products<br>Text: - **Detección de fraude**: El producto incorpora análisis avanzados para identificar reclamos potenc...",
          "Type: products<br>Text: ## Precios\n\nCarllm se ofrece bajo un modelo de precios basado en suscripción adaptado a las necesida...",
          "Type: products<br>Text: ¡Comuníquese con nuestro equipo de ventas para obtener una cotización personalizada y descubra cómo ...",
          "Type: products<br>Text: ### T3 2025: Expansión global\n- Iniciar programas piloto para mercados de seguros internacionales.\n-...",
          "Type: contracts<br>Text: # Contrato con GreenField Holdings para Markellm\n\n**Fecha de entrada en vigor:** 15 de noviembre de ...",
          "Type: contracts<br>Text: ## Renovación\n1. **Renovación automática**: Este contrato se renovará automáticamente por períodos c...",
          "Type: contracts<br>Text: ## Características\n1. **Coincidencias impulsadas por IA**: acceso a algoritmos avanzados que conecta...",
          "Type: contracts<br>Text: ## Soporte\n1. **Acceso a soporte al cliente**: el cliente tendrá acceso a soporte dedicado por teléf...",
          "Type: contracts<br>Text: ## Precios\n- **Tarifa básica de listado**: GreenField Holdings acepta pagar una tarifa mensual de $1...",
          "Type: contracts<br>Text: # Contrato con Apex Reinsurance para Rellm: Solución de reaseguro empresarial basada en IA\n\n## Térmi...",
          "Type: contracts<br>Text: 4. **Duración del contrato**: este Acuerdo comenzará el [Fecha de inicio] y permanecerá vigente dura...",
          "Type: contracts<br>Text: 2. **Integraciones sin inconvenientes**: La arquitectura de Rellm permite una fácil integración con ...",
          "Type: contracts<br>Text: ## Soporte\n\n1. **Soporte técnico**: El proveedor ofrecerá soporte técnico exclusivo al Cliente por t...",
          "Type: contracts<br>Text: ---\n\n**Aceptación de los términos**: al firmar a continuación, ambas partes aceptan los términos, la...",
          "Type: contracts<br>Text: # Contrato con Greenstone Insurance para Homellm\n\n---\n\n## Términos\n\n1. **Partes**: Este contrato (\"A...",
          "Type: contracts<br>Text: 4. **Condiciones de pago**:\n- El cliente deberá pagar un monto de $10,000 por mes por el nivel están...",
          "Type: contracts<br>Text: ---\n\n## Características\n\n- **Evaluación de riesgos impulsada por IA**: el cliente tendrá acceso a he...",
          "Type: contracts<br>Text: - **Integración multicanal**: Homellm se integrará con las plataformas existentes del cliente para c...",
          "Type: contracts<br>Text: 3. **Actualizaciones y mejoras**: El cliente recibirá todas las actualizaciones de software y mejora...",
          "Type: contracts<br>Text: # Contrato con Roadway Insurance Inc. para Carllm\n\n---\n\n## Términos\n\n1. **Fecha de entrada en vigor ...",
          "Type: contracts<br>Text: ---\n\n## Renovación\n\n1. **Renovación automática**: este acuerdo se renovará automáticamente por un pe...",
          "Type: contracts<br>Text: 2. **Integración móvil**: se podrá acceder a todas las características a través de una aplicación mó...",
          "Type: contracts<br>Text: ---\n\n*Este contrato describe los términos de la relación entre Insurellm y Roadway Insurance Inc. pa...",
          "Type: contracts<br>Text: # Contrato con Stellar Insurance Co. para Rellm\n\n## Condiciones\nEste contrato se celebra entre **Ins...",
          "Type: contracts<br>Text: ### Terminación\nCualquiera de las partes puede rescindir este acuerdo con un **aviso por escrito de ...",
          "Type: contracts<br>Text: ## Características\nStellar Insurance Co. recibirá acceso a las siguientes características del produc...",
          "Type: contracts<br>Text: ## Soporte\nInsurellm ofrece a Stellar Insurance Co. los siguientes servicios de soporte:\n\n- **Soport...",
          "Type: contracts<br>Text: **Para Insurellm**\n______________________________\n[Firma]\n[Nombre, cargo]\n[Fecha]\n\n**Para Stellar In...",
          "Type: contracts<br>Text: # Contrato con TechDrive Insurance para Carllm\n\n**Fecha del contrato:** 1 de octubre de 2024\n**Durac...",
          "Type: contracts<br>Text: ## Renovación\n\n1. **Renovación automática**: este contrato se renovará automáticamente por períodos ...",
          "Type: contracts<br>Text: 2. **Requisitos del sistema**: TechDrive Insurance debe asegurarse de que sus sistemas existentes cu...",
          "Type: contracts<br>Text: 3. **Actualizaciones del sistema**: el proveedor enviará actualizaciones periódicas para mejorar el ...",
          "Type: contracts<br>Text: # Contrato con Belvedere Insurance para Markellm\n\n## Términos\nEste Contrato (\"Acuerdo\") se celebra y...",
          "Type: contracts<br>Text: ## Renovación\n1. **Condiciones de renovación**: Este acuerdo puede renovarse por períodos adicionale...",
          "Type: contracts<br>Text: ## Características\n1. **Emparejamiento basado en IA**: Belvedere Insurance se beneficiará del empare...",
          "Type: contracts<br>Text: ## Asistencia\n1. **Asistencia técnica**: La asistencia técnica estará disponible de lunes a viernes ...",
          "Type: contracts<br>Text: **Belvedere Insurance**\nFirma: ______________________\nNombre: [Firmante autorizado]\nTítulo: [Título]...",
          "Type: contracts<br>Text: # Contrato con Velocity Auto Solutions para Carllm\n\n**Fecha del contrato:** 1 de octubre de 2023\n**N...",
          "Type: contracts<br>Text: ## Renovación\n\n1. **Renovación automática**: este contrato se renovará automáticamente por períodos ...",
          "Type: contracts<br>Text: ## Soporte\n\n1. **Atención al cliente**: Velocity Auto Solutions tendrá acceso al equipo de atención ...",
          "Type: contracts<br>Text: # Contrato con GreenValley Insurance para Homellm\n\n**Fecha del contrato:** 6 de octubre de 2023\n**Nú...",
          "Type: contracts<br>Text: 4. **Confidencialidad:** Ambas partes acuerdan mantener la confidencialidad de la información confid...",
          "Type: contracts<br>Text: 1. **Evaluación de riesgos impulsada por IA:** Acceso a algoritmos avanzados de IA para evaluaciones...",
          "Type: contracts<br>Text: ---\n\n## Soporte\n\nInsurellm se compromete a proporcionar soporte integral a GreenValley Insurance, qu...",
          "Type: contracts<br>Text: _________________________________\n**[Nombre]**\n**Título**: Director de operaciones\n**GreenValley Ins...",
          "Type: contracts<br>Text: # Contrato con EverGuard Insurance para Rellm: solución de reaseguro empresarial impulsada por IA\n\n*...",
          "Type: contracts<br>Text: 4. **Derechos de uso**: EverGuard Insurance recibe una licencia no exclusiva e intransferible para a...",
          "Type: contracts<br>Text: 2. **Panel personalizable**: los usuarios de EverGuard Insurance tendrán acceso a un panel personali...",
          "Type: contracts<br>Text: 2. **Servicios de capacitación**: Insurellm brindará capacitación inicial al personal de EverGuard I...",
          "Type: contracts<br>Text: ---\n\n**Firmas**\n**Para Insurellm**: __________________________\n**Nombre**: John Smith\n**Título**: Di...",
          "Type: contracts<br>Text: # Contrato con BrightWay Solutions para Markellm\n\n**Fecha del contrato:** 5 de octubre de 2023\n**ID ...",
          "Type: contracts<br>Text: 3. **Acuerdo de nivel de servicio (SLA):**\nInsurellm se compromete a un tiempo de actividad del 99,9...",
          "Type: contracts<br>Text: 2. **Disponibilidad de cotizaciones en tiempo real:**\nLos consumidores obtenidos a través de BrightW...",
          "Type: contracts<br>Text: 2. **Servicios de soporte adicionales:**\nSe dispondrá de soporte técnico para la integración y el ma...",
          "Type: contracts<br>Text: __________________________\n**[Nombre], [Cargo]**\n**BrightWay Solutions**\nFecha: ____________________...",
          "Type: contracts<br>Text: # Contrato con GreenValley Insurance para Homellm\n\n**Fecha del contrato:** 6 de octubre de 2023\n**Nú...",
          "Type: contracts<br>Text: 4. **Confidencialidad:** Ambas partes acuerdan mantener la confidencialidad de la información confid...",
          "Type: contracts<br>Text: 1. **Evaluación de riesgos impulsada por IA:** Acceso a algoritmos avanzados de IA para evaluaciones...",
          "Type: contracts<br>Text: ---\n\n## Soporte\n\nInsurellm se compromete a proporcionar soporte integral a GreenValley Insurance, qu...",
          "Type: contracts<br>Text: _________________________________\n**[Nombre]**\n**Título**: Director de operaciones\n**GreenValley Ins...",
          "Type: company<br>Text: # Descripción general de Insurellm\n\nInsurellm es una innovadora empresa de tecnología de seguros con...",
          "Type: company<br>Text: # Carreras en Insurellm\n\n¡Insurellm está contratando! Buscamos ingenieros de software, científicos d...",
          "Type: company<br>Text: # Acerca de Insurellm\n\nInsurellm fue fundada por Avery Lancaster en 2015 como una startup de tecnolo...",
          "Type: employees<br>Text: # Registro de RR. HH.\n\n# Alex Chen\n\n## Resumen\n- **Fecha de nacimiento:** 15 de marzo de 1990\n- **Pu...",
          "Type: employees<br>Text: ## Historial de desempeño anual\n- **2020:**\n- Completó la incorporación con éxito.\n- Cumplió con las...",
          "Type: employees<br>Text: ## Historial de compensación\n- **2020:** Salario base: $80,000\n- **2021:** Aumento del salario base ...",
          "Type: employees<br>Text: ## Otras notas de RR. HH.\n- Participa regularmente en las iniciativas de Diversidad e Inclusión de I...",
          "Type: employees<br>Text: # Registro de RR. HH.\n\n# Oliver Spencer\n\n## Resumen\n- **Fecha de nacimiento**: 14 de mayo de 1990\n- ...",
          "Type: employees<br>Text: ## Progresión profesional en Insurellm\n- **Marzo de 2018**: Se incorporó a Insurellm como Desarrolla...",
          "Type: employees<br>Text: ## Historial de desempeño anual\n- **2018**: **3/5** - Jugador de equipo adaptable, pero aún aprendie...",
          "Type: employees<br>Text: ## Historial de compensación\n- **Marzo de 2018**: salario inicial de $80,000.\n- **Julio de 2019**: s...",
          "Type: employees<br>Text: # Registro de RR.HH.\n\n#Emily Carter\n\n## Resumen\n- **Fecha de nacimiento:** 12 de agosto de 1990\n- **...",
          "Type: employees<br>Text: - **2017-2019:** Pasante de marketing\n- Colaboré con la investigación de mercado y el desarrollo de ...",
          "Type: employees<br>Text: ## Historial de compensación\n| Año | Base salarial | Bonificación | Compensación total |\n|------|---...",
          "Type: employees<br>Text: ## Otras notas de RR. S.S.\n- **Desarrollo profesional:** Emily está actualmente inscrita en un progr...",
          "Type: employees<br>Text: # Registro de RR.HH.\n\n# Jordan Blake\n\n## Resumen\n- **Fecha de nacimiento:** 15 de marzo de 1993\n- **...",
          "Type: employees<br>Text: ## Historial de desempeño anual\n- **2021:** Primer año en Insurellm; logró el 90 % de los objetivos ...",
          "Type: employees<br>Text: ## Historial de compensación\n- **2021-06:** Salario inicial: $50,000\n- **2022-04:** Aumento basado e...",
          "Type: employees<br>Text: # Avery Lancaster\n\n## Resumen\n- **Fecha de nacimiento**: 15 de marzo de 1985\n- **Puesto**: Cofundado...",
          "Type: employees<br>Text: - **2010 - 2013**: Analista de negocios en Edge Analytics\nAntes de unirse a Innovate, Avery trabajó ...",
          "Type: employees<br>Text: - **2018**: **Supera las expectativas**\nCon la visión de cambio de Avery, Insurellm lanzó dos nuevos...",
          "Type: employees<br>Text: - **2022**: **Satisfactorio**\nAvery se centró en reconstruir la dinámica del equipo y abordar las pr...",
          "Type: employees<br>Text: ## Historial de compensación\n- **2015**: salario base de $150,000 + participación accionaria signifi...",
          "Type: employees<br>Text: ## Otras notas de RR. HH.\n- **Desarrollo profesional**: Avery ha participado activamente en programa...",
          "Type: employees<br>Text: Avery Lancaster ha demostrado resiliencia y adaptabilidad a lo largo de su carrera en Insurellm, pos...",
          "Type: employees<br>Text: # Registro de RR. HH.\n\n# Maxine Thompson\n\n## Resumen\n- **Fecha de nacimiento:** 15 de enero de 1991\n...",
          "Type: employees<br>Text: ## Progresión profesional en Insurellm\n- **Enero de 2017 - Octubre de 2018**: **Ingeniero de datos j...",
          "Type: employees<br>Text: ## Historial de desempeño anual\n- **2017**: *Cumple con las expectativas*\nMaxine mostró potencial en...",
          "Type: employees<br>Text: - **2021**: *Supera las expectativas*\nMaxine encabezó la transición a una nueva solución de almacena...",
          "Type: employees<br>Text: ## Historial de compensación\n- **2017**: $70,000 (Ingeniero de datos júnior)\n- **2018**: $75,000 (In...",
          "Type: employees<br>Text: # Samantha Greene\n\n## Resumen\n- **Fecha de nacimiento:** 14 de octubre de 1990\n- **Puesto:** General...",
          "Type: employees<br>Text: ## Historial de desempeño anual\n- **2020:** Supera las expectativas\nSamantha Greene demostró habilid...",
          "Type: employees<br>Text: - **2023:** Cumple las expectativas\nDespués de asistir a talleres centrados en la resolución de conf...",
          "Type: employees<br>Text: - **2023:** Salario base: $70,000\nReconocida por una mejora sustancial en la gestión de las relacion...",
          "Type: employees<br>Text: # Registro de RR. HH.\n\n# Alex Thomson\n\n## Resumen\n- **Fecha de nacimiento:** 15 de marzo de 1995\n- *...",
          "Type: employees<br>Text: ## Resumen\n- **Fecha de nacimiento:** 15 de marzo de 1995\n- **Puesto:** Representante de desarrollo ...",
          "Type: employees<br>Text: ## Historial de desempeño anual\n- **2022** - Calificado como \"Supera las expectativas\". Alex Thomson...",
          "Type: employees<br>Text: ## Historial de compensación\n- **2022**: Salario base: $55 000 | Bono: $5000\n- **2023**: Salario bas...",
          "Type: employees<br>Text: ## Otras notas de RR. HH.\n- Alex Thomson es un miembro activo del comité de Diversidad e Inclusión e...",
          "Type: employees<br>Text: # Registro de RR. HH.\n\n# Samuel Trenton\n\n## Resumen\n- **Fecha de nacimiento:** 12 de abril de 1989\n-...",
          "Type: employees<br>Text: - **Agosto de 2016 - mayo de 2018:** Analista de datos junior\n*Comencé en Insurellm como analista de...",
          "Type: employees<br>Text: - **2021:** Calificación: 4.0/5\n*Hubo una mejora notable en el desempeño. Trabajé para mejorar la pr...",
          "Type: employees<br>Text: - **2021:** Salario base: $105,000 + Bonificación: $12,000\n*Aumento basado en mérito, que refleja co...",
          "Type: employees<br>Text: - **Áreas de mejora:** La colaboración con los equipos de ingeniería se ha señalado como un área que...",
          "Type: employees<br>Text: # Registro de RR. HH.\n\n# Alex Harper\n\n## Resumen\n- **Fecha de nacimiento**: 15 de marzo de 1993\n- **...",
          "Type: employees<br>Text: ## Historial de desempeño anual\n- **2021**:\n- **Calificación de desempeño**: 4.5/5\n- **Logros clave*...",
          "Type: employees<br>Text: ## Historial de compensación\n- **2021**:\n- **Salario base**: $55,000\n- **Bonificación**: $5,500 (10 ...",
          "Type: employees<br>Text: - **Comentarios de RR. HH.**:\n- Alex Harper es conocido por su ética de trabajo, actitud positiva y ...",
          "Type: employees<br>Text: # Registro de RR. HH.\n\n# Jordan K. Bishop\n\n## Resumen\n- **Fecha de nacimiento:** 15 de marzo de 1990...",
          "Type: employees<br>Text: ## Historial de desempeño anual\n- **2019:** Supera las expectativas: entregó código de alta calidad ...",
          "Type: employees<br>Text: ## Historial de compensación\n- **Junio ​​de 2018:** Salario inicial: $85 000\n- **Junio ​​de 2019:** ...",
          "Type: employees<br>Text: ## Otras notas de RR. HH.\n- Jordan K. Bishop ha sido parte integral de las iniciativas del club, inc...",
          "Type: employees<br>Text: # Registro de RR.HH.\n\n# Emily Carter\n\n## Resumen\n- **Fecha de nacimiento:** 12 de agosto de 1990\n- *...",
          "Type: employees<br>Text: - **2017-2019:** Pasante de marketing\n- Colaboré con la investigación de mercado y el desarrollo de ...",
          "Type: employees<br>Text: ## Historial de compensación\n| Año | Salario base | Bonificación | Compensación total |\n|------|----...",
          "Type: employees<br>Text: Emily Carter ejemplifica el tipo de talento que impulsa el éxito de Insurellm y es un activo invalua..."
         ],
         "type": "scatter",
         "x": [
          -7.3370595,
          -7.4149847,
          -5.6805396,
          -3.2227368,
          -5.663856,
          -5.5343795,
          -10.867651,
          -10.603776,
          -11.705862,
          0.28022653,
          -7.4600644,
          -9.258898,
          -8.6446295,
          -10.37214,
          -12.236338,
          -6.936131,
          -1.8028808,
          -5.875645,
          -8.594359,
          -9.061238,
          -9.990476,
          -10.835033,
          -1.1439334,
          -6.706887,
          -8.127719,
          -4.254865,
          0.74971163,
          -13.887811,
          -5.851502,
          2.0438368,
          1.3634634,
          0.41374558,
          -4.996147,
          -5.526971,
          4.0016303,
          -4.649153,
          -1.0720824,
          -11.176042,
          -6.291801,
          3.9414504,
          5.596273,
          3.5273166,
          -0.5060008,
          7.6238346,
          2.499552,
          1.6085267,
          -3.1119967,
          -1.3950592,
          8.184783,
          5.2662997,
          2.6118615,
          1.1244617,
          2.4111047,
          6.5673785,
          0.73247504,
          -9.489206,
          2.346465,
          7.614281,
          4.0174956,
          2.072932,
          0.8762432,
          -4.583439,
          -2.796705,
          -14.458898,
          -3.2604659,
          -7.4552145,
          0.010220848,
          -0.5232714,
          -1.999265,
          -0.7583864,
          6.488236,
          4.562032,
          -0.07911176,
          -8.849587,
          3.8440652,
          5.9066734,
          -4.798577,
          -2.796705,
          -14.458898,
          -3.2604659,
          -7.2790756,
          -1.4016093,
          -2.2269902,
          -0.24826884,
          -1.2793103,
          8.638981,
          11.629561,
          -1.9381717,
          -2.401294,
          0.26964408,
          9.641844,
          7.308649,
          1.8475424,
          11.099041,
          12.63216,
          -0.9809992,
          -2.1601982,
          3.3876545,
          8.12772,
          0.9472397,
          3.9370584,
          5.4491525,
          5.307194,
          12.818113,
          2.373398,
          0.23734553,
          -0.985874,
          2.0339448,
          6.2969527,
          5.353828,
          8.971087,
          3.6198368,
          6.1623135,
          6.400454,
          4.714316,
          -1.4485501,
          -2.7665553,
          8.480095,
          10.432459,
          -3.7465656,
          -0.15500459,
          2.592501,
          10.657238,
          10.152355,
          1.9925976,
          -2.787267,
          9.861649,
          9.0322695,
          -5.2427683,
          -4.0413313,
          8.1462965,
          12.1193075,
          -5.2365074,
          2.0495338,
          10.824447,
          6.746936,
          -1.4647101
         ],
         "y": [
          3.650902,
          4.761578,
          4.447142,
          4.086838,
          0.043783266,
          1.4496999,
          9.61463,
          10.536773,
          11.722179,
          3.1297803,
          -1.9835335,
          -1.5671895,
          6.911731,
          6.2984643,
          5.572348,
          7.7479835,
          2.3426857,
          -2.389137,
          8.085124,
          2.6473448,
          3.8934479,
          2.8369489,
          2.980312,
          -0.3623853,
          -0.40614367,
          14.191834,
          20.69241,
          9.519812,
          12.547404,
          3.356452,
          12.63205,
          18.658089,
          6.267666,
          10.968158,
          9.868658,
          15.941883,
          20.065357,
          6.530494,
          9.222393,
          8.329793,
          18.18868,
          19.667437,
          6.5910077,
          16.619864,
          14.610762,
          15.340323,
          7.20629,
          8.70365,
          8.882244,
          16.715242,
          18.59034,
          6.801527,
          7.182028,
          13.323536,
          21.742062,
          11.38097,
          10.177513,
          12.081496,
          16.816874,
          17.53335,
          9.37748,
          19.036512,
          16.78359,
          7.471363,
          10.115759,
          18.034653,
          13.023281,
          14.50231,
          12.180857,
          11.455699,
          8.728409,
          12.687483,
          17.00413,
          13.6651745,
          11.920622,
          10.920963,
          18.355047,
          16.78359,
          7.471363,
          10.115759,
          17.357462,
          -1.0282626,
          -2.6910453,
          -1.9159774,
          -13.888028,
          -11.123492,
          -15.991686,
          -11.079789,
          -18.744738,
          -10.353414,
          -10.18006,
          -18.347591,
          -17.772738,
          -8.314545,
          -14.861999,
          -8.202106,
          -15.618194,
          -3.0084076,
          -17.3527,
          -4.2990108,
          -6.2895007,
          -6.642508,
          -5.644789,
          -16.473886,
          -6.3619947,
          -5.2474036,
          -18.9817,
          -10.034527,
          -9.7906065,
          -8.951218,
          -19.46773,
          -14.903413,
          -12.535965,
          -14.017483,
          -14.446682,
          -17.574745,
          -13.10396,
          -8.185657,
          -15.187586,
          -11.773351,
          -15.129593,
          -11.321944,
          -17.058456,
          -18.275654,
          -12.650522,
          -14.413838,
          -12.957108,
          -16.209148,
          -13.036369,
          -16.139631,
          -10.046155,
          -18.108437,
          -16.307743,
          -18.307693,
          -7.778028,
          -16.427391,
          -6.931766
         ]
        }
       ],
       "layout": {
        "height": 600,
        "margin": {
         "b": 10,
         "l": 10,
         "r": 20,
         "t": 40
        },
        "scene": {
         "xaxis": {
          "title": {
           "text": "x"
          }
         },
         "yaxis": {
          "title": {
           "text": "y"
          }
         }
        },
        "template": {
         "data": {
          "bar": [
           {
            "error_x": {
             "color": "#2a3f5f"
            },
            "error_y": {
             "color": "#2a3f5f"
            },
            "marker": {
             "line": {
              "color": "#E5ECF6",
              "width": 0.5
             },
             "pattern": {
              "fillmode": "overlay",
              "size": 10,
              "solidity": 0.2
             }
            },
            "type": "bar"
           }
          ],
          "barpolar": [
           {
            "marker": {
             "line": {
              "color": "#E5ECF6",
              "width": 0.5
             },
             "pattern": {
              "fillmode": "overlay",
              "size": 10,
              "solidity": 0.2
             }
            },
            "type": "barpolar"
           }
          ],
          "carpet": [
           {
            "aaxis": {
             "endlinecolor": "#2a3f5f",
             "gridcolor": "white",
             "linecolor": "white",
             "minorgridcolor": "white",
             "startlinecolor": "#2a3f5f"
            },
            "baxis": {
             "endlinecolor": "#2a3f5f",
             "gridcolor": "white",
             "linecolor": "white",
             "minorgridcolor": "white",
             "startlinecolor": "#2a3f5f"
            },
            "type": "carpet"
           }
          ],
          "choropleth": [
           {
            "colorbar": {
             "outlinewidth": 0,
             "ticks": ""
            },
            "type": "choropleth"
           }
          ],
          "contour": [
           {
            "colorbar": {
             "outlinewidth": 0,
             "ticks": ""
            },
            "colorscale": [
             [
              0,
              "#0d0887"
             ],
             [
              0.1111111111111111,
              "#46039f"
             ],
             [
              0.2222222222222222,
              "#7201a8"
             ],
             [
              0.3333333333333333,
              "#9c179e"
             ],
             [
              0.4444444444444444,
              "#bd3786"
             ],
             [
              0.5555555555555556,
              "#d8576b"
             ],
             [
              0.6666666666666666,
              "#ed7953"
             ],
             [
              0.7777777777777778,
              "#fb9f3a"
             ],
             [
              0.8888888888888888,
              "#fdca26"
             ],
             [
              1,
              "#f0f921"
             ]
            ],
            "type": "contour"
           }
          ],
          "contourcarpet": [
           {
            "colorbar": {
             "outlinewidth": 0,
             "ticks": ""
            },
            "type": "contourcarpet"
           }
          ],
          "heatmap": [
           {
            "colorbar": {
             "outlinewidth": 0,
             "ticks": ""
            },
            "colorscale": [
             [
              0,
              "#0d0887"
             ],
             [
              0.1111111111111111,
              "#46039f"
             ],
             [
              0.2222222222222222,
              "#7201a8"
             ],
             [
              0.3333333333333333,
              "#9c179e"
             ],
             [
              0.4444444444444444,
              "#bd3786"
             ],
             [
              0.5555555555555556,
              "#d8576b"
             ],
             [
              0.6666666666666666,
              "#ed7953"
             ],
             [
              0.7777777777777778,
              "#fb9f3a"
             ],
             [
              0.8888888888888888,
              "#fdca26"
             ],
             [
              1,
              "#f0f921"
             ]
            ],
            "type": "heatmap"
           }
          ],
          "heatmapgl": [
           {
            "colorbar": {
             "outlinewidth": 0,
             "ticks": ""
            },
            "colorscale": [
             [
              0,
              "#0d0887"
             ],
             [
              0.1111111111111111,
              "#46039f"
             ],
             [
              0.2222222222222222,
              "#7201a8"
             ],
             [
              0.3333333333333333,
              "#9c179e"
             ],
             [
              0.4444444444444444,
              "#bd3786"
             ],
             [
              0.5555555555555556,
              "#d8576b"
             ],
             [
              0.6666666666666666,
              "#ed7953"
             ],
             [
              0.7777777777777778,
              "#fb9f3a"
             ],
             [
              0.8888888888888888,
              "#fdca26"
             ],
             [
              1,
              "#f0f921"
             ]
            ],
            "type": "heatmapgl"
           }
          ],
          "histogram": [
           {
            "marker": {
             "pattern": {
              "fillmode": "overlay",
              "size": 10,
              "solidity": 0.2
             }
            },
            "type": "histogram"
           }
          ],
          "histogram2d": [
           {
            "colorbar": {
             "outlinewidth": 0,
             "ticks": ""
            },
            "colorscale": [
             [
              0,
              "#0d0887"
             ],
             [
              0.1111111111111111,
              "#46039f"
             ],
             [
              0.2222222222222222,
              "#7201a8"
             ],
             [
              0.3333333333333333,
              "#9c179e"
             ],
             [
              0.4444444444444444,
              "#bd3786"
             ],
             [
              0.5555555555555556,
              "#d8576b"
             ],
             [
              0.6666666666666666,
              "#ed7953"
             ],
             [
              0.7777777777777778,
              "#fb9f3a"
             ],
             [
              0.8888888888888888,
              "#fdca26"
             ],
             [
              1,
              "#f0f921"
             ]
            ],
            "type": "histogram2d"
           }
          ],
          "histogram2dcontour": [
           {
            "colorbar": {
             "outlinewidth": 0,
             "ticks": ""
            },
            "colorscale": [
             [
              0,
              "#0d0887"
             ],
             [
              0.1111111111111111,
              "#46039f"
             ],
             [
              0.2222222222222222,
              "#7201a8"
             ],
             [
              0.3333333333333333,
              "#9c179e"
             ],
             [
              0.4444444444444444,
              "#bd3786"
             ],
             [
              0.5555555555555556,
              "#d8576b"
             ],
             [
              0.6666666666666666,
              "#ed7953"
             ],
             [
              0.7777777777777778,
              "#fb9f3a"
             ],
             [
              0.8888888888888888,
              "#fdca26"
             ],
             [
              1,
              "#f0f921"
             ]
            ],
            "type": "histogram2dcontour"
           }
          ],
          "mesh3d": [
           {
            "colorbar": {
             "outlinewidth": 0,
             "ticks": ""
            },
            "type": "mesh3d"
           }
          ],
          "parcoords": [
           {
            "line": {
             "colorbar": {
              "outlinewidth": 0,
              "ticks": ""
             }
            },
            "type": "parcoords"
           }
          ],
          "pie": [
           {
            "automargin": true,
            "type": "pie"
           }
          ],
          "scatter": [
           {
            "fillpattern": {
             "fillmode": "overlay",
             "size": 10,
             "solidity": 0.2
            },
            "type": "scatter"
           }
          ],
          "scatter3d": [
           {
            "line": {
             "colorbar": {
              "outlinewidth": 0,
              "ticks": ""
             }
            },
            "marker": {
             "colorbar": {
              "outlinewidth": 0,
              "ticks": ""
             }
            },
            "type": "scatter3d"
           }
          ],
          "scattercarpet": [
           {
            "marker": {
             "colorbar": {
              "outlinewidth": 0,
              "ticks": ""
             }
            },
            "type": "scattercarpet"
           }
          ],
          "scattergeo": [
           {
            "marker": {
             "colorbar": {
              "outlinewidth": 0,
              "ticks": ""
             }
            },
            "type": "scattergeo"
           }
          ],
          "scattergl": [
           {
            "marker": {
             "colorbar": {
              "outlinewidth": 0,
              "ticks": ""
             }
            },
            "type": "scattergl"
           }
          ],
          "scattermapbox": [
           {
            "marker": {
             "colorbar": {
              "outlinewidth": 0,
              "ticks": ""
             }
            },
            "type": "scattermapbox"
           }
          ],
          "scatterpolar": [
           {
            "marker": {
             "colorbar": {
              "outlinewidth": 0,
              "ticks": ""
             }
            },
            "type": "scatterpolar"
           }
          ],
          "scatterpolargl": [
           {
            "marker": {
             "colorbar": {
              "outlinewidth": 0,
              "ticks": ""
             }
            },
            "type": "scatterpolargl"
           }
          ],
          "scatterternary": [
           {
            "marker": {
             "colorbar": {
              "outlinewidth": 0,
              "ticks": ""
             }
            },
            "type": "scatterternary"
           }
          ],
          "surface": [
           {
            "colorbar": {
             "outlinewidth": 0,
             "ticks": ""
            },
            "colorscale": [
             [
              0,
              "#0d0887"
             ],
             [
              0.1111111111111111,
              "#46039f"
             ],
             [
              0.2222222222222222,
              "#7201a8"
             ],
             [
              0.3333333333333333,
              "#9c179e"
             ],
             [
              0.4444444444444444,
              "#bd3786"
             ],
             [
              0.5555555555555556,
              "#d8576b"
             ],
             [
              0.6666666666666666,
              "#ed7953"
             ],
             [
              0.7777777777777778,
              "#fb9f3a"
             ],
             [
              0.8888888888888888,
              "#fdca26"
             ],
             [
              1,
              "#f0f921"
             ]
            ],
            "type": "surface"
           }
          ],
          "table": [
           {
            "cells": {
             "fill": {
              "color": "#EBF0F8"
             },
             "line": {
              "color": "white"
             }
            },
            "header": {
             "fill": {
              "color": "#C8D4E3"
             },
             "line": {
              "color": "white"
             }
            },
            "type": "table"
           }
          ]
         },
         "layout": {
          "annotationdefaults": {
           "arrowcolor": "#2a3f5f",
           "arrowhead": 0,
           "arrowwidth": 1
          },
          "autotypenumbers": "strict",
          "coloraxis": {
           "colorbar": {
            "outlinewidth": 0,
            "ticks": ""
           }
          },
          "colorscale": {
           "diverging": [
            [
             0,
             "#8e0152"
            ],
            [
             0.1,
             "#c51b7d"
            ],
            [
             0.2,
             "#de77ae"
            ],
            [
             0.3,
             "#f1b6da"
            ],
            [
             0.4,
             "#fde0ef"
            ],
            [
             0.5,
             "#f7f7f7"
            ],
            [
             0.6,
             "#e6f5d0"
            ],
            [
             0.7,
             "#b8e186"
            ],
            [
             0.8,
             "#7fbc41"
            ],
            [
             0.9,
             "#4d9221"
            ],
            [
             1,
             "#276419"
            ]
           ],
           "sequential": [
            [
             0,
             "#0d0887"
            ],
            [
             0.1111111111111111,
             "#46039f"
            ],
            [
             0.2222222222222222,
             "#7201a8"
            ],
            [
             0.3333333333333333,
             "#9c179e"
            ],
            [
             0.4444444444444444,
             "#bd3786"
            ],
            [
             0.5555555555555556,
             "#d8576b"
            ],
            [
             0.6666666666666666,
             "#ed7953"
            ],
            [
             0.7777777777777778,
             "#fb9f3a"
            ],
            [
             0.8888888888888888,
             "#fdca26"
            ],
            [
             1,
             "#f0f921"
            ]
           ],
           "sequentialminus": [
            [
             0,
             "#0d0887"
            ],
            [
             0.1111111111111111,
             "#46039f"
            ],
            [
             0.2222222222222222,
             "#7201a8"
            ],
            [
             0.3333333333333333,
             "#9c179e"
            ],
            [
             0.4444444444444444,
             "#bd3786"
            ],
            [
             0.5555555555555556,
             "#d8576b"
            ],
            [
             0.6666666666666666,
             "#ed7953"
            ],
            [
             0.7777777777777778,
             "#fb9f3a"
            ],
            [
             0.8888888888888888,
             "#fdca26"
            ],
            [
             1,
             "#f0f921"
            ]
           ]
          },
          "colorway": [
           "#636efa",
           "#EF553B",
           "#00cc96",
           "#ab63fa",
           "#FFA15A",
           "#19d3f3",
           "#FF6692",
           "#B6E880",
           "#FF97FF",
           "#FECB52"
          ],
          "font": {
           "color": "#2a3f5f"
          },
          "geo": {
           "bgcolor": "white",
           "lakecolor": "white",
           "landcolor": "#E5ECF6",
           "showlakes": true,
           "showland": true,
           "subunitcolor": "white"
          },
          "hoverlabel": {
           "align": "left"
          },
          "hovermode": "closest",
          "mapbox": {
           "style": "light"
          },
          "paper_bgcolor": "white",
          "plot_bgcolor": "#E5ECF6",
          "polar": {
           "angularaxis": {
            "gridcolor": "white",
            "linecolor": "white",
            "ticks": ""
           },
           "bgcolor": "#E5ECF6",
           "radialaxis": {
            "gridcolor": "white",
            "linecolor": "white",
            "ticks": ""
           }
          },
          "scene": {
           "xaxis": {
            "backgroundcolor": "#E5ECF6",
            "gridcolor": "white",
            "gridwidth": 2,
            "linecolor": "white",
            "showbackground": true,
            "ticks": "",
            "zerolinecolor": "white"
           },
           "yaxis": {
            "backgroundcolor": "#E5ECF6",
            "gridcolor": "white",
            "gridwidth": 2,
            "linecolor": "white",
            "showbackground": true,
            "ticks": "",
            "zerolinecolor": "white"
           },
           "zaxis": {
            "backgroundcolor": "#E5ECF6",
            "gridcolor": "white",
            "gridwidth": 2,
            "linecolor": "white",
            "showbackground": true,
            "ticks": "",
            "zerolinecolor": "white"
           }
          },
          "shapedefaults": {
           "line": {
            "color": "#2a3f5f"
           }
          },
          "ternary": {
           "aaxis": {
            "gridcolor": "white",
            "linecolor": "white",
            "ticks": ""
           },
           "baxis": {
            "gridcolor": "white",
            "linecolor": "white",
            "ticks": ""
           },
           "bgcolor": "#E5ECF6",
           "caxis": {
            "gridcolor": "white",
            "linecolor": "white",
            "ticks": ""
           }
          },
          "title": {
           "x": 0.05
          },
          "xaxis": {
           "automargin": true,
           "gridcolor": "white",
           "linecolor": "white",
           "ticks": "",
           "title": {
            "standoff": 15
           },
           "zerolinecolor": "white",
           "zerolinewidth": 2
          },
          "yaxis": {
           "automargin": true,
           "gridcolor": "white",
           "linecolor": "white",
           "ticks": "",
           "title": {
            "standoff": 15
           },
           "zerolinecolor": "white",
           "zerolinewidth": 2
          }
         }
        },
        "title": {
         "text": "Visualización 2D Chroma Vector Store"
        },
        "width": 800
       }
      },
      "image/png": "[encoded data removed]",
      "text/html": [
       "<div>                            <div id=\"18681c16-608b-4f77-bcb7-51465a163e96\" class=\"plotly-graph-div\" style=\"height:600px; width:800px;\"></div>            <script type=\"text/javascript\">                require([\"plotly\"], function(Plotly) {                    window.PLOTLYENV=window.PLOTLYENV || {};                                    if (document.getElementById(\"18681c16-608b-4f77-bcb7-51465a163e96\")) {                    Plotly.newPlot(                        \"18681c16-608b-4f77-bcb7-51465a163e96\",                        [{\"hoverinfo\":\"text\",\"marker\":{\"color\":[\"blue\",\"blue\",\"blue\",\"blue\",\"blue\",\"blue\",\"blue\",\"blue\",\"blue\",\"blue\",\"blue\",\"blue\",\"blue\",\"blue\",\"blue\",\"blue\",\"blue\",\"blue\",\"blue\",\"blue\",\"blue\",\"blue\",\"blue\",\"blue\",\"blue\",\"red\",\"red\",\"red\",\"red\",\"red\",\"red\",\"red\",\"red\",\"red\",\"red\",\"red\",\"red\",\"red\",\"red\",\"red\",\"red\",\"red\",\"red\",\"red\",\"red\",\"red\",\"red\",\"red\",\"red\",\"red\",\"red\",\"red\",\"red\",\"red\",\"red\",\"red\",\"red\",\"red\",\"red\",\"red\",\"red\",\"red\",\"red\",\"red\",\"red\",\"red\",\"red\",\"red\",\"red\",\"red\",\"red\",\"red\",\"red\",\"red\",\"red\",\"red\",\"red\",\"red\",\"red\",\"red\",\"red\",\"orange\",\"orange\",\"orange\",\"green\",\"green\",\"green\",\"green\",\"green\",\"green\",\"green\",\"green\",\"green\",\"green\",\"green\",\"green\",\"green\",\"green\",\"green\",\"green\",\"green\",\"green\",\"green\",\"green\",\"green\",\"green\",\"green\",\"green\",\"green\",\"green\",\"green\",\"green\",\"green\",\"green\",\"green\",\"green\",\"green\",\"green\",\"green\",\"green\",\"green\",\"green\",\"green\",\"green\",\"green\",\"green\",\"green\",\"green\",\"green\",\"green\",\"green\",\"green\",\"green\",\"green\",\"green\",\"green\",\"green\"],\"opacity\":0.8,\"size\":10},\"mode\":\"markers\",\"text\":[\"Type: products\\u003cbr\\u003eText: # Resumen del producto\\n\\n# Rellm: Solución de reaseguro empresarial basada en IA\\n\\n## Resumen\\n\\nRellm e...\",\"Type: products\\u003cbr\\u003eText: ## Características\\n\\n### Análisis impulsados ​​por IA\\nRellm utiliza algoritmos de IA de vanguardia pa...\",\"Type: products\\u003cbr\\u003eText: ### Módulo de evaluación de riesgos\\nEl módulo de evaluación de riesgos integral de Rellm permite a l...\",\"Type: products\\u003cbr\\u003eText: ### Portales para clientes y corredores\\nRellm ofrece portales dedicados tanto para clientes como par...\",\"Type: products\\u003cbr\\u003eText: Únase al creciente número de organizaciones que aprovechan Rellm para mejorar sus procesos de reaseg...\",\"Type: products\\u003cbr\\u003eText: - **T3 2026**:\\n- Lanzamiento de una plataforma comunitaria para que los usuarios de Rellm intercambi...\",\"Type: products\\u003cbr\\u003eText: # Resumen del producto\\n\\n# Markellm\\n\\n## Resumen\\n\\nMarkelm es un innovador mercado bilateral diseñado p...\",\"Type: products\\u003cbr\\u003eText: ## Características\\n\\n- **Emparejamiento impulsado por IA**: Markellm utiliza sofisticados algoritmos ...\",\"Type: products\\u003cbr\\u003eText: - **Recomendaciones personalizadas**: según los perfiles y las preferencias de los usuarios, Markell...\",\"Type: products\\u003cbr\\u003eText: ## Precios\\n\\nEn Markellm, creemos en la transparencia y la flexibilidad. Nuestra estructura de precio...\",\"Type: products\\u003cbr\\u003eText: ## Hoja de ruta 2025-2026\\n\\n### T1 de 2025\\n- Lanzar una versión de aplicación móvil de Markellm, lo q...\",\"Type: products\\u003cbr\\u003eText: ### T4 2026\\n- Implementar mejoras de aprendizaje automático en nuestro algoritmo de IA, aumentando a...\",\"Type: products\\u003cbr\\u003eText: # Resumen del producto\\n\\n# Homellm\\n\\n## Resumen\\nHomellm es un innovador producto de seguros para el ho...\",\"Type: products\\u003cbr\\u003eText: ## Características\\n### 1. Evaluación de riesgos impulsada por IA\\nHomellm utiliza sofisticados algori...\",\"Type: products\\u003cbr\\u003eText: ### 3. Procesamiento de reclamos instantáneo\\nEl sistema de gestión de reclamos impulsado por IA en H...\",\"Type: products\\u003cbr\\u003eText: ### 5. Integración multicanal\\nHomellm se integra perfectamente en las plataformas de seguros existen...\",\"Type: products\\u003cbr\\u003eText: - **Nivel básico:** a partir de $5000\\u002fmes para pequeñas aseguradoras con funciones de integración bá...\",\"Type: products\\u003cbr\\u003eText: ## Hoja de ruta\\nLa hoja de ruta de desarrollo de Homellm incluye los siguientes hitos clave:\\n\\n- **T1...\",\"Type: products\\u003cbr\\u003eText: Con Homellm, Insurellm se compromete a transformar el panorama de los seguros para el hogar, asegura...\",\"Type: products\\u003cbr\\u003eText: # Resumen del producto\\n\\n# Carllm\\n\\n## Resumen\\n\\nCarllm es un innovador producto de seguros para automó...\",\"Type: products\\u003cbr\\u003eText: ## Características\\n\\n- **Evaluación de riesgos impulsada por IA**: Carllm aprovecha la inteligencia a...\",\"Type: products\\u003cbr\\u003eText: - **Detección de fraude**: El producto incorpora análisis avanzados para identificar reclamos potenc...\",\"Type: products\\u003cbr\\u003eText: ## Precios\\n\\nCarllm se ofrece bajo un modelo de precios basado en suscripción adaptado a las necesida...\",\"Type: products\\u003cbr\\u003eText: ¡Comuníquese con nuestro equipo de ventas para obtener una cotización personalizada y descubra cómo ...\",\"Type: products\\u003cbr\\u003eText: ### T3 2025: Expansión global\\n- Iniciar programas piloto para mercados de seguros internacionales.\\n-...\",\"Type: contracts\\u003cbr\\u003eText: # Contrato con GreenField Holdings para Markellm\\n\\n**Fecha de entrada en vigor:** 15 de noviembre de ...\",\"Type: contracts\\u003cbr\\u003eText: ## Renovación\\n1. **Renovación automática**: Este contrato se renovará automáticamente por períodos c...\",\"Type: contracts\\u003cbr\\u003eText: ## Características\\n1. **Coincidencias impulsadas por IA**: acceso a algoritmos avanzados que conecta...\",\"Type: contracts\\u003cbr\\u003eText: ## Soporte\\n1. **Acceso a soporte al cliente**: el cliente tendrá acceso a soporte dedicado por teléf...\",\"Type: contracts\\u003cbr\\u003eText: ## Precios\\n- **Tarifa básica de listado**: GreenField Holdings acepta pagar una tarifa mensual de $1...\",\"Type: contracts\\u003cbr\\u003eText: # Contrato con Apex Reinsurance para Rellm: Solución de reaseguro empresarial basada en IA\\n\\n## Térmi...\",\"Type: contracts\\u003cbr\\u003eText: 4. **Duración del contrato**: este Acuerdo comenzará el [Fecha de inicio] y permanecerá vigente dura...\",\"Type: contracts\\u003cbr\\u003eText: 2. **Integraciones sin inconvenientes**: La arquitectura de Rellm permite una fácil integración con ...\",\"Type: contracts\\u003cbr\\u003eText: ## Soporte\\n\\n1. **Soporte técnico**: El proveedor ofrecerá soporte técnico exclusivo al Cliente por t...\",\"Type: contracts\\u003cbr\\u003eText: ---\\n\\n**Aceptación de los términos**: al firmar a continuación, ambas partes aceptan los términos, la...\",\"Type: contracts\\u003cbr\\u003eText: # Contrato con Greenstone Insurance para Homellm\\n\\n---\\n\\n## Términos\\n\\n1. **Partes**: Este contrato (\\\"A...\",\"Type: contracts\\u003cbr\\u003eText: 4. **Condiciones de pago**:\\n- El cliente deberá pagar un monto de $10,000 por mes por el nivel están...\",\"Type: contracts\\u003cbr\\u003eText: ---\\n\\n## Características\\n\\n- **Evaluación de riesgos impulsada por IA**: el cliente tendrá acceso a he...\",\"Type: contracts\\u003cbr\\u003eText: - **Integración multicanal**: Homellm se integrará con las plataformas existentes del cliente para c...\",\"Type: contracts\\u003cbr\\u003eText: 3. **Actualizaciones y mejoras**: El cliente recibirá todas las actualizaciones de software y mejora...\",\"Type: contracts\\u003cbr\\u003eText: # Contrato con Roadway Insurance Inc. para Carllm\\n\\n---\\n\\n## Términos\\n\\n1. **Fecha de entrada en vigor ...\",\"Type: contracts\\u003cbr\\u003eText: ---\\n\\n## Renovación\\n\\n1. **Renovación automática**: este acuerdo se renovará automáticamente por un pe...\",\"Type: contracts\\u003cbr\\u003eText: 2. **Integración móvil**: se podrá acceder a todas las características a través de una aplicación mó...\",\"Type: contracts\\u003cbr\\u003eText: ---\\n\\n*Este contrato describe los términos de la relación entre Insurellm y Roadway Insurance Inc. pa...\",\"Type: contracts\\u003cbr\\u003eText: # Contrato con Stellar Insurance Co. para Rellm\\n\\n## Condiciones\\nEste contrato se celebra entre **Ins...\",\"Type: contracts\\u003cbr\\u003eText: ### Terminación\\nCualquiera de las partes puede rescindir este acuerdo con un **aviso por escrito de ...\",\"Type: contracts\\u003cbr\\u003eText: ## Características\\nStellar Insurance Co. recibirá acceso a las siguientes características del produc...\",\"Type: contracts\\u003cbr\\u003eText: ## Soporte\\nInsurellm ofrece a Stellar Insurance Co. los siguientes servicios de soporte:\\n\\n- **Soport...\",\"Type: contracts\\u003cbr\\u003eText: **Para Insurellm**\\n______________________________\\n[Firma]\\n[Nombre, cargo]\\n[Fecha]\\n\\n**Para Stellar In...\",\"Type: contracts\\u003cbr\\u003eText: # Contrato con TechDrive Insurance para Carllm\\n\\n**Fecha del contrato:** 1 de octubre de 2024\\n**Durac...\",\"Type: contracts\\u003cbr\\u003eText: ## Renovación\\n\\n1. **Renovación automática**: este contrato se renovará automáticamente por períodos ...\",\"Type: contracts\\u003cbr\\u003eText: 2. **Requisitos del sistema**: TechDrive Insurance debe asegurarse de que sus sistemas existentes cu...\",\"Type: contracts\\u003cbr\\u003eText: 3. **Actualizaciones del sistema**: el proveedor enviará actualizaciones periódicas para mejorar el ...\",\"Type: contracts\\u003cbr\\u003eText: # Contrato con Belvedere Insurance para Markellm\\n\\n## Términos\\nEste Contrato (\\\"Acuerdo\\\") se celebra y...\",\"Type: contracts\\u003cbr\\u003eText: ## Renovación\\n1. **Condiciones de renovación**: Este acuerdo puede renovarse por períodos adicionale...\",\"Type: contracts\\u003cbr\\u003eText: ## Características\\n1. **Emparejamiento basado en IA**: Belvedere Insurance se beneficiará del empare...\",\"Type: contracts\\u003cbr\\u003eText: ## Asistencia\\n1. **Asistencia técnica**: La asistencia técnica estará disponible de lunes a viernes ...\",\"Type: contracts\\u003cbr\\u003eText: **Belvedere Insurance**\\nFirma: ______________________\\nNombre: [Firmante autorizado]\\nTítulo: [Título]...\",\"Type: contracts\\u003cbr\\u003eText: # Contrato con Velocity Auto Solutions para Carllm\\n\\n**Fecha del contrato:** 1 de octubre de 2023\\n**N...\",\"Type: contracts\\u003cbr\\u003eText: ## Renovación\\n\\n1. **Renovación automática**: este contrato se renovará automáticamente por períodos ...\",\"Type: contracts\\u003cbr\\u003eText: ## Soporte\\n\\n1. **Atención al cliente**: Velocity Auto Solutions tendrá acceso al equipo de atención ...\",\"Type: contracts\\u003cbr\\u003eText: # Contrato con GreenValley Insurance para Homellm\\n\\n**Fecha del contrato:** 6 de octubre de 2023\\n**Nú...\",\"Type: contracts\\u003cbr\\u003eText: 4. **Confidencialidad:** Ambas partes acuerdan mantener la confidencialidad de la información confid...\",\"Type: contracts\\u003cbr\\u003eText: 1. **Evaluación de riesgos impulsada por IA:** Acceso a algoritmos avanzados de IA para evaluaciones...\",\"Type: contracts\\u003cbr\\u003eText: ---\\n\\n## Soporte\\n\\nInsurellm se compromete a proporcionar soporte integral a GreenValley Insurance, qu...\",\"Type: contracts\\u003cbr\\u003eText: _________________________________\\n**[Nombre]**\\n**Título**: Director de operaciones\\n**GreenValley Ins...\",\"Type: contracts\\u003cbr\\u003eText: # Contrato con EverGuard Insurance para Rellm: solución de reaseguro empresarial impulsada por IA\\n\\n*...\",\"Type: contracts\\u003cbr\\u003eText: 4. **Derechos de uso**: EverGuard Insurance recibe una licencia no exclusiva e intransferible para a...\",\"Type: contracts\\u003cbr\\u003eText: 2. **Panel personalizable**: los usuarios de EverGuard Insurance tendrán acceso a un panel personali...\",\"Type: contracts\\u003cbr\\u003eText: 2. **Servicios de capacitación**: Insurellm brindará capacitación inicial al personal de EverGuard I...\",\"Type: contracts\\u003cbr\\u003eText: ---\\n\\n**Firmas**\\n**Para Insurellm**: __________________________\\n**Nombre**: John Smith\\n**Título**: Di...\",\"Type: contracts\\u003cbr\\u003eText: # Contrato con BrightWay Solutions para Markellm\\n\\n**Fecha del contrato:** 5 de octubre de 2023\\n**ID ...\",\"Type: contracts\\u003cbr\\u003eText: 3. **Acuerdo de nivel de servicio (SLA):**\\nInsurellm se compromete a un tiempo de actividad del 99,9...\",\"Type: contracts\\u003cbr\\u003eText: 2. **Disponibilidad de cotizaciones en tiempo real:**\\nLos consumidores obtenidos a través de BrightW...\",\"Type: contracts\\u003cbr\\u003eText: 2. **Servicios de soporte adicionales:**\\nSe dispondrá de soporte técnico para la integración y el ma...\",\"Type: contracts\\u003cbr\\u003eText: __________________________\\n**[Nombre], [Cargo]**\\n**BrightWay Solutions**\\nFecha: ____________________...\",\"Type: contracts\\u003cbr\\u003eText: # Contrato con GreenValley Insurance para Homellm\\n\\n**Fecha del contrato:** 6 de octubre de 2023\\n**Nú...\",\"Type: contracts\\u003cbr\\u003eText: 4. **Confidencialidad:** Ambas partes acuerdan mantener la confidencialidad de la información confid...\",\"Type: contracts\\u003cbr\\u003eText: 1. **Evaluación de riesgos impulsada por IA:** Acceso a algoritmos avanzados de IA para evaluaciones...\",\"Type: contracts\\u003cbr\\u003eText: ---\\n\\n## Soporte\\n\\nInsurellm se compromete a proporcionar soporte integral a GreenValley Insurance, qu...\",\"Type: contracts\\u003cbr\\u003eText: _________________________________\\n**[Nombre]**\\n**Título**: Director de operaciones\\n**GreenValley Ins...\",\"Type: company\\u003cbr\\u003eText: # Descripción general de Insurellm\\n\\nInsurellm es una innovadora empresa de tecnología de seguros con...\",\"Type: company\\u003cbr\\u003eText: # Carreras en Insurellm\\n\\n¡Insurellm está contratando! Buscamos ingenieros de software, científicos d...\",\"Type: company\\u003cbr\\u003eText: # Acerca de Insurellm\\n\\nInsurellm fue fundada por Avery Lancaster en 2015 como una startup de tecnolo...\",\"Type: employees\\u003cbr\\u003eText: # Registro de RR. HH.\\n\\n# Alex Chen\\n\\n## Resumen\\n- **Fecha de nacimiento:** 15 de marzo de 1990\\n- **Pu...\",\"Type: employees\\u003cbr\\u003eText: ## Historial de desempeño anual\\n- **2020:**\\n- Completó la incorporación con éxito.\\n- Cumplió con las...\",\"Type: employees\\u003cbr\\u003eText: ## Historial de compensación\\n- **2020:** Salario base: $80,000\\n- **2021:** Aumento del salario base ...\",\"Type: employees\\u003cbr\\u003eText: ## Otras notas de RR. HH.\\n- Participa regularmente en las iniciativas de Diversidad e Inclusión de I...\",\"Type: employees\\u003cbr\\u003eText: # Registro de RR. HH.\\n\\n# Oliver Spencer\\n\\n## Resumen\\n- **Fecha de nacimiento**: 14 de mayo de 1990\\n- ...\",\"Type: employees\\u003cbr\\u003eText: ## Progresión profesional en Insurellm\\n- **Marzo de 2018**: Se incorporó a Insurellm como Desarrolla...\",\"Type: employees\\u003cbr\\u003eText: ## Historial de desempeño anual\\n- **2018**: **3\\u002f5** - Jugador de equipo adaptable, pero aún aprendie...\",\"Type: employees\\u003cbr\\u003eText: ## Historial de compensación\\n- **Marzo de 2018**: salario inicial de $80,000.\\n- **Julio de 2019**: s...\",\"Type: employees\\u003cbr\\u003eText: # Registro de RR.HH.\\n\\n#Emily Carter\\n\\n## Resumen\\n- **Fecha de nacimiento:** 12 de agosto de 1990\\n- **...\",\"Type: employees\\u003cbr\\u003eText: - **2017-2019:** Pasante de marketing\\n- Colaboré con la investigación de mercado y el desarrollo de ...\",\"Type: employees\\u003cbr\\u003eText: ## Historial de compensación\\n| Año | Base salarial | Bonificación | Compensación total |\\n|------|---...\",\"Type: employees\\u003cbr\\u003eText: ## Otras notas de RR. S.S.\\n- **Desarrollo profesional:** Emily está actualmente inscrita en un progr...\",\"Type: employees\\u003cbr\\u003eText: # Registro de RR.HH.\\n\\n# Jordan Blake\\n\\n## Resumen\\n- **Fecha de nacimiento:** 15 de marzo de 1993\\n- **...\",\"Type: employees\\u003cbr\\u003eText: ## Historial de desempeño anual\\n- **2021:** Primer año en Insurellm; logró el 90 % de los objetivos ...\",\"Type: employees\\u003cbr\\u003eText: ## Historial de compensación\\n- **2021-06:** Salario inicial: $50,000\\n- **2022-04:** Aumento basado e...\",\"Type: employees\\u003cbr\\u003eText: # Avery Lancaster\\n\\n## Resumen\\n- **Fecha de nacimiento**: 15 de marzo de 1985\\n- **Puesto**: Cofundado...\",\"Type: employees\\u003cbr\\u003eText: - **2010 - 2013**: Analista de negocios en Edge Analytics\\nAntes de unirse a Innovate, Avery trabajó ...\",\"Type: employees\\u003cbr\\u003eText: - **2018**: **Supera las expectativas**\\nCon la visión de cambio de Avery, Insurellm lanzó dos nuevos...\",\"Type: employees\\u003cbr\\u003eText: - **2022**: **Satisfactorio**\\nAvery se centró en reconstruir la dinámica del equipo y abordar las pr...\",\"Type: employees\\u003cbr\\u003eText: ## Historial de compensación\\n- **2015**: salario base de $150,000 + participación accionaria signifi...\",\"Type: employees\\u003cbr\\u003eText: ## Otras notas de RR. HH.\\n- **Desarrollo profesional**: Avery ha participado activamente en programa...\",\"Type: employees\\u003cbr\\u003eText: Avery Lancaster ha demostrado resiliencia y adaptabilidad a lo largo de su carrera en Insurellm, pos...\",\"Type: employees\\u003cbr\\u003eText: # Registro de RR. HH.\\n\\n# Maxine Thompson\\n\\n## Resumen\\n- **Fecha de nacimiento:** 15 de enero de 1991\\n...\",\"Type: employees\\u003cbr\\u003eText: ## Progresión profesional en Insurellm\\n- **Enero de 2017 - Octubre de 2018**: **Ingeniero de datos j...\",\"Type: employees\\u003cbr\\u003eText: ## Historial de desempeño anual\\n- **2017**: *Cumple con las expectativas*\\nMaxine mostró potencial en...\",\"Type: employees\\u003cbr\\u003eText: - **2021**: *Supera las expectativas*\\nMaxine encabezó la transición a una nueva solución de almacena...\",\"Type: employees\\u003cbr\\u003eText: ## Historial de compensación\\n- **2017**: $70,000 (Ingeniero de datos júnior)\\n- **2018**: $75,000 (In...\",\"Type: employees\\u003cbr\\u003eText: # Samantha Greene\\n\\n## Resumen\\n- **Fecha de nacimiento:** 14 de octubre de 1990\\n- **Puesto:** General...\",\"Type: employees\\u003cbr\\u003eText: ## Historial de desempeño anual\\n- **2020:** Supera las expectativas\\nSamantha Greene demostró habilid...\",\"Type: employees\\u003cbr\\u003eText: - **2023:** Cumple las expectativas\\nDespués de asistir a talleres centrados en la resolución de conf...\",\"Type: employees\\u003cbr\\u003eText: - **2023:** Salario base: $70,000\\nReconocida por una mejora sustancial en la gestión de las relacion...\",\"Type: employees\\u003cbr\\u003eText: # Registro de RR. HH.\\n\\n# Alex Thomson\\n\\n## Resumen\\n- **Fecha de nacimiento:** 15 de marzo de 1995\\n- *...\",\"Type: employees\\u003cbr\\u003eText: ## Resumen\\n- **Fecha de nacimiento:** 15 de marzo de 1995\\n- **Puesto:** Representante de desarrollo ...\",\"Type: employees\\u003cbr\\u003eText: ## Historial de desempeño anual\\n- **2022** - Calificado como \\\"Supera las expectativas\\\". Alex Thomson...\",\"Type: employees\\u003cbr\\u003eText: ## Historial de compensación\\n- **2022**: Salario base: $55 000 | Bono: $5000\\n- **2023**: Salario bas...\",\"Type: employees\\u003cbr\\u003eText: ## Otras notas de RR. HH.\\n- Alex Thomson es un miembro activo del comité de Diversidad e Inclusión e...\",\"Type: employees\\u003cbr\\u003eText: # Registro de RR. HH.\\n\\n# Samuel Trenton\\n\\n## Resumen\\n- **Fecha de nacimiento:** 12 de abril de 1989\\n-...\",\"Type: employees\\u003cbr\\u003eText: - **Agosto de 2016 - mayo de 2018:** Analista de datos junior\\n*Comencé en Insurellm como analista de...\",\"Type: employees\\u003cbr\\u003eText: - **2021:** Calificación: 4.0\\u002f5\\n*Hubo una mejora notable en el desempeño. Trabajé para mejorar la pr...\",\"Type: employees\\u003cbr\\u003eText: - **2021:** Salario base: $105,000 + Bonificación: $12,000\\n*Aumento basado en mérito, que refleja co...\",\"Type: employees\\u003cbr\\u003eText: - **Áreas de mejora:** La colaboración con los equipos de ingeniería se ha señalado como un área que...\",\"Type: employees\\u003cbr\\u003eText: # Registro de RR. HH.\\n\\n# Alex Harper\\n\\n## Resumen\\n- **Fecha de nacimiento**: 15 de marzo de 1993\\n- **...\",\"Type: employees\\u003cbr\\u003eText: ## Historial de desempeño anual\\n- **2021**:\\n- **Calificación de desempeño**: 4.5\\u002f5\\n- **Logros clave*...\",\"Type: employees\\u003cbr\\u003eText: ## Historial de compensación\\n- **2021**:\\n- **Salario base**: $55,000\\n- **Bonificación**: $5,500 (10 ...\",\"Type: employees\\u003cbr\\u003eText: - **Comentarios de RR. HH.**:\\n- Alex Harper es conocido por su ética de trabajo, actitud positiva y ...\",\"Type: employees\\u003cbr\\u003eText: # Registro de RR. HH.\\n\\n# Jordan K. Bishop\\n\\n## Resumen\\n- **Fecha de nacimiento:** 15 de marzo de 1990...\",\"Type: employees\\u003cbr\\u003eText: ## Historial de desempeño anual\\n- **2019:** Supera las expectativas: entregó código de alta calidad ...\",\"Type: employees\\u003cbr\\u003eText: ## Historial de compensación\\n- **Junio ​​de 2018:** Salario inicial: $85 000\\n- **Junio ​​de 2019:** ...\",\"Type: employees\\u003cbr\\u003eText: ## Otras notas de RR. HH.\\n- Jordan K. Bishop ha sido parte integral de las iniciativas del club, inc...\",\"Type: employees\\u003cbr\\u003eText: # Registro de RR.HH.\\n\\n# Emily Carter\\n\\n## Resumen\\n- **Fecha de nacimiento:** 12 de agosto de 1990\\n- *...\",\"Type: employees\\u003cbr\\u003eText: - **2017-2019:** Pasante de marketing\\n- Colaboré con la investigación de mercado y el desarrollo de ...\",\"Type: employees\\u003cbr\\u003eText: ## Historial de compensación\\n| Año | Salario base | Bonificación | Compensación total |\\n|------|----...\",\"Type: employees\\u003cbr\\u003eText: Emily Carter ejemplifica el tipo de talento que impulsa el éxito de Insurellm y es un activo invalua...\"],\"x\":[-7.3370595,-7.4149847,-5.6805396,-3.2227368,-5.663856,-5.5343795,-10.867651,-10.603776,-11.705862,0.28022653,-7.4600644,-9.258898,-8.6446295,-10.37214,-12.236338,-6.936131,-1.8028808,-5.875645,-8.594359,-9.061238,-9.990476,-10.835033,-1.1439334,-6.706887,-8.127719,-4.254865,0.74971163,-13.887811,-5.851502,2.0438368,1.3634634,0.41374558,-4.996147,-5.526971,4.0016303,-4.649153,-1.0720824,-11.176042,-6.291801,3.9414504,5.596273,3.5273166,-0.5060008,7.6238346,2.499552,1.6085267,-3.1119967,-1.3950592,8.184783,5.2662997,2.6118615,1.1244617,2.4111047,6.5673785,0.73247504,-9.489206,2.346465,7.614281,4.0174956,2.072932,0.8762432,-4.583439,-2.796705,-14.458898,-3.2604659,-7.4552145,0.010220848,-0.5232714,-1.999265,-0.7583864,6.488236,4.562032,-0.07911176,-8.849587,3.8440652,5.9066734,-4.798577,-2.796705,-14.458898,-3.2604659,-7.2790756,-1.4016093,-2.2269902,-0.24826884,-1.2793103,8.638981,11.629561,-1.9381717,-2.401294,0.26964408,9.641844,7.308649,1.8475424,11.099041,12.63216,-0.9809992,-2.1601982,3.3876545,8.12772,0.9472397,3.9370584,5.4491525,5.307194,12.818113,2.373398,0.23734553,-0.985874,2.0339448,6.2969527,5.353828,8.971087,3.6198368,6.1623135,6.400454,4.714316,-1.4485501,-2.7665553,8.480095,10.432459,-3.7465656,-0.15500459,2.592501,10.657238,10.152355,1.9925976,-2.787267,9.861649,9.0322695,-5.2427683,-4.0413313,8.1462965,12.1193075,-5.2365074,2.0495338,10.824447,6.746936,-1.4647101],\"y\":[3.650902,4.761578,4.447142,4.086838,0.043783266,1.4496999,9.61463,10.536773,11.722179,3.1297803,-1.9835335,-1.5671895,6.911731,6.2984643,5.572348,7.7479835,2.3426857,-2.389137,8.085124,2.6473448,3.8934479,2.8369489,2.980312,-0.3623853,-0.40614367,14.191834,20.69241,9.519812,12.547404,3.356452,12.63205,18.658089,6.267666,10.968158,9.868658,15.941883,20.065357,6.530494,9.222393,8.329793,18.18868,19.667437,6.5910077,16.619864,14.610762,15.340323,7.20629,8.70365,8.882244,16.715242,18.59034,6.801527,7.182028,13.323536,21.742062,11.38097,10.177513,12.081496,16.816874,17.53335,9.37748,19.036512,16.78359,7.471363,10.115759,18.034653,13.023281,14.50231,12.180857,11.455699,8.728409,12.687483,17.00413,13.6651745,11.920622,10.920963,18.355047,16.78359,7.471363,10.115759,17.357462,-1.0282626,-2.6910453,-1.9159774,-13.888028,-11.123492,-15.991686,-11.079789,-18.744738,-10.353414,-10.18006,-18.347591,-17.772738,-8.314545,-14.861999,-8.202106,-15.618194,-3.0084076,-17.3527,-4.2990108,-6.2895007,-6.642508,-5.644789,-16.473886,-6.3619947,-5.2474036,-18.9817,-10.034527,-9.7906065,-8.951218,-19.46773,-14.903413,-12.535965,-14.017483,-14.446682,-17.574745,-13.10396,-8.185657,-15.187586,-11.773351,-15.129593,-11.321944,-17.058456,-18.275654,-12.650522,-14.413838,-12.957108,-16.209148,-13.036369,-16.139631,-10.046155,-18.108437,-16.307743,-18.307693,-7.778028,-16.427391,-6.931766],\"type\":\"scatter\"}],                        {\"template\":{\"data\":{\"histogram2dcontour\":[{\"type\":\"histogram2dcontour\",\"colorbar\":{\"outlinewidth\":0,\"ticks\":\"\"},\"colorscale\":[[0.0,\"#0d0887\"],[0.1111111111111111,\"#46039f\"],[0.2222222222222222,\"#7201a8\"],[0.3333333333333333,\"#9c179e\"],[0.4444444444444444,\"#bd3786\"],[0.5555555555555556,\"#d8576b\"],[0.6666666666666666,\"#ed7953\"],[0.7777777777777778,\"#fb9f3a\"],[0.8888888888888888,\"#fdca26\"],[1.0,\"#f0f921\"]]}],\"choropleth\":[{\"type\":\"choropleth\",\"colorbar\":{\"outlinewidth\":0,\"ticks\":\"\"}}],\"histogram2d\":[{\"type\":\"histogram2d\",\"colorbar\":{\"outlinewidth\":0,\"ticks\":\"\"},\"colorscale\":[[0.0,\"#0d0887\"],[0.1111111111111111,\"#46039f\"],[0.2222222222222222,\"#7201a8\"],[0.3333333333333333,\"#9c179e\"],[0.4444444444444444,\"#bd3786\"],[0.5555555555555556,\"#d8576b\"],[0.6666666666666666,\"#ed7953\"],[0.7777777777777778,\"#fb9f3a\"],[0.8888888888888888,\"#fdca26\"],[1.0,\"#f0f921\"]]}],\"heatmap\":[{\"type\":\"heatmap\",\"colorbar\":{\"outlinewidth\":0,\"ticks\":\"\"},\"colorscale\":[[0.0,\"#0d0887\"],[0.1111111111111111,\"#46039f\"],[0.2222222222222222,\"#7201a8\"],[0.3333333333333333,\"#9c179e\"],[0.4444444444444444,\"#bd3786\"],[0.5555555555555556,\"#d8576b\"],[0.6666666666666666,\"#ed7953\"],[0.7777777777777778,\"#fb9f3a\"],[0.8888888888888888,\"#fdca26\"],[1.0,\"#f0f921\"]]}],\"heatmapgl\":[{\"type\":\"heatmapgl\",\"colorbar\":{\"outlinewidth\":0,\"ticks\":\"\"},\"colorscale\":[[0.0,\"#0d0887\"],[0.1111111111111111,\"#46039f\"],[0.2222222222222222,\"#7201a8\"],[0.3333333333333333,\"#9c179e\"],[0.4444444444444444,\"#bd3786\"],[0.5555555555555556,\"#d8576b\"],[0.6666666666666666,\"#ed7953\"],[0.7777777777777778,\"#fb9f3a\"],[0.8888888888888888,\"#fdca26\"],[1.0,\"#f0f921\"]]}],\"contourcarpet\":[{\"type\":\"contourcarpet\",\"colorbar\":{\"outlinewidth\":0,\"ticks\":\"\"}}],\"contour\":[{\"type\":\"contour\",\"colorbar\":{\"outlinewidth\":0,\"ticks\":\"\"},\"colorscale\":[[0.0,\"#0d0887\"],[0.1111111111111111,\"#46039f\"],[0.2222222222222222,\"#7201a8\"],[0.3333333333333333,\"#9c179e\"],[0.4444444444444444,\"#bd3786\"],[0.5555555555555556,\"#d8576b\"],[0.6666666666666666,\"#ed7953\"],[0.7777777777777778,\"#fb9f3a\"],[0.8888888888888888,\"#fdca26\"],[1.0,\"#f0f921\"]]}],\"surface\":[{\"type\":\"surface\",\"colorbar\":{\"outlinewidth\":0,\"ticks\":\"\"},\"colorscale\":[[0.0,\"#0d0887\"],[0.1111111111111111,\"#46039f\"],[0.2222222222222222,\"#7201a8\"],[0.3333333333333333,\"#9c179e\"],[0.4444444444444444,\"#bd3786\"],[0.5555555555555556,\"#d8576b\"],[0.6666666666666666,\"#ed7953\"],[0.7777777777777778,\"#fb9f3a\"],[0.8888888888888888,\"#fdca26\"],[1.0,\"#f0f921\"]]}],\"mesh3d\":[{\"type\":\"mesh3d\",\"colorbar\":{\"outlinewidth\":0,\"ticks\":\"\"}}],\"scatter\":[{\"fillpattern\":{\"fillmode\":\"overlay\",\"size\":10,\"solidity\":0.2},\"type\":\"scatter\"}],\"parcoords\":[{\"type\":\"parcoords\",\"line\":{\"colorbar\":{\"outlinewidth\":0,\"ticks\":\"\"}}}],\"scatterpolargl\":[{\"type\":\"scatterpolargl\",\"marker\":{\"colorbar\":{\"outlinewidth\":0,\"ticks\":\"\"}}}],\"bar\":[{\"error_x\":{\"color\":\"#2a3f5f\"},\"error_y\":{\"color\":\"#2a3f5f\"},\"marker\":{\"line\":{\"color\":\"#E5ECF6\",\"width\":0.5},\"pattern\":{\"fillmode\":\"overlay\",\"size\":10,\"solidity\":0.2}},\"type\":\"bar\"}],\"scattergeo\":[{\"type\":\"scattergeo\",\"marker\":{\"colorbar\":{\"outlinewidth\":0,\"ticks\":\"\"}}}],\"scatterpolar\":[{\"type\":\"scatterpolar\",\"marker\":{\"colorbar\":{\"outlinewidth\":0,\"ticks\":\"\"}}}],\"histogram\":[{\"marker\":{\"pattern\":{\"fillmode\":\"overlay\",\"size\":10,\"solidity\":0.2}},\"type\":\"histogram\"}],\"scattergl\":[{\"type\":\"scattergl\",\"marker\":{\"colorbar\":{\"outlinewidth\":0,\"ticks\":\"\"}}}],\"scatter3d\":[{\"type\":\"scatter3d\",\"line\":{\"colorbar\":{\"outlinewidth\":0,\"ticks\":\"\"}},\"marker\":{\"colorbar\":{\"outlinewidth\":0,\"ticks\":\"\"}}}],\"scattermapbox\":[{\"type\":\"scattermapbox\",\"marker\":{\"colorbar\":{\"outlinewidth\":0,\"ticks\":\"\"}}}],\"scatterternary\":[{\"type\":\"scatterternary\",\"marker\":{\"colorbar\":{\"outlinewidth\":0,\"ticks\":\"\"}}}],\"scattercarpet\":[{\"type\":\"scattercarpet\",\"marker\":{\"colorbar\":{\"outlinewidth\":0,\"ticks\":\"\"}}}],\"carpet\":[{\"aaxis\":{\"endlinecolor\":\"#2a3f5f\",\"gridcolor\":\"white\",\"linecolor\":\"white\",\"minorgridcolor\":\"white\",\"startlinecolor\":\"#2a3f5f\"},\"baxis\":{\"endlinecolor\":\"#2a3f5f\",\"gridcolor\":\"white\",\"linecolor\":\"white\",\"minorgridcolor\":\"white\",\"startlinecolor\":\"#2a3f5f\"},\"type\":\"carpet\"}],\"table\":[{\"cells\":{\"fill\":{\"color\":\"#EBF0F8\"},\"line\":{\"color\":\"white\"}},\"header\":{\"fill\":{\"color\":\"#C8D4E3\"},\"line\":{\"color\":\"white\"}},\"type\":\"table\"}],\"barpolar\":[{\"marker\":{\"line\":{\"color\":\"#E5ECF6\",\"width\":0.5},\"pattern\":{\"fillmode\":\"overlay\",\"size\":10,\"solidity\":0.2}},\"type\":\"barpolar\"}],\"pie\":[{\"automargin\":true,\"type\":\"pie\"}]},\"layout\":{\"autotypenumbers\":\"strict\",\"colorway\":[\"#636efa\",\"#EF553B\",\"#00cc96\",\"#ab63fa\",\"#FFA15A\",\"#19d3f3\",\"#FF6692\",\"#B6E880\",\"#FF97FF\",\"#FECB52\"],\"font\":{\"color\":\"#2a3f5f\"},\"hovermode\":\"closest\",\"hoverlabel\":{\"align\":\"left\"},\"paper_bgcolor\":\"white\",\"plot_bgcolor\":\"#E5ECF6\",\"polar\":{\"bgcolor\":\"#E5ECF6\",\"angularaxis\":{\"gridcolor\":\"white\",\"linecolor\":\"white\",\"ticks\":\"\"},\"radialaxis\":{\"gridcolor\":\"white\",\"linecolor\":\"white\",\"ticks\":\"\"}},\"ternary\":{\"bgcolor\":\"#E5ECF6\",\"aaxis\":{\"gridcolor\":\"white\",\"linecolor\":\"white\",\"ticks\":\"\"},\"baxis\":{\"gridcolor\":\"white\",\"linecolor\":\"white\",\"ticks\":\"\"},\"caxis\":{\"gridcolor\":\"white\",\"linecolor\":\"white\",\"ticks\":\"\"}},\"coloraxis\":{\"colorbar\":{\"outlinewidth\":0,\"ticks\":\"\"}},\"colorscale\":{\"sequential\":[[0.0,\"#0d0887\"],[0.1111111111111111,\"#46039f\"],[0.2222222222222222,\"#7201a8\"],[0.3333333333333333,\"#9c179e\"],[0.4444444444444444,\"#bd3786\"],[0.5555555555555556,\"#d8576b\"],[0.6666666666666666,\"#ed7953\"],[0.7777777777777778,\"#fb9f3a\"],[0.8888888888888888,\"#fdca26\"],[1.0,\"#f0f921\"]],\"sequentialminus\":[[0.0,\"#0d0887\"],[0.1111111111111111,\"#46039f\"],[0.2222222222222222,\"#7201a8\"],[0.3333333333333333,\"#9c179e\"],[0.4444444444444444,\"#bd3786\"],[0.5555555555555556,\"#d8576b\"],[0.6666666666666666,\"#ed7953\"],[0.7777777777777778,\"#fb9f3a\"],[0.8888888888888888,\"#fdca26\"],[1.0,\"#f0f921\"]],\"diverging\":[[0,\"#8e0152\"],[0.1,\"#c51b7d\"],[0.2,\"#de77ae\"],[0.3,\"#f1b6da\"],[0.4,\"#fde0ef\"],[0.5,\"#f7f7f7\"],[0.6,\"#e6f5d0\"],[0.7,\"#b8e186\"],[0.8,\"#7fbc41\"],[0.9,\"#4d9221\"],[1,\"#276419\"]]},\"xaxis\":{\"gridcolor\":\"white\",\"linecolor\":\"white\",\"ticks\":\"\",\"title\":{\"standoff\":15},\"zerolinecolor\":\"white\",\"automargin\":true,\"zerolinewidth\":2},\"yaxis\":{\"gridcolor\":\"white\",\"linecolor\":\"white\",\"ticks\":\"\",\"title\":{\"standoff\":15},\"zerolinecolor\":\"white\",\"automargin\":true,\"zerolinewidth\":2},\"scene\":{\"xaxis\":{\"backgroundcolor\":\"#E5ECF6\",\"gridcolor\":\"white\",\"linecolor\":\"white\",\"showbackground\":true,\"ticks\":\"\",\"zerolinecolor\":\"white\",\"gridwidth\":2},\"yaxis\":{\"backgroundcolor\":\"#E5ECF6\",\"gridcolor\":\"white\",\"linecolor\":\"white\",\"showbackground\":true,\"ticks\":\"\",\"zerolinecolor\":\"white\",\"gridwidth\":2},\"zaxis\":{\"backgroundcolor\":\"#E5ECF6\",\"gridcolor\":\"white\",\"linecolor\":\"white\",\"showbackground\":true,\"ticks\":\"\",\"zerolinecolor\":\"white\",\"gridwidth\":2}},\"shapedefaults\":{\"line\":{\"color\":\"#2a3f5f\"}},\"annotationdefaults\":{\"arrowcolor\":\"#2a3f5f\",\"arrowhead\":0,\"arrowwidth\":1},\"geo\":{\"bgcolor\":\"white\",\"landcolor\":\"#E5ECF6\",\"subunitcolor\":\"white\",\"showland\":true,\"showlakes\":true,\"lakecolor\":\"white\"},\"title\":{\"x\":0.05},\"mapbox\":{\"style\":\"light\"}}},\"margin\":{\"r\":20,\"b\":10,\"l\":10,\"t\":40},\"title\":{\"text\":\"Visualización 2D Chroma Vector Store\"},\"scene\":{\"xaxis\":{\"title\":{\"text\":\"x\"}},\"yaxis\":{\"title\":{\"text\":\"y\"}}},\"width\":800,\"height\":600},                        {\"responsive\": true}                    ).then(function(){\n",
       "                            \n",
       "var gd = document.getElementById('18681c16-608b-4f77-bcb7-51465a163e96');\n",
       "var x = new MutationObserver(function (mutations, observer) {{\n",
       "        var display = window.getComputedStyle(gd).display;\n",
       "        if (!display || display === 'none') {{\n",
       "            console.log([gd, 'removed!']);\n",
       "            Plotly.purge(gd);\n",
       "            observer.disconnect();\n",
       "        }}\n",
       "}});\n",
       "\n",
       "// Listen for the removal of the full notebook cells\n",
       "var notebookContainer = gd.closest('#notebook-container');\n",
       "if (notebookContainer) {{\n",
       "    x.observe(notebookContainer, {childList: true});\n",
       "}}\n",
       "\n",
       "// Listen for the clearing of the current output cell\n",
       "var outputEl = gd.closest('.output');\n",
       "if (outputEl) {{\n",
       "    x.observe(outputEl, {childList: true});\n",
       "}}\n",
       "\n",
       "                        })                };                });            </script>        </div>"
      ]
     },
     "metadata": {},
     "output_type": "display_data"
    }
   ],
   "source": [
    "# ¡A los humanos nos resulta más fácil visualizar cosas en 2D!\n",
    "# Reducir la dimensionalidad de los vectores a 2D usando t-SNE\n",
    "# (incrustación de vecinos estocásticos distribuidos en t)\n",
    "\n",
    "tsne = TSNE(n_components=2, random_state=42)\n",
    "reduced_vectors = tsne.fit_transform(vectors)\n",
    "\n",
    "# Create the 2D scatter plot\n",
    "fig = go.Figure(data=[go.Scatter(\n",
    "    x=reduced_vectors[:, 0],\n",
    "    y=reduced_vectors[:, 1],\n",
    "    mode='markers',\n",
    "    marker=dict(size=10, color=colors, opacity=0.8),\n",
    "    text=[f\"Type: {t}<br>Text: {d[:100]}...\" for t, d in zip(doc_types, documents)],\n",
    "    hoverinfo='text'\n",
    ")])\n",
    "\n",
    "fig.update_layout(\n",
    "    title='Visualización 2D Chroma Vector Store',\n",
    "    scene=dict(xaxis_title='x',yaxis_title='y'),\n",
    "    width=800,\n",
    "    height=600,\n",
    "    margin=dict(r=20, b=10, l=10, t=40)\n",
    ")\n",
    "\n",
    "fig.show()"
   ]
  },
  {
   "cell_type": "code",
   "execution_count": 19,
   "id": "e1418e88-acd5-460a-bf2b-4e6efc88e3dd",
   "metadata": {},
   "outputs": [
    {
     "data": {
      "application/vnd.plotly.v1+json": {
       "config": {
        "plotlyServerURL": "https://plotly.com"
       },
       "data": [
        {
         "hoverinfo": "text",
         "marker": {
          "color": [
           "blue",
           "blue",
           "blue",
           "blue",
           "blue",
           "blue",
           "blue",
           "blue",
           "blue",
           "blue",
           "blue",
           "blue",
           "blue",
           "blue",
           "blue",
           "blue",
           "blue",
           "blue",
           "blue",
           "blue",
           "blue",
           "blue",
           "blue",
           "blue",
           "blue",
           "red",
           "red",
           "red",
           "red",
           "red",
           "red",
           "red",
           "red",
           "red",
           "red",
           "red",
           "red",
           "red",
           "red",
           "red",
           "red",
           "red",
           "red",
           "red",
           "red",
           "red",
           "red",
           "red",
           "red",
           "red",
           "red",
           "red",
           "red",
           "red",
           "red",
           "red",
           "red",
           "red",
           "red",
           "red",
           "red",
           "red",
           "red",
           "red",
           "red",
           "red",
           "red",
           "red",
           "red",
           "red",
           "red",
           "red",
           "red",
           "red",
           "red",
           "red",
           "red",
           "red",
           "red",
           "red",
           "red",
           "orange",
           "orange",
           "orange",
           "green",
           "green",
           "green",
           "green",
           "green",
           "green",
           "green",
           "green",
           "green",
           "green",
           "green",
           "green",
           "green",
           "green",
           "green",
           "green",
           "green",
           "green",
           "green",
           "green",
           "green",
           "green",
           "green",
           "green",
           "green",
           "green",
           "green",
           "green",
           "green",
           "green",
           "green",
           "green",
           "green",
           "green",
           "green",
           "green",
           "green",
           "green",
           "green",
           "green",
           "green",
           "green",
           "green",
           "green",
           "green",
           "green",
           "green",
           "green",
           "green",
           "green",
           "green",
           "green",
           "green"
          ],
          "opacity": 0.8,
          "size": 5
         },
         "mode": "markers",
         "text": [
          "Type: products<br>Text: # Resumen del producto\n\n# Rellm: Solución de reaseguro empresarial basada en IA\n\n## Resumen\n\nRellm e...",
          "Type: products<br>Text: ## Características\n\n### Análisis impulsados ​​por IA\nRellm utiliza algoritmos de IA de vanguardia pa...",
          "Type: products<br>Text: ### Módulo de evaluación de riesgos\nEl módulo de evaluación de riesgos integral de Rellm permite a l...",
          "Type: products<br>Text: ### Portales para clientes y corredores\nRellm ofrece portales dedicados tanto para clientes como par...",
          "Type: products<br>Text: Únase al creciente número de organizaciones que aprovechan Rellm para mejorar sus procesos de reaseg...",
          "Type: products<br>Text: - **T3 2026**:\n- Lanzamiento de una plataforma comunitaria para que los usuarios de Rellm intercambi...",
          "Type: products<br>Text: # Resumen del producto\n\n# Markellm\n\n## Resumen\n\nMarkelm es un innovador mercado bilateral diseñado p...",
          "Type: products<br>Text: ## Características\n\n- **Emparejamiento impulsado por IA**: Markellm utiliza sofisticados algoritmos ...",
          "Type: products<br>Text: - **Recomendaciones personalizadas**: según los perfiles y las preferencias de los usuarios, Markell...",
          "Type: products<br>Text: ## Precios\n\nEn Markellm, creemos en la transparencia y la flexibilidad. Nuestra estructura de precio...",
          "Type: products<br>Text: ## Hoja de ruta 2025-2026\n\n### T1 de 2025\n- Lanzar una versión de aplicación móvil de Markellm, lo q...",
          "Type: products<br>Text: ### T4 2026\n- Implementar mejoras de aprendizaje automático en nuestro algoritmo de IA, aumentando a...",
          "Type: products<br>Text: # Resumen del producto\n\n# Homellm\n\n## Resumen\nHomellm es un innovador producto de seguros para el ho...",
          "Type: products<br>Text: ## Características\n### 1. Evaluación de riesgos impulsada por IA\nHomellm utiliza sofisticados algori...",
          "Type: products<br>Text: ### 3. Procesamiento de reclamos instantáneo\nEl sistema de gestión de reclamos impulsado por IA en H...",
          "Type: products<br>Text: ### 5. Integración multicanal\nHomellm se integra perfectamente en las plataformas de seguros existen...",
          "Type: products<br>Text: - **Nivel básico:** a partir de $5000/mes para pequeñas aseguradoras con funciones de integración bá...",
          "Type: products<br>Text: ## Hoja de ruta\nLa hoja de ruta de desarrollo de Homellm incluye los siguientes hitos clave:\n\n- **T1...",
          "Type: products<br>Text: Con Homellm, Insurellm se compromete a transformar el panorama de los seguros para el hogar, asegura...",
          "Type: products<br>Text: # Resumen del producto\n\n# Carllm\n\n## Resumen\n\nCarllm es un innovador producto de seguros para automó...",
          "Type: products<br>Text: ## Características\n\n- **Evaluación de riesgos impulsada por IA**: Carllm aprovecha la inteligencia a...",
          "Type: products<br>Text: - **Detección de fraude**: El producto incorpora análisis avanzados para identificar reclamos potenc...",
          "Type: products<br>Text: ## Precios\n\nCarllm se ofrece bajo un modelo de precios basado en suscripción adaptado a las necesida...",
          "Type: products<br>Text: ¡Comuníquese con nuestro equipo de ventas para obtener una cotización personalizada y descubra cómo ...",
          "Type: products<br>Text: ### T3 2025: Expansión global\n- Iniciar programas piloto para mercados de seguros internacionales.\n-...",
          "Type: contracts<br>Text: # Contrato con GreenField Holdings para Markellm\n\n**Fecha de entrada en vigor:** 15 de noviembre de ...",
          "Type: contracts<br>Text: ## Renovación\n1. **Renovación automática**: Este contrato se renovará automáticamente por períodos c...",
          "Type: contracts<br>Text: ## Características\n1. **Coincidencias impulsadas por IA**: acceso a algoritmos avanzados que conecta...",
          "Type: contracts<br>Text: ## Soporte\n1. **Acceso a soporte al cliente**: el cliente tendrá acceso a soporte dedicado por teléf...",
          "Type: contracts<br>Text: ## Precios\n- **Tarifa básica de listado**: GreenField Holdings acepta pagar una tarifa mensual de $1...",
          "Type: contracts<br>Text: # Contrato con Apex Reinsurance para Rellm: Solución de reaseguro empresarial basada en IA\n\n## Térmi...",
          "Type: contracts<br>Text: 4. **Duración del contrato**: este Acuerdo comenzará el [Fecha de inicio] y permanecerá vigente dura...",
          "Type: contracts<br>Text: 2. **Integraciones sin inconvenientes**: La arquitectura de Rellm permite una fácil integración con ...",
          "Type: contracts<br>Text: ## Soporte\n\n1. **Soporte técnico**: El proveedor ofrecerá soporte técnico exclusivo al Cliente por t...",
          "Type: contracts<br>Text: ---\n\n**Aceptación de los términos**: al firmar a continuación, ambas partes aceptan los términos, la...",
          "Type: contracts<br>Text: # Contrato con Greenstone Insurance para Homellm\n\n---\n\n## Términos\n\n1. **Partes**: Este contrato (\"A...",
          "Type: contracts<br>Text: 4. **Condiciones de pago**:\n- El cliente deberá pagar un monto de $10,000 por mes por el nivel están...",
          "Type: contracts<br>Text: ---\n\n## Características\n\n- **Evaluación de riesgos impulsada por IA**: el cliente tendrá acceso a he...",
          "Type: contracts<br>Text: - **Integración multicanal**: Homellm se integrará con las plataformas existentes del cliente para c...",
          "Type: contracts<br>Text: 3. **Actualizaciones y mejoras**: El cliente recibirá todas las actualizaciones de software y mejora...",
          "Type: contracts<br>Text: # Contrato con Roadway Insurance Inc. para Carllm\n\n---\n\n## Términos\n\n1. **Fecha de entrada en vigor ...",
          "Type: contracts<br>Text: ---\n\n## Renovación\n\n1. **Renovación automática**: este acuerdo se renovará automáticamente por un pe...",
          "Type: contracts<br>Text: 2. **Integración móvil**: se podrá acceder a todas las características a través de una aplicación mó...",
          "Type: contracts<br>Text: ---\n\n*Este contrato describe los términos de la relación entre Insurellm y Roadway Insurance Inc. pa...",
          "Type: contracts<br>Text: # Contrato con Stellar Insurance Co. para Rellm\n\n## Condiciones\nEste contrato se celebra entre **Ins...",
          "Type: contracts<br>Text: ### Terminación\nCualquiera de las partes puede rescindir este acuerdo con un **aviso por escrito de ...",
          "Type: contracts<br>Text: ## Características\nStellar Insurance Co. recibirá acceso a las siguientes características del produc...",
          "Type: contracts<br>Text: ## Soporte\nInsurellm ofrece a Stellar Insurance Co. los siguientes servicios de soporte:\n\n- **Soport...",
          "Type: contracts<br>Text: **Para Insurellm**\n______________________________\n[Firma]\n[Nombre, cargo]\n[Fecha]\n\n**Para Stellar In...",
          "Type: contracts<br>Text: # Contrato con TechDrive Insurance para Carllm\n\n**Fecha del contrato:** 1 de octubre de 2024\n**Durac...",
          "Type: contracts<br>Text: ## Renovación\n\n1. **Renovación automática**: este contrato se renovará automáticamente por períodos ...",
          "Type: contracts<br>Text: 2. **Requisitos del sistema**: TechDrive Insurance debe asegurarse de que sus sistemas existentes cu...",
          "Type: contracts<br>Text: 3. **Actualizaciones del sistema**: el proveedor enviará actualizaciones periódicas para mejorar el ...",
          "Type: contracts<br>Text: # Contrato con Belvedere Insurance para Markellm\n\n## Términos\nEste Contrato (\"Acuerdo\") se celebra y...",
          "Type: contracts<br>Text: ## Renovación\n1. **Condiciones de renovación**: Este acuerdo puede renovarse por períodos adicionale...",
          "Type: contracts<br>Text: ## Características\n1. **Emparejamiento basado en IA**: Belvedere Insurance se beneficiará del empare...",
          "Type: contracts<br>Text: ## Asistencia\n1. **Asistencia técnica**: La asistencia técnica estará disponible de lunes a viernes ...",
          "Type: contracts<br>Text: **Belvedere Insurance**\nFirma: ______________________\nNombre: [Firmante autorizado]\nTítulo: [Título]...",
          "Type: contracts<br>Text: # Contrato con Velocity Auto Solutions para Carllm\n\n**Fecha del contrato:** 1 de octubre de 2023\n**N...",
          "Type: contracts<br>Text: ## Renovación\n\n1. **Renovación automática**: este contrato se renovará automáticamente por períodos ...",
          "Type: contracts<br>Text: ## Soporte\n\n1. **Atención al cliente**: Velocity Auto Solutions tendrá acceso al equipo de atención ...",
          "Type: contracts<br>Text: # Contrato con GreenValley Insurance para Homellm\n\n**Fecha del contrato:** 6 de octubre de 2023\n**Nú...",
          "Type: contracts<br>Text: 4. **Confidencialidad:** Ambas partes acuerdan mantener la confidencialidad de la información confid...",
          "Type: contracts<br>Text: 1. **Evaluación de riesgos impulsada por IA:** Acceso a algoritmos avanzados de IA para evaluaciones...",
          "Type: contracts<br>Text: ---\n\n## Soporte\n\nInsurellm se compromete a proporcionar soporte integral a GreenValley Insurance, qu...",
          "Type: contracts<br>Text: _________________________________\n**[Nombre]**\n**Título**: Director de operaciones\n**GreenValley Ins...",
          "Type: contracts<br>Text: # Contrato con EverGuard Insurance para Rellm: solución de reaseguro empresarial impulsada por IA\n\n*...",
          "Type: contracts<br>Text: 4. **Derechos de uso**: EverGuard Insurance recibe una licencia no exclusiva e intransferible para a...",
          "Type: contracts<br>Text: 2. **Panel personalizable**: los usuarios de EverGuard Insurance tendrán acceso a un panel personali...",
          "Type: contracts<br>Text: 2. **Servicios de capacitación**: Insurellm brindará capacitación inicial al personal de EverGuard I...",
          "Type: contracts<br>Text: ---\n\n**Firmas**\n**Para Insurellm**: __________________________\n**Nombre**: John Smith\n**Título**: Di...",
          "Type: contracts<br>Text: # Contrato con BrightWay Solutions para Markellm\n\n**Fecha del contrato:** 5 de octubre de 2023\n**ID ...",
          "Type: contracts<br>Text: 3. **Acuerdo de nivel de servicio (SLA):**\nInsurellm se compromete a un tiempo de actividad del 99,9...",
          "Type: contracts<br>Text: 2. **Disponibilidad de cotizaciones en tiempo real:**\nLos consumidores obtenidos a través de BrightW...",
          "Type: contracts<br>Text: 2. **Servicios de soporte adicionales:**\nSe dispondrá de soporte técnico para la integración y el ma...",
          "Type: contracts<br>Text: __________________________\n**[Nombre], [Cargo]**\n**BrightWay Solutions**\nFecha: ____________________...",
          "Type: contracts<br>Text: # Contrato con GreenValley Insurance para Homellm\n\n**Fecha del contrato:** 6 de octubre de 2023\n**Nú...",
          "Type: contracts<br>Text: 4. **Confidencialidad:** Ambas partes acuerdan mantener la confidencialidad de la información confid...",
          "Type: contracts<br>Text: 1. **Evaluación de riesgos impulsada por IA:** Acceso a algoritmos avanzados de IA para evaluaciones...",
          "Type: contracts<br>Text: ---\n\n## Soporte\n\nInsurellm se compromete a proporcionar soporte integral a GreenValley Insurance, qu...",
          "Type: contracts<br>Text: _________________________________\n**[Nombre]**\n**Título**: Director de operaciones\n**GreenValley Ins...",
          "Type: company<br>Text: # Descripción general de Insurellm\n\nInsurellm es una innovadora empresa de tecnología de seguros con...",
          "Type: company<br>Text: # Carreras en Insurellm\n\n¡Insurellm está contratando! Buscamos ingenieros de software, científicos d...",
          "Type: company<br>Text: # Acerca de Insurellm\n\nInsurellm fue fundada por Avery Lancaster en 2015 como una startup de tecnolo...",
          "Type: employees<br>Text: # Registro de RR. HH.\n\n# Alex Chen\n\n## Resumen\n- **Fecha de nacimiento:** 15 de marzo de 1990\n- **Pu...",
          "Type: employees<br>Text: ## Historial de desempeño anual\n- **2020:**\n- Completó la incorporación con éxito.\n- Cumplió con las...",
          "Type: employees<br>Text: ## Historial de compensación\n- **2020:** Salario base: $80,000\n- **2021:** Aumento del salario base ...",
          "Type: employees<br>Text: ## Otras notas de RR. HH.\n- Participa regularmente en las iniciativas de Diversidad e Inclusión de I...",
          "Type: employees<br>Text: # Registro de RR. HH.\n\n# Oliver Spencer\n\n## Resumen\n- **Fecha de nacimiento**: 14 de mayo de 1990\n- ...",
          "Type: employees<br>Text: ## Progresión profesional en Insurellm\n- **Marzo de 2018**: Se incorporó a Insurellm como Desarrolla...",
          "Type: employees<br>Text: ## Historial de desempeño anual\n- **2018**: **3/5** - Jugador de equipo adaptable, pero aún aprendie...",
          "Type: employees<br>Text: ## Historial de compensación\n- **Marzo de 2018**: salario inicial de $80,000.\n- **Julio de 2019**: s...",
          "Type: employees<br>Text: # Registro de RR.HH.\n\n#Emily Carter\n\n## Resumen\n- **Fecha de nacimiento:** 12 de agosto de 1990\n- **...",
          "Type: employees<br>Text: - **2017-2019:** Pasante de marketing\n- Colaboré con la investigación de mercado y el desarrollo de ...",
          "Type: employees<br>Text: ## Historial de compensación\n| Año | Base salarial | Bonificación | Compensación total |\n|------|---...",
          "Type: employees<br>Text: ## Otras notas de RR. S.S.\n- **Desarrollo profesional:** Emily está actualmente inscrita en un progr...",
          "Type: employees<br>Text: # Registro de RR.HH.\n\n# Jordan Blake\n\n## Resumen\n- **Fecha de nacimiento:** 15 de marzo de 1993\n- **...",
          "Type: employees<br>Text: ## Historial de desempeño anual\n- **2021:** Primer año en Insurellm; logró el 90 % de los objetivos ...",
          "Type: employees<br>Text: ## Historial de compensación\n- **2021-06:** Salario inicial: $50,000\n- **2022-04:** Aumento basado e...",
          "Type: employees<br>Text: # Avery Lancaster\n\n## Resumen\n- **Fecha de nacimiento**: 15 de marzo de 1985\n- **Puesto**: Cofundado...",
          "Type: employees<br>Text: - **2010 - 2013**: Analista de negocios en Edge Analytics\nAntes de unirse a Innovate, Avery trabajó ...",
          "Type: employees<br>Text: - **2018**: **Supera las expectativas**\nCon la visión de cambio de Avery, Insurellm lanzó dos nuevos...",
          "Type: employees<br>Text: - **2022**: **Satisfactorio**\nAvery se centró en reconstruir la dinámica del equipo y abordar las pr...",
          "Type: employees<br>Text: ## Historial de compensación\n- **2015**: salario base de $150,000 + participación accionaria signifi...",
          "Type: employees<br>Text: ## Otras notas de RR. HH.\n- **Desarrollo profesional**: Avery ha participado activamente en programa...",
          "Type: employees<br>Text: Avery Lancaster ha demostrado resiliencia y adaptabilidad a lo largo de su carrera en Insurellm, pos...",
          "Type: employees<br>Text: # Registro de RR. HH.\n\n# Maxine Thompson\n\n## Resumen\n- **Fecha de nacimiento:** 15 de enero de 1991\n...",
          "Type: employees<br>Text: ## Progresión profesional en Insurellm\n- **Enero de 2017 - Octubre de 2018**: **Ingeniero de datos j...",
          "Type: employees<br>Text: ## Historial de desempeño anual\n- **2017**: *Cumple con las expectativas*\nMaxine mostró potencial en...",
          "Type: employees<br>Text: - **2021**: *Supera las expectativas*\nMaxine encabezó la transición a una nueva solución de almacena...",
          "Type: employees<br>Text: ## Historial de compensación\n- **2017**: $70,000 (Ingeniero de datos júnior)\n- **2018**: $75,000 (In...",
          "Type: employees<br>Text: # Samantha Greene\n\n## Resumen\n- **Fecha de nacimiento:** 14 de octubre de 1990\n- **Puesto:** General...",
          "Type: employees<br>Text: ## Historial de desempeño anual\n- **2020:** Supera las expectativas\nSamantha Greene demostró habilid...",
          "Type: employees<br>Text: - **2023:** Cumple las expectativas\nDespués de asistir a talleres centrados en la resolución de conf...",
          "Type: employees<br>Text: - **2023:** Salario base: $70,000\nReconocida por una mejora sustancial en la gestión de las relacion...",
          "Type: employees<br>Text: # Registro de RR. HH.\n\n# Alex Thomson\n\n## Resumen\n- **Fecha de nacimiento:** 15 de marzo de 1995\n- *...",
          "Type: employees<br>Text: ## Resumen\n- **Fecha de nacimiento:** 15 de marzo de 1995\n- **Puesto:** Representante de desarrollo ...",
          "Type: employees<br>Text: ## Historial de desempeño anual\n- **2022** - Calificado como \"Supera las expectativas\". Alex Thomson...",
          "Type: employees<br>Text: ## Historial de compensación\n- **2022**: Salario base: $55 000 | Bono: $5000\n- **2023**: Salario bas...",
          "Type: employees<br>Text: ## Otras notas de RR. HH.\n- Alex Thomson es un miembro activo del comité de Diversidad e Inclusión e...",
          "Type: employees<br>Text: # Registro de RR. HH.\n\n# Samuel Trenton\n\n## Resumen\n- **Fecha de nacimiento:** 12 de abril de 1989\n-...",
          "Type: employees<br>Text: - **Agosto de 2016 - mayo de 2018:** Analista de datos junior\n*Comencé en Insurellm como analista de...",
          "Type: employees<br>Text: - **2021:** Calificación: 4.0/5\n*Hubo una mejora notable en el desempeño. Trabajé para mejorar la pr...",
          "Type: employees<br>Text: - **2021:** Salario base: $105,000 + Bonificación: $12,000\n*Aumento basado en mérito, que refleja co...",
          "Type: employees<br>Text: - **Áreas de mejora:** La colaboración con los equipos de ingeniería se ha señalado como un área que...",
          "Type: employees<br>Text: # Registro de RR. HH.\n\n# Alex Harper\n\n## Resumen\n- **Fecha de nacimiento**: 15 de marzo de 1993\n- **...",
          "Type: employees<br>Text: ## Historial de desempeño anual\n- **2021**:\n- **Calificación de desempeño**: 4.5/5\n- **Logros clave*...",
          "Type: employees<br>Text: ## Historial de compensación\n- **2021**:\n- **Salario base**: $55,000\n- **Bonificación**: $5,500 (10 ...",
          "Type: employees<br>Text: - **Comentarios de RR. HH.**:\n- Alex Harper es conocido por su ética de trabajo, actitud positiva y ...",
          "Type: employees<br>Text: # Registro de RR. HH.\n\n# Jordan K. Bishop\n\n## Resumen\n- **Fecha de nacimiento:** 15 de marzo de 1990...",
          "Type: employees<br>Text: ## Historial de desempeño anual\n- **2019:** Supera las expectativas: entregó código de alta calidad ...",
          "Type: employees<br>Text: ## Historial de compensación\n- **Junio ​​de 2018:** Salario inicial: $85 000\n- **Junio ​​de 2019:** ...",
          "Type: employees<br>Text: ## Otras notas de RR. HH.\n- Jordan K. Bishop ha sido parte integral de las iniciativas del club, inc...",
          "Type: employees<br>Text: # Registro de RR.HH.\n\n# Emily Carter\n\n## Resumen\n- **Fecha de nacimiento:** 12 de agosto de 1990\n- *...",
          "Type: employees<br>Text: - **2017-2019:** Pasante de marketing\n- Colaboré con la investigación de mercado y el desarrollo de ...",
          "Type: employees<br>Text: ## Historial de compensación\n| Año | Salario base | Bonificación | Compensación total |\n|------|----...",
          "Type: employees<br>Text: Emily Carter ejemplifica el tipo de talento que impulsa el éxito de Insurellm y es un activo invalua..."
         ],
         "type": "scatter3d",
         "x": [
          -23.35547,
          -25.82719,
          -26.623823,
          -16.906528,
          -66.984665,
          -55.868122,
          -21.53748,
          -28.800585,
          -11.912854,
          5.6568885,
          -82.75522,
          33.34911,
          -27.701773,
          -85.2565,
          -53.637962,
          -38.46344,
          -2.7349107,
          -72.32652,
          -22.093111,
          -47.568356,
          -35.702667,
          -58.644703,
          3.3801358,
          -61.721573,
          50.613533,
          64.29963,
          63.13622,
          17.733038,
          44.2837,
          30.407911,
          40.705578,
          49.130405,
          -29.121683,
          -36.89254,
          54.867287,
          35.892323,
          57.669243,
          -32.42041,
          -48.502018,
          57.058865,
          27.88899,
          33.020218,
          -46.043995,
          -70.25813,
          35.071716,
          34.228455,
          -1.9181336,
          14.665006,
          82.23429,
          8.414851,
          14.221821,
          -21.210722,
          -0.73262155,
          81.697,
          76.3736,
          -15.103479,
          35.314713,
          90.2448,
          28.795685,
          13.3255205,
          21.075085,
          15.076871,
          32.185726,
          4.7067847,
          1.43098,
          60.365055,
          19.858828,
          2.5770068,
          -20.822844,
          -0.37906232,
          67.92381,
          55.507275,
          35.99089,
          -39.426853,
          54.423264,
          69.04007,
          7.4226036,
          32.185726,
          4.7067847,
          1.43098,
          -15.684293,
          -48.522213,
          -45.510014,
          -68.48875,
          11.297573,
          -56.830826,
          -28.928543,
          -35.508076,
          14.971696,
          -25.299482,
          -38.146484,
          16.901566,
          31.419783,
          -75.61039,
          -37.709766,
          -3.6545365,
          19.206726,
          -44.560574,
          -0.69215816,
          25.346252,
          41.745106,
          57.50695,
          48.447655,
          -27.316895,
          22.034935,
          12.298512,
          -6.3671775,
          -7.620784,
          17.63702,
          37.104477,
          15.548831,
          51.743706,
          -8.001148,
          -12.780846,
          57.233196,
          -4.990324,
          -1.8763148,
          -40.343033,
          -50.3082,
          -13.598265,
          -3.3820176,
          -22.062403,
          -27.013878,
          -5.8831105,
          -22.378286,
          15.522581,
          -38.978863,
          -0.73647046,
          8.247542,
          17.548775,
          -49.99849,
          -7.6771345,
          17.657593,
          41.995342,
          -82.44705,
          -7.0010476,
          -9.62059
         ],
         "y": [
          3.849054,
          16.063873,
          -3.8110135,
          62.686474,
          -39.6536,
          -14.526118,
          20.411331,
          39.176174,
          45.0508,
          62.754925,
          1.4234718,
          8.60249,
          87.56952,
          -48.57683,
          71.75523,
          71.92862,
          91.313805,
          16.920033,
          95.569145,
          13.216501,
          33.455204,
          35.611942,
          82.53048,
          10.9097,
          -1.938845,
          33.96702,
          80.970245,
          37.25125,
          45.19951,
          60.214375,
          -13.954277,
          62.296383,
          18.372194,
          35.231846,
          -0.042163085,
          22.894361,
          70.50409,
          62.37548,
          64.33184,
          25.051834,
          84.222565,
          87.25171,
          37.736156,
          45.915894,
          -10.524406,
          -23.619053,
          6.2166796,
          -1.3523614,
          -14.456979,
          70.09509,
          73.52032,
          44.441563,
          47.938034,
          25.746662,
          64.9633,
          52.544296,
          12.431527,
          10.139347,
          59.6036,
          101.27147,
          31.096992,
          35.54835,
          49.422184,
          29.91071,
          24.21251,
          23.536112,
          -19.558882,
          -9.207108,
          -8.856529,
          -12.9405775,
          -15.682985,
          20.441174,
          40.191513,
          68.379135,
          -38.242596,
          15.407698,
          51.815327,
          49.422184,
          29.91071,
          24.21251,
          23.76729,
          -8.949267,
          -24.381983,
          -13.953335,
          -52.106552,
          -45.714256,
          -3.5168252,
          -56.62512,
          -99.855225,
          -44.005394,
          -59.17326,
          2.213163,
          -98.1274,
          -27.569893,
          16.47346,
          -38.83054,
          -61.799873,
          -42.66885,
          -3.6056137,
          -32.250805,
          -33.513645,
          -37.677803,
          -19.2471,
          -3.877366,
          -24.829449,
          -15.359314,
          -104.14501,
          -45.434994,
          -61.919815,
          -57.11642,
          -25.106197,
          -58.772366,
          -72.45056,
          -60.004284,
          -63.69227,
          -87.313835,
          -54.398243,
          -34.90274,
          -9.590606,
          -56.603874,
          -76.356544,
          -63.205727,
          -28.19739,
          -20.809301,
          -82.31263,
          -67.76433,
          -40.063473,
          -38.54249,
          -67.09271,
          -67.61695,
          -22.374603,
          8.245906,
          -73.10827,
          -90.09405,
          -28.225689,
          -28.852018,
          -21.699738
         ],
         "z": [
          -7.9803514,
          9.3604145,
          25.890322,
          54.52617,
          28.031038,
          44.850475,
          -37.37391,
          -39.828182,
          -57.39146,
          -55.4422,
          31.609735,
          -27.91119,
          9.701181,
          -5.7281938,
          -2.4604647,
          28.204905,
          -26.989365,
          50.40615,
          29.565115,
          -16.154327,
          -10.90202,
          -10.512719,
          -43.760017,
          22.126507,
          -15.556648,
          -18.905497,
          14.942614,
          -32.195248,
          -32.390125,
          -54.563698,
          74.08234,
          6.4620004,
          40.046497,
          57.895077,
          53.788357,
          74.7808,
          40.397846,
          -3.8072472,
          48.02016,
          58.41023,
          29.328571,
          2.1719067,
          20.514696,
          22.247105,
          19.220823,
          35.4044,
          17.080843,
          29.44447,
          42.131287,
          28.487686,
          1.5538573,
          21.593807,
          24.360205,
          0.3834021,
          18.739233,
          -28.026949,
          40.908382,
          15.39469,
          32.872116,
          14.221132,
          32.442074,
          89.33688,
          63.8784,
          -7.908621,
          55.361134,
          -59.713013,
          64.22907,
          76.05096,
          60.812126,
          50.780224,
          21.73236,
          9.669105,
          4.6961265,
          -43.25549,
          -82.91594,
          31.748533,
          82.98591,
          63.8784,
          -7.908621,
          55.361134,
          89.101006,
          -0.19226098,
          17.234486,
          -2.5576866,
          -101.439476,
          -52.382442,
          -96.22018,
          39.20541,
          32.033653,
          14.174505,
          -46.869793,
          -74.17344,
          0.7061421,
          -35.1747,
          -84.36986,
          -35.209087,
          19.765812,
          -6.9489093,
          -61.97157,
          -7.5969615,
          -29.634771,
          -45.978687,
          -48.13871,
          -72.22174,
          -35.68381,
          -10.115511,
          21.760191,
          -0.9402838,
          -59.31842,
          -52.629528,
          -78.340096,
          3.477718,
          -56.083767,
          -74.33177,
          -16.943254,
          38.34271,
          33.161537,
          -33.697723,
          -85.5965,
          53.77545,
          9.517507,
          -8.036331,
          -88.81669,
          -90.77824,
          -22.668652,
          42.004436,
          -70.81603,
          254.92908,
          66.330826,
          -4.712895,
          -52.93036,
          -91.028275,
          -23.970303,
          13.070275,
          -52.004723,
          -55.908306,
          -22.840187
         ]
        }
       ],
       "layout": {
        "height": 700,
        "margin": {
         "b": 10,
         "l": 10,
         "r": 20,
         "t": 40
        },
        "scene": {
         "xaxis": {
          "title": {
           "text": "x"
          }
         },
         "yaxis": {
          "title": {
           "text": "y"
          }
         },
         "zaxis": {
          "title": {
           "text": "z"
          }
         }
        },
        "template": {
         "data": {
          "bar": [
           {
            "error_x": {
             "color": "#2a3f5f"
            },
            "error_y": {
             "color": "#2a3f5f"
            },
            "marker": {
             "line": {
              "color": "#E5ECF6",
              "width": 0.5
             },
             "pattern": {
              "fillmode": "overlay",
              "size": 10,
              "solidity": 0.2
             }
            },
            "type": "bar"
           }
          ],
          "barpolar": [
           {
            "marker": {
             "line": {
              "color": "#E5ECF6",
              "width": 0.5
             },
             "pattern": {
              "fillmode": "overlay",
              "size": 10,
              "solidity": 0.2
             }
            },
            "type": "barpolar"
           }
          ],
          "carpet": [
           {
            "aaxis": {
             "endlinecolor": "#2a3f5f",
             "gridcolor": "white",
             "linecolor": "white",
             "minorgridcolor": "white",
             "startlinecolor": "#2a3f5f"
            },
            "baxis": {
             "endlinecolor": "#2a3f5f",
             "gridcolor": "white",
             "linecolor": "white",
             "minorgridcolor": "white",
             "startlinecolor": "#2a3f5f"
            },
            "type": "carpet"
           }
          ],
          "choropleth": [
           {
            "colorbar": {
             "outlinewidth": 0,
             "ticks": ""
            },
            "type": "choropleth"
           }
          ],
          "contour": [
           {
            "colorbar": {
             "outlinewidth": 0,
             "ticks": ""
            },
            "colorscale": [
             [
              0,
              "#0d0887"
             ],
             [
              0.1111111111111111,
              "#46039f"
             ],
             [
              0.2222222222222222,
              "#7201a8"
             ],
             [
              0.3333333333333333,
              "#9c179e"
             ],
             [
              0.4444444444444444,
              "#bd3786"
             ],
             [
              0.5555555555555556,
              "#d8576b"
             ],
             [
              0.6666666666666666,
              "#ed7953"
             ],
             [
              0.7777777777777778,
              "#fb9f3a"
             ],
             [
              0.8888888888888888,
              "#fdca26"
             ],
             [
              1,
              "#f0f921"
             ]
            ],
            "type": "contour"
           }
          ],
          "contourcarpet": [
           {
            "colorbar": {
             "outlinewidth": 0,
             "ticks": ""
            },
            "type": "contourcarpet"
           }
          ],
          "heatmap": [
           {
            "colorbar": {
             "outlinewidth": 0,
             "ticks": ""
            },
            "colorscale": [
             [
              0,
              "#0d0887"
             ],
             [
              0.1111111111111111,
              "#46039f"
             ],
             [
              0.2222222222222222,
              "#7201a8"
             ],
             [
              0.3333333333333333,
              "#9c179e"
             ],
             [
              0.4444444444444444,
              "#bd3786"
             ],
             [
              0.5555555555555556,
              "#d8576b"
             ],
             [
              0.6666666666666666,
              "#ed7953"
             ],
             [
              0.7777777777777778,
              "#fb9f3a"
             ],
             [
              0.8888888888888888,
              "#fdca26"
             ],
             [
              1,
              "#f0f921"
             ]
            ],
            "type": "heatmap"
           }
          ],
          "heatmapgl": [
           {
            "colorbar": {
             "outlinewidth": 0,
             "ticks": ""
            },
            "colorscale": [
             [
              0,
              "#0d0887"
             ],
             [
              0.1111111111111111,
              "#46039f"
             ],
             [
              0.2222222222222222,
              "#7201a8"
             ],
             [
              0.3333333333333333,
              "#9c179e"
             ],
             [
              0.4444444444444444,
              "#bd3786"
             ],
             [
              0.5555555555555556,
              "#d8576b"
             ],
             [
              0.6666666666666666,
              "#ed7953"
             ],
             [
              0.7777777777777778,
              "#fb9f3a"
             ],
             [
              0.8888888888888888,
              "#fdca26"
             ],
             [
              1,
              "#f0f921"
             ]
            ],
            "type": "heatmapgl"
           }
          ],
          "histogram": [
           {
            "marker": {
             "pattern": {
              "fillmode": "overlay",
              "size": 10,
              "solidity": 0.2
             }
            },
            "type": "histogram"
           }
          ],
          "histogram2d": [
           {
            "colorbar": {
             "outlinewidth": 0,
             "ticks": ""
            },
            "colorscale": [
             [
              0,
              "#0d0887"
             ],
             [
              0.1111111111111111,
              "#46039f"
             ],
             [
              0.2222222222222222,
              "#7201a8"
             ],
             [
              0.3333333333333333,
              "#9c179e"
             ],
             [
              0.4444444444444444,
              "#bd3786"
             ],
             [
              0.5555555555555556,
              "#d8576b"
             ],
             [
              0.6666666666666666,
              "#ed7953"
             ],
             [
              0.7777777777777778,
              "#fb9f3a"
             ],
             [
              0.8888888888888888,
              "#fdca26"
             ],
             [
              1,
              "#f0f921"
             ]
            ],
            "type": "histogram2d"
           }
          ],
          "histogram2dcontour": [
           {
            "colorbar": {
             "outlinewidth": 0,
             "ticks": ""
            },
            "colorscale": [
             [
              0,
              "#0d0887"
             ],
             [
              0.1111111111111111,
              "#46039f"
             ],
             [
              0.2222222222222222,
              "#7201a8"
             ],
             [
              0.3333333333333333,
              "#9c179e"
             ],
             [
              0.4444444444444444,
              "#bd3786"
             ],
             [
              0.5555555555555556,
              "#d8576b"
             ],
             [
              0.6666666666666666,
              "#ed7953"
             ],
             [
              0.7777777777777778,
              "#fb9f3a"
             ],
             [
              0.8888888888888888,
              "#fdca26"
             ],
             [
              1,
              "#f0f921"
             ]
            ],
            "type": "histogram2dcontour"
           }
          ],
          "mesh3d": [
           {
            "colorbar": {
             "outlinewidth": 0,
             "ticks": ""
            },
            "type": "mesh3d"
           }
          ],
          "parcoords": [
           {
            "line": {
             "colorbar": {
              "outlinewidth": 0,
              "ticks": ""
             }
            },
            "type": "parcoords"
           }
          ],
          "pie": [
           {
            "automargin": true,
            "type": "pie"
           }
          ],
          "scatter": [
           {
            "fillpattern": {
             "fillmode": "overlay",
             "size": 10,
             "solidity": 0.2
            },
            "type": "scatter"
           }
          ],
          "scatter3d": [
           {
            "line": {
             "colorbar": {
              "outlinewidth": 0,
              "ticks": ""
             }
            },
            "marker": {
             "colorbar": {
              "outlinewidth": 0,
              "ticks": ""
             }
            },
            "type": "scatter3d"
           }
          ],
          "scattercarpet": [
           {
            "marker": {
             "colorbar": {
              "outlinewidth": 0,
              "ticks": ""
             }
            },
            "type": "scattercarpet"
           }
          ],
          "scattergeo": [
           {
            "marker": {
             "colorbar": {
              "outlinewidth": 0,
              "ticks": ""
             }
            },
            "type": "scattergeo"
           }
          ],
          "scattergl": [
           {
            "marker": {
             "colorbar": {
              "outlinewidth": 0,
              "ticks": ""
             }
            },
            "type": "scattergl"
           }
          ],
          "scattermapbox": [
           {
            "marker": {
             "colorbar": {
              "outlinewidth": 0,
              "ticks": ""
             }
            },
            "type": "scattermapbox"
           }
          ],
          "scatterpolar": [
           {
            "marker": {
             "colorbar": {
              "outlinewidth": 0,
              "ticks": ""
             }
            },
            "type": "scatterpolar"
           }
          ],
          "scatterpolargl": [
           {
            "marker": {
             "colorbar": {
              "outlinewidth": 0,
              "ticks": ""
             }
            },
            "type": "scatterpolargl"
           }
          ],
          "scatterternary": [
           {
            "marker": {
             "colorbar": {
              "outlinewidth": 0,
              "ticks": ""
             }
            },
            "type": "scatterternary"
           }
          ],
          "surface": [
           {
            "colorbar": {
             "outlinewidth": 0,
             "ticks": ""
            },
            "colorscale": [
             [
              0,
              "#0d0887"
             ],
             [
              0.1111111111111111,
              "#46039f"
             ],
             [
              0.2222222222222222,
              "#7201a8"
             ],
             [
              0.3333333333333333,
              "#9c179e"
             ],
             [
              0.4444444444444444,
              "#bd3786"
             ],
             [
              0.5555555555555556,
              "#d8576b"
             ],
             [
              0.6666666666666666,
              "#ed7953"
             ],
             [
              0.7777777777777778,
              "#fb9f3a"
             ],
             [
              0.8888888888888888,
              "#fdca26"
             ],
             [
              1,
              "#f0f921"
             ]
            ],
            "type": "surface"
           }
          ],
          "table": [
           {
            "cells": {
             "fill": {
              "color": "#EBF0F8"
             },
             "line": {
              "color": "white"
             }
            },
            "header": {
             "fill": {
              "color": "#C8D4E3"
             },
             "line": {
              "color": "white"
             }
            },
            "type": "table"
           }
          ]
         },
         "layout": {
          "annotationdefaults": {
           "arrowcolor": "#2a3f5f",
           "arrowhead": 0,
           "arrowwidth": 1
          },
          "autotypenumbers": "strict",
          "coloraxis": {
           "colorbar": {
            "outlinewidth": 0,
            "ticks": ""
           }
          },
          "colorscale": {
           "diverging": [
            [
             0,
             "#8e0152"
            ],
            [
             0.1,
             "#c51b7d"
            ],
            [
             0.2,
             "#de77ae"
            ],
            [
             0.3,
             "#f1b6da"
            ],
            [
             0.4,
             "#fde0ef"
            ],
            [
             0.5,
             "#f7f7f7"
            ],
            [
             0.6,
             "#e6f5d0"
            ],
            [
             0.7,
             "#b8e186"
            ],
            [
             0.8,
             "#7fbc41"
            ],
            [
             0.9,
             "#4d9221"
            ],
            [
             1,
             "#276419"
            ]
           ],
           "sequential": [
            [
             0,
             "#0d0887"
            ],
            [
             0.1111111111111111,
             "#46039f"
            ],
            [
             0.2222222222222222,
             "#7201a8"
            ],
            [
             0.3333333333333333,
             "#9c179e"
            ],
            [
             0.4444444444444444,
             "#bd3786"
            ],
            [
             0.5555555555555556,
             "#d8576b"
            ],
            [
             0.6666666666666666,
             "#ed7953"
            ],
            [
             0.7777777777777778,
             "#fb9f3a"
            ],
            [
             0.8888888888888888,
             "#fdca26"
            ],
            [
             1,
             "#f0f921"
            ]
           ],
           "sequentialminus": [
            [
             0,
             "#0d0887"
            ],
            [
             0.1111111111111111,
             "#46039f"
            ],
            [
             0.2222222222222222,
             "#7201a8"
            ],
            [
             0.3333333333333333,
             "#9c179e"
            ],
            [
             0.4444444444444444,
             "#bd3786"
            ],
            [
             0.5555555555555556,
             "#d8576b"
            ],
            [
             0.6666666666666666,
             "#ed7953"
            ],
            [
             0.7777777777777778,
             "#fb9f3a"
            ],
            [
             0.8888888888888888,
             "#fdca26"
            ],
            [
             1,
             "#f0f921"
            ]
           ]
          },
          "colorway": [
           "#636efa",
           "#EF553B",
           "#00cc96",
           "#ab63fa",
           "#FFA15A",
           "#19d3f3",
           "#FF6692",
           "#B6E880",
           "#FF97FF",
           "#FECB52"
          ],
          "font": {
           "color": "#2a3f5f"
          },
          "geo": {
           "bgcolor": "white",
           "lakecolor": "white",
           "landcolor": "#E5ECF6",
           "showlakes": true,
           "showland": true,
           "subunitcolor": "white"
          },
          "hoverlabel": {
           "align": "left"
          },
          "hovermode": "closest",
          "mapbox": {
           "style": "light"
          },
          "paper_bgcolor": "white",
          "plot_bgcolor": "#E5ECF6",
          "polar": {
           "angularaxis": {
            "gridcolor": "white",
            "linecolor": "white",
            "ticks": ""
           },
           "bgcolor": "#E5ECF6",
           "radialaxis": {
            "gridcolor": "white",
            "linecolor": "white",
            "ticks": ""
           }
          },
          "scene": {
           "xaxis": {
            "backgroundcolor": "#E5ECF6",
            "gridcolor": "white",
            "gridwidth": 2,
            "linecolor": "white",
            "showbackground": true,
            "ticks": "",
            "zerolinecolor": "white"
           },
           "yaxis": {
            "backgroundcolor": "#E5ECF6",
            "gridcolor": "white",
            "gridwidth": 2,
            "linecolor": "white",
            "showbackground": true,
            "ticks": "",
            "zerolinecolor": "white"
           },
           "zaxis": {
            "backgroundcolor": "#E5ECF6",
            "gridcolor": "white",
            "gridwidth": 2,
            "linecolor": "white",
            "showbackground": true,
            "ticks": "",
            "zerolinecolor": "white"
           }
          },
          "shapedefaults": {
           "line": {
            "color": "#2a3f5f"
           }
          },
          "ternary": {
           "aaxis": {
            "gridcolor": "white",
            "linecolor": "white",
            "ticks": ""
           },
           "baxis": {
            "gridcolor": "white",
            "linecolor": "white",
            "ticks": ""
           },
           "bgcolor": "#E5ECF6",
           "caxis": {
            "gridcolor": "white",
            "linecolor": "white",
            "ticks": ""
           }
          },
          "title": {
           "x": 0.05
          },
          "xaxis": {
           "automargin": true,
           "gridcolor": "white",
           "linecolor": "white",
           "ticks": "",
           "title": {
            "standoff": 15
           },
           "zerolinecolor": "white",
           "zerolinewidth": 2
          },
          "yaxis": {
           "automargin": true,
           "gridcolor": "white",
           "linecolor": "white",
           "ticks": "",
           "title": {
            "standoff": 15
           },
           "zerolinecolor": "white",
           "zerolinewidth": 2
          }
         }
        },
        "title": {
         "text": "Visualización 3D Chroma Vector Store"
        },
        "width": 900
       }
      },
      "image/png": "[encoded data removed]",
      "text/html": [
       "<div>                            <div id=\"8a841b0f-9c2b-4edc-aa87-a3931443488a\" class=\"plotly-graph-div\" style=\"height:700px; width:900px;\"></div>            <script type=\"text/javascript\">                require([\"plotly\"], function(Plotly) {                    window.PLOTLYENV=window.PLOTLYENV || {};                                    if (document.getElementById(\"8a841b0f-9c2b-4edc-aa87-a3931443488a\")) {                    Plotly.newPlot(                        \"8a841b0f-9c2b-4edc-aa87-a3931443488a\",                        [{\"hoverinfo\":\"text\",\"marker\":{\"color\":[\"blue\",\"blue\",\"blue\",\"blue\",\"blue\",\"blue\",\"blue\",\"blue\",\"blue\",\"blue\",\"blue\",\"blue\",\"blue\",\"blue\",\"blue\",\"blue\",\"blue\",\"blue\",\"blue\",\"blue\",\"blue\",\"blue\",\"blue\",\"blue\",\"blue\",\"red\",\"red\",\"red\",\"red\",\"red\",\"red\",\"red\",\"red\",\"red\",\"red\",\"red\",\"red\",\"red\",\"red\",\"red\",\"red\",\"red\",\"red\",\"red\",\"red\",\"red\",\"red\",\"red\",\"red\",\"red\",\"red\",\"red\",\"red\",\"red\",\"red\",\"red\",\"red\",\"red\",\"red\",\"red\",\"red\",\"red\",\"red\",\"red\",\"red\",\"red\",\"red\",\"red\",\"red\",\"red\",\"red\",\"red\",\"red\",\"red\",\"red\",\"red\",\"red\",\"red\",\"red\",\"red\",\"red\",\"orange\",\"orange\",\"orange\",\"green\",\"green\",\"green\",\"green\",\"green\",\"green\",\"green\",\"green\",\"green\",\"green\",\"green\",\"green\",\"green\",\"green\",\"green\",\"green\",\"green\",\"green\",\"green\",\"green\",\"green\",\"green\",\"green\",\"green\",\"green\",\"green\",\"green\",\"green\",\"green\",\"green\",\"green\",\"green\",\"green\",\"green\",\"green\",\"green\",\"green\",\"green\",\"green\",\"green\",\"green\",\"green\",\"green\",\"green\",\"green\",\"green\",\"green\",\"green\",\"green\",\"green\",\"green\",\"green\",\"green\"],\"opacity\":0.8,\"size\":5},\"mode\":\"markers\",\"text\":[\"Type: products\\u003cbr\\u003eText: # Resumen del producto\\n\\n# Rellm: Solución de reaseguro empresarial basada en IA\\n\\n## Resumen\\n\\nRellm e...\",\"Type: products\\u003cbr\\u003eText: ## Características\\n\\n### Análisis impulsados ​​por IA\\nRellm utiliza algoritmos de IA de vanguardia pa...\",\"Type: products\\u003cbr\\u003eText: ### Módulo de evaluación de riesgos\\nEl módulo de evaluación de riesgos integral de Rellm permite a l...\",\"Type: products\\u003cbr\\u003eText: ### Portales para clientes y corredores\\nRellm ofrece portales dedicados tanto para clientes como par...\",\"Type: products\\u003cbr\\u003eText: Únase al creciente número de organizaciones que aprovechan Rellm para mejorar sus procesos de reaseg...\",\"Type: products\\u003cbr\\u003eText: - **T3 2026**:\\n- Lanzamiento de una plataforma comunitaria para que los usuarios de Rellm intercambi...\",\"Type: products\\u003cbr\\u003eText: # Resumen del producto\\n\\n# Markellm\\n\\n## Resumen\\n\\nMarkelm es un innovador mercado bilateral diseñado p...\",\"Type: products\\u003cbr\\u003eText: ## Características\\n\\n- **Emparejamiento impulsado por IA**: Markellm utiliza sofisticados algoritmos ...\",\"Type: products\\u003cbr\\u003eText: - **Recomendaciones personalizadas**: según los perfiles y las preferencias de los usuarios, Markell...\",\"Type: products\\u003cbr\\u003eText: ## Precios\\n\\nEn Markellm, creemos en la transparencia y la flexibilidad. Nuestra estructura de precio...\",\"Type: products\\u003cbr\\u003eText: ## Hoja de ruta 2025-2026\\n\\n### T1 de 2025\\n- Lanzar una versión de aplicación móvil de Markellm, lo q...\",\"Type: products\\u003cbr\\u003eText: ### T4 2026\\n- Implementar mejoras de aprendizaje automático en nuestro algoritmo de IA, aumentando a...\",\"Type: products\\u003cbr\\u003eText: # Resumen del producto\\n\\n# Homellm\\n\\n## Resumen\\nHomellm es un innovador producto de seguros para el ho...\",\"Type: products\\u003cbr\\u003eText: ## Características\\n### 1. Evaluación de riesgos impulsada por IA\\nHomellm utiliza sofisticados algori...\",\"Type: products\\u003cbr\\u003eText: ### 3. Procesamiento de reclamos instantáneo\\nEl sistema de gestión de reclamos impulsado por IA en H...\",\"Type: products\\u003cbr\\u003eText: ### 5. Integración multicanal\\nHomellm se integra perfectamente en las plataformas de seguros existen...\",\"Type: products\\u003cbr\\u003eText: - **Nivel básico:** a partir de $5000\\u002fmes para pequeñas aseguradoras con funciones de integración bá...\",\"Type: products\\u003cbr\\u003eText: ## Hoja de ruta\\nLa hoja de ruta de desarrollo de Homellm incluye los siguientes hitos clave:\\n\\n- **T1...\",\"Type: products\\u003cbr\\u003eText: Con Homellm, Insurellm se compromete a transformar el panorama de los seguros para el hogar, asegura...\",\"Type: products\\u003cbr\\u003eText: # Resumen del producto\\n\\n# Carllm\\n\\n## Resumen\\n\\nCarllm es un innovador producto de seguros para automó...\",\"Type: products\\u003cbr\\u003eText: ## Características\\n\\n- **Evaluación de riesgos impulsada por IA**: Carllm aprovecha la inteligencia a...\",\"Type: products\\u003cbr\\u003eText: - **Detección de fraude**: El producto incorpora análisis avanzados para identificar reclamos potenc...\",\"Type: products\\u003cbr\\u003eText: ## Precios\\n\\nCarllm se ofrece bajo un modelo de precios basado en suscripción adaptado a las necesida...\",\"Type: products\\u003cbr\\u003eText: ¡Comuníquese con nuestro equipo de ventas para obtener una cotización personalizada y descubra cómo ...\",\"Type: products\\u003cbr\\u003eText: ### T3 2025: Expansión global\\n- Iniciar programas piloto para mercados de seguros internacionales.\\n-...\",\"Type: contracts\\u003cbr\\u003eText: # Contrato con GreenField Holdings para Markellm\\n\\n**Fecha de entrada en vigor:** 15 de noviembre de ...\",\"Type: contracts\\u003cbr\\u003eText: ## Renovación\\n1. **Renovación automática**: Este contrato se renovará automáticamente por períodos c...\",\"Type: contracts\\u003cbr\\u003eText: ## Características\\n1. **Coincidencias impulsadas por IA**: acceso a algoritmos avanzados que conecta...\",\"Type: contracts\\u003cbr\\u003eText: ## Soporte\\n1. **Acceso a soporte al cliente**: el cliente tendrá acceso a soporte dedicado por teléf...\",\"Type: contracts\\u003cbr\\u003eText: ## Precios\\n- **Tarifa básica de listado**: GreenField Holdings acepta pagar una tarifa mensual de $1...\",\"Type: contracts\\u003cbr\\u003eText: # Contrato con Apex Reinsurance para Rellm: Solución de reaseguro empresarial basada en IA\\n\\n## Térmi...\",\"Type: contracts\\u003cbr\\u003eText: 4. **Duración del contrato**: este Acuerdo comenzará el [Fecha de inicio] y permanecerá vigente dura...\",\"Type: contracts\\u003cbr\\u003eText: 2. **Integraciones sin inconvenientes**: La arquitectura de Rellm permite una fácil integración con ...\",\"Type: contracts\\u003cbr\\u003eText: ## Soporte\\n\\n1. **Soporte técnico**: El proveedor ofrecerá soporte técnico exclusivo al Cliente por t...\",\"Type: contracts\\u003cbr\\u003eText: ---\\n\\n**Aceptación de los términos**: al firmar a continuación, ambas partes aceptan los términos, la...\",\"Type: contracts\\u003cbr\\u003eText: # Contrato con Greenstone Insurance para Homellm\\n\\n---\\n\\n## Términos\\n\\n1. **Partes**: Este contrato (\\\"A...\",\"Type: contracts\\u003cbr\\u003eText: 4. **Condiciones de pago**:\\n- El cliente deberá pagar un monto de $10,000 por mes por el nivel están...\",\"Type: contracts\\u003cbr\\u003eText: ---\\n\\n## Características\\n\\n- **Evaluación de riesgos impulsada por IA**: el cliente tendrá acceso a he...\",\"Type: contracts\\u003cbr\\u003eText: - **Integración multicanal**: Homellm se integrará con las plataformas existentes del cliente para c...\",\"Type: contracts\\u003cbr\\u003eText: 3. **Actualizaciones y mejoras**: El cliente recibirá todas las actualizaciones de software y mejora...\",\"Type: contracts\\u003cbr\\u003eText: # Contrato con Roadway Insurance Inc. para Carllm\\n\\n---\\n\\n## Términos\\n\\n1. **Fecha de entrada en vigor ...\",\"Type: contracts\\u003cbr\\u003eText: ---\\n\\n## Renovación\\n\\n1. **Renovación automática**: este acuerdo se renovará automáticamente por un pe...\",\"Type: contracts\\u003cbr\\u003eText: 2. **Integración móvil**: se podrá acceder a todas las características a través de una aplicación mó...\",\"Type: contracts\\u003cbr\\u003eText: ---\\n\\n*Este contrato describe los términos de la relación entre Insurellm y Roadway Insurance Inc. pa...\",\"Type: contracts\\u003cbr\\u003eText: # Contrato con Stellar Insurance Co. para Rellm\\n\\n## Condiciones\\nEste contrato se celebra entre **Ins...\",\"Type: contracts\\u003cbr\\u003eText: ### Terminación\\nCualquiera de las partes puede rescindir este acuerdo con un **aviso por escrito de ...\",\"Type: contracts\\u003cbr\\u003eText: ## Características\\nStellar Insurance Co. recibirá acceso a las siguientes características del produc...\",\"Type: contracts\\u003cbr\\u003eText: ## Soporte\\nInsurellm ofrece a Stellar Insurance Co. los siguientes servicios de soporte:\\n\\n- **Soport...\",\"Type: contracts\\u003cbr\\u003eText: **Para Insurellm**\\n______________________________\\n[Firma]\\n[Nombre, cargo]\\n[Fecha]\\n\\n**Para Stellar In...\",\"Type: contracts\\u003cbr\\u003eText: # Contrato con TechDrive Insurance para Carllm\\n\\n**Fecha del contrato:** 1 de octubre de 2024\\n**Durac...\",\"Type: contracts\\u003cbr\\u003eText: ## Renovación\\n\\n1. **Renovación automática**: este contrato se renovará automáticamente por períodos ...\",\"Type: contracts\\u003cbr\\u003eText: 2. **Requisitos del sistema**: TechDrive Insurance debe asegurarse de que sus sistemas existentes cu...\",\"Type: contracts\\u003cbr\\u003eText: 3. **Actualizaciones del sistema**: el proveedor enviará actualizaciones periódicas para mejorar el ...\",\"Type: contracts\\u003cbr\\u003eText: # Contrato con Belvedere Insurance para Markellm\\n\\n## Términos\\nEste Contrato (\\\"Acuerdo\\\") se celebra y...\",\"Type: contracts\\u003cbr\\u003eText: ## Renovación\\n1. **Condiciones de renovación**: Este acuerdo puede renovarse por períodos adicionale...\",\"Type: contracts\\u003cbr\\u003eText: ## Características\\n1. **Emparejamiento basado en IA**: Belvedere Insurance se beneficiará del empare...\",\"Type: contracts\\u003cbr\\u003eText: ## Asistencia\\n1. **Asistencia técnica**: La asistencia técnica estará disponible de lunes a viernes ...\",\"Type: contracts\\u003cbr\\u003eText: **Belvedere Insurance**\\nFirma: ______________________\\nNombre: [Firmante autorizado]\\nTítulo: [Título]...\",\"Type: contracts\\u003cbr\\u003eText: # Contrato con Velocity Auto Solutions para Carllm\\n\\n**Fecha del contrato:** 1 de octubre de 2023\\n**N...\",\"Type: contracts\\u003cbr\\u003eText: ## Renovación\\n\\n1. **Renovación automática**: este contrato se renovará automáticamente por períodos ...\",\"Type: contracts\\u003cbr\\u003eText: ## Soporte\\n\\n1. **Atención al cliente**: Velocity Auto Solutions tendrá acceso al equipo de atención ...\",\"Type: contracts\\u003cbr\\u003eText: # Contrato con GreenValley Insurance para Homellm\\n\\n**Fecha del contrato:** 6 de octubre de 2023\\n**Nú...\",\"Type: contracts\\u003cbr\\u003eText: 4. **Confidencialidad:** Ambas partes acuerdan mantener la confidencialidad de la información confid...\",\"Type: contracts\\u003cbr\\u003eText: 1. **Evaluación de riesgos impulsada por IA:** Acceso a algoritmos avanzados de IA para evaluaciones...\",\"Type: contracts\\u003cbr\\u003eText: ---\\n\\n## Soporte\\n\\nInsurellm se compromete a proporcionar soporte integral a GreenValley Insurance, qu...\",\"Type: contracts\\u003cbr\\u003eText: _________________________________\\n**[Nombre]**\\n**Título**: Director de operaciones\\n**GreenValley Ins...\",\"Type: contracts\\u003cbr\\u003eText: # Contrato con EverGuard Insurance para Rellm: solución de reaseguro empresarial impulsada por IA\\n\\n*...\",\"Type: contracts\\u003cbr\\u003eText: 4. **Derechos de uso**: EverGuard Insurance recibe una licencia no exclusiva e intransferible para a...\",\"Type: contracts\\u003cbr\\u003eText: 2. **Panel personalizable**: los usuarios de EverGuard Insurance tendrán acceso a un panel personali...\",\"Type: contracts\\u003cbr\\u003eText: 2. **Servicios de capacitación**: Insurellm brindará capacitación inicial al personal de EverGuard I...\",\"Type: contracts\\u003cbr\\u003eText: ---\\n\\n**Firmas**\\n**Para Insurellm**: __________________________\\n**Nombre**: John Smith\\n**Título**: Di...\",\"Type: contracts\\u003cbr\\u003eText: # Contrato con BrightWay Solutions para Markellm\\n\\n**Fecha del contrato:** 5 de octubre de 2023\\n**ID ...\",\"Type: contracts\\u003cbr\\u003eText: 3. **Acuerdo de nivel de servicio (SLA):**\\nInsurellm se compromete a un tiempo de actividad del 99,9...\",\"Type: contracts\\u003cbr\\u003eText: 2. **Disponibilidad de cotizaciones en tiempo real:**\\nLos consumidores obtenidos a través de BrightW...\",\"Type: contracts\\u003cbr\\u003eText: 2. **Servicios de soporte adicionales:**\\nSe dispondrá de soporte técnico para la integración y el ma...\",\"Type: contracts\\u003cbr\\u003eText: __________________________\\n**[Nombre], [Cargo]**\\n**BrightWay Solutions**\\nFecha: ____________________...\",\"Type: contracts\\u003cbr\\u003eText: # Contrato con GreenValley Insurance para Homellm\\n\\n**Fecha del contrato:** 6 de octubre de 2023\\n**Nú...\",\"Type: contracts\\u003cbr\\u003eText: 4. **Confidencialidad:** Ambas partes acuerdan mantener la confidencialidad de la información confid...\",\"Type: contracts\\u003cbr\\u003eText: 1. **Evaluación de riesgos impulsada por IA:** Acceso a algoritmos avanzados de IA para evaluaciones...\",\"Type: contracts\\u003cbr\\u003eText: ---\\n\\n## Soporte\\n\\nInsurellm se compromete a proporcionar soporte integral a GreenValley Insurance, qu...\",\"Type: contracts\\u003cbr\\u003eText: _________________________________\\n**[Nombre]**\\n**Título**: Director de operaciones\\n**GreenValley Ins...\",\"Type: company\\u003cbr\\u003eText: # Descripción general de Insurellm\\n\\nInsurellm es una innovadora empresa de tecnología de seguros con...\",\"Type: company\\u003cbr\\u003eText: # Carreras en Insurellm\\n\\n¡Insurellm está contratando! Buscamos ingenieros de software, científicos d...\",\"Type: company\\u003cbr\\u003eText: # Acerca de Insurellm\\n\\nInsurellm fue fundada por Avery Lancaster en 2015 como una startup de tecnolo...\",\"Type: employees\\u003cbr\\u003eText: # Registro de RR. HH.\\n\\n# Alex Chen\\n\\n## Resumen\\n- **Fecha de nacimiento:** 15 de marzo de 1990\\n- **Pu...\",\"Type: employees\\u003cbr\\u003eText: ## Historial de desempeño anual\\n- **2020:**\\n- Completó la incorporación con éxito.\\n- Cumplió con las...\",\"Type: employees\\u003cbr\\u003eText: ## Historial de compensación\\n- **2020:** Salario base: $80,000\\n- **2021:** Aumento del salario base ...\",\"Type: employees\\u003cbr\\u003eText: ## Otras notas de RR. HH.\\n- Participa regularmente en las iniciativas de Diversidad e Inclusión de I...\",\"Type: employees\\u003cbr\\u003eText: # Registro de RR. HH.\\n\\n# Oliver Spencer\\n\\n## Resumen\\n- **Fecha de nacimiento**: 14 de mayo de 1990\\n- ...\",\"Type: employees\\u003cbr\\u003eText: ## Progresión profesional en Insurellm\\n- **Marzo de 2018**: Se incorporó a Insurellm como Desarrolla...\",\"Type: employees\\u003cbr\\u003eText: ## Historial de desempeño anual\\n- **2018**: **3\\u002f5** - Jugador de equipo adaptable, pero aún aprendie...\",\"Type: employees\\u003cbr\\u003eText: ## Historial de compensación\\n- **Marzo de 2018**: salario inicial de $80,000.\\n- **Julio de 2019**: s...\",\"Type: employees\\u003cbr\\u003eText: # Registro de RR.HH.\\n\\n#Emily Carter\\n\\n## Resumen\\n- **Fecha de nacimiento:** 12 de agosto de 1990\\n- **...\",\"Type: employees\\u003cbr\\u003eText: - **2017-2019:** Pasante de marketing\\n- Colaboré con la investigación de mercado y el desarrollo de ...\",\"Type: employees\\u003cbr\\u003eText: ## Historial de compensación\\n| Año | Base salarial | Bonificación | Compensación total |\\n|------|---...\",\"Type: employees\\u003cbr\\u003eText: ## Otras notas de RR. S.S.\\n- **Desarrollo profesional:** Emily está actualmente inscrita en un progr...\",\"Type: employees\\u003cbr\\u003eText: # Registro de RR.HH.\\n\\n# Jordan Blake\\n\\n## Resumen\\n- **Fecha de nacimiento:** 15 de marzo de 1993\\n- **...\",\"Type: employees\\u003cbr\\u003eText: ## Historial de desempeño anual\\n- **2021:** Primer año en Insurellm; logró el 90 % de los objetivos ...\",\"Type: employees\\u003cbr\\u003eText: ## Historial de compensación\\n- **2021-06:** Salario inicial: $50,000\\n- **2022-04:** Aumento basado e...\",\"Type: employees\\u003cbr\\u003eText: # Avery Lancaster\\n\\n## Resumen\\n- **Fecha de nacimiento**: 15 de marzo de 1985\\n- **Puesto**: Cofundado...\",\"Type: employees\\u003cbr\\u003eText: - **2010 - 2013**: Analista de negocios en Edge Analytics\\nAntes de unirse a Innovate, Avery trabajó ...\",\"Type: employees\\u003cbr\\u003eText: - **2018**: **Supera las expectativas**\\nCon la visión de cambio de Avery, Insurellm lanzó dos nuevos...\",\"Type: employees\\u003cbr\\u003eText: - **2022**: **Satisfactorio**\\nAvery se centró en reconstruir la dinámica del equipo y abordar las pr...\",\"Type: employees\\u003cbr\\u003eText: ## Historial de compensación\\n- **2015**: salario base de $150,000 + participación accionaria signifi...\",\"Type: employees\\u003cbr\\u003eText: ## Otras notas de RR. HH.\\n- **Desarrollo profesional**: Avery ha participado activamente en programa...\",\"Type: employees\\u003cbr\\u003eText: Avery Lancaster ha demostrado resiliencia y adaptabilidad a lo largo de su carrera en Insurellm, pos...\",\"Type: employees\\u003cbr\\u003eText: # Registro de RR. HH.\\n\\n# Maxine Thompson\\n\\n## Resumen\\n- **Fecha de nacimiento:** 15 de enero de 1991\\n...\",\"Type: employees\\u003cbr\\u003eText: ## Progresión profesional en Insurellm\\n- **Enero de 2017 - Octubre de 2018**: **Ingeniero de datos j...\",\"Type: employees\\u003cbr\\u003eText: ## Historial de desempeño anual\\n- **2017**: *Cumple con las expectativas*\\nMaxine mostró potencial en...\",\"Type: employees\\u003cbr\\u003eText: - **2021**: *Supera las expectativas*\\nMaxine encabezó la transición a una nueva solución de almacena...\",\"Type: employees\\u003cbr\\u003eText: ## Historial de compensación\\n- **2017**: $70,000 (Ingeniero de datos júnior)\\n- **2018**: $75,000 (In...\",\"Type: employees\\u003cbr\\u003eText: # Samantha Greene\\n\\n## Resumen\\n- **Fecha de nacimiento:** 14 de octubre de 1990\\n- **Puesto:** General...\",\"Type: employees\\u003cbr\\u003eText: ## Historial de desempeño anual\\n- **2020:** Supera las expectativas\\nSamantha Greene demostró habilid...\",\"Type: employees\\u003cbr\\u003eText: - **2023:** Cumple las expectativas\\nDespués de asistir a talleres centrados en la resolución de conf...\",\"Type: employees\\u003cbr\\u003eText: - **2023:** Salario base: $70,000\\nReconocida por una mejora sustancial en la gestión de las relacion...\",\"Type: employees\\u003cbr\\u003eText: # Registro de RR. HH.\\n\\n# Alex Thomson\\n\\n## Resumen\\n- **Fecha de nacimiento:** 15 de marzo de 1995\\n- *...\",\"Type: employees\\u003cbr\\u003eText: ## Resumen\\n- **Fecha de nacimiento:** 15 de marzo de 1995\\n- **Puesto:** Representante de desarrollo ...\",\"Type: employees\\u003cbr\\u003eText: ## Historial de desempeño anual\\n- **2022** - Calificado como \\\"Supera las expectativas\\\". Alex Thomson...\",\"Type: employees\\u003cbr\\u003eText: ## Historial de compensación\\n- **2022**: Salario base: $55 000 | Bono: $5000\\n- **2023**: Salario bas...\",\"Type: employees\\u003cbr\\u003eText: ## Otras notas de RR. HH.\\n- Alex Thomson es un miembro activo del comité de Diversidad e Inclusión e...\",\"Type: employees\\u003cbr\\u003eText: # Registro de RR. HH.\\n\\n# Samuel Trenton\\n\\n## Resumen\\n- **Fecha de nacimiento:** 12 de abril de 1989\\n-...\",\"Type: employees\\u003cbr\\u003eText: - **Agosto de 2016 - mayo de 2018:** Analista de datos junior\\n*Comencé en Insurellm como analista de...\",\"Type: employees\\u003cbr\\u003eText: - **2021:** Calificación: 4.0\\u002f5\\n*Hubo una mejora notable en el desempeño. Trabajé para mejorar la pr...\",\"Type: employees\\u003cbr\\u003eText: - **2021:** Salario base: $105,000 + Bonificación: $12,000\\n*Aumento basado en mérito, que refleja co...\",\"Type: employees\\u003cbr\\u003eText: - **Áreas de mejora:** La colaboración con los equipos de ingeniería se ha señalado como un área que...\",\"Type: employees\\u003cbr\\u003eText: # Registro de RR. HH.\\n\\n# Alex Harper\\n\\n## Resumen\\n- **Fecha de nacimiento**: 15 de marzo de 1993\\n- **...\",\"Type: employees\\u003cbr\\u003eText: ## Historial de desempeño anual\\n- **2021**:\\n- **Calificación de desempeño**: 4.5\\u002f5\\n- **Logros clave*...\",\"Type: employees\\u003cbr\\u003eText: ## Historial de compensación\\n- **2021**:\\n- **Salario base**: $55,000\\n- **Bonificación**: $5,500 (10 ...\",\"Type: employees\\u003cbr\\u003eText: - **Comentarios de RR. HH.**:\\n- Alex Harper es conocido por su ética de trabajo, actitud positiva y ...\",\"Type: employees\\u003cbr\\u003eText: # Registro de RR. HH.\\n\\n# Jordan K. Bishop\\n\\n## Resumen\\n- **Fecha de nacimiento:** 15 de marzo de 1990...\",\"Type: employees\\u003cbr\\u003eText: ## Historial de desempeño anual\\n- **2019:** Supera las expectativas: entregó código de alta calidad ...\",\"Type: employees\\u003cbr\\u003eText: ## Historial de compensación\\n- **Junio ​​de 2018:** Salario inicial: $85 000\\n- **Junio ​​de 2019:** ...\",\"Type: employees\\u003cbr\\u003eText: ## Otras notas de RR. HH.\\n- Jordan K. Bishop ha sido parte integral de las iniciativas del club, inc...\",\"Type: employees\\u003cbr\\u003eText: # Registro de RR.HH.\\n\\n# Emily Carter\\n\\n## Resumen\\n- **Fecha de nacimiento:** 12 de agosto de 1990\\n- *...\",\"Type: employees\\u003cbr\\u003eText: - **2017-2019:** Pasante de marketing\\n- Colaboré con la investigación de mercado y el desarrollo de ...\",\"Type: employees\\u003cbr\\u003eText: ## Historial de compensación\\n| Año | Salario base | Bonificación | Compensación total |\\n|------|----...\",\"Type: employees\\u003cbr\\u003eText: Emily Carter ejemplifica el tipo de talento que impulsa el éxito de Insurellm y es un activo invalua...\"],\"x\":[-23.35547,-25.82719,-26.623823,-16.906528,-66.984665,-55.868122,-21.53748,-28.800585,-11.912854,5.6568885,-82.75522,33.34911,-27.701773,-85.2565,-53.637962,-38.46344,-2.7349107,-72.32652,-22.093111,-47.568356,-35.702667,-58.644703,3.3801358,-61.721573,50.613533,64.29963,63.13622,17.733038,44.2837,30.407911,40.705578,49.130405,-29.121683,-36.89254,54.867287,35.892323,57.669243,-32.42041,-48.502018,57.058865,27.88899,33.020218,-46.043995,-70.25813,35.071716,34.228455,-1.9181336,14.665006,82.23429,8.414851,14.221821,-21.210722,-0.73262155,81.697,76.3736,-15.103479,35.314713,90.2448,28.795685,13.3255205,21.075085,15.076871,32.185726,4.7067847,1.43098,60.365055,19.858828,2.5770068,-20.822844,-0.37906232,67.92381,55.507275,35.99089,-39.426853,54.423264,69.04007,7.4226036,32.185726,4.7067847,1.43098,-15.684293,-48.522213,-45.510014,-68.48875,11.297573,-56.830826,-28.928543,-35.508076,14.971696,-25.299482,-38.146484,16.901566,31.419783,-75.61039,-37.709766,-3.6545365,19.206726,-44.560574,-0.69215816,25.346252,41.745106,57.50695,48.447655,-27.316895,22.034935,12.298512,-6.3671775,-7.620784,17.63702,37.104477,15.548831,51.743706,-8.001148,-12.780846,57.233196,-4.990324,-1.8763148,-40.343033,-50.3082,-13.598265,-3.3820176,-22.062403,-27.013878,-5.8831105,-22.378286,15.522581,-38.978863,-0.73647046,8.247542,17.548775,-49.99849,-7.6771345,17.657593,41.995342,-82.44705,-7.0010476,-9.62059],\"y\":[3.849054,16.063873,-3.8110135,62.686474,-39.6536,-14.526118,20.411331,39.176174,45.0508,62.754925,1.4234718,8.60249,87.56952,-48.57683,71.75523,71.92862,91.313805,16.920033,95.569145,13.216501,33.455204,35.611942,82.53048,10.9097,-1.938845,33.96702,80.970245,37.25125,45.19951,60.214375,-13.954277,62.296383,18.372194,35.231846,-0.042163085,22.894361,70.50409,62.37548,64.33184,25.051834,84.222565,87.25171,37.736156,45.915894,-10.524406,-23.619053,6.2166796,-1.3523614,-14.456979,70.09509,73.52032,44.441563,47.938034,25.746662,64.9633,52.544296,12.431527,10.139347,59.6036,101.27147,31.096992,35.54835,49.422184,29.91071,24.21251,23.536112,-19.558882,-9.207108,-8.856529,-12.9405775,-15.682985,20.441174,40.191513,68.379135,-38.242596,15.407698,51.815327,49.422184,29.91071,24.21251,23.76729,-8.949267,-24.381983,-13.953335,-52.106552,-45.714256,-3.5168252,-56.62512,-99.855225,-44.005394,-59.17326,2.213163,-98.1274,-27.569893,16.47346,-38.83054,-61.799873,-42.66885,-3.6056137,-32.250805,-33.513645,-37.677803,-19.2471,-3.877366,-24.829449,-15.359314,-104.14501,-45.434994,-61.919815,-57.11642,-25.106197,-58.772366,-72.45056,-60.004284,-63.69227,-87.313835,-54.398243,-34.90274,-9.590606,-56.603874,-76.356544,-63.205727,-28.19739,-20.809301,-82.31263,-67.76433,-40.063473,-38.54249,-67.09271,-67.61695,-22.374603,8.245906,-73.10827,-90.09405,-28.225689,-28.852018,-21.699738],\"z\":[-7.9803514,9.3604145,25.890322,54.52617,28.031038,44.850475,-37.37391,-39.828182,-57.39146,-55.4422,31.609735,-27.91119,9.701181,-5.7281938,-2.4604647,28.204905,-26.989365,50.40615,29.565115,-16.154327,-10.90202,-10.512719,-43.760017,22.126507,-15.556648,-18.905497,14.942614,-32.195248,-32.390125,-54.563698,74.08234,6.4620004,40.046497,57.895077,53.788357,74.7808,40.397846,-3.8072472,48.02016,58.41023,29.328571,2.1719067,20.514696,22.247105,19.220823,35.4044,17.080843,29.44447,42.131287,28.487686,1.5538573,21.593807,24.360205,0.3834021,18.739233,-28.026949,40.908382,15.39469,32.872116,14.221132,32.442074,89.33688,63.8784,-7.908621,55.361134,-59.713013,64.22907,76.05096,60.812126,50.780224,21.73236,9.669105,4.6961265,-43.25549,-82.91594,31.748533,82.98591,63.8784,-7.908621,55.361134,89.101006,-0.19226098,17.234486,-2.5576866,-101.439476,-52.382442,-96.22018,39.20541,32.033653,14.174505,-46.869793,-74.17344,0.7061421,-35.1747,-84.36986,-35.209087,19.765812,-6.9489093,-61.97157,-7.5969615,-29.634771,-45.978687,-48.13871,-72.22174,-35.68381,-10.115511,21.760191,-0.9402838,-59.31842,-52.629528,-78.340096,3.477718,-56.083767,-74.33177,-16.943254,38.34271,33.161537,-33.697723,-85.5965,53.77545,9.517507,-8.036331,-88.81669,-90.77824,-22.668652,42.004436,-70.81603,254.92908,66.330826,-4.712895,-52.93036,-91.028275,-23.970303,13.070275,-52.004723,-55.908306,-22.840187],\"type\":\"scatter3d\"}],                        {\"template\":{\"data\":{\"histogram2dcontour\":[{\"type\":\"histogram2dcontour\",\"colorbar\":{\"outlinewidth\":0,\"ticks\":\"\"},\"colorscale\":[[0.0,\"#0d0887\"],[0.1111111111111111,\"#46039f\"],[0.2222222222222222,\"#7201a8\"],[0.3333333333333333,\"#9c179e\"],[0.4444444444444444,\"#bd3786\"],[0.5555555555555556,\"#d8576b\"],[0.6666666666666666,\"#ed7953\"],[0.7777777777777778,\"#fb9f3a\"],[0.8888888888888888,\"#fdca26\"],[1.0,\"#f0f921\"]]}],\"choropleth\":[{\"type\":\"choropleth\",\"colorbar\":{\"outlinewidth\":0,\"ticks\":\"\"}}],\"histogram2d\":[{\"type\":\"histogram2d\",\"colorbar\":{\"outlinewidth\":0,\"ticks\":\"\"},\"colorscale\":[[0.0,\"#0d0887\"],[0.1111111111111111,\"#46039f\"],[0.2222222222222222,\"#7201a8\"],[0.3333333333333333,\"#9c179e\"],[0.4444444444444444,\"#bd3786\"],[0.5555555555555556,\"#d8576b\"],[0.6666666666666666,\"#ed7953\"],[0.7777777777777778,\"#fb9f3a\"],[0.8888888888888888,\"#fdca26\"],[1.0,\"#f0f921\"]]}],\"heatmap\":[{\"type\":\"heatmap\",\"colorbar\":{\"outlinewidth\":0,\"ticks\":\"\"},\"colorscale\":[[0.0,\"#0d0887\"],[0.1111111111111111,\"#46039f\"],[0.2222222222222222,\"#7201a8\"],[0.3333333333333333,\"#9c179e\"],[0.4444444444444444,\"#bd3786\"],[0.5555555555555556,\"#d8576b\"],[0.6666666666666666,\"#ed7953\"],[0.7777777777777778,\"#fb9f3a\"],[0.8888888888888888,\"#fdca26\"],[1.0,\"#f0f921\"]]}],\"heatmapgl\":[{\"type\":\"heatmapgl\",\"colorbar\":{\"outlinewidth\":0,\"ticks\":\"\"},\"colorscale\":[[0.0,\"#0d0887\"],[0.1111111111111111,\"#46039f\"],[0.2222222222222222,\"#7201a8\"],[0.3333333333333333,\"#9c179e\"],[0.4444444444444444,\"#bd3786\"],[0.5555555555555556,\"#d8576b\"],[0.6666666666666666,\"#ed7953\"],[0.7777777777777778,\"#fb9f3a\"],[0.8888888888888888,\"#fdca26\"],[1.0,\"#f0f921\"]]}],\"contourcarpet\":[{\"type\":\"contourcarpet\",\"colorbar\":{\"outlinewidth\":0,\"ticks\":\"\"}}],\"contour\":[{\"type\":\"contour\",\"colorbar\":{\"outlinewidth\":0,\"ticks\":\"\"},\"colorscale\":[[0.0,\"#0d0887\"],[0.1111111111111111,\"#46039f\"],[0.2222222222222222,\"#7201a8\"],[0.3333333333333333,\"#9c179e\"],[0.4444444444444444,\"#bd3786\"],[0.5555555555555556,\"#d8576b\"],[0.6666666666666666,\"#ed7953\"],[0.7777777777777778,\"#fb9f3a\"],[0.8888888888888888,\"#fdca26\"],[1.0,\"#f0f921\"]]}],\"surface\":[{\"type\":\"surface\",\"colorbar\":{\"outlinewidth\":0,\"ticks\":\"\"},\"colorscale\":[[0.0,\"#0d0887\"],[0.1111111111111111,\"#46039f\"],[0.2222222222222222,\"#7201a8\"],[0.3333333333333333,\"#9c179e\"],[0.4444444444444444,\"#bd3786\"],[0.5555555555555556,\"#d8576b\"],[0.6666666666666666,\"#ed7953\"],[0.7777777777777778,\"#fb9f3a\"],[0.8888888888888888,\"#fdca26\"],[1.0,\"#f0f921\"]]}],\"mesh3d\":[{\"type\":\"mesh3d\",\"colorbar\":{\"outlinewidth\":0,\"ticks\":\"\"}}],\"scatter\":[{\"fillpattern\":{\"fillmode\":\"overlay\",\"size\":10,\"solidity\":0.2},\"type\":\"scatter\"}],\"parcoords\":[{\"type\":\"parcoords\",\"line\":{\"colorbar\":{\"outlinewidth\":0,\"ticks\":\"\"}}}],\"scatterpolargl\":[{\"type\":\"scatterpolargl\",\"marker\":{\"colorbar\":{\"outlinewidth\":0,\"ticks\":\"\"}}}],\"bar\":[{\"error_x\":{\"color\":\"#2a3f5f\"},\"error_y\":{\"color\":\"#2a3f5f\"},\"marker\":{\"line\":{\"color\":\"#E5ECF6\",\"width\":0.5},\"pattern\":{\"fillmode\":\"overlay\",\"size\":10,\"solidity\":0.2}},\"type\":\"bar\"}],\"scattergeo\":[{\"type\":\"scattergeo\",\"marker\":{\"colorbar\":{\"outlinewidth\":0,\"ticks\":\"\"}}}],\"scatterpolar\":[{\"type\":\"scatterpolar\",\"marker\":{\"colorbar\":{\"outlinewidth\":0,\"ticks\":\"\"}}}],\"histogram\":[{\"marker\":{\"pattern\":{\"fillmode\":\"overlay\",\"size\":10,\"solidity\":0.2}},\"type\":\"histogram\"}],\"scattergl\":[{\"type\":\"scattergl\",\"marker\":{\"colorbar\":{\"outlinewidth\":0,\"ticks\":\"\"}}}],\"scatter3d\":[{\"type\":\"scatter3d\",\"line\":{\"colorbar\":{\"outlinewidth\":0,\"ticks\":\"\"}},\"marker\":{\"colorbar\":{\"outlinewidth\":0,\"ticks\":\"\"}}}],\"scattermapbox\":[{\"type\":\"scattermapbox\",\"marker\":{\"colorbar\":{\"outlinewidth\":0,\"ticks\":\"\"}}}],\"scatterternary\":[{\"type\":\"scatterternary\",\"marker\":{\"colorbar\":{\"outlinewidth\":0,\"ticks\":\"\"}}}],\"scattercarpet\":[{\"type\":\"scattercarpet\",\"marker\":{\"colorbar\":{\"outlinewidth\":0,\"ticks\":\"\"}}}],\"carpet\":[{\"aaxis\":{\"endlinecolor\":\"#2a3f5f\",\"gridcolor\":\"white\",\"linecolor\":\"white\",\"minorgridcolor\":\"white\",\"startlinecolor\":\"#2a3f5f\"},\"baxis\":{\"endlinecolor\":\"#2a3f5f\",\"gridcolor\":\"white\",\"linecolor\":\"white\",\"minorgridcolor\":\"white\",\"startlinecolor\":\"#2a3f5f\"},\"type\":\"carpet\"}],\"table\":[{\"cells\":{\"fill\":{\"color\":\"#EBF0F8\"},\"line\":{\"color\":\"white\"}},\"header\":{\"fill\":{\"color\":\"#C8D4E3\"},\"line\":{\"color\":\"white\"}},\"type\":\"table\"}],\"barpolar\":[{\"marker\":{\"line\":{\"color\":\"#E5ECF6\",\"width\":0.5},\"pattern\":{\"fillmode\":\"overlay\",\"size\":10,\"solidity\":0.2}},\"type\":\"barpolar\"}],\"pie\":[{\"automargin\":true,\"type\":\"pie\"}]},\"layout\":{\"autotypenumbers\":\"strict\",\"colorway\":[\"#636efa\",\"#EF553B\",\"#00cc96\",\"#ab63fa\",\"#FFA15A\",\"#19d3f3\",\"#FF6692\",\"#B6E880\",\"#FF97FF\",\"#FECB52\"],\"font\":{\"color\":\"#2a3f5f\"},\"hovermode\":\"closest\",\"hoverlabel\":{\"align\":\"left\"},\"paper_bgcolor\":\"white\",\"plot_bgcolor\":\"#E5ECF6\",\"polar\":{\"bgcolor\":\"#E5ECF6\",\"angularaxis\":{\"gridcolor\":\"white\",\"linecolor\":\"white\",\"ticks\":\"\"},\"radialaxis\":{\"gridcolor\":\"white\",\"linecolor\":\"white\",\"ticks\":\"\"}},\"ternary\":{\"bgcolor\":\"#E5ECF6\",\"aaxis\":{\"gridcolor\":\"white\",\"linecolor\":\"white\",\"ticks\":\"\"},\"baxis\":{\"gridcolor\":\"white\",\"linecolor\":\"white\",\"ticks\":\"\"},\"caxis\":{\"gridcolor\":\"white\",\"linecolor\":\"white\",\"ticks\":\"\"}},\"coloraxis\":{\"colorbar\":{\"outlinewidth\":0,\"ticks\":\"\"}},\"colorscale\":{\"sequential\":[[0.0,\"#0d0887\"],[0.1111111111111111,\"#46039f\"],[0.2222222222222222,\"#7201a8\"],[0.3333333333333333,\"#9c179e\"],[0.4444444444444444,\"#bd3786\"],[0.5555555555555556,\"#d8576b\"],[0.6666666666666666,\"#ed7953\"],[0.7777777777777778,\"#fb9f3a\"],[0.8888888888888888,\"#fdca26\"],[1.0,\"#f0f921\"]],\"sequentialminus\":[[0.0,\"#0d0887\"],[0.1111111111111111,\"#46039f\"],[0.2222222222222222,\"#7201a8\"],[0.3333333333333333,\"#9c179e\"],[0.4444444444444444,\"#bd3786\"],[0.5555555555555556,\"#d8576b\"],[0.6666666666666666,\"#ed7953\"],[0.7777777777777778,\"#fb9f3a\"],[0.8888888888888888,\"#fdca26\"],[1.0,\"#f0f921\"]],\"diverging\":[[0,\"#8e0152\"],[0.1,\"#c51b7d\"],[0.2,\"#de77ae\"],[0.3,\"#f1b6da\"],[0.4,\"#fde0ef\"],[0.5,\"#f7f7f7\"],[0.6,\"#e6f5d0\"],[0.7,\"#b8e186\"],[0.8,\"#7fbc41\"],[0.9,\"#4d9221\"],[1,\"#276419\"]]},\"xaxis\":{\"gridcolor\":\"white\",\"linecolor\":\"white\",\"ticks\":\"\",\"title\":{\"standoff\":15},\"zerolinecolor\":\"white\",\"automargin\":true,\"zerolinewidth\":2},\"yaxis\":{\"gridcolor\":\"white\",\"linecolor\":\"white\",\"ticks\":\"\",\"title\":{\"standoff\":15},\"zerolinecolor\":\"white\",\"automargin\":true,\"zerolinewidth\":2},\"scene\":{\"xaxis\":{\"backgroundcolor\":\"#E5ECF6\",\"gridcolor\":\"white\",\"linecolor\":\"white\",\"showbackground\":true,\"ticks\":\"\",\"zerolinecolor\":\"white\",\"gridwidth\":2},\"yaxis\":{\"backgroundcolor\":\"#E5ECF6\",\"gridcolor\":\"white\",\"linecolor\":\"white\",\"showbackground\":true,\"ticks\":\"\",\"zerolinecolor\":\"white\",\"gridwidth\":2},\"zaxis\":{\"backgroundcolor\":\"#E5ECF6\",\"gridcolor\":\"white\",\"linecolor\":\"white\",\"showbackground\":true,\"ticks\":\"\",\"zerolinecolor\":\"white\",\"gridwidth\":2}},\"shapedefaults\":{\"line\":{\"color\":\"#2a3f5f\"}},\"annotationdefaults\":{\"arrowcolor\":\"#2a3f5f\",\"arrowhead\":0,\"arrowwidth\":1},\"geo\":{\"bgcolor\":\"white\",\"landcolor\":\"#E5ECF6\",\"subunitcolor\":\"white\",\"showland\":true,\"showlakes\":true,\"lakecolor\":\"white\"},\"title\":{\"x\":0.05},\"mapbox\":{\"style\":\"light\"}}},\"margin\":{\"r\":20,\"b\":10,\"l\":10,\"t\":40},\"title\":{\"text\":\"Visualización 3D Chroma Vector Store\"},\"scene\":{\"xaxis\":{\"title\":{\"text\":\"x\"}},\"yaxis\":{\"title\":{\"text\":\"y\"}},\"zaxis\":{\"title\":{\"text\":\"z\"}}},\"width\":900,\"height\":700},                        {\"responsive\": true}                    ).then(function(){\n",
       "                            \n",
       "var gd = document.getElementById('8a841b0f-9c2b-4edc-aa87-a3931443488a');\n",
       "var x = new MutationObserver(function (mutations, observer) {{\n",
       "        var display = window.getComputedStyle(gd).display;\n",
       "        if (!display || display === 'none') {{\n",
       "            console.log([gd, 'removed!']);\n",
       "            Plotly.purge(gd);\n",
       "            observer.disconnect();\n",
       "        }}\n",
       "}});\n",
       "\n",
       "// Listen for the removal of the full notebook cells\n",
       "var notebookContainer = gd.closest('#notebook-container');\n",
       "if (notebookContainer) {{\n",
       "    x.observe(notebookContainer, {childList: true});\n",
       "}}\n",
       "\n",
       "// Listen for the clearing of the current output cell\n",
       "var outputEl = gd.closest('.output');\n",
       "if (outputEl) {{\n",
       "    x.observe(outputEl, {childList: true});\n",
       "}}\n",
       "\n",
       "                        })                };                });            </script>        </div>"
      ]
     },
     "metadata": {},
     "output_type": "display_data"
    }
   ],
   "source": [
    "# Vamos a probar con 3D!\n",
    "\n",
    "tsne = TSNE(n_components=3, random_state=42)\n",
    "reduced_vectors = tsne.fit_transform(vectors)\n",
    "\n",
    "# Create the 3D scatter plot\n",
    "fig = go.Figure(data=[go.Scatter3d(\n",
    "    x=reduced_vectors[:, 0],\n",
    "    y=reduced_vectors[:, 1],\n",
    "    z=reduced_vectors[:, 2],\n",
    "    mode='markers',\n",
    "    marker=dict(size=5, color=colors, opacity=0.8),\n",
    "    text=[f\"Type: {t}<br>Text: {d[:100]}...\" for t, d in zip(doc_types, documents)],\n",
    "    hoverinfo='text'\n",
    ")])\n",
    "\n",
    "fig.update_layout(\n",
    "    title='Visualización 3D Chroma Vector Store',\n",
    "    scene=dict(xaxis_title='x', yaxis_title='y', zaxis_title='z'),\n",
    "    width=900,\n",
    "    height=700,\n",
    "    margin=dict(r=20, b=10, l=10, t=40)\n",
    ")\n",
    "\n",
    "fig.show()"
   ]
  },
  {
   "cell_type": "code",
   "execution_count": null,
   "id": "9b3ada26-b4b7-42fc-b943-933c14adf89b",
   "metadata": {},
   "outputs": [],
   "source": []
  }
 ],
 "metadata": {
  "kernelspec": {
   "display_name": "Python 3 (ipykernel)",
   "language": "python",
   "name": "python3"
  },
  "language_info": {
   "codemirror_mode": {
    "name": "ipython",
    "version": 3
   },
   "file_extension": ".py",
   "mimetype": "text/x-python",
   "name": "python",
   "nbconvert_exporter": "python",
   "pygments_lexer": "ipython3",
   "version": "3.11.10"
  }
 },
 "nbformat": 4,
 "nbformat_minor": 5
}
