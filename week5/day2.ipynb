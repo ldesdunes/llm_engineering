{
 "cells": [
  {
   "cell_type": "markdown",
   "id": "dfe37963-1af6-44fc-a841-8e462443f5e6",
   "metadata": {},
   "source": [
    "## Trabajador experto en conocimiento (RAG)\n",
    "\n",
    "### Un agente de respuesta a preguntas que es un trabajador experto en conocimiento\n",
    "### Para ser utilizado por empleados de Insurellm, una empresa de tecnología de seguros\n",
    "### El agente debe ser preciso y la solución debe ser de bajo costo.\n",
    "\n",
    "Este proyecto utilizará RAG (Retrieval Augmented Generation) para garantizar que nuestro asistente de preguntas y respuestas tenga una alta precisión."
   ]
  },
  {
   "cell_type": "code",
   "execution_count": 1,
   "id": "ba2779af-84ef-4227-9e9e-6eaf0df87e77",
   "metadata": {},
   "outputs": [],
   "source": [
    "# imports\n",
    "\n",
    "import os\n",
    "import glob\n",
    "from dotenv import load_dotenv\n",
    "import gradio as gr"
   ]
  },
  {
   "cell_type": "code",
   "execution_count": 2,
   "id": "802137aa-8a74-45e0-a487-d1974927d7ca",
   "metadata": {},
   "outputs": [],
   "source": [
    "# imports para langchain\n",
    "\n",
    "from langchain.document_loaders import DirectoryLoader, TextLoader\n",
    "from langchain.text_splitter import CharacterTextSplitter"
   ]
  },
  {
   "cell_type": "code",
   "execution_count": 3,
   "id": "58c85082-e417-4708-9efe-81a5d55d1424",
   "metadata": {},
   "outputs": [],
   "source": [
    "# El precio es un factor para nuestra empresa, por eso vamos a utilizar un modelo de bajo costo.\n",
    "\n",
    "MODEL = \"gpt-4o-mini\"\n",
    "db_name = \"vector_db\""
   ]
  },
  {
   "cell_type": "code",
   "execution_count": 4,
   "id": "ee78efcb-60fe-449e-a944-40bab26261af",
   "metadata": {},
   "outputs": [],
   "source": [
    "# Cargar variables de entorno en un archivo llamado .env\n",
    "\n",
    "load_dotenv()\n",
    "os.environ['OPENAI_API_KEY'] = os.getenv('OPENAI_API_KEY', 'your-key-if-not-using-env')"
   ]
  },
  {
   "cell_type": "code",
   "execution_count": 5,
   "id": "730711a9-6ffe-4eee-8f48-d6cfb7314905",
   "metadata": {},
   "outputs": [],
   "source": [
    "# Leer documentos usando los cargadores de LangChain\n",
    "# Tomar todo lo que está en todas las subcarpetas de nuestra base de conocimiento\n",
    "\n",
    "folders = glob.glob(\"knowledge-base/*\")\n",
    "\n",
    "# Con agradecimientos a CG y Jon R, estudiantes del curso, por esta solución necesaria para algunos usuarios.\n",
    "text_loader_kwargs = {'encoding': 'utf-8'}\n",
    "# Si esto no funciona, algunos usuarios de Windows podrían necesitar descomentar la siguiente línea.\n",
    "# text_loader_kwargs={'autodetect_encoding': True}\n",
    "\n",
    "documents = []\n",
    "for folder in folders:\n",
    "    doc_type = os.path.basename(folder)\n",
    "    loader = DirectoryLoader(folder, glob=\"**/*.md\", loader_cls=TextLoader, loader_kwargs=text_loader_kwargs)\n",
    "    folder_docs = loader.load()\n",
    "    for doc in folder_docs:\n",
    "        doc.metadata[\"doc_type\"] = doc_type\n",
    "        documents.append(doc)"
   ]
  },
  {
   "cell_type": "code",
   "execution_count": 6,
   "id": "252f17e9-3529-4e81-996c-cfa9f08e75a8",
   "metadata": {},
   "outputs": [
    {
     "data": {
      "text/plain": [
       "31"
      ]
     },
     "execution_count": 6,
     "metadata": {},
     "output_type": "execute_result"
    }
   ],
   "source": [
    "len(documents)"
   ]
  },
  {
   "cell_type": "code",
   "execution_count": 9,
   "id": "7e8decb0-d9b0-4d51-8402-7a6174d22159",
   "metadata": {},
   "outputs": [
    {
     "data": {
      "text/plain": [
       "Document(metadata={'source': 'knowledge-base/employees/Maxine Thompson.md', 'doc_type': 'employees'}, page_content='# Registro de RR. HH.\\n\\n# Maxine Thompson\\n\\n## Resumen\\n- **Fecha de nacimiento:** 15 de enero de 1991\\n- **Puesto:** Ingeniero de datos\\n- **Ubicación:** Austin, Texas\\n\\n## Progresión profesional en Insurellm\\n- **Enero de 2017 - Octubre de 2018**: **Ingeniero de datos júnior**\\n* Maxine se unió a Insurellm como ingeniera de datos júnior, centrándose principalmente en procesos ETL y tareas de integración de datos. Aprendió rápidamente la arquitectura de datos de Insurellm, colaborando con otros miembros del equipo para optimizar los flujos de trabajo de datos.\\n- **Noviembre de 2018 - Diciembre de 2020**: **Ingeniero de datos**\\n* En su nuevo puesto, Maxine amplió sus responsabilidades para incluir el diseño de modelos de datos integrales y la mejora de las medidas de calidad de los datos. Aunque se destacó en habilidades técnicas, los problemas de comunicación con equipos no técnicos provocaron algunos retrasos en el proyecto. - **Enero de 2021 - Presente**: **Ingeniera de datos sénior**\\n* Maxine fue ascendida a ingeniera de datos sénior después de liderar con éxito un proyecto fundamental que mejoró los tiempos de recuperación de datos en un 30 %. Ahora es mentora de ingenieros junior y participa en iniciativas de datos estratégicos, lo que solidifica su posición como un activo valioso en Insurellm. Fue reconocida como Innovadora del año de Insurellm en 2023 y recibió el prestigioso premio IIOTY 2023.\\n\\n## Historial de desempeño anual\\n- **2017**: *Cumple con las expectativas*\\nMaxine mostró potencial en su función, pero tuvo dificultades con los plazos iniciales del proyecto. Su adaptabilidad y voluntad de aprender tuvieron un impacto positivo en su equipo.\\n\\n- **2018**: *Supera las expectativas*\\nMaxine mejoró significativamente y se convirtió en un miembro confiable del equipo con sólidas habilidades para la resolución de problemas. Asumió el liderazgo en un proyecto que automatizó los procesos de ingreso de datos.\\n\\n- **2019**: *Necesita mejorar*\\nDurante este año, circunstancias personales difíciles afectaron el desempeño de Maxine. No cumplió con los plazos clave y tuvo varios problemas de comunicación con las partes interesadas.\\n\\n- **2020**: *Cumple con las expectativas*\\nMaxine se centró en recuperar su equilibrio y sobresalir con las habilidades técnicas. Fue estable, aunque no sobresaliente, en sus contribuciones. Los comentarios indicaron la necesidad de más proactividad.\\n\\n- **2021**: *Supera las expectativas*\\nMaxine encabezó la transición a una nueva solución de almacenamiento de datos, mejorando significativamente las capacidades de análisis de datos de Insurellm. Este importante logro reforzó su reputación dentro de la empresa.\\n\\n- **2022**: *Sobresaliente*\\nMaxine continuó su trayectoria ascendente, implementando con éxito algoritmos de aprendizaje automático para predecir el comportamiento del cliente, lo que fue bien recibido por el equipo de liderazgo y mejoró la satisfacción del cliente.\\n\\n- **2023**: *Supera las expectativas*\\nMaxine asumió responsabilidades de mentoría y lidera un equipo multifuncional para iniciativas de gobernanza de datos, lo que demuestra su liderazgo y consolida su rol en Insurellm.\\n\\n## Historial de compensación\\n- **2017**: $70,000 (Ingeniero de datos júnior)\\n- **2018**: $75,000 (Ingeniero de datos júnior)\\n- **2019**: $80,000 (Ingeniero de datos)\\n- **2020**: $84,000 (Ingeniero de datos)\\n- **2021**: $95,000 (Ingeniero de datos sénior)\\n- **2022**: $110,000 (Ingeniero de datos sénior)\\n- **2023**: $120,000 (Ingeniero de datos sénior)\\n\\n## Otras notas de RR. HH.\\n- Maxine participó en varias capacitaciones patrocinadas por la empresa relacionadas con tecnologías de big data e infraestructura en la nube.\\n- Fue reconocida por sus contribuciones con el premio “Insurellm Innovator Award” en 2022.\\n- Maxine actualmente participa en la iniciativa de mujeres en tecnología y participa en programas de tutoría para guiar a los empleados jóvenes.\\n- Las áreas de desarrollo futuro incluyen mejorar sus habilidades de comunicación con las partes interesadas para garantizar transiciones y colaboración más fluidas en los proyectos.')"
      ]
     },
     "execution_count": 9,
     "metadata": {},
     "output_type": "execute_result"
    }
   ],
   "source": [
    "documents[24]"
   ]
  },
  {
   "cell_type": "code",
   "execution_count": 10,
   "id": "7310c9c8-03c1-4efc-a104-5e89aec6db1a",
   "metadata": {},
   "outputs": [
    {
     "name": "stderr",
     "output_type": "stream",
     "text": [
      "Created a chunk of size 1252, which is longer than the specified 1000\n"
     ]
    }
   ],
   "source": [
    "text_splitter = CharacterTextSplitter(chunk_size=1000, chunk_overlap=200)\n",
    "chunks = text_splitter.split_documents(documents)"
   ]
  },
  {
   "cell_type": "code",
   "execution_count": 11,
   "id": "cd06e02f-6d9b-44cc-a43d-e1faa8acc7bb",
   "metadata": {},
   "outputs": [
    {
     "data": {
      "text/plain": [
       "137"
      ]
     },
     "execution_count": 11,
     "metadata": {},
     "output_type": "execute_result"
    }
   ],
   "source": [
    "len(chunks)"
   ]
  },
  {
   "cell_type": "code",
   "execution_count": 14,
   "id": "d2562754-9052-4aae-92c1-37236435ea06",
   "metadata": {},
   "outputs": [
    {
     "data": {
      "text/plain": [
       "Document(metadata={'source': 'knowledge-base/products/Markellm.md', 'doc_type': 'products'}, page_content='## Características\\n\\n- **Emparejamiento impulsado por IA**: Markellm utiliza sofisticados algoritmos de IA para emparejar a los consumidores con los productos de seguros más adecuados según sus necesidades y preferencias individuales. Esto garantiza que ambas partes obtengan las mejores opciones posibles.\\n\\n- **Interfaz fácil de usar**: Diseñado teniendo en cuenta la experiencia del usuario, Markellm presenta una interfaz intuitiva que permite a los consumidores explorar y comparar fácilmente varias ofertas de seguros de múltiples proveedores.\\n\\n- **Cotizaciones en tiempo real**: los consumidores pueden recibir cotizaciones en tiempo real de diferentes compañías de seguros, lo que les permite tomar decisiones informadas rápidamente sin una comunicación interminable.')"
      ]
     },
     "execution_count": 14,
     "metadata": {},
     "output_type": "execute_result"
    }
   ],
   "source": [
    "chunks[7]"
   ]
  },
  {
   "cell_type": "code",
   "execution_count": 15,
   "id": "2c54b4b6-06da-463d-bee7-4dd456c2b887",
   "metadata": {},
   "outputs": [
    {
     "name": "stdout",
     "output_type": "stream",
     "text": [
      "Document types found: products, company, employees, contracts\n"
     ]
    }
   ],
   "source": [
    "doc_types = set(chunk.metadata['doc_type'] for chunk in chunks)\n",
    "print(f\"Tipos de documentos encontrados: {', '.join(doc_types)}\")"
   ]
  },
  {
   "cell_type": "code",
   "execution_count": 18,
   "id": "128c73f7-f149-4904-a554-8140941fce0c",
   "metadata": {},
   "outputs": [
    {
     "name": "stdout",
     "output_type": "stream",
     "text": [
      "page_content='## Soporte\n",
      "\n",
      "1. **Atención al cliente**: Velocity Auto Solutions tendrá acceso al equipo de atención al cliente de Insurellm por correo electrónico o chatbot, disponible las 24 horas, los 7 días de la semana.\n",
      "2. **Mantenimiento técnico**: Insurellm realizará el mantenimiento y las actualizaciones regulares de la plataforma Carllm, y cualquier tiempo de inactividad se comunicará con anticipación.\n",
      "3. **Capacitación y recursos**: Se brindarán sesiones de capacitación inicial para el personal de Velocity Auto Solutions para garantizar el uso eficaz de la suite Carllm. Los recursos y la documentación regulares estarán disponibles en línea.\n",
      "\n",
      "---\n",
      "\n",
      "**Aceptado y acordado:**\n",
      "**Para Velocity Auto Solutions**\n",
      "Firma: _____________________\n",
      "Nombre: John Doe\n",
      "Cargo: CEO\n",
      "Fecha: _____________________\n",
      "\n",
      "**Para Insurellm**\n",
      "Firma: _____________________\n",
      "Nombre: Jane Smith\n",
      "Cargo: VP de ventas\n",
      "Fecha: _____________________' metadata={'source': 'knowledge-base/contracts/Contract with Velocity Auto Solutions for Carllm.md', 'doc_type': 'contracts'}\n",
      "_________\n",
      "page_content='# Avery Lancaster\n",
      "\n",
      "## Resumen\n",
      "- **Fecha de nacimiento**: 15 de marzo de 1985\n",
      "- **Puesto**: Cofundadora y directora ejecutiva (CEO)\n",
      "- **Ubicación**: San Francisco, California\n",
      "\n",
      "## Progresión profesional en Insurellm\n",
      "- **2015 - Presente**: Cofundadora y directora ejecutiva\n",
      "Avery Lancaster cofundó Insurellm en 2015 y desde entonces ha guiado a la empresa hasta su posición actual como proveedor líder de tecnología de seguros. Avery es conocida por sus innovadoras estrategias de liderazgo y su experiencia en gestión de riesgos que han catapultado a la empresa al mercado de seguros convencional.\n",
      "\n",
      "- **2013 - 2015**: Gerente sénior de productos en Innovate Insurance Solutions\n",
      "Antes de lanzar Insurellm, Avery fue gerente sénior de productos en Innovate Insurance Solutions, donde desarrolló productos de seguros innovadores destinados al sector tecnológico.' metadata={'source': 'knowledge-base/employees/Avery Lancaster.md', 'doc_type': 'employees'}\n",
      "_________\n"
     ]
    }
   ],
   "source": [
    "for chunk in chunks:\n",
    "    if 'CEO' in chunk.page_content:\n",
    "        print(chunk)\n",
    "        print(\"_________\")"
   ]
  },
  {
   "cell_type": "code",
   "execution_count": null,
   "id": "6965971c-fb97-482c-a497-4e81a0ac83df",
   "metadata": {},
   "outputs": [],
   "source": []
  }
 ],
 "metadata": {
  "kernelspec": {
   "display_name": "Python 3 (ipykernel)",
   "language": "python",
   "name": "python3"
  },
  "language_info": {
   "codemirror_mode": {
    "name": "ipython",
    "version": 3
   },
   "file_extension": ".py",
   "mimetype": "text/x-python",
   "name": "python",
   "nbconvert_exporter": "python",
   "pygments_lexer": "ipython3",
   "version": "3.11.10"
  }
 },
 "nbformat": 4,
 "nbformat_minor": 5
}
