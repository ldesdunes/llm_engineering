{
 "cells": [
  {
   "cell_type": "markdown",
   "id": "dfe37963-1af6-44fc-a841-8e462443f5e6",
   "metadata": {},
   "source": [
    "## Trabajador experto en conocimiento\n",
    "\n",
    "### Un agente que responde preguntas y es un trabajador experto en conocimiento\n",
    "### Para ser utilizado por empleados de Insurellm, una empresa de tecnología de seguros\n",
    "### El agente debe ser preciso y la solución debe ser de bajo costo.\n",
    "\n",
    "Este proyecto utilizará RAG (Retrieval Augmented Generation, Generación aumentada de recuperación) para garantizar que nuestro asistente de preguntas y respuestas tenga una alta precisión.\n",
    "\n",
    "Esta primera implementación utilizará un tipo de RAG simple, de fuerza bruta.\n",
    "\n",
    "### Nota al margen: Aplicaciones comerciales de los proyectos de esta semana\n",
    "\n",
    "¡RAG es quizás la técnica más inmediatamente aplicable de todo lo que cubrimos en el curso! De hecho, hay productos comerciales que hacen precisamente lo que construimos esta semana: consultas matizadas en grandes bases de datos de información, como contratos de la empresa o especificaciones de productos. RAG le brinda un mecanismo de bajo costo y rápida comercialización para adaptar un LLM a su área comercial."
   ]
  },
  {
   "cell_type": "code",
   "execution_count": 1,
   "id": "ba2779af-84ef-4227-9e9e-6eaf0df87e77",
   "metadata": {},
   "outputs": [],
   "source": [
    "# imports\n",
    "\n",
    "import os\n",
    "import glob\n",
    "from dotenv import load_dotenv\n",
    "import gradio as gr\n",
    "from openai import OpenAI"
   ]
  },
  {
   "cell_type": "code",
   "execution_count": 2,
   "id": "58c85082-e417-4708-9efe-81a5d55d1424",
   "metadata": {},
   "outputs": [],
   "source": [
    "# El precio es un factor para nuestra empresa, por eso vamos a utilizar un modelo de bajo costo.\n",
    "\n",
    "MODEL = \"gpt-4o-mini\""
   ]
  },
  {
   "cell_type": "code",
   "execution_count": 3,
   "id": "ee78efcb-60fe-449e-a944-40bab26261af",
   "metadata": {},
   "outputs": [],
   "source": [
    "# Cargar variables de entorno en un archivo llamado .env\n",
    "\n",
    "load_dotenv()\n",
    "os.environ['OPENAI_API_KEY'] = os.getenv('OPENAI_API_KEY', 'your-key-if-not-using-env')\n",
    "openai = OpenAI()"
   ]
  },
  {
   "cell_type": "code",
   "execution_count": 4,
   "id": "9e0652c2-3d76-40c7-8313-9dc1895155a8",
   "metadata": {},
   "outputs": [],
   "source": [
    "# ¡Un agradecimiento enorme al estudiante Dr. John S. por corregir un error a continuación para los usuarios de Windows!\n",
    "context = {}\n",
    "\n",
    "employees = glob.glob(\"knowledge-base/employees/*\")\n",
    "\n",
    "for employee in employees:\n",
    "    name = employee.split(' ')[-1][:-3]\n",
    "    doc = \"\"\n",
    "    with open(employee, \"r\", encoding=\"utf-8\") as f:\n",
    "        doc = f.read()\n",
    "    context[name]=doc"
   ]
  },
  {
   "cell_type": "code",
   "execution_count": 7,
   "id": "2c85a11b-b04d-4066-b243-f96139ca106f",
   "metadata": {},
   "outputs": [
    {
     "data": {
      "text/plain": [
       "'# Avery Lancaster\\n\\n## Resumen\\n- **Fecha de nacimiento**: 15 de marzo de 1985\\n- **Puesto**: Cofundadora y directora ejecutiva (CEO)\\n- **Ubicación**: San Francisco, California\\n\\n## Progresión profesional en Insurellm\\n- **2015 - Presente**: Cofundadora y directora ejecutiva\\nAvery Lancaster cofundó Insurellm en 2015 y desde entonces ha guiado a la empresa hasta su posición actual como proveedor líder de tecnología de seguros. Avery es conocida por sus innovadoras estrategias de liderazgo y su experiencia en gestión de riesgos que han catapultado a la empresa al mercado de seguros convencional.\\n\\n- **2013 - 2015**: Gerente sénior de productos en Innovate Insurance Solutions\\nAntes de lanzar Insurellm, Avery fue gerente sénior de productos en Innovate Insurance Solutions, donde desarrolló productos de seguros innovadores destinados al sector tecnológico.\\n\\n- **2010 - 2013**: Analista de negocios en Edge Analytics\\nAntes de unirse a Innovate, Avery trabajó como analista de negocios, centrándose en las tendencias del mercado y las preferencias de los consumidores en el ámbito de los seguros. Este puesto sentó las bases para los futuros emprendimientos empresariales de Avery.\\n\\n## Historial de desempeño anual\\n- **2015**: **Supera las expectativas**\\nEl liderazgo de Avery durante el año fundacional de Insurellm condujo a lanzamientos de productos exitosos y a la obtención de la financiación inicial.\\n\\n- **2016**: **Cumple las expectativas**\\nEl crecimiento continuó, aunque surgieron desafíos en la eficiencia operativa que requirieron la atención de Avery.\\n\\n- **2017**: **En desarrollo**\\nLa competencia del mercado se intensificó y las métricas de ventas mensuales estaban por debajo de los objetivos. Avery implementó nuevas estrategias que requirieron una pronunciada curva de aprendizaje.\\n\\n- **2018**: **Supera las expectativas**\\nCon la visión de cambio de Avery, Insurellm lanzó dos nuevos productos exitosos que aumentaron significativamente la participación de mercado.\\n\\n- **2019**: **Cumple las expectativas**\\nEl crecimiento fue constante, pero algunas tensiones en el equipo provocaron una pequeña caída en la moral de los empleados. Avery reconoció la necesidad de mejorar la cultura de la empresa.\\n\\n- **2020**: **Por debajo de las expectativas**\\nLa pandemia de COVID-19 planteó dificultades operativas imprevistas. Avery enfrentó críticas por los cambios de estrategia demorados, aunque finalmente se hicieron esfuerzos para estabilizar la empresa.\\n\\n- **2021**: **Excepcional**\\nLa transición decisiva de Avery al trabajo remoto y la rápida adopción de herramientas digitales llevaron a niveles récord de satisfacción del cliente y aumentaron las ventas.\\n\\n- **2022**: **Satisfactorio**\\nAvery se centró en reconstruir la dinámica del equipo y abordar las preocupaciones de los empleados, lo que llevó a una mejora general a pesar de un mercado saturado.\\n\\n- **2023**: **Supera las expectativas**\\nSe recuperó el liderazgo del mercado con enfoques innovadores para soluciones de seguros personalizadas. Avery ahora es reconocida en publicaciones de la industria como una voz líder en innovación en tecnología de seguros.\\n\\n## Historial de compensación\\n- **2015**: salario base de $150,000 + participación accionaria significativa\\n- **2016**: salario base de $160,000 + aumento de capital\\n- **2017**: salario base de $150,000 + disminución de la bonificación por desempeño\\n- **2018**: salario base de $180,000 + bonificación por desempeño de $30,000\\n- **2019**: salario base de $185,000 + ajuste de mercado + bonificación de $5,000\\n- **2020**: salario base de $170,000 (reducción temporal debido al COVID-19)\\n- **2021**: salario base de $200,000 + bonificación por desempeño de $50,000\\n- **2022**: salario base de $210,000 + bonificación por retención\\n- **2023**: Salario base de $225,000 + bono de desempeño de $75,000\\n\\n## Otras notas de RR. HH.\\n- **Desarrollo profesional**: Avery ha participado activamente en programas de capacitación de liderazgo y conferencias de la industria, representando a Insurellm y fomentando asociaciones.\\n- **Iniciativas de diversidad e inclusión**: Avery ha defendido un compromiso con la diversidad en las prácticas de contratación, y ha visto mejoras visibles en la representación del equipo desde 2021.\\n- **Equilibrio entre el trabajo y la vida personal**: Los comentarios revelaron inquietudes con respecto al equilibrio entre el trabajo y la vida personal, que Avery ha abordado implementando condiciones de trabajo flexibles y asegurando controles regulares con el equipo.\\n- **Participación comunitaria**: Avery lideró los esfuerzos de extensión comunitaria, centrándose en programas de educación financiera, especialmente dirigidos a poblaciones desatendidas, mejorando la imagen de responsabilidad social corporativa de Insurellm.\\n\\nAvery Lancaster ha demostrado resiliencia y adaptabilidad a lo largo de su carrera en Insurellm, posicionando a la empresa como un actor clave en el panorama de la tecnología de seguros.'"
      ]
     },
     "execution_count": 7,
     "metadata": {},
     "output_type": "execute_result"
    }
   ],
   "source": [
    "context[\"Lancaster\"]"
   ]
  },
  {
   "cell_type": "code",
   "execution_count": 8,
   "id": "a1d231f9-091e-4c72-b0f8-6af578a74e22",
   "metadata": {},
   "outputs": [],
   "source": [
    "products = glob.glob(\"knowledge-base/products/*\")\n",
    "\n",
    "for product in products:\n",
    "    name = product.split(os.sep)[-1][:-3]\n",
    "    doc = \"\"\n",
    "    with open(product, \"r\", encoding=\"utf-8\") as f:\n",
    "        doc = f.read()\n",
    "    context[name]=doc"
   ]
  },
  {
   "cell_type": "code",
   "execution_count": 9,
   "id": "aba46a57-d973-4195-8fe3-70fc60687192",
   "metadata": {},
   "outputs": [
    {
     "data": {
      "text/plain": [
       "dict_keys(['Chen', 'Spencer', 'Tran', 'Blake', 'Lancaster', 'Thompson', 'Greene', 'Thomson', 'Trenton', 'Harper', 'Bishop', 'Carter', 'Rellm', 'Markellm', 'Homellm', 'Carllm'])"
      ]
     },
     "execution_count": 9,
     "metadata": {},
     "output_type": "execute_result"
    }
   ],
   "source": [
    "context.keys()"
   ]
  },
  {
   "cell_type": "code",
   "execution_count": 11,
   "id": "129c7d1e-0094-4479-9459-f9360b95f244",
   "metadata": {},
   "outputs": [],
   "source": [
    "system_message = \"Eres un experto en responder preguntas precisas sobre Insurellm, la compañía de tecnología de seguros. Quiero que des respuestas breves y precisas. Si no sabes la respuesta, dilo. No inventes nada si no se te ha proporcionado el contexto relevante.\""
   ]
  },
  {
   "cell_type": "code",
   "execution_count": 12,
   "id": "d40e390b-c110-42d5-8d80-daf3295b9862",
   "metadata": {},
   "outputs": [],
   "source": [
    "def get_relevant_context(message):\n",
    "    relevant_context = []\n",
    "    for context_title, context_details in context.items():\n",
    "        if context_title.lower() in message.lower():\n",
    "            relevant_context.append(context_details)\n",
    "    return relevant_context          "
   ]
  },
  {
   "cell_type": "code",
   "execution_count": 15,
   "id": "d126cfcb-e85c-4dd9-837e-9d2b8436d4b1",
   "metadata": {},
   "outputs": [
    {
     "data": {
      "text/plain": [
       "['# Avery Lancaster\\n\\n## Resumen\\n- **Fecha de nacimiento**: 15 de marzo de 1985\\n- **Puesto**: Cofundadora y directora ejecutiva (CEO)\\n- **Ubicación**: San Francisco, California\\n\\n## Progresión profesional en Insurellm\\n- **2015 - Presente**: Cofundadora y directora ejecutiva\\nAvery Lancaster cofundó Insurellm en 2015 y desde entonces ha guiado a la empresa hasta su posición actual como proveedor líder de tecnología de seguros. Avery es conocida por sus innovadoras estrategias de liderazgo y su experiencia en gestión de riesgos que han catapultado a la empresa al mercado de seguros convencional.\\n\\n- **2013 - 2015**: Gerente sénior de productos en Innovate Insurance Solutions\\nAntes de lanzar Insurellm, Avery fue gerente sénior de productos en Innovate Insurance Solutions, donde desarrolló productos de seguros innovadores destinados al sector tecnológico.\\n\\n- **2010 - 2013**: Analista de negocios en Edge Analytics\\nAntes de unirse a Innovate, Avery trabajó como analista de negocios, centrándose en las tendencias del mercado y las preferencias de los consumidores en el ámbito de los seguros. Este puesto sentó las bases para los futuros emprendimientos empresariales de Avery.\\n\\n## Historial de desempeño anual\\n- **2015**: **Supera las expectativas**\\nEl liderazgo de Avery durante el año fundacional de Insurellm condujo a lanzamientos de productos exitosos y a la obtención de la financiación inicial.\\n\\n- **2016**: **Cumple las expectativas**\\nEl crecimiento continuó, aunque surgieron desafíos en la eficiencia operativa que requirieron la atención de Avery.\\n\\n- **2017**: **En desarrollo**\\nLa competencia del mercado se intensificó y las métricas de ventas mensuales estaban por debajo de los objetivos. Avery implementó nuevas estrategias que requirieron una pronunciada curva de aprendizaje.\\n\\n- **2018**: **Supera las expectativas**\\nCon la visión de cambio de Avery, Insurellm lanzó dos nuevos productos exitosos que aumentaron significativamente la participación de mercado.\\n\\n- **2019**: **Cumple las expectativas**\\nEl crecimiento fue constante, pero algunas tensiones en el equipo provocaron una pequeña caída en la moral de los empleados. Avery reconoció la necesidad de mejorar la cultura de la empresa.\\n\\n- **2020**: **Por debajo de las expectativas**\\nLa pandemia de COVID-19 planteó dificultades operativas imprevistas. Avery enfrentó críticas por los cambios de estrategia demorados, aunque finalmente se hicieron esfuerzos para estabilizar la empresa.\\n\\n- **2021**: **Excepcional**\\nLa transición decisiva de Avery al trabajo remoto y la rápida adopción de herramientas digitales llevaron a niveles récord de satisfacción del cliente y aumentaron las ventas.\\n\\n- **2022**: **Satisfactorio**\\nAvery se centró en reconstruir la dinámica del equipo y abordar las preocupaciones de los empleados, lo que llevó a una mejora general a pesar de un mercado saturado.\\n\\n- **2023**: **Supera las expectativas**\\nSe recuperó el liderazgo del mercado con enfoques innovadores para soluciones de seguros personalizadas. Avery ahora es reconocida en publicaciones de la industria como una voz líder en innovación en tecnología de seguros.\\n\\n## Historial de compensación\\n- **2015**: salario base de $150,000 + participación accionaria significativa\\n- **2016**: salario base de $160,000 + aumento de capital\\n- **2017**: salario base de $150,000 + disminución de la bonificación por desempeño\\n- **2018**: salario base de $180,000 + bonificación por desempeño de $30,000\\n- **2019**: salario base de $185,000 + ajuste de mercado + bonificación de $5,000\\n- **2020**: salario base de $170,000 (reducción temporal debido al COVID-19)\\n- **2021**: salario base de $200,000 + bonificación por desempeño de $50,000\\n- **2022**: salario base de $210,000 + bonificación por retención\\n- **2023**: Salario base de $225,000 + bono de desempeño de $75,000\\n\\n## Otras notas de RR. HH.\\n- **Desarrollo profesional**: Avery ha participado activamente en programas de capacitación de liderazgo y conferencias de la industria, representando a Insurellm y fomentando asociaciones.\\n- **Iniciativas de diversidad e inclusión**: Avery ha defendido un compromiso con la diversidad en las prácticas de contratación, y ha visto mejoras visibles en la representación del equipo desde 2021.\\n- **Equilibrio entre el trabajo y la vida personal**: Los comentarios revelaron inquietudes con respecto al equilibrio entre el trabajo y la vida personal, que Avery ha abordado implementando condiciones de trabajo flexibles y asegurando controles regulares con el equipo.\\n- **Participación comunitaria**: Avery lideró los esfuerzos de extensión comunitaria, centrándose en programas de educación financiera, especialmente dirigidos a poblaciones desatendidas, mejorando la imagen de responsabilidad social corporativa de Insurellm.\\n\\nAvery Lancaster ha demostrado resiliencia y adaptabilidad a lo largo de su carrera en Insurellm, posicionando a la empresa como un actor clave en el panorama de la tecnología de seguros.']"
      ]
     },
     "execution_count": 15,
     "metadata": {},
     "output_type": "execute_result"
    }
   ],
   "source": [
    "get_relevant_context(\"¿Quién es Avery Lancaster?\")"
   ]
  },
  {
   "cell_type": "code",
   "execution_count": 18,
   "id": "d94c768d-c47a-4c34-85e9-7b786da96507",
   "metadata": {},
   "outputs": [
    {
     "data": {
      "text/plain": [
       "['# Resumen del producto\\n\\n# Carllm\\n\\n## Resumen\\n\\nCarllm es un innovador producto de seguros para automóviles desarrollado por Insurellm, diseñado para optimizar la forma en que las compañías de seguros ofrecen cobertura a sus clientes. Impulsado por inteligencia artificial de vanguardia, Carllm utiliza algoritmos avanzados para brindar soluciones de seguros para automóviles personalizadas, lo que garantiza una cobertura óptima y minimiza los costos. Con una infraestructura sólida que respalda a los clientes B2B y B2C, Carllm redefine el panorama de los seguros para automóviles y permite a los proveedores de seguros mejorar la satisfacción y la retención de los clientes.\\n\\n## Características\\n\\n- **Evaluación de riesgos impulsada por IA**: Carllm aprovecha la inteligencia artificial para analizar el comportamiento del conductor, las condiciones del vehículo y los datos históricos de reclamos. Esto permite a las aseguradoras tomar decisiones informadas y establecer primas competitivas que reflejen los verdaderos perfiles de riesgo.\\n\\n- **Cotización instantánea**: con Carllm, las compañías de seguros pueden ofrecer cotizaciones casi instantáneas a los clientes, lo que mejora la experiencia del cliente. El motor de IA procesa los datos en tiempo real, lo que reduce drásticamente el tiempo que lleva generar cotizaciones.\\n\\n- **Planes de cobertura personalizables**: Carllm permite a las aseguradoras crear paquetes de seguros flexibles y personalizados según las necesidades individuales de los clientes. Esta personalización mejora la participación y la retención de los clientes.\\n\\n- **Detección de fraude**: El producto incorpora análisis avanzados para identificar reclamos potencialmente fraudulentos, lo que reduce significativamente el riesgo de pérdidas para los proveedores de seguros.\\n\\n- **Panel de información del cliente**: Carllm ofrece a las aseguradoras un potente panel que ofrece información detallada sobre el comportamiento del cliente, los patrones de reclamos y las tendencias del mercado, lo que permite una toma de decisiones informada y una planificación estratégica.\\n\\n- **Integración móvil**: Carllm está diseñado para funcionar sin problemas con aplicaciones móviles, lo que brinda a las aseguradoras y a los usuarios finales acceso a la gestión de pólizas y a los informes de reclamos sobre la marcha.\\n\\n- **Atención al cliente automatizada**: Aprovechando los chatbots de IA, Carllm ofrece atención al cliente las 24 horas, los 7 días de la semana, lo que ayuda a resolver consultas de manera rápida y eficiente, mejorando así la satisfacción del cliente.\\n\\n## Precios\\n\\nCarllm se ofrece bajo un modelo de precios basado en suscripción adaptado a las necesidades de las compañías de seguros de todos los tamaños. Nuestros niveles de precios están diseñados para brindar máxima flexibilidad y valor:\\n\\n- **Nivel básico**: $1000/mes\\n- Ideal para pequeñas empresas de seguros.\\n- Acceso a funciones básicas e informes estándar.\\n\\n- **Nivel profesional**: $2500/mes\\n- Para empresas medianas.\\n- Todas las funciones del nivel básico más análisis avanzados y detección de fraude.\\n\\n- **Nivel empresarial**: $5000/mes\\n- Soluciones personalizadas para grandes empresas de seguros.\\n- Soporte integral, acceso completo a funciones e integración con sistemas existentes.\\n\\n¡Comuníquese con nuestro equipo de ventas para obtener una cotización personalizada y descubra cómo Carllm puede transformar sus ofertas de seguros de automóviles!\\n\\n## Hoja de ruta 2025-2026\\n\\nEn nuestro compromiso con la mejora continua y la innovación, Insurellm ha delineado la siguiente hoja de ruta para Carllm:\\n\\n### Primer trimestre de 2025: Lanzamiento de mejoras de funciones\\n- **Integraciones de datos ampliadas** para una mejor evaluación de riesgos.\\n- **Algoritmos mejorados de detección de fraude** para reducir las pérdidas.\\n\\n### T2 2025: Mejoras en la experiencia del cliente\\n- Lanzamiento de una nueva **aplicación móvil** para usuarios finales.\\n- Introducción de **precios basados \\u200b\\u200ben telemática** para brindar opciones de cobertura aún más personalizadas.\\n\\n### T3 2025: Expansión global\\n- Iniciar programas piloto para mercados de seguros internacionales.\\n- Colaborar con aseguradoras locales para ofrecer versiones localizadas y compatibles de Carllm.\\n\\n### T4 2025: Actualizaciones de IA y aprendizaje automático\\n- Implementar modelos de aprendizaje automático de última generación para análisis predictivo.\\n- Implementar actualizaciones del panel de información del cliente en función de los comentarios de los usuarios.\\n\\n### 2026: Escalabilidad y asociaciones\\n- Aumentar las asociaciones con fabricantes de automóviles para soluciones de seguros integradas.\\n- Mejorar el **sistema de atención al cliente de IA** para incluir soporte en varios idiomas.\\n\\nCarllm no es solo un producto de seguro de automóviles; es una herramienta transformadora para la industria de seguros. Únase a nosotros en este emocionante viaje mientras redefinimos el futuro del seguro de automóviles con tecnología y soluciones centradas en el cliente.']"
      ]
     },
     "execution_count": 18,
     "metadata": {},
     "output_type": "execute_result"
    }
   ],
   "source": [
    "get_relevant_context(\"¿Quién es Avery y qué es carllm?\")"
   ]
  },
  {
   "cell_type": "code",
   "execution_count": 19,
   "id": "5a7cef7f-f214-4bac-8217-3f9ab9ba1bf0",
   "metadata": {},
   "outputs": [],
   "source": [
    "def add_context(message):\n",
    "    relevant_context = get_relevant_context(message)\n",
    "    if relevant_context:\n",
    "        message += \"\\n\\El siguiente contexto adicional podría ser relevante para responder a esta pregunta:\\n\\n\"\n",
    "        for relevant in relevant_context:\n",
    "            message += relevant + \"\\n\\n\"\n",
    "    return message"
   ]
  },
  {
   "cell_type": "code",
   "execution_count": 21,
   "id": "2b36399c-440b-4049-9d39-68d208283c71",
   "metadata": {},
   "outputs": [
    {
     "name": "stdout",
     "output_type": "stream",
     "text": [
      "¿Quién es Alex Lancaster?\n",
      "\\El siguiente contexto adicional podría ser relevante para responder a esta pregunta:\n",
      "\n",
      "# Avery Lancaster\n",
      "\n",
      "## Resumen\n",
      "- **Fecha de nacimiento**: 15 de marzo de 1985\n",
      "- **Puesto**: Cofundadora y directora ejecutiva (CEO)\n",
      "- **Ubicación**: San Francisco, California\n",
      "\n",
      "## Progresión profesional en Insurellm\n",
      "- **2015 - Presente**: Cofundadora y directora ejecutiva\n",
      "Avery Lancaster cofundó Insurellm en 2015 y desde entonces ha guiado a la empresa hasta su posición actual como proveedor líder de tecnología de seguros. Avery es conocida por sus innovadoras estrategias de liderazgo y su experiencia en gestión de riesgos que han catapultado a la empresa al mercado de seguros convencional.\n",
      "\n",
      "- **2013 - 2015**: Gerente sénior de productos en Innovate Insurance Solutions\n",
      "Antes de lanzar Insurellm, Avery fue gerente sénior de productos en Innovate Insurance Solutions, donde desarrolló productos de seguros innovadores destinados al sector tecnológico.\n",
      "\n",
      "- **2010 - 2013**: Analista de negocios en Edge Analytics\n",
      "Antes de unirse a Innovate, Avery trabajó como analista de negocios, centrándose en las tendencias del mercado y las preferencias de los consumidores en el ámbito de los seguros. Este puesto sentó las bases para los futuros emprendimientos empresariales de Avery.\n",
      "\n",
      "## Historial de desempeño anual\n",
      "- **2015**: **Supera las expectativas**\n",
      "El liderazgo de Avery durante el año fundacional de Insurellm condujo a lanzamientos de productos exitosos y a la obtención de la financiación inicial.\n",
      "\n",
      "- **2016**: **Cumple las expectativas**\n",
      "El crecimiento continuó, aunque surgieron desafíos en la eficiencia operativa que requirieron la atención de Avery.\n",
      "\n",
      "- **2017**: **En desarrollo**\n",
      "La competencia del mercado se intensificó y las métricas de ventas mensuales estaban por debajo de los objetivos. Avery implementó nuevas estrategias que requirieron una pronunciada curva de aprendizaje.\n",
      "\n",
      "- **2018**: **Supera las expectativas**\n",
      "Con la visión de cambio de Avery, Insurellm lanzó dos nuevos productos exitosos que aumentaron significativamente la participación de mercado.\n",
      "\n",
      "- **2019**: **Cumple las expectativas**\n",
      "El crecimiento fue constante, pero algunas tensiones en el equipo provocaron una pequeña caída en la moral de los empleados. Avery reconoció la necesidad de mejorar la cultura de la empresa.\n",
      "\n",
      "- **2020**: **Por debajo de las expectativas**\n",
      "La pandemia de COVID-19 planteó dificultades operativas imprevistas. Avery enfrentó críticas por los cambios de estrategia demorados, aunque finalmente se hicieron esfuerzos para estabilizar la empresa.\n",
      "\n",
      "- **2021**: **Excepcional**\n",
      "La transición decisiva de Avery al trabajo remoto y la rápida adopción de herramientas digitales llevaron a niveles récord de satisfacción del cliente y aumentaron las ventas.\n",
      "\n",
      "- **2022**: **Satisfactorio**\n",
      "Avery se centró en reconstruir la dinámica del equipo y abordar las preocupaciones de los empleados, lo que llevó a una mejora general a pesar de un mercado saturado.\n",
      "\n",
      "- **2023**: **Supera las expectativas**\n",
      "Se recuperó el liderazgo del mercado con enfoques innovadores para soluciones de seguros personalizadas. Avery ahora es reconocida en publicaciones de la industria como una voz líder en innovación en tecnología de seguros.\n",
      "\n",
      "## Historial de compensación\n",
      "- **2015**: salario base de $150,000 + participación accionaria significativa\n",
      "- **2016**: salario base de $160,000 + aumento de capital\n",
      "- **2017**: salario base de $150,000 + disminución de la bonificación por desempeño\n",
      "- **2018**: salario base de $180,000 + bonificación por desempeño de $30,000\n",
      "- **2019**: salario base de $185,000 + ajuste de mercado + bonificación de $5,000\n",
      "- **2020**: salario base de $170,000 (reducción temporal debido al COVID-19)\n",
      "- **2021**: salario base de $200,000 + bonificación por desempeño de $50,000\n",
      "- **2022**: salario base de $210,000 + bonificación por retención\n",
      "- **2023**: Salario base de $225,000 + bono de desempeño de $75,000\n",
      "\n",
      "## Otras notas de RR. HH.\n",
      "- **Desarrollo profesional**: Avery ha participado activamente en programas de capacitación de liderazgo y conferencias de la industria, representando a Insurellm y fomentando asociaciones.\n",
      "- **Iniciativas de diversidad e inclusión**: Avery ha defendido un compromiso con la diversidad en las prácticas de contratación, y ha visto mejoras visibles en la representación del equipo desde 2021.\n",
      "- **Equilibrio entre el trabajo y la vida personal**: Los comentarios revelaron inquietudes con respecto al equilibrio entre el trabajo y la vida personal, que Avery ha abordado implementando condiciones de trabajo flexibles y asegurando controles regulares con el equipo.\n",
      "- **Participación comunitaria**: Avery lideró los esfuerzos de extensión comunitaria, centrándose en programas de educación financiera, especialmente dirigidos a poblaciones desatendidas, mejorando la imagen de responsabilidad social corporativa de Insurellm.\n",
      "\n",
      "Avery Lancaster ha demostrado resiliencia y adaptabilidad a lo largo de su carrera en Insurellm, posicionando a la empresa como un actor clave en el panorama de la tecnología de seguros.\n",
      "\n",
      "\n"
     ]
    }
   ],
   "source": [
    "print(add_context(\"¿Quién es Alex Lancaster?\"))"
   ]
  },
  {
   "cell_type": "code",
   "execution_count": 22,
   "id": "968e7bf2-e862-4679-a11f-6c1efb6ec8ca",
   "metadata": {},
   "outputs": [],
   "source": [
    "def chat(message, history):\n",
    "    messages = [{\"role\": \"system\", \"content\": system_message}] + history\n",
    "    message = add_context(message)\n",
    "    messages.append({\"role\": \"user\", \"content\": message})\n",
    "\n",
    "    stream = openai.chat.completions.create(model=MODEL, messages=messages, stream=True)\n",
    "\n",
    "    response = \"\"\n",
    "    for chunk in stream:\n",
    "        response += chunk.choices[0].delta.content or ''\n",
    "        yield response"
   ]
  },
  {
   "cell_type": "markdown",
   "id": "bbbcb659-13ce-47ab-8a5e-01b930494964",
   "metadata": {},
   "source": [
    "## Ahora, lo mostraremos en Gradio usando la interfaz de Chat:\n",
    "\n",
    "Una forma rápida y sencilla de crear un prototipo de chat con un LLM"
   ]
  },
  {
   "cell_type": "code",
   "execution_count": 25,
   "id": "c3536590-85c7-4155-bd87-ae78a1467670",
   "metadata": {},
   "outputs": [
    {
     "name": "stdout",
     "output_type": "stream",
     "text": [
      "* Running on local URL:  http://127.0.0.1:7868\n",
      "\n",
      "To create a public link, set `share=True` in `launch()`.\n"
     ]
    },
    {
     "data": {
      "text/html": [
       "<div><iframe src=\"http://127.0.0.1:7868/\" width=\"100%\" height=\"500\" allow=\"autoplay; camera; microphone; clipboard-read; clipboard-write;\" frameborder=\"0\" allowfullscreen></iframe></div>"
      ],
      "text/plain": [
       "<IPython.core.display.HTML object>"
      ]
     },
     "metadata": {},
     "output_type": "display_data"
    }
   ],
   "source": [
    "view = gr.ChatInterface(chat, type=\"messages\").launch()"
   ]
  },
  {
   "cell_type": "code",
   "execution_count": null,
   "id": "48873d11-2fbd-4329-af27-46c781788561",
   "metadata": {},
   "outputs": [],
   "source": []
  }
 ],
 "metadata": {
  "kernelspec": {
   "display_name": "Python 3 (ipykernel)",
   "language": "python",
   "name": "python3"
  },
  "language_info": {
   "codemirror_mode": {
    "name": "ipython",
    "version": 3
   },
   "file_extension": ".py",
   "mimetype": "text/x-python",
   "name": "python",
   "nbconvert_exporter": "python",
   "pygments_lexer": "ipython3",
   "version": "3.11.10"
  }
 },
 "nbformat": 4,
 "nbformat_minor": 5
}
