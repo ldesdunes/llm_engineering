{
 "cells": [
  {
   "cell_type": "markdown",
   "id": "a98030af-fcd1-4d63-a36e-38ba053498fa",
   "metadata": {},
   "source": [
    "# A full business solution\n",
    "\n",
    "## Now we will take our project from Day 1 to the next level\n",
    "\n",
    "### BUSINESS CHALLENGE:\n",
    "\n",
    "Create a product that builds a Brochure for a company to be used for prospective clients, investors and potential recruits.\n",
    "\n",
    "We will be provided a company name and their primary website.\n",
    "\n",
    "See the end of this notebook for examples of real-world business applications.\n",
    "\n",
    "And remember: I'm always available if you have problems or ideas! Please do reach out."
   ]
  },
  {
   "cell_type": "code",
   "execution_count": 1,
   "id": "d5b08506-dc8b-4443-9201-5f1848161363",
   "metadata": {},
   "outputs": [],
   "source": [
    "# imports\n",
    "# If these fail, please check you're running from an 'activated' environment with (llms) in the command prompt\n",
    "\n",
    "import os\n",
    "import requests\n",
    "import json\n",
    "from typing import List\n",
    "from dotenv import load_dotenv\n",
    "from bs4 import BeautifulSoup\n",
    "from IPython.display import Markdown, display, update_display\n",
    "from openai import OpenAI"
   ]
  },
  {
   "cell_type": "code",
   "execution_count": 2,
   "id": "fc5d8880-f2ee-4c06-af16-ecbc0262af61",
   "metadata": {},
   "outputs": [
    {
     "name": "stdout",
     "output_type": "stream",
     "text": [
      "There might be a problem with your API key? Please visit the troubleshooting notebook!\n"
     ]
    }
   ],
   "source": [
    "# Initialize and constants\n",
    "\n",
    "load_dotenv(override=True)\n",
    "api_key = os.getenv('OPENAI_API_KEY')\n",
    "\n",
    "if api_key and api_key.startswith('sk-proj-') and len(api_key)>10:\n",
    "    print(\"API key looks good so far\")\n",
    "else:\n",
    "    print(\"There might be a problem with your API key? Please visit the troubleshooting notebook!\")\n",
    "    \n",
    "MODEL = 'gpt-4o-mini'\n",
    "openai = OpenAI()"
   ]
  },
  {
   "cell_type": "code",
   "execution_count": 3,
   "id": "106dd65e-90af-4ca8-86b6-23a41840645b",
   "metadata": {},
   "outputs": [],
   "source": [
    "# A class to represent a Webpage\n",
    "\n",
    "# Some websites need you to use proper headers when fetching them:\n",
    "headers = {\n",
    " \"User-Agent\": \"Mozilla/5.0 (Windows NT 10.0; Win64; x64) AppleWebKit/537.36 (KHTML, like Gecko) Chrome/117.0.0.0 Safari/537.36\"\n",
    "}\n",
    "\n",
    "class Website:\n",
    "    \"\"\"\n",
    "    A utility class to represent a Website that we have scraped, now with links\n",
    "    \"\"\"\n",
    "\n",
    "    def __init__(self, url):\n",
    "        self.url = url\n",
    "        response = requests.get(url, headers=headers, verify=False)\n",
    "        self.body = response.content\n",
    "        soup = BeautifulSoup(self.body, 'html.parser')\n",
    "        self.title = soup.title.string if soup.title else \"No title found\"\n",
    "        if soup.body:\n",
    "            for irrelevant in soup.body([\"script\", \"style\", \"img\", \"input\"]):\n",
    "                irrelevant.decompose()\n",
    "            self.text = soup.body.get_text(separator=\"\\n\", strip=True)\n",
    "        else:\n",
    "            self.text = \"\"\n",
    "        links = {link.get('href') for link in soup.find_all('a')}\n",
    "        self.links = [link for link in links if link]\n",
    "\n",
    "    def get_contents(self):\n",
    "        return f\"Webpage Title:\\n{self.title}\\nWebpage Contents:\\n{self.text}\\n\\n\""
   ]
  },
  {
   "cell_type": "code",
   "execution_count": 4,
   "id": "e30d8128-933b-44cc-81c8-ab4c9d86589a",
   "metadata": {},
   "outputs": [
    {
     "name": "stderr",
     "output_type": "stream",
     "text": [
      "c:\\Users\\ldesdunes\\AppData\\Local\\anaconda3\\envs\\llms\\Lib\\site-packages\\urllib3\\connectionpool.py:1097: InsecureRequestWarning: Unverified HTTPS request is being made to host 'xoneisp.com'. Adding certificate verification is strongly advised. See: https://urllib3.readthedocs.io/en/latest/advanced-usage.html#tls-warnings\n",
      "  warnings.warn(\n"
     ]
    },
    {
     "data": {
      "text/plain": [
       "['https://xoneisp.com/XONEWIKI/doku.php?id=wiki:2.-desarrollo-app:2.1.-ide-desarrollo:start',\n",
       " 'https://xoneisp.com/XONEWIKI/doku.php?id=wiki:2.-desarrollo-app:2.1.-ide-desarrollo:cloudstudio:editar:start',\n",
       " 'https://xoneisp.com/XONEWIKI/doku.php?id=wiki:2.-desarrollo-app:2.5.-controles-by-xone:plugin-generacion-de-codigos-de-barras:start',\n",
       " 'https://xoneisp.com/XONEWIKI/doku.php?id=wiki:2.-desarrollo-app:2.3.-codigo:c.-eventos:20.-onmessage:start',\n",
       " 'https://xoneisp.com/XONEWIKI/doku.php?id=wiki:2.-desarrollo-app:2.3.-codigo:b.-controles-xone:5.-listado-de-datos:start',\n",
       " 'https://xoneisp.com/XONEWIKI/doku.php?id=wiki:2.-desarrollo-app:2.0.-xonecloud:administracion:start',\n",
       " 'https://xoneisp.com/XONEWIKI/doku.php?id=wiki:2.-desarrollo-app:2.0.-xonecloud:menu_proyectos:frameworks:start',\n",
       " 'https://xoneisp.com/XONEWIKI/doku.php?id=wiki:3.-servidor:3.9.-bus-integracion:b.-conector-ficheros:start',\n",
       " 'https://xoneisp.com/XONEWIKI/doku.php?id=wiki:2.-desarrollo-app:2.3.-codigo:c.-eventos:27.-onfocus:start',\n",
       " 'https://xoneisp.com/XONEWIKI/doku.php?id=wiki:4.-cliente:4.3.-iniciar-instalacion:c.-posibles-problemas-instalacion:start',\n",
       " 'https://xoneisp.com/XONEWIKI/doku.php?id=wiki:2.-desarrollo-app:2.3.-codigo:c.-eventos:8.-selecteditem:start',\n",
       " 'https://xoneisp.com/XONEWIKI/doku.php?id=wiki:2.-desarrollo-app:2.3.-codigo:c.-eventos:10.-onlogoff:start',\n",
       " 'https://xoneisp.com/XONEWIKI/doku.php?id=wiki:2.-desarrollo-app:2.5.-controles-by-xone:ajuste:start',\n",
       " 'https://xoneisp.com/XONEWIKI/doku.php?id=wiki:3.-servidor:3.9.-bus-integracion:f.-interface-web-service-json:start',\n",
       " 'https://xoneisp.com/XONEWIKI/doku.php?id=wiki:2.-desarrollo-app:2.5.-controles-by-xone:animaciones:start',\n",
       " 'https://xoneisp.com/XONEWIKI/doku.php?id=wiki:3.-servidor:3.9.-bus-integracion:c.-conector-base-datos:start',\n",
       " 'https://xoneisp.com/XONEWIKI/doku.php?id=wiki:3.-servidor:3.17.-Office-XOne:start',\n",
       " 'https://xoneisp.com/XONEWIKI/doku.php?id=wiki:2.-desarrollo-app:2.3.-codigo:c.-eventos:16-sys-message:start',\n",
       " 'https://xoneisp.com/XONEWIKI/doku.php?id=wiki:2.-desarrollo-app:2.3.-codigo:e.-inclusion-ficheros:start',\n",
       " 'https://xoneisp.com/XONEWIKI/doku.php?id=wiki:3.-servidor:3.19.-tecnologia-push:start',\n",
       " 'https://xoneisp.com/XONEWIKI/doku.php?id=wiki:2.-desarrollo-app:2.5.-controles-by-xone:gps:captura-coordenada-sgps:start',\n",
       " 'https://xoneisp.com/XONEWIKI/doku.php?id=wiki:3.-servidor:3.10.-xonemonitor:start',\n",
       " 'https://xoneisp.com/XONEWIKI/doku.php?id=wiki:3.-servidor:3.10.-xonemonitor:Macros:start',\n",
       " 'https://xoneisp.com/XONEWIKI/doku.php?id=wiki:4.-cliente:4.4.-xonelive-cliente:ios:start',\n",
       " 'https://xoneisp.com/XONEWIKI/doku.php?id=wiki:4.-cliente:4.1.-frameworks-plataformas:a.-android:start',\n",
       " 'https://xoneisp.com/XONEWIKI/doku.php?id=wiki:4.-cliente:4.6.-modulos:e.-creacion-de-plugins-xone:start',\n",
       " 'https://xoneisp.com/XONEWIKI/doku.php?id=wiki:2.-desarrollo-app:2.0.-xonecloud:dispositivos:mdm:start',\n",
       " 'https://xoneisp.com/XONEWIKI/doku.php?id=wiki:2.-desarrollo-app:2.3.-codigo:c.-eventos:17-notificaciones-push:start',\n",
       " 'https://xoneisp.com/XONEWIKI/doku.php?id=wiki:2.-desarrollo-app:2.3.-codigo:c.-eventos:34.-ondatashare:start',\n",
       " 'https://xoneisp.com/XONEWIKI/doku.php?id=wiki:4.-cliente:4.5.-cliente-replica:b.-estructura-de-tablas:start',\n",
       " 'https://xoneisp.com/XONEWIKI/doku.php?id=wiki:2.-desarrollo-app:2.3.-codigo:c.-eventos:19-oneditoraction:start',\n",
       " 'https://xoneisp.com/XONEWIKI/doku.php?id=wiki:2.-desarrollo-app:2.3.-codigo:b.-controles-xone:1.-login:start',\n",
       " 'https://xoneisp.com/XONEWIKI/doku.php?id=wiki:2.-desarrollo-app:2.3.-codigo:c.-eventos:25.-onpage-selected:start',\n",
       " 'https://xoneisp.com/xonewiki/doku.php?id=en:start',\n",
       " 'https://xoneisp.com/XONEWIKI/doku.php?id=wiki:2.-desarrollo-app:2.4.-scripting-modelo-objetos:a.-objetos-sistema:start',\n",
       " 'https://xoneisp.com/XONEWIKI/doku.php?id=wiki:2.-desarrollo-app:2.5.-controles-by-xone:animaciones:animaciones_frame:start',\n",
       " 'https://xoneisp.com/XONEWIKI/doku.php?id=wiki:4.-cliente:4.4.-xonelive-cliente:windows10:start',\n",
       " 'https://xoneisp.com/XONEWIKI/doku.php?id=wiki:2.-desarrollo-app:2.0.-xonecloud:administracion:empresas:start',\n",
       " 'https://xoneisp.com/XONEWIKI/doku.php?id=wiki:3.-servidor:3.9.-bus-integracion:a.-esquema:start',\n",
       " 'https://xoneisp.com/xonewiki/doku.php?id=wiki:2.-desarrollo-app:start',\n",
       " 'https://xoneisp.com/XONEWIKI/doku.php?id=wiki:2.-desarrollo-app:2.5.-controles-by-xone:menus:2.-vista-modo-calendario:start',\n",
       " 'https://xoneisp.com/XONEWIKI/doku.php?id=wiki:3.-servidor:3.12.-start:start',\n",
       " 'https://xoneisp.com/XONEWIKI/doku.php?id=wiki:3.-servidor:3.16.-broker-dmz:start',\n",
       " 'https://xoneisp.com/XONEWIKI/doku.php?id=wiki:2.-desarrollo-app:2.5.-controles-by-xone:gps:start',\n",
       " 'https://xoneisp.com/XONEWIKI/doku.php?id=wiki:2.-desarrollo-app:2.5.-controles-by-xone:menus:1.-menu-botones-opciones-subopciones:start',\n",
       " 'https://xoneisp.com/XONEWIKI/doku.php?id=wiki:2.-desarrollo-app:2.6.-demos-y-ejemplos:start',\n",
       " 'https://xoneisp.com/XONEWIKI/doku.php?id=wiki:4.-cliente:4.5.-cliente-replica:c.-seguimiento-replica-de-ficheros:start',\n",
       " 'https://xoneisp.com/XONEWIKI/doku.php?id=wiki:4.-cliente:4.5.-cliente-replica:d.-seguimiento-estado-replica:start',\n",
       " 'https://xoneisp.com/XONEWIKI/doku.php?id=wiki:3.-servidor:3.8.-provisioning:start',\n",
       " 'https://xoneisp.com/xonewiki/doku.php?id=wiki:1.-tecnologia-xone:start',\n",
       " 'https://xoneisp.com/XONEWIKI/doku.php?id=wiki:2.-desarrollo-app:2.3.-codigo:a.-estructura-xml:3.-nodo-group:start',\n",
       " 'https://xoneisp.com/XONEWIKI/doku.php?id=wiki:2.-desarrollo-app:2.3.-codigo:c.-eventos:35-clipboard:start',\n",
       " 'https://xoneisp.com/XONEWIKI/doku.php?id=wiki:3.-servidor:3.20.-provision-segura:start',\n",
       " 'https://xoneisp.com/XONEWIKI/doku.php?id=wiki:5.-miscelanea:start',\n",
       " 'https://xoneisp.com/XONEWIKI/doku.php?id=wiki:2.-desarrollo-app:2.3.-codigo:c.-eventos:1.-action:start',\n",
       " 'https://xoneisp.com/XONEWIKI/doku.php?id=wiki:3.-servidor:3.10.-xonemonitor:Nodos:start',\n",
       " 'https://xoneisp.com/XONEWIKI/doku.php?id=wiki:4.-cliente:4.7.-perifericos-compatibles:start',\n",
       " 'https://xoneisp.com/XONEWIKI/doku.php?id=wiki:4.-cliente:4.1.-frameworks-plataformas:a.-android:3.-permisos-del-dispositivo:start',\n",
       " 'https://xoneisp.com/XONEWIKI/doku.php?id=wiki:2.-desarrollo-app:2.3.-codigo:c.-eventos:4.5.-after-edit:start',\n",
       " 'https://xoneisp.com/XONEWIKI/doku.php?id=wiki:2.-desarrollo-app:2.3.-codigo:c.-eventos:31.-onconsolemessage:start',\n",
       " 'https://xoneisp.com/XONEWIKI/doku.php?id=wiki:2.-desarrollo-app:2.0.-xonecloud:start',\n",
       " 'https://xoneisp.com/XONEWIKI/doku.php?id=wiki:2.-desarrollo-app:2.0.-xonecloud:menu_proyectos:start',\n",
       " 'https://xoneisp.com/XONEWIKI/doku.php?id=wiki:2.-desarrollo-app:2.4.-scripting-modelo-objetos:a.-objetos-sistema:1.-vbscript:start',\n",
       " 'https://xoneisp.com/XONEWIKI/doku.php?id=wiki:2.-desarrollo-app:2.6.-demos-y-ejemplos:a.-ejemplos-codigo-vbscript:start',\n",
       " 'https://xoneisp.com/XONEWIKI/doku.php?id=wiki:2.-desarrollo-app:2.1.-ide-desarrollo:ide_entorno_pc:b.-xonestudio:start',\n",
       " 'https://xoneisp.com/XONEWIKI/doku.php?id=wiki:2.-desarrollo-app:2.5.-controles-by-xone:integracion-con-twitter:start',\n",
       " 'https://xoneisp.com/XONEWIKI/doku.php?id=wiki:3.-servidor:3.10.-xonemonitor:Estructura:start',\n",
       " 'https://xoneisp.com/XONEWIKI/doku.php?id=wiki:3.-servidor:3.5.-replicador:f.-autoregistro:start',\n",
       " 'https://xoneisp.com/XONEWIKI/doku.php?id=wiki:3.-servidor:3.1.-tecnologia-xone-server:start',\n",
       " 'https://xoneisp.com/XONEWIKI/doku.php?id=wiki:4.-cliente:4.1.-frameworks-plataformas:start',\n",
       " 'https://xoneisp.com/XONEWIKI/doku.php?id=wiki:2.-desarrollo-app:2.6.-demos-y-ejemplos:c.-recorrer-coleccion:start',\n",
       " 'https://xoneisp.com/XONEWIKI/doku.php?id=wiki:3.-servidor:3.9.-bus-integracion:start',\n",
       " 'https://xoneisp.com/XONEWIKI/doku.php?id=wiki:2.-desarrollo-app:2.3.-codigo:c.-eventos:29.-load:start',\n",
       " 'https://xoneisp.com/XONEWIKI/doku.php?id=wiki:3.-servidor:3.14.-SQL-Mantenimientos:start',\n",
       " 'https://xoneisp.com/XONEWIKI/doku.php?id=wiki:4.-cliente:4.6.-modulos:b.-impresion:start',\n",
       " 'https://xoneisp.com/XONEWIKI/doku.php?id=wiki:4.-cliente:4.8.-control-bateria:start',\n",
       " 'https://xoneisp.com/XONEWIKI/doku.php?id=wiki:2.-desarrollo-app:2.2.-diccionario:start',\n",
       " 'https://xoneisp.com/XONEWIKI/doku.php?id=wiki:2.-desarrollo-app:2.3.-codigo:c.-eventos:13.-auto-selecteditem:start',\n",
       " 'https://xoneisp.com/XONEWIKI/doku.php?id=wiki:2.-desarrollo-app:2.1.-ide-desarrollo:ide_entorno_pc:start',\n",
       " 'https://xoneisp.com/XONEWIKI/doku.php?id=wiki:3.-servidor:3.3.-iniciar-instalacion-server:a.-instalacion-xoneinstaller:start',\n",
       " 'https://xoneisp.com/XONEWIKI/doku.php?id=wiki:5.-miscelanea:5.3.-pin-dispositivos:start',\n",
       " 'https://xoneisp.com/XONEWIKI/doku.php?id=wiki:2.-desarrollo-app:2.4.-scripting-modelo-objetos:a.-objetos-sistema:2.-javascript:start',\n",
       " '#dokuwiki__top',\n",
       " 'https://xoneisp.com/XONEWIKI/doku.php?id=wiki:2.-desarrollo-app:2.3.-codigo:c.-eventos:start',\n",
       " 'https://xoneisp.com/XONEWIKI/doku.php?id=wiki:4.-cliente:start',\n",
       " 'https://xoneisp.com/XONEWIKI/doku.php?id=wiki:2.-desarrollo-app:2.4.-scripting-modelo-objetos:start',\n",
       " 'https://xoneisp.com/XONEWIKI/doku.php?id=wiki:5.-miscelanea:5.6.-guion-del-curso:start',\n",
       " 'https://xoneisp.com/XONEWIKI/doku.php?id=wiki:3.-servidor:3.5.-replicador:b.-servidor:start',\n",
       " 'https://xoneisp.com/XONEWIKI/doku.php?id=wiki:2.-desarrollo-app:2.5.-controles-by-xone:control_biometrico:start',\n",
       " 'https://xoneisp.com/XONEWIKI/doku.php?id=wiki:2.-desarrollo-app:2.5.-controles-by-xone:generacion-de-pdfs-mediante-xonescript:start',\n",
       " 'https://xoneisp.com/XONEWIKI/doku.php?id=wiki:2.-desarrollo-app:2.5.-controles-by-xone:plugin-de-firma-digital:start',\n",
       " 'https://xoneisp.com/XONEWIKI/doku.php?id=wiki:2.-desarrollo-app:2.3.-codigo:c.-eventos:28.-onlostfocus:start',\n",
       " 'https://xoneisp.com/XONEWIKI/doku.php?id=wiki:2.-desarrollo-app:2.3.-codigo:b.-controles-xone:4.-botones:start',\n",
       " 'https://xoneisp.com/XONEWIKI/doku.php?id=wiki:3.-servidor:3.10.-xonemonitor:Ejemplos%20de%20Usos&idx=wiki:3.-servidor:3.10.-xonemonitor:Ejemplos de Usos',\n",
       " 'https://xoneisp.com/XONEWIKI/doku.php?id=wiki:2.-desarrollo-app:2.3.-codigo:a.-estructura-xml:1.-nodo-app:start',\n",
       " 'https://xoneisp.com/XONEWIKI/doku.php?id=wiki:2.-desarrollo-app:2.3.-codigo:start',\n",
       " 'https://xoneisp.com/XONEWIKI/doku.php?id=wiki:2.-desarrollo-app:2.3.-codigo:b.-controles-xone:6.-filtros:start',\n",
       " 'https://xoneisp.com/XONEWIKI/doku.php?id=wiki:3.-servidor:3.19.-tecnologia-push:c.-push-replicador:start',\n",
       " 'https://xoneisp.com/XONEWIKI/doku.php?id=wiki:2.-desarrollo-app:2.5.-controles-by-xone:graficos-barras-tarta:start',\n",
       " 'https://xoneisp.com/XONEWIKI/doku.php?id=wiki:2.-desarrollo-app:2.3.-codigo:c.-eventos:21.-onrecovery:start',\n",
       " 'https://xoneisp.com/XONEWIKI/doku.php?id=wiki:3.-servidor:3.10.-xonemonitor:Acciones:start',\n",
       " 'https://xoneisp.com/XONEWIKI/doku.php?id=wiki:3.-servidor:start',\n",
       " 'https://xoneisp.com/XONEWIKI/doku.php?id=wiki:5.-miscelanea:5.7.-guias-de-ayuda:start',\n",
       " 'https://xoneisp.com/XONEWIKI/doku.php?id=wiki:2.-desarrollo-app:2.5.-controles-by-xone:start',\n",
       " 'https://xoneisp.com/XONEWIKI/doku.php?id=wiki:2.-desarrollo-app:2.3.-codigo:c.-eventos:4.-before-edit:start',\n",
       " 'https://xoneisp.com/XONEWIKI/doku.php?id=wiki:3.-servidor:3.13.-conectores-online:start',\n",
       " 'https://xoneisp.com/XONEWIKI/doku.php?id=wiki:5.-miscelanea:5.2.-faq-call-center:start',\n",
       " 'https://xoneisp.com/XONEWIKI/doku.php?id=wiki:4.-cliente:4.1.-frameworks-plataformas:a.-android:1.-changelog-android:start',\n",
       " 'https://xoneisp.com/XONEWIKI/doku.php?id=wiki:2.-desarrollo-app:2.1.-ide-desarrollo:ide_entorno_pc:c.-generacion-apk:start',\n",
       " 'https://xoneisp.com/XONEWIKI/doku.php?id=wiki:3.-servidor:3.5.-replicador:c.-replica-multimaster:start',\n",
       " 'https://xoneisp.com/XONEWIKI/doku.php?id=wiki:4.-cliente:4.5.-cliente-replica:e.-control-replica-app:start',\n",
       " 'https://xoneisp.com/XONEWIKI/doku.php?id=wiki:3.-servidor:3.19.-tecnologia-push:d.-push-xonemonitor:start',\n",
       " 'https://xoneisp.com/XONEWIKI/doku.php?id=wiki:4.-cliente:4.6.-modulos:c.-conectar-adb-por-wifi-o-cable:start',\n",
       " 'https://xoneisp.com/XONEWIKI/doku.php?id=wiki:2.-desarrollo-app:2.1.-ide-desarrollo:cloudstudio:depuracion:start',\n",
       " 'https://xoneisp.com/XONEWIKI/doku.php?id=wiki:2.-desarrollo-app:2.3.-codigo:c.-eventos:26.-oncelldraw:start',\n",
       " 'https://xoneisp.com/XONEWIKI/doku.php?id=wiki:2.-desarrollo-app:2.3.-codigo:c.-eventos:11.-onback:start',\n",
       " 'https://xoneisp.com/XONEWIKI/doku.php?id=wiki:2.-desarrollo-app:2.6.-demos-y-ejemplos:d.-filtrar-contents:start',\n",
       " 'https://xoneisp.com/XONEWIKI/doku.php?id=wiki:2.-desarrollo-app:2.6.-demos-y-ejemplos:e.-simplificar-proyecto:start',\n",
       " 'https://xoneisp.com/XONEWIKI/doku.php?id=wiki:2.-desarrollo-app:2.3.-codigo:c.-eventos:3.-insert:start',\n",
       " 'https://xoneisp.com/XONEWIKI/doku.php?id=wiki:3.-servidor:3.19.-tecnologia-push:e.-push-externo:start',\n",
       " 'https://xoneisp.com/XONEWIKI/doku.php?id=wiki:2.-desarrollo-app:2.0.-xonecloud:dispositivos:start',\n",
       " 'https://xoneisp.com/XONEWIKI/doku.php?id=wiki:2.-desarrollo-app:2.3.-codigo:c.-eventos:12.-replica-ok:start',\n",
       " 'https://xoneisp.com/XONEWIKI/doku.php?id=wiki:2.-desarrollo-app:2.3.-codigo:h.-relaciones-entre-colecciones:start',\n",
       " 'https://xoneisp.com/XONEWIKI/doku.php?id=wiki:2.-desarrollo-app:2.3.-codigo:f.-refresh:start',\n",
       " 'https://xoneisp.com/XONEWIKI/doku.php?id=wiki:2.-desarrollo-app:2.3.-codigo:a.-estructura-xml:start',\n",
       " 'https://xoneisp.com/XONEWIKI/doku.php?id=wiki:2.-desarrollo-app:2.5.-controles-by-xone:calendario:start',\n",
       " 'https://xoneisp.com/XONEWIKI/doku.php?id=wiki:5.-miscelanea:5.5.-dispositivos-homologados:start',\n",
       " 'https://xoneisp.com/XONEWIKI/doku.php?id=wiki:2.-desarrollo-app:2.0.-xonecloud:menu_proyectos:panel_de_control:start',\n",
       " 'https://xoneisp.com/XONEWIKI/doku.php?id=wiki:2.-desarrollo-app:2.5.-controles-by-xone:menus:3.-vista-picturemap:start',\n",
       " 'https://xoneisp.com/XONEWIKI/doku.php?id=wiki:2.-desarrollo-app:2.6.-demos-y-ejemplos:b.-ejemplos-codigo-javascript:start',\n",
       " 'https://xoneisp.com/XONEWIKI/doku.php?id=wiki:4.-cliente:4.1.-frameworks-plataformas:c.-windows-10:start',\n",
       " 'https://xoneisp.com/XONEWIKI/doku.php?id=wiki:5.-miscelanea:5.9.-paleta-colores:start',\n",
       " 'https://xoneisp.com/XONEWIKI/doku.php?id=wiki:2.-desarrollo-app:2.3.-codigo:c.-eventos:30.-ontextchanged:start',\n",
       " 'https://xoneisp.com/XONEWIKI/doku.php?id=wiki:2.-desarrollo-app:2.1.-ide-desarrollo:cloudstudio:proyecto:start',\n",
       " 'https://xoneisp.com/XONEWIKI/doku.php?id=wiki:2.-desarrollo-app:2.5.-controles-by-xone:multiidioma:start',\n",
       " 'https://xoneisp.com/XONEWIKI/doku.php?id=wiki:4.-cliente:4.5.-cliente-replica:start',\n",
       " 'https://xoneisp.com/XONEWIKI/doku.php?id=wiki:3.-servidor:3.10.-xonemonitor:Introducci%C3%B3n&idx=wiki:3.-servidor:3.10.-xonemonitor:Introducción',\n",
       " 'https://xoneisp.com/XONEWIKI/doku.php?id=wiki:4.-cliente:4.0.-dispositivos-homologados:start',\n",
       " 'https://xoneisp.com/XONEWIKI/doku.php?id=wiki:2.-desarrollo-app:2.3.-codigo:c.-eventos:24.-ondate-selected:start',\n",
       " 'https://xoneisp.com/XONEWIKI/doku.php?id=wiki:4.-cliente:4.4.-xonelive-cliente:start',\n",
       " 'https://xoneisp.com/XONEWIKI/doku.php?id=wiki:4.-cliente:4.6.-modulos:d.-llamadas-voip:start',\n",
       " 'https://xoneisp.com/XONEWIKI/doku.php?id=wiki:3.-servidor:3.15.-EMM:start',\n",
       " 'https://xoneisp.com/XONEWIKI/doku.php?id=wiki:2.-desarrollo-app:2.3.-codigo:c.-eventos:18-onlong-press:start',\n",
       " 'https://xoneisp.com/XONEWIKI/doku.php?id=wiki:5.-miscelanea:5.1.-cadenas-conexion-bd:start',\n",
       " 'https://xoneisp.com/xonewiki/doku.php?id=start',\n",
       " 'https://xoneisp.com/xonewiki/doku.php?id=wiki:4.-cliente:start',\n",
       " 'https://xoneisp.com/XONEWIKI/doku.php?id=wiki:2.-desarrollo-app:2.3.-codigo:a.-estructura-xml:5.-nodo-prop:start',\n",
       " 'https://xoneisp.com/XONEWIKI/doku.php?id=wiki:4.-cliente:4.6.-modulos:a.-nueva-api-impresion:start',\n",
       " 'https://xoneisp.com/XONEWIKI/doku.php?id=wiki:2.-desarrollo-app:2.5.-controles-by-xone:msgbox-personalizado:start',\n",
       " 'https://xoneisp.com/XONEWIKI/doku.php?id=wiki:2.-desarrollo-app:2.3.-codigo:b.-controles-xone:3.-controles-por-tipo:start',\n",
       " 'https://xoneisp.com/XONEWIKI/doku.php?id=wiki:2.-desarrollo-app:2.3.-codigo:c.-eventos:22.-after-recovery-login:start',\n",
       " 'https://xoneisp.com/XONEWIKI/doku.php?id=wiki:3.-servidor:3.7.-xonelive:start',\n",
       " 'https://xoneisp.com/XONEWIKI/doku.php?id=wiki:2.-desarrollo-app:2.3.-codigo:a.-estructura-xml:2.-nodo-coll:start',\n",
       " 'https://xoneisp.com/xonewiki/doku.php?id=start&rev=1716480684',\n",
       " 'https://xoneisp.com/XONEWIKI/doku.php?id=wiki:2.-desarrollo-app:2.0.-xonecloud:menu_proyectos:proyectos:start',\n",
       " 'https://xoneisp.com/XONEWIKI/doku.php?id=wiki:2.-desarrollo-app:2.3.-codigo:i.-herencia:start',\n",
       " 'https://xoneisp.com/XONEWIKI/doku.php?id=wiki:2.-desarrollo-app:2.5.-controles-by-xone:bluetooth:start',\n",
       " 'https://xoneisp.com/XONEWIKI/doku.php?id=wiki:2.-desarrollo-app:2.3.-codigo:c.-eventos:5.-onchange:start',\n",
       " 'https://xoneisp.com/XONEWIKI/doku.php?id=wiki:2.-desarrollo-app:2.5.-controles-by-xone:camara:start',\n",
       " 'https://xoneisp.com/XONEWIKI/doku.php?id=wiki:2.-desarrollo-app:2.5.-controles-by-xone:control_por_voz:start',\n",
       " 'https://xoneisp.com/XONEWIKI/doku.php?id=wiki:3.-servidor:3.11.-actualizar-componentes:start',\n",
       " 'https://xoneisp.com/XONEWIKI/doku.php?id=wiki:3.-servidor:3.5.-replicador:start',\n",
       " 'https://xoneisp.com/XONEWIKI/doku.php?id=wiki:2.-desarrollo-app:2.5.-controles-by-xone:menus:start',\n",
       " 'https://xoneisp.com/XONEWIKI/doku.php?id=wiki:3.-servidor:3.3.-iniciar-instalacion-server:start',\n",
       " 'https://xoneisp.com/XONEWIKI/doku.php?id=wiki:3.-servidor:3.5.-replicador:g.-control-de-errores:start',\n",
       " 'https://xoneisp.com/XONEWIKI/doku.php?id=wiki:2.-desarrollo-app:2.3.-codigo:c.-eventos:9.-onlogon:start',\n",
       " 'https://xoneisp.com/XONEWIKI/doku.php?id=wiki:2.-desarrollo-app:2.0.-xonecloud:menu_proyectos:seguridad:start',\n",
       " 'https://xoneisp.com/XONEWIKI/doku.php?id=wiki:4.-cliente:4.2.-requisitos:start',\n",
       " 'https://xoneisp.com/XONEWIKI/doku.php?id=wiki:4.-cliente:4.1.-frameworks-plataformas:b.-ios-iphone-ipad:start',\n",
       " 'https://xoneisp.com/XONEWIKI/doku.php?id=wiki:2.-desarrollo-app:2.0.-xonecloud:menu_proyectos:entornos:start',\n",
       " 'https://xoneisp.com/XONEWIKI/doku.php?id=wiki:2.-desarrollo-app:start',\n",
       " 'https://xoneisp.com/XONEWIKI/doku.php?id=wiki:2.-desarrollo-app:2.0.-xonecloud:administracion:usuarios:start',\n",
       " 'https://xoneisp.com/XONEWIKI/doku.php?id=wiki:2.-desarrollo-app:2.1.-ide-desarrollo:ide_entorno_pc:a.-publicacion-xonepublish:start',\n",
       " 'https://xoneisp.com/XONEWIKI/doku.php?id=wiki:2.-desarrollo-app:2.5.-controles-by-xone:notificaciones:start',\n",
       " 'https://xoneisp.com/XONEWIKI/doku.php?id=wiki:4.-cliente:4.6.-modulos:start',\n",
       " 'https://xoneisp.com/XONEWIKI/doku.php?id=wiki:3.-servidor:3.5.-replicador:e.-selectividad:start',\n",
       " 'https://xoneisp.com/XONEWIKI/doku.php?id=wiki:2.-desarrollo-app:2.1.-ide-desarrollo:cloudstudio:ventanas:start',\n",
       " 'https://xoneisp.com/xonewiki/doku.php?id=start&do=login&sectok=',\n",
       " 'https://xoneisp.com/xonewiki/feed.php?ns=',\n",
       " 'https://xoneisp.com/XONEWIKI/doku.php?id=wiki:2.-desarrollo-app:2.5.-controles-by-xone:mensajeria:start',\n",
       " 'https://xoneisp.com/XONEWIKI/doku.php?id=wiki:3.-servidor:3.9.-bus-integracion:e.-conector-web-service:start',\n",
       " 'https://creativecommons.org/licenses/by-nc-sa/4.0/deed.es',\n",
       " 'https://xoneisp.com/XONEWIKI/doku.php?id=wiki:4.-cliente:4.3.-iniciar-instalacion:a.-autoregistro:start',\n",
       " 'https://xoneisp.com/XONEWIKI/doku.php?id=wiki:2.-desarrollo-app:2.0.-xonecloud:dispositivos:quiosco:start',\n",
       " 'https://xoneisp.com/XONEWIKI/doku.php?id=wiki:2.-desarrollo-app:2.5.-controles-by-xone:animaciones:animaciones_prop:start',\n",
       " 'https://xoneisp.com/xonewiki/doku.php?id=wiki:3.-servidor:start',\n",
       " 'https://xoneisp.com/XONEWIKI/doku.php?id=wiki:2.-desarrollo-app:2.3.-codigo:b.-controles-xone:start',\n",
       " 'https://xoneisp.com/XONEWIKI/doku.php?id=wiki:2.-desarrollo-app:2.4.-scripting-modelo-objetos:b.-objetos-complementarios:configurar_scanner:start',\n",
       " 'https://xoneisp.com/XONEWIKI/doku.php?id=wiki:3.-servidor:3.5.-replicador:d.-replicador-con-push:start',\n",
       " 'https://xoneisp.com/XONEWIKI/doku.php?id=wiki:2.-desarrollo-app:2.3.-codigo:b.-controles-xone:7.-drawer:start',\n",
       " 'https://xoneisp.com/XONEWIKI/doku.php?id=wiki:2.-desarrollo-app:2.3.-codigo:d.-estilos-css:start',\n",
       " '#',\n",
       " 'https://xoneisp.com/XONEWIKI/doku.php?id=wiki:3.-servidor:3.9.-bus-integracion:g.-conector-multiple-core:start',\n",
       " 'https://xoneisp.com/XONEWIKI/doku.php?id=wiki:2.-desarrollo-app:2.5.-controles-by-xone:ocr:start',\n",
       " 'https://xoneisp.com/XONEWIKI/doku.php?id=wiki:3.-servidor:3.6.-xonemanager:start',\n",
       " 'https://xoneisp.com/XONEWIKI/doku.php?id=wiki:2.-desarrollo-app:2.3.-codigo:c.-eventos:15.-binding:start',\n",
       " 'https://xoneisp.com/XONEWIKI/doku.php?id=wiki:2.-desarrollo-app:2.3.-codigo:c.-eventos:6.-delete:start',\n",
       " 'https://xoneisp.com/XONEWIKI/doku.php?id=wiki:2.-desarrollo-app:2.3.-codigo:c.-eventos:33.-onclick:start',\n",
       " 'https://xoneisp.com/XONEWIKI/doku.php?id=wiki:4.-cliente:4.3.-iniciar-instalacion:b.-guia-instalacion-plataformas:start',\n",
       " 'https://xoneisp.com/XONEWIKI/doku.php?id=wiki:2.-desarrollo-app:2.3.-codigo:c.-eventos:32.-onfocuschanged:start',\n",
       " 'https://xoneisp.com/XONEWIKI/doku.php?id=wiki:2.-desarrollo-app:2.3.-codigo:a.-estructura-xml:4.-nodo-frame:start',\n",
       " 'https://xoneisp.com/XONEWIKI/doku.php?id=wiki:3.-servidor:3.19.-tecnologia-push:a.-ahorro-bateria:start',\n",
       " 'https://xoneisp.com/XONEWIKI/doku.php?id=wiki:1.-Tecnologia-XOne:start',\n",
       " 'https://xoneisp.com/XONEWIKI/doku.php?id=wiki:3.-servidor:3.18.-Autorregistro:start',\n",
       " 'https://xoneisp.com/XONEWIKI/doku.php?id=wiki:2.-desarrollo-app:2.0.-xonecloud:dispositivos:mam:start',\n",
       " 'https://xoneisp.com/XONEWIKI/doku.php?id=wiki:4.-cliente:4.5.-cliente-replica:a.-configuracion:start',\n",
       " 'https://xoneisp.com/XONEWIKI/doku.php?id=wiki:2.-desarrollo-app:2.1.-ide-desarrollo:cloudstudio:start',\n",
       " 'https://xoneisp.com/XONEWIKI/doku.php?id=wiki:2.-desarrollo-app:2.5.-controles-by-xone:mapas:start',\n",
       " 'https://xoneisp.com/XONEWIKI/doku.php?id=wiki:2.-desarrollo-app:2.4.-scripting-modelo-objetos:b.-objetos-complementarios:start',\n",
       " 'https://xoneisp.com/XONEWIKI/doku.php?id=wiki:2.-desarrollo-app:2.3.-codigo:b.-controles-xone:2.-menu:start',\n",
       " 'https://xoneisp.com/XONEWIKI/doku.php?id=wiki:2.-desarrollo-app:2.5.-controles-by-xone:controlsms:start',\n",
       " 'https://xoneisp.com/XONEWIKI/doku.php?id=wiki:4.-cliente:4.4.-xonelive-cliente:android:start',\n",
       " 'https://xoneisp.com/XONEWIKI/doku.php?id=wiki:4.-cliente:4.6.-modulos:f.-modo-kiosko:start',\n",
       " 'https://xoneisp.com/XONEWIKI/doku.php?id=wiki:3.-servidor:3.2.-requisitos:start',\n",
       " 'https://xoneisp.com/XONEWIKI/doku.php?id=wiki:5.-miscelanea:5.8.-expresiones-cron:start',\n",
       " 'https://xoneisp.com/xonewiki/doku.php?id=wiki:5.-miscelanea:start',\n",
       " 'https://xoneisp.com/XONEWIKI/doku.php?id=wiki:2.-desarrollo-app:2.5.-controles-by-xone:animaciones:animaciones_group:start',\n",
       " 'https://xoneisp.com/XONEWIKI/doku.php?id=wiki:2.-desarrollo-app:2.5.-controles-by-xone:carga-de-imagenes-desde-bd:start',\n",
       " 'https://xoneisp.com/XONEWIKI/doku.php?id=wiki:5.-miscelanea:5.4.-indice-realizacion-aplicacion:start',\n",
       " 'https://xoneisp.com/XONEWIKI/doku.php?id=wiki:3.-servidor:3.3.-iniciar-instalacion-server:b.-instalacion-proyecto-adicional:start',\n",
       " 'https://xoneisp.com/XONEWIKI/doku.php?id=wiki:2.-desarrollo-app:2.3.-codigo:c.-eventos:23.-permissions:start',\n",
       " 'https://xoneisp.com/XONEWIKI/doku.php?id=wiki:3.-servidor:3.19.-tecnologia-push:b.-registro-servidor-push:start',\n",
       " 'https://xoneisp.com/XONEWIKI/doku.php?id=wiki:3.-servidor:3.4.-xonerepository:start',\n",
       " 'https://xoneisp.com/XONEWIKI/doku.php?id=wiki:2.-desarrollo-app:2.3.-codigo:c.-eventos:2.-create:start',\n",
       " 'https://xoneisp.com/XONEWIKI/doku.php?id=wiki:2.-desarrollo-app:2.3.-codigo:g.-macros:start',\n",
       " 'https://xoneisp.com/XONEWIKI/doku.php?id=wiki:4.-cliente:4.3.-iniciar-instalacion:start',\n",
       " 'https://xoneisp.com/XONEWIKI/doku.php?id=wiki:4.-cliente:4.1.-frameworks-plataformas:a.-android:2.-emulador-android:start',\n",
       " 'https://xoneisp.com/XONEWIKI/doku.php?id=wiki:3.-servidor:3.5.-replicador:a.-esquema:start',\n",
       " 'https://xoneisp.com/XONEWIKI/doku.php?id=wiki:2.-desarrollo-app:2.3.-codigo:c.-eventos:14.-reglas-de-negocio:start',\n",
       " 'https://xoneisp.com/XONEWIKI/doku.php?id=wiki:2.-desarrollo-app:2.3.-codigo:c.-eventos:7.-maintenance:start',\n",
       " 'https://xoneisp.com/XONEWIKI/doku.php?id=wiki:2.-desarrollo-app:2.5.-controles-by-xone:colecciones-online:start',\n",
       " 'https://xoneisp.com/XONEWIKI/doku.php?id=wiki:2.-desarrollo-app:2.5.-controles-by-xone:animaciones:animaciones_coll:start',\n",
       " 'https://xoneisp.com/XONEWIKI/doku.php?id=wiki:3.-servidor:3.9.-bus-integracion:d.-conector-sap:start',\n",
       " 'https://xoneisp.com/XONEWIKI/doku.php?id=wiki:2.-desarrollo-app:2.5.-controles-by-xone:menus:4.-vista-slideview:start',\n",
       " 'https://xoneisp.com/XONEWIKI/doku.php?id=wiki:2.-desarrollo-app:2.5.-controles-by-xone:visor-de-pdfs:start']"
      ]
     },
     "execution_count": 4,
     "metadata": {},
     "output_type": "execute_result"
    }
   ],
   "source": [
    "ed = Website(\"https://xoneisp.com/xonewiki/doku.php\")\n",
    "ed.links"
   ]
  },
  {
   "cell_type": "markdown",
   "id": "1771af9c-717a-4fca-bbbe-8a95893312c3",
   "metadata": {},
   "source": [
    "## First step: Have GPT-4o-mini figure out which links are relevant\n",
    "\n",
    "### Use a call to gpt-4o-mini to read the links on a webpage, and respond in structured JSON.  \n",
    "It should decide which links are relevant, and replace relative links such as \"/about\" with \"https://company.com/about\".  \n",
    "We will use \"one shot prompting\" in which we provide an example of how it should respond in the prompt.\n",
    "\n",
    "This is an excellent use case for an LLM, because it requires nuanced understanding. Imagine trying to code this without LLMs by parsing and analyzing the webpage - it would be very hard!\n",
    "\n",
    "Sidenote: there is a more advanced technique called \"Structured Outputs\" in which we require the model to respond according to a spec. We cover this technique in Week 8 during our autonomous Agentic AI project."
   ]
  },
  {
   "cell_type": "code",
   "execution_count": 4,
   "id": "6957b079-0d96-45f7-a26a-3487510e9b35",
   "metadata": {},
   "outputs": [],
   "source": [
    "link_system_prompt = \"You are provided with a list of links found on a webpage. \\\n",
    "You are able to decide which of the links would be most relevant to include in a brochure about the company, \\\n",
    "such as links to an About page, or a Company page, or Careers/Jobs pages.\\n\"\n",
    "link_system_prompt += \"You should respond in JSON as in this example:\"\n",
    "link_system_prompt += \"\"\"\n",
    "{\n",
    "    \"links\": [\n",
    "        {\"type\": \"about page\", \"url\": \"https://full.url/goes/here/about\"},\n",
    "        {\"type\": \"careers page\": \"url\": \"https://another.full.url/careers\"}\n",
    "    ]\n",
    "}\n",
    "\"\"\""
   ]
  },
  {
   "cell_type": "code",
   "execution_count": null,
   "id": "b97e4068-97ed-4120-beae-c42105e4d59a",
   "metadata": {},
   "outputs": [],
   "source": [
    "print(link_system_prompt)"
   ]
  },
  {
   "cell_type": "code",
   "execution_count": 5,
   "id": "8e1f601b-2eaf-499d-b6b8-c99050c9d6b3",
   "metadata": {},
   "outputs": [],
   "source": [
    "def get_links_user_prompt(website):\n",
    "    user_prompt = f\"Here is the list of links on the website of {website.url} - \"\n",
    "    user_prompt += \"please decide which of these are relevant web links for a brochure about the company, respond with the full https URL in JSON format. \\\n",
    "Do not include Terms of Service, Privacy, email links.\\n\"\n",
    "    user_prompt += \"Links (some might be relative links):\\n\"\n",
    "    user_prompt += \"\\n\".join(website.links)\n",
    "    return user_prompt"
   ]
  },
  {
   "cell_type": "code",
   "execution_count": null,
   "id": "6bcbfa78-6395-4685-b92c-22d592050fd7",
   "metadata": {},
   "outputs": [],
   "source": [
    "print(get_links_user_prompt(ed))"
   ]
  },
  {
   "cell_type": "code",
   "execution_count": 6,
   "id": "a29aca19-ca13-471c-a4b4-5abbfa813f69",
   "metadata": {},
   "outputs": [],
   "source": [
    "def get_links(url):\n",
    "    website = Website(url)\n",
    "    response = openai.chat.completions.create(\n",
    "        model=MODEL,\n",
    "        messages=[\n",
    "            {\"role\": \"system\", \"content\": link_system_prompt},\n",
    "            {\"role\": \"user\", \"content\": get_links_user_prompt(website)}\n",
    "      ],\n",
    "        response_format={\"type\": \"json_object\"}\n",
    "    )\n",
    "    result = response.choices[0].message.content\n",
    "    return json.loads(result)"
   ]
  },
  {
   "cell_type": "code",
   "execution_count": null,
   "id": "74a827a0-2782-4ae5-b210-4a242a8b4cc2",
   "metadata": {},
   "outputs": [],
   "source": [
    "# Anthropic has made their site harder to scrape, so I'm using HuggingFace..\n",
    "\n",
    "huggingface = Website(\"https://huggingface.co\")\n",
    "huggingface.links"
   ]
  },
  {
   "cell_type": "code",
   "execution_count": 15,
   "id": "d3d583e2-dcc4-40cc-9b28-1e8dbf402924",
   "metadata": {},
   "outputs": [
    {
     "name": "stderr",
     "output_type": "stream",
     "text": [
      "d:\\Anaconda\\envs\\llms\\Lib\\site-packages\\urllib3\\connectionpool.py:1097: InsecureRequestWarning: Unverified HTTPS request is being made to host 'huggingface.co'. Adding certificate verification is strongly advised. See: https://urllib3.readthedocs.io/en/latest/advanced-usage.html#tls-warnings\n",
      "  warnings.warn(\n"
     ]
    },
    {
     "data": {
      "text/plain": [
       "{'links': [{'type': 'about page', 'url': 'https://huggingface.co'},\n",
       "  {'type': 'blog', 'url': 'https://huggingface.co/blog'},\n",
       "  {'type': 'jobs page', 'url': 'https://apply.workable.com/huggingface/'},\n",
       "  {'type': 'GitHub page', 'url': 'https://github.com/huggingface'},\n",
       "  {'type': 'LinkedIn page',\n",
       "   'url': 'https://www.linkedin.com/company/huggingface/'},\n",
       "  {'type': 'discussion forum', 'url': 'https://discuss.huggingface.co'}]}"
      ]
     },
     "execution_count": 15,
     "metadata": {},
     "output_type": "execute_result"
    }
   ],
   "source": [
    "get_links(\"https://huggingface.co\")"
   ]
  },
  {
   "cell_type": "markdown",
   "id": "0d74128e-dfb6-47ec-9549-288b621c838c",
   "metadata": {},
   "source": [
    "## Second step: make the brochure!\n",
    "\n",
    "Assemble all the details into another prompt to GPT4-o"
   ]
  },
  {
   "cell_type": "code",
   "execution_count": 7,
   "id": "85a5b6e2-e7ef-44a9-bc7f-59ede71037b5",
   "metadata": {},
   "outputs": [],
   "source": [
    "def get_all_details(url):\n",
    "    result = \"Landing page:\\n\"\n",
    "    result += Website(url).get_contents()\n",
    "    links = get_links(url)\n",
    "    print(\"Found links:\", links)\n",
    "    for link in links[\"links\"]:\n",
    "        result += f\"\\n\\n{link['type']}\\n\"\n",
    "        result += Website(link[\"url\"]).get_contents()\n",
    "    return result"
   ]
  },
  {
   "cell_type": "code",
   "execution_count": null,
   "id": "5099bd14-076d-4745-baf3-dac08d8e5ab2",
   "metadata": {},
   "outputs": [],
   "source": [
    "print(get_all_details(\"https://huggingface.co\"))"
   ]
  },
  {
   "cell_type": "code",
   "execution_count": 8,
   "id": "9b863a55-f86c-4e3f-8a79-94e24c1a8cf2",
   "metadata": {},
   "outputs": [],
   "source": [
    "system_prompt = \"You are an assistant that analyzes the contents of several relevant pages from a company website \\\n",
    "and creates a short brochure about the company for prospective customers, investors and recruits. Respond in markdown.\\\n",
    "Include details of company culture, customers and careers/jobs if you have the information.\"\n",
    "\n",
    "# Or uncomment the lines below for a more humorous brochure - this demonstrates how easy it is to incorporate 'tone':\n",
    "\n",
    "# system_prompt = \"You are an assistant that analyzes the contents of several relevant pages from a company website \\\n",
    "# and creates a short humorous, entertaining, jokey brochure about the company for prospective customers, investors and recruits. Respond in markdown.\\\n",
    "# Include details of company culture, customers and careers/jobs if you have the information.\"\n"
   ]
  },
  {
   "cell_type": "code",
   "execution_count": 13,
   "id": "6ab83d92-d36b-4ce0-8bcc-5bb4c2f8ff23",
   "metadata": {},
   "outputs": [],
   "source": [
    "def get_brochure_user_prompt(company_name, url):\n",
    "    user_prompt = f\"You are looking at a company called: {company_name}\\n\"\n",
    "    user_prompt += f\"Here are the contents of its landing page and other relevant pages; use this information to build a short brochure of the company in spanish.\\n\"\n",
    "    user_prompt += f\"the output should be in markdown.\\n\"\n",
    "    user_prompt += get_all_details(url)\n",
    "    user_prompt = user_prompt[:20_000] # Truncate if more than 5,000 characters\n",
    "    return user_prompt"
   ]
  },
  {
   "cell_type": "code",
   "execution_count": null,
   "id": "cd909e0b-1312-4ce2-a553-821e795d7572",
   "metadata": {},
   "outputs": [],
   "source": [
    "get_brochure_user_prompt(\"HuggingFace\", \"https://huggingface.co\")"
   ]
  },
  {
   "cell_type": "code",
   "execution_count": 11,
   "id": "e44de579-4a1a-4e6a-a510-20ea3e4b8d46",
   "metadata": {},
   "outputs": [],
   "source": [
    "def create_brochure(company_name, url):\n",
    "    response = openai.chat.completions.create(\n",
    "        model=MODEL,\n",
    "        messages=[\n",
    "            {\"role\": \"system\", \"content\": system_prompt},\n",
    "            {\"role\": \"user\", \"content\": get_brochure_user_prompt(company_name, url)}\n",
    "          ],\n",
    "    )\n",
    "    result = response.choices[0].message.content\n",
    "    display(Markdown(result))"
   ]
  },
  {
   "cell_type": "code",
   "execution_count": null,
   "id": "e093444a-9407-42ae-924a-145730591a39",
   "metadata": {},
   "outputs": [],
   "source": [
    "# create_brochure(\"HuggingFace\", \"https://huggingface.com\")\n",
    "create_brochure(\"Serviloc\", \"https://serviloc.es/\")"
   ]
  },
  {
   "cell_type": "markdown",
   "id": "61eaaab7-0b47-4b29-82d4-75d474ad8d18",
   "metadata": {},
   "source": [
    "## Finally - a minor improvement\n",
    "\n",
    "With a small adjustment, we can change this so that the results stream back from OpenAI,\n",
    "with the familiar typewriter animation"
   ]
  },
  {
   "cell_type": "code",
   "execution_count": 16,
   "id": "51db0e49-f261-4137-aabe-92dd601f7725",
   "metadata": {},
   "outputs": [],
   "source": [
    "def stream_brochure(company_name, url):\n",
    "    stream = openai.chat.completions.create(\n",
    "        model=MODEL,\n",
    "        messages=[\n",
    "            {\"role\": \"system\", \"content\": system_prompt},\n",
    "            {\"role\": \"user\", \"content\": get_brochure_user_prompt(company_name, url)}\n",
    "          ],\n",
    "        stream=True\n",
    "    )\n",
    "    \n",
    "    response = \"\"\n",
    "    display_handle = display(Markdown(\"\"), display_id=True)\n",
    "    for chunk in stream:\n",
    "        response += chunk.choices[0].delta.content or ''\n",
    "        response = response.replace(\"```\",\"\").replace(\"markdown\", \"\")\n",
    "        update_display(Markdown(response), display_id=display_handle.display_id)"
   ]
  },
  {
   "cell_type": "code",
   "execution_count": null,
   "id": "56bf0ae3-ee9d-4a72-9cd6-edcac67ceb6d",
   "metadata": {},
   "outputs": [],
   "source": [
    "stream_brochure(\"HuggingFace\", \"https://huggingface.co\")"
   ]
  },
  {
   "cell_type": "code",
   "execution_count": null,
   "id": "fdb3f8d8-a3eb-41c8-b1aa-9f60686a653b",
   "metadata": {},
   "outputs": [],
   "source": [
    "# Try changing the system prompt to the humorous version when you make the Brochure for Hugging Face:\n",
    "\n",
    "stream_brochure(\"serviloc\", \"https://serviloc.es/\")"
   ]
  },
  {
   "cell_type": "markdown",
   "id": "a27bf9e0-665f-4645-b66b-9725e2a959b5",
   "metadata": {},
   "source": [
    "<table style=\"margin: 0; text-align: left;\">\n",
    "    <tr>\n",
    "        <td style=\"width: 150px; height: 150px; vertical-align: middle;\">\n",
    "            <img src=\"../business.jpg\" width=\"150\" height=\"150\" style=\"display: block;\" />\n",
    "        </td>\n",
    "        <td>\n",
    "            <h2 style=\"color:#181;\">Business applications</h2>\n",
    "            <span style=\"color:#181;\">In this exercise we extended the Day 1 code to make multiple LLM calls, and generate a document.\n",
    "\n",
    "This is perhaps the first example of Agentic AI design patterns, as we combined multiple calls to LLMs. This will feature more in Week 2, and then we will return to Agentic AI in a big way in Week 8 when we build a fully autonomous Agent solution.\n",
    "\n",
    "Generating content in this way is one of the very most common Use Cases. As with summarization, this can be applied to any business vertical. Write marketing content, generate a product tutorial from a spec, create personalized email content, and so much more. Explore how you can apply content generation to your business, and try making yourself a proof-of-concept prototype.</span>\n",
    "        </td>\n",
    "    </tr>\n",
    "</table>"
   ]
  },
  {
   "cell_type": "markdown",
   "id": "14b2454b-8ef8-4b5c-b928-053a15e0d553",
   "metadata": {},
   "source": [
    "<table style=\"margin: 0; text-align: left;\">\n",
    "    <tr>\n",
    "        <td style=\"width: 150px; height: 150px; vertical-align: middle;\">\n",
    "            <img src=\"../important.jpg\" width=\"150\" height=\"150\" style=\"display: block;\" />\n",
    "        </td>\n",
    "        <td>\n",
    "            <h2 style=\"color:#900;\">Before you move to Week 2 (which is tons of fun)</h2>\n",
    "            <span style=\"color:#900;\">Please see the week1 EXERCISE notebook for your challenge for the end of week 1. This will give you some essential practice working with Frontier APIs, and prepare you well for Week 2.</span>\n",
    "        </td>\n",
    "    </tr>\n",
    "</table>"
   ]
  },
  {
   "cell_type": "markdown",
   "id": "17b64f0f-7d33-4493-985a-033d06e8db08",
   "metadata": {},
   "source": [
    "<table style=\"margin: 0; text-align: left;\">\n",
    "    <tr>\n",
    "        <td style=\"width: 150px; height: 150px; vertical-align: middle;\">\n",
    "            <img src=\"../resources.jpg\" width=\"150\" height=\"150\" style=\"display: block;\" />\n",
    "        </td>\n",
    "        <td>\n",
    "            <h2 style=\"color:#f71;\">A reminder on 2 useful resources</h2>\n",
    "            <span style=\"color:#f71;\">1. The resources for the course are available <a href=\"https://edwarddonner.com/2024/11/13/llm-engineering-resources/\">here.</a><br/>\n",
    "            2. I'm on LinkedIn <a href=\"https://www.linkedin.com/in/eddonner/\">here</a> and I love connecting with people taking the course!\n",
    "            </span>\n",
    "        </td>\n",
    "    </tr>\n",
    "</table>"
   ]
  },
  {
   "cell_type": "markdown",
   "id": "6f48e42e-fa7a-495f-a5d4-26bfc24d60b6",
   "metadata": {},
   "source": [
    "<table style=\"margin: 0; text-align: left;\">\n",
    "    <tr>\n",
    "        <td style=\"width: 150px; height: 150px; vertical-align: middle;\">\n",
    "            <img src=\"../thankyou.jpg\" width=\"150\" height=\"150\" style=\"display: block;\" />\n",
    "        </td>\n",
    "        <td>\n",
    "            <h2 style=\"color:#090;\">Finally! I have a special request for you</h2>\n",
    "            <span style=\"color:#090;\">\n",
    "                My editor tells me that it makes a MASSIVE difference when students rate this course on Udemy - it's one of the main ways that Udemy decides whether to show it to others. If you're able to take a minute to rate this, I'd be so very grateful! And regardless - always please reach out to me at ed@edwarddonner.com if I can help at any point.\n",
    "            </span>\n",
    "        </td>\n",
    "    </tr>\n",
    "</table>"
   ]
  },
  {
   "cell_type": "code",
   "execution_count": null,
   "id": "b8d3e1a1-ba54-4907-97c5-30f89a24775b",
   "metadata": {},
   "outputs": [],
   "source": []
  }
 ],
 "metadata": {
  "kernelspec": {
   "display_name": "llms",
   "language": "python",
   "name": "python3"
  },
  "language_info": {
   "codemirror_mode": {
    "name": "ipython",
    "version": 3
   },
   "file_extension": ".py",
   "mimetype": "text/x-python",
   "name": "python",
   "nbconvert_exporter": "python",
   "pygments_lexer": "ipython3",
   "version": "3.11.11"
  }
 },
 "nbformat": 4,
 "nbformat_minor": 5
}
