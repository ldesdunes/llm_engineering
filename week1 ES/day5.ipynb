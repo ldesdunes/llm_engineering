{
 "cells": [
  {
   "cell_type": "markdown",
   "id": "a98030af-fcd1-4d63-a36e-38ba053498fa",
   "metadata": {},
   "source": [
    "# Una solución empresarial completa\n",
    "\n",
    "## Ahora llevaremos nuestro proyecto del día 1 al siguiente nivel\n",
    "\n",
    "### DESAFÍO EMPRESARIAL:\n",
    "\n",
    "Crear un producto que genere un folleto para una empresa que se utilizará para posibles clientes, inversores y posibles reclutas.\n",
    "\n",
    "Se nos proporcionará un nombre de empresa y su sitio web principal.\n",
    "\n",
    "Consulte el final de este cuaderno para ver ejemplos de aplicaciones empresariales del mundo real.\n",
    "\n",
    "Y recuerde: ¡siempre estoy disponible si tiene problemas o ideas! No dude en comunicarse conmigo."
   ]
  },
  {
   "cell_type": "code",
   "execution_count": 1,
   "id": "d5b08506-dc8b-4443-9201-5f1848161363",
   "metadata": {},
   "outputs": [],
   "source": [
    "# imports\n",
    "# Si esto falla, verifica que esté ejecutándose desde un entorno \"activado\" con (llms) en el símbolo del sistema\n",
    "\n",
    "import os\n",
    "import requests\n",
    "import json\n",
    "from typing import List\n",
    "from dotenv import load_dotenv\n",
    "from bs4 import BeautifulSoup\n",
    "from IPython.display import Markdown, display, update_display\n",
    "from openai import OpenAI"
   ]
  },
  {
   "cell_type": "code",
   "execution_count": 2,
   "id": "fc5d8880-f2ee-4c06-af16-ecbc0262af61",
   "metadata": {},
   "outputs": [
    {
     "name": "stdout",
     "output_type": "stream",
     "text": [
      "¿Puede haber un problema con tu clave API? ¡Visita el cuaderno de resolución de problemas!\n"
     ]
    }
   ],
   "source": [
    "# Inicialización y constantes and constants\n",
    "\n",
    "load_dotenv()\n",
    "api_key = os.getenv('OPENAI_API_KEY')\n",
    "\n",
    "if api_key and api_key[:8]=='sk-proj-':\n",
    "    print(\"La clave de API parece buena\")\n",
    "else:\n",
    "    print(\"¿Puede haber un problema con tu clave API? ¡Visita el cuaderno de resolución de problemas!\")\n",
    "    \n",
    "MODEL = 'gpt-4o-mini'\n",
    "openai = OpenAI()"
   ]
  },
  {
   "cell_type": "code",
   "execution_count": 8,
   "id": "106dd65e-90af-4ca8-86b6-23a41840645b",
   "metadata": {},
   "outputs": [],
   "source": [
    "# La clase para representar una Página Web\n",
    "\n",
    "class Website:\n",
    "    \"\"\"\n",
    "    Una clase de utilidad para representar un sitio web que hemos scrappeado, ahora con enlaces\n",
    "    \"\"\"\n",
    "\n",
    "    def __init__(self, url):\n",
    "        self.url = url\n",
    "        response = requests.get(url, verify=False)\n",
    "        self.body = response.content\n",
    "        soup = BeautifulSoup(self.body, 'html.parser')\n",
    "        self.title = soup.title.string if soup.title else \"Sin título\"\n",
    "        if soup.body:\n",
    "            for irrelevant in soup.body([\"script\", \"style\", \"img\", \"input\"]):\n",
    "                irrelevant.decompose()\n",
    "            self.text = soup.body.get_text(separator=\"\\n\", strip=True)\n",
    "        else:\n",
    "            self.text = \"\"\n",
    "        links = {link.get('href') for link in soup.find_all('a')}\n",
    "        self.links = [link for link in links if link]\n",
    "\n",
    "    def get_contents(self):\n",
    "        return f\"Título de la Web:\\n{self.title}\\nContenido de la Web:\\n{self.text}\\n\\n\""
   ]
  },
  {
   "cell_type": "code",
   "execution_count": 9,
   "id": "e30d8128-933b-44cc-81c8-ab4c9d86589a",
   "metadata": {},
   "outputs": [
    {
     "name": "stderr",
     "output_type": "stream",
     "text": [
      "d:\\Anaconda\\envs\\llms\\Lib\\site-packages\\urllib3\\connectionpool.py:1097: InsecureRequestWarning: Unverified HTTPS request is being made to host 'cursos.frogamesformacion.com'. Adding certificate verification is strongly advised. See: https://urllib3.readthedocs.io/en/latest/advanced-usage.html#tls-warnings\n",
      "  warnings.warn(\n"
     ]
    },
    {
     "name": "stdout",
     "output_type": "stream",
     "text": [
      "Título de la Web:\n",
      "Frogames\n",
      "Contenido de la Web:\n",
      "Ir al contenido principal\n",
      "Frogames\n",
      "Menú alternativo\n",
      "Menú\n",
      "Iniciar sesión\n",
      "Ganadora del premio 'Enseñanza online de datos y competencias digitales más innovadora de Europa, 2023'\n",
      "Pasión por\n",
      "aprender\n",
      "con los\n",
      "mejores\n",
      "En Frogames Formación te ayudamos a convertirte en todo un experto en: Programación de Videojuegos, Inteligencia Artificial, Machine Learning, Desarrollo de Apps, Data Science y mucho más.\n",
      "Aprende mientras te diviertes\n",
      "Cursos, Rutas y Suscripciones\n",
      "Certificados de finalización\n",
      "Qué encontrarás\n",
      "dentro\n",
      "de Frogames\n",
      "Cursos online y formación de calidad para toda la família\n",
      "Rutas temáticas\n",
      "Rutas organizadas para que aprendas paso a paso, subiendo cada escalón e incrementando tus conocimientos adquiridos\n",
      "Instructores Expertos\n",
      "Con un equipo de profesionales y expertos en la materia que te acompañará a lo largo de todo el aprendizaje en la plataforma\n",
      "Certificados blockchain\n",
      "Títulos verificados por blockchain para cada habilidad que aprendas, listos para compartir en tus redes sociales y mejorar tu CV\n",
      "Constantes actualizaciones\n",
      "Cada semana añadiremos nuevos o actualizaremos nuestros cursos. Extenderemos las rutas con actualizaciones periódicas.\n",
      "Los\n",
      "cursos\n",
      "top\n",
      "Nuevos Lanzamientos\n",
      "Los más vendidos\n",
      "Todos los Cursos\n",
      "🎬 La Fórmula Secreta de las Bandas Sonoras que Hacen Historia 🎶\n",
      "0\n",
      "(0)\n",
      "82\n",
      "Ingeniería de LLM: Domina la IA Generativa y los Modelos de lenguaje de gran tamaño (LLM)\n",
      "5.0\n",
      "(1)\n",
      "290\n",
      "Diseña Software Sólido con Principios SOLID\n",
      "5.0\n",
      "(1)\n",
      "62\n",
      "Fundamentos Intermedios de Matemáticas para Machine Learning\n",
      "5.0\n",
      "(3)\n",
      "101\n",
      "Organiza tu Conocimiento con Obsidian: De la Toma de Notas a la Creación de tu Segundo Cerebro\n",
      "5.0\n",
      "(4)\n",
      "39\n",
      "Aprende Matemáticas desde Cero - Trigonometría\n",
      "5.0\n",
      "(3)\n",
      "195\n",
      "Domina Kotlin desde Cero: Software con Estándares de Calidad\n",
      "5.0\n",
      "(3)\n",
      "152\n",
      "Fundamentos de Matemáticas para Machine Learning\n",
      "5.0\n",
      "(5)\n",
      "120\n",
      "Control de versiones con Git, Github, BitBucket y SourceTree\n",
      "5.0\n",
      "(5)\n",
      "68\n",
      "Guía Esencial para Iniciar tu Presencia en Redes Sociales\n",
      "5.0\n",
      "(3)\n",
      "15\n",
      "Introducción a C# para desarrolladores de videojuegos\n",
      "5.0\n",
      "(4)\n",
      "97\n",
      "Shaders en Unreal Engine 5 de la A a la Z\n",
      "5.0\n",
      "(4)\n",
      "43\n",
      "Aprende Matemáticas desde Cero - Aritmética\n",
      "5.0\n",
      "(20)\n",
      "345\n",
      "Guía definitiva de ChatGPT: domina la productividad con ejemplos reales\n",
      "5.0\n",
      "(9)\n",
      "82\n",
      "15 días de Power BI - El bootcamp completo de Power BI\n",
      "5.0\n",
      "(17)\n",
      "199\n",
      "Machine Learning de la A a la Z\n",
      "5.0\n",
      "(23)\n",
      "304\n",
      "Curso de desarrollo de videojuegos con Unity 2021\n",
      "5.0\n",
      "(16)\n",
      "339\n",
      "Trading algorítmico para principiantes: de cero a héroe\n",
      "4.9\n",
      "(14)\n",
      "102\n",
      "Curso Completo de Unreal Engine 5\n",
      "5.0\n",
      "(12)\n",
      "129\n",
      "Curso completo de Python de la A a la Z\n",
      "5.0\n",
      "(45)\n",
      "498\n",
      "Más de\n",
      "500.000\n",
      "estudiantes de\n",
      "todos\n",
      "los niveles satisfechos\n",
      "Nuestros estudiantes han desarrollado sus habilidades gracias a nuestros cursos. Estas son algunas de sus historias.\n",
      "Me gusta aprender en Frogames porque sus cursos son especializados\n",
      "Realmente prácticos, muy avanzados en contenido lo que es un reto muy emocionante. Estoy aprendiendo las bases matemáticas de los videojuegos, lo que pocos enseñan o solamente lo hacen superficialmente, siempre que ingreso a la plataforma estoy con una sonrisa de oreja a oreja\n",
      "Edwyn Mendoza\n",
      "Me encanta ser parte de una comunidad donde se aprende, crece y también se disfruta.\n",
      "Siempre estaré eternamente agradecida de todas las herramientas que Frogrames me ha entregado tan generosamente como persona y profesional. Lo recomiendo sin duda alguna con los ojos cerrados.\n",
      "Javiera Constanza Vallejos Jara\n",
      "Desde el primer momento elegí la suscripción anual por todas las ventajas que ofrece.\n",
      "Sabía que sería una decisión acertada desde el primer momento. Ahora puedo acceder a todos los cursos que quiero y con nuevo contenido cada semana. ¡Me encanta Frogames Formación!\n",
      "Matias Ángel Bloisi\n",
      "¡Me encanta aprender aquí!\n",
      "Es el lugar adecuado para aprender diferentes temáticas en un solo lugar. Con profesores que dominan el tema y te ayudan en todo momento. Estoy encantado de estar junto a esta comunidad de amigos.\n",
      "Eulogio Enamorado Pallares\n",
      "Estoy muy satisfecho y lo recomiendo 100%\n",
      "Destaco de la plataforma es que el curso que me encuentro realizando, explican no sólo el curso en sí, sino cómo preparar los entornos de desarrollo que muchas veces se obvian en otros lados. Además el curso se lleva a cabo con un caso real en el cloud y también existen clases bono que permite realizar los casos como Senior, y que sólo se lograría con algunos años de experiencia.\n",
      "Alexis G. Álvarez\n",
      "Mi ilusión diaria es mi curso de Frogames\n",
      "A mis 45 años me decidí a estudiar programación, inicié un curso de FP, pero donde disfruto aprendiendo es en Frogames, la calidad de su equipo humano es la mejor que he visto hasta ahora en cursos online.\n",
      "Toni Peña Palencia\n",
      "Motivación y cambio positivo en la vida.\n",
      "Hubo en mi vida, un momento que necesitaba dar un giro, salir de la rutina, empecé a buscar nuevos desafíos y me encontré con Frogames. Aquí pude encontrar profesores con alto dominio en los temas actuales de matemáticas, programación e Inteligencia Artificial. Estoy feliz y fue una buena decisión.\n",
      "Christian Cadena R.\n",
      "Oportunidad de formación X2\n",
      "Me permite estudiar desarrollo de juegos y al mismo tiempo estudiar informática en la universidad, soy de Venezuela y jamás pensé en tener la oportunidad de aprender tantas cosas que amo a tan bajo precio y de forma tan completa en cualquier momento.\n",
      "Sebastián Terán\n",
      "En\n",
      "Frogames\n",
      "hemos creado una plataforma para gente como\n",
      "tú\n",
      "...\n",
      "Licenciado en matemáticas y máster en educación. Juan Gabriel Gomila dedicó sus primeros años de trabajo en una empresa de videojuegos de Mallorca.\n",
      "Después de tres años, empezó a grabar cursos online en su casa para cumplir una misión: enseñar al resto del mundo lo que él había aprendido para dar opciones a todo el mundo que quisiera tomar sus cursos.\n",
      "Años después y con todo lo aprendido en varias plataformas como Udemy o Platzi, fundó Frogames junto a María Santos, donde el equipo docente de más de 20 instructores online ha enseñado a más de 500.000 estudiantes en todo el mundo en habla hispana.\n",
      "Empieza a aprender con nosotros hoy mismo\n",
      "Para que puedas conocer nuestra plataforma y todo lo que puedes aprender en ella, te hacemos entrega de este curso totalmente gratuito para que te inicies desde cero en el mundo del trading algorítmico con Python.\n",
      "¡Así podrás conocer nuestras competiciones, certificados blockchain, logros, comunidad de estudiantes y mucho más!\n",
      "¡Esperamos que lo disfrutes!\n",
      "¡Sí! ¡Quiero mi curso gratis!\n",
      "FORMACIÓN PARA EMPRESAS\n",
      "Frogames para\n",
      "Empresas\n",
      "marca una ventaja\n",
      "competitiva\n",
      ".\n",
      "Conoce a Alberto Valls, que ha aprendido a gestionar su planta en Valencia gracias a los cursos de Power BI\n",
      "Empresas formadas\n",
      "Frogames para Empresas\n",
      "Trustpilot\n",
      "¿Qué\n",
      "temas\n",
      "quieres aprender?\n",
      "C#\n",
      "Excel\n",
      "Habilidades Blandas\n",
      "Java\n",
      "Kotlin\n",
      "Machine Learning\n",
      "Marketing\n",
      "Power BI\n",
      "Python\n",
      "R\n",
      "Reporting\n",
      "SQL\n",
      "Solidity\n",
      "Swift\n",
      "Tableau\n",
      "Unity\n",
      "Unreal Engine\n",
      "Web\n",
      "Conoce todas nuestras\n",
      "Rutas de Aprendizaje\n",
      "Matemáticas desde Cero\n",
      "Matemáticas\n",
      "Lenguajes de Programación\n",
      "Emprendimiento\n",
      "Análisis de Datos\n",
      "Business Intelligence\n",
      "Trading Algorítmico\n",
      "Inteligencia Artificial\n",
      "Desarrollo Android\n",
      "Desarrollo iOS\n",
      "Desarrollo de Videojuegos\n",
      "Blockchain\n",
      "Ofimática\n",
      "Base de Datos\n",
      "Desarrollo Multiplataforma\n",
      "Desarrollo Web\n",
      "Composición Musical\n",
      "Premios y Distinciones\n",
      "Frogames Formación y Juan Gabriel Gomila han ganado diversos\n",
      "premios y distinciones\n",
      "como plataforma educativa destacada a nivel mundial.\n",
      "Y SI QUIERES TRABAJAR CON NOSOTROS\n",
      "Puedes optar a convertirte afiliado y ser remunerado por cada venta que consigas\n",
      "Si tienes una audiencia o gestionas un grupo de personas interesadas en la formación, ¡Frogames tiene un sistema de afiliados que te recompensa por tu trabajo!\n",
      "+\n",
      "Aviso Legal\n",
      "Política de Privacidad\n",
      "Términos de Uso\n",
      "Política de Cookies\n",
      "Política de Redes Sociales\n",
      "FAQs\n",
      "© Copyright Frogames 2025\n",
      "\n",
      "\n"
     ]
    },
    {
     "data": {
      "text/plain": [
       "['/pages/aviso-legal',\n",
       " '/bundles/ruta-videojuegos',\n",
       " '/bundles/ruta-inteligencia-artificial',\n",
       " 'https://cursos.frogamesformacion.com/pages/privacy',\n",
       " '/collections/solidity',\n",
       " '/collections/habilidades-blandas',\n",
       " '/bundles/ruta-blockchain',\n",
       " '/courses/c-sharp-unity-introduccion',\n",
       " '/courses/machine-learning-az',\n",
       " '/collections/reporting',\n",
       " '/bundles/ruta-bases-datos',\n",
       " '/bundles/ruta-programacion',\n",
       " '/courses/15-dias-power-bi',\n",
       " '/bundles/ruta-analisis-datos',\n",
       " '/bundles/ruta-desarrollo-multiplataforma',\n",
       " '/courses/principios-solid',\n",
       " '/pages/nuestros-clientes',\n",
       " 'https://cursos.frogamesformacion.com/collections',\n",
       " '/bundles/ruta-trading',\n",
       " '/courses/chatgpt',\n",
       " '/collections/unreal-engine',\n",
       " '/courses/trigonometria-desde-cero',\n",
       " '/courses/matematicas-ml',\n",
       " '/pages/politica-de-cookies',\n",
       " '/collections/tableau',\n",
       " 'https://www.ciobulletin.com/magazine/frogames-formacion-quality-spanish-language-courses',\n",
       " 'https://cursos.frogamesformacion.com/pages/terms',\n",
       " '/courses/shaders-unreal-engine',\n",
       " 'https://docenzia.com/frogames-formacion-informacion-opiniones-cursos-precios',\n",
       " '/courses/unity-2021',\n",
       " 'https://cursos.frogamesformacion.com/pages/afiliados',\n",
       " 'https://es.trustpilot.com/review/cursos.frogamesformacion.com',\n",
       " '/courses/trading-algoritmico-2',\n",
       " '/collections/unity',\n",
       " '/collections/power-bi',\n",
       " '/bundles/aprende-matematicas-desde-cero',\n",
       " 'https://thesiliconreview.com/magazine/profile/solidifying-position-global-online-education-platform-juan-gabriel-frogames-formacin',\n",
       " '/courses/matematicas-ml-2',\n",
       " '/bundles/ruta-emprendimiento',\n",
       " '/courses/ingenieria-llm',\n",
       " 'https://cursos.frogamesformacion.com/pages/premios',\n",
       " 'https://www.corporatevision-news.com/issues/education-and-training-awards-2023/8/',\n",
       " 'https://cursos.frogamesformacion.com/pages/rutas',\n",
       " 'https://twitter.com/frogames_sl',\n",
       " '/collections/python',\n",
       " '/bundles/ruta-ofimatica',\n",
       " '/courses/github-android',\n",
       " '/courses/python-az',\n",
       " 'https://cursos.frogamesformacion.com/pages/certificaciones',\n",
       " '/collections/r-language',\n",
       " 'https://cursos.frogamesformacion.com',\n",
       " '/courses/bandas-sonoras-peliculas-1',\n",
       " '/pages/faqs',\n",
       " '/courses/obsidian',\n",
       " '/collections/marketing',\n",
       " '/bundles/ruta-ios',\n",
       " '/bundles/ruta-web',\n",
       " '/collections/c-sharp',\n",
       " '/collections/web',\n",
       " '/collections/sql',\n",
       " '/courses/presencia-redes-sociales',\n",
       " '#main-content',\n",
       " '/pages/frogames-para-empresas',\n",
       " 'https://www.youtube.com/channel/UCMUxXNYrVCv6-bQakhomvBg',\n",
       " '/bundles/ruta-musica',\n",
       " '/courses/kotlin-desde-cero',\n",
       " '/collections/kotlin',\n",
       " 'https://wa.me/606784555',\n",
       " '/bundles/ruta-business-intelligence',\n",
       " '/collections/machine-learning',\n",
       " 'https://cursos.frogamesformacion.com/pages/instructores',\n",
       " '/bundles/ruta-matematicas',\n",
       " '/pages/politica-de-redes-sociales',\n",
       " '/courses/trading-algoritmico-1',\n",
       " '/bundles/ruta-android',\n",
       " '/courses/unreal-5',\n",
       " '/users/sign_in',\n",
       " '/collections/swift',\n",
       " '/courses/aritmetica-desde-cero',\n",
       " '/collections/java',\n",
       " '/collections/excel',\n",
       " '/',\n",
       " 'https://www.facebook.com/froggames/']"
      ]
     },
     "execution_count": 9,
     "metadata": {},
     "output_type": "execute_result"
    }
   ],
   "source": [
    "frog = Website(\"https://cursos.frogamesformacion.com\")\n",
    "print(frog.get_contents())\n",
    "frog.links"
   ]
  },
  {
   "cell_type": "markdown",
   "id": "1771af9c-717a-4fca-bbbe-8a95893312c3",
   "metadata": {},
   "source": [
    "## Primer paso: hacer que GPT-4o-mini determine qué enlaces son relevantes\n",
    "\n",
    "### Usar una llamada a gpt-4o-mini para leer los enlaces en una página web y responder en JSON estructurado.\n",
    "Debería decidir qué enlaces son relevantes y reemplazar los enlaces relativos como \"/about\" con \"https://company.com/about\".\n",
    "Usaremos \"one shot prompting\" en las que proporcionamos un ejemplo de cómo debería responder en la solicitud.\n",
    "\n",
    "Este es un excelente caso de uso para un LLM, porque requiere una comprensión matizada. Imagínate intentar programar esto sin LLMs analizando la página web: ¡sería muy difícil!\n",
    "\n",
    "Nota al margen: existe una técnica más avanzada llamada \"Salidas estructuradas\" en la que requerimos que el modelo responda de acuerdo con una especificación. Cubrimos esta técnica en la Semana 8 durante nuestro proyecto autónomo de inteligencia artificial Agentic."
   ]
  },
  {
   "cell_type": "code",
   "execution_count": 10,
   "id": "6957b079-0d96-45f7-a26a-3487510e9b35",
   "metadata": {},
   "outputs": [],
   "source": [
    "link_system_prompt = \"Se te proporciona una lista de enlaces que se encuentran en una página web. \\\n",
    "Puedes decidir cuáles de los enlaces serían los más relevantes para incluir en un folleto sobre la empresa, \\\n",
    "como enlaces a una página Acerca de, una página de la empresa, las carreras/empleos disponibles o páginas de Cursos/Packs.\\n\"\n",
    "link_system_prompt += \"Debes responder en JSON como en este ejemplo:\"\n",
    "link_system_prompt += \"\"\"\n",
    "{\n",
    "    \"links\": [\n",
    "        {\"type\": \"Pagina Sobre nosotros\", \"url\": \"https://url.completa/aqui/va/sobre/nosotros\"},\n",
    "        {\"type\": \"Pagina de Cursos\": \"url\": \"https://otra.url.completa/courses\"}\n",
    "    ]\n",
    "}\n",
    "\"\"\""
   ]
  },
  {
   "cell_type": "code",
   "execution_count": 15,
   "id": "b97e4068-97ed-4120-beae-c42105e4d59a",
   "metadata": {},
   "outputs": [
    {
     "name": "stdout",
     "output_type": "stream",
     "text": [
      "Se te proporciona una lista de enlaces que se encuentran en una página web. Puedes decidir cuáles de los enlaces serían los más relevantes para incluir en un folleto sobre la empresa, como enlaces a una página Acerca de, una página de la empresa, las carreras/empleos disponibles o páginas de Cursos/Packs.\n",
      "Debes responder en JSON como en este ejemplo:\n",
      "{\n",
      "    \"links\": [\n",
      "        {\"type\": \"Pagina Sobre nosotros\", \"url\": \"https://url.completa/aqui/va/sobre/nosotros\"},\n",
      "        {\"type\": \"Pagina de Cursos\": \"url\": \"https://otra.url.completa/courses\"}\n",
      "    ]\n",
      "}\n",
      "\n"
     ]
    }
   ],
   "source": [
    "print(link_system_prompt)"
   ]
  },
  {
   "cell_type": "code",
   "execution_count": 45,
   "id": "8e1f601b-2eaf-499d-b6b8-c99050c9d6b3",
   "metadata": {},
   "outputs": [],
   "source": [
    "def get_links_user_prompt(website):\n",
    "    user_prompt = \"Asume el rol de experto datos relevantes en documentos y web con más de 10 años de experiencia.\"\n",
    "    user_prompt += f\"Te pasaré una lista de enlaces de la página web '{website.url}'.\"\n",
    "    user_prompt += \"Por favor, decide cuáles de esos son enlaces web relevantes para un folleto sobre la empresa. Responde con la URL https completa en formato JSON. \\\n",
    "No incluyas Términos y Condiciones, Privacidad ni enlaces de correo electrónico.\\n\"\n",
    "    user_prompt += \"Links (puede que algunos sean links relativos, recuerda, tiene que estar la url completa):\\n\"\n",
    "    user_prompt += \"\\n\".join(website.links)\n",
    "    return user_prompt"
   ]
  },
  {
   "cell_type": "code",
   "execution_count": 12,
   "id": "6bcbfa78-6395-4685-b92c-22d592050fd7",
   "metadata": {},
   "outputs": [
    {
     "name": "stdout",
     "output_type": "stream",
     "text": [
      "Aquí hay una lista de enlaces de la página web https://cursos.frogamesformacion.com - Por favor, decide cuáles de estos son enlaces web relevantes para un folleto sobre la empresa. Responde con la URL https completa en formato JSON. No incluyas Términos y Condiciones, Privacidad ni enlaces de correo electrónico.\n",
      "Links (puede que algunos sean links relativos):\n",
      "/pages/aviso-legal\n",
      "/bundles/ruta-videojuegos\n",
      "/bundles/ruta-inteligencia-artificial\n",
      "https://cursos.frogamesformacion.com/pages/privacy\n",
      "/collections/solidity\n",
      "/collections/habilidades-blandas\n",
      "/bundles/ruta-blockchain\n",
      "/courses/c-sharp-unity-introduccion\n",
      "/courses/machine-learning-az\n",
      "/collections/reporting\n",
      "/bundles/ruta-bases-datos\n",
      "/bundles/ruta-programacion\n",
      "/courses/15-dias-power-bi\n",
      "/bundles/ruta-analisis-datos\n",
      "/bundles/ruta-desarrollo-multiplataforma\n",
      "/courses/principios-solid\n",
      "/pages/nuestros-clientes\n",
      "https://cursos.frogamesformacion.com/collections\n",
      "/bundles/ruta-trading\n",
      "/courses/chatgpt\n",
      "/collections/unreal-engine\n",
      "/courses/trigonometria-desde-cero\n",
      "/courses/matematicas-ml\n",
      "/pages/politica-de-cookies\n",
      "/collections/tableau\n",
      "https://www.ciobulletin.com/magazine/frogames-formacion-quality-spanish-language-courses\n",
      "https://cursos.frogamesformacion.com/pages/terms\n",
      "/courses/shaders-unreal-engine\n",
      "https://docenzia.com/frogames-formacion-informacion-opiniones-cursos-precios\n",
      "/courses/unity-2021\n",
      "https://cursos.frogamesformacion.com/pages/afiliados\n",
      "https://es.trustpilot.com/review/cursos.frogamesformacion.com\n",
      "/courses/trading-algoritmico-2\n",
      "/collections/unity\n",
      "/collections/power-bi\n",
      "/bundles/aprende-matematicas-desde-cero\n",
      "https://thesiliconreview.com/magazine/profile/solidifying-position-global-online-education-platform-juan-gabriel-frogames-formacin\n",
      "/courses/matematicas-ml-2\n",
      "/bundles/ruta-emprendimiento\n",
      "/courses/ingenieria-llm\n",
      "https://cursos.frogamesformacion.com/pages/premios\n",
      "https://www.corporatevision-news.com/issues/education-and-training-awards-2023/8/\n",
      "https://cursos.frogamesformacion.com/pages/rutas\n",
      "https://twitter.com/frogames_sl\n",
      "/collections/python\n",
      "/bundles/ruta-ofimatica\n",
      "/courses/github-android\n",
      "/courses/python-az\n",
      "https://cursos.frogamesformacion.com/pages/certificaciones\n",
      "/collections/r-language\n",
      "https://cursos.frogamesformacion.com\n",
      "/courses/bandas-sonoras-peliculas-1\n",
      "/pages/faqs\n",
      "/courses/obsidian\n",
      "/collections/marketing\n",
      "/bundles/ruta-ios\n",
      "/bundles/ruta-web\n",
      "/collections/c-sharp\n",
      "/collections/web\n",
      "/collections/sql\n",
      "/courses/presencia-redes-sociales\n",
      "#main-content\n",
      "/pages/frogames-para-empresas\n",
      "https://www.youtube.com/channel/UCMUxXNYrVCv6-bQakhomvBg\n",
      "/bundles/ruta-musica\n",
      "/courses/kotlin-desde-cero\n",
      "/collections/kotlin\n",
      "https://wa.me/606784555\n",
      "/bundles/ruta-business-intelligence\n",
      "/collections/machine-learning\n",
      "https://cursos.frogamesformacion.com/pages/instructores\n",
      "/bundles/ruta-matematicas\n",
      "/pages/politica-de-redes-sociales\n",
      "/courses/trading-algoritmico-1\n",
      "/bundles/ruta-android\n",
      "/courses/unreal-5\n",
      "/users/sign_in\n",
      "/collections/swift\n",
      "/courses/aritmetica-desde-cero\n",
      "/collections/java\n",
      "/collections/excel\n",
      "/\n",
      "https://www.facebook.com/froggames/\n"
     ]
    }
   ],
   "source": [
    "print(get_links_user_prompt(frog))"
   ]
  },
  {
   "cell_type": "code",
   "execution_count": 46,
   "id": "a29aca19-ca13-471c-a4b4-5abbfa813f69",
   "metadata": {},
   "outputs": [],
   "source": [
    "def get_links(url, model=None):\n",
    "    website = Website(url)\n",
    "    model_to_use = model or MODEL\n",
    "    response = openai.chat.completions.create(\n",
    "        model=model_to_use,\n",
    "        messages=[\n",
    "            {\"role\": \"system\", \"content\": link_system_prompt},\n",
    "            {\"role\": \"user\", \"content\": get_links_user_prompt(website)}\n",
    "      ],\n",
    "        response_format={\"type\": \"json_object\"}\n",
    "    )\n",
    "    result = response.choices[0].message.content\n",
    "    return json.loads(result)"
   ]
  },
  {
   "cell_type": "code",
   "execution_count": 47,
   "id": "74a827a0-2782-4ae5-b210-4a242a8b4cc2",
   "metadata": {},
   "outputs": [
    {
     "name": "stderr",
     "output_type": "stream",
     "text": [
      "d:\\Anaconda\\envs\\llms\\Lib\\site-packages\\urllib3\\connectionpool.py:1097: InsecureRequestWarning: Unverified HTTPS request is being made to host 'anthropic.com'. Adding certificate verification is strongly advised. See: https://urllib3.readthedocs.io/en/latest/advanced-usage.html#tls-warnings\n",
      "  warnings.warn(\n",
      "d:\\Anaconda\\envs\\llms\\Lib\\site-packages\\urllib3\\connectionpool.py:1097: InsecureRequestWarning: Unverified HTTPS request is being made to host 'www.anthropic.com'. Adding certificate verification is strongly advised. See: https://urllib3.readthedocs.io/en/latest/advanced-usage.html#tls-warnings\n",
      "  warnings.warn(\n"
     ]
    },
    {
     "data": {
      "text/plain": [
       "['/team',\n",
       " '/news/claude-for-enterprise',\n",
       " 'https://www.linkedin.com/company/anthropicresearch',\n",
       " '/claude/haiku',\n",
       " 'https://support.anthropic.com/',\n",
       " '/legal/commercial-terms',\n",
       " '/news',\n",
       " 'https://claude.ai/',\n",
       " '/legal/consumer-terms',\n",
       " '/jobs',\n",
       " 'https://trust.anthropic.com/',\n",
       " '/careers',\n",
       " 'https://twitter.com/AnthropicAI',\n",
       " '/enterprise',\n",
       " '/research',\n",
       " '/legal/privacy',\n",
       " 'https://status.anthropic.com/',\n",
       " 'https://www.anthropic.com/research#entry:8@1:url',\n",
       " '/api',\n",
       " 'https://www.anthropic.com/claude',\n",
       " '/legal/aup',\n",
       " 'mailto:press@anthropic.com',\n",
       " '/pricing',\n",
       " '/supported-countries',\n",
       " '/news/core-views-on-ai-safety',\n",
       " '/company',\n",
       " '/',\n",
       " '/news/3-5-models-and-computer-use',\n",
       " 'https://www.youtube.com/@anthropic-ai',\n",
       " '/customers',\n",
       " '/claude',\n",
       " '/responsible-disclosure-policy',\n",
       " '/research/constitutional-ai-harmlessness-from-ai-feedback',\n",
       " '/claude/sonnet']"
      ]
     },
     "execution_count": 47,
     "metadata": {},
     "output_type": "execute_result"
    }
   ],
   "source": [
    "anthropic = Website(\"https://anthropic.com\")\n",
    "anthropic.links"
   ]
  },
  {
   "cell_type": "code",
   "execution_count": 48,
   "id": "d3d583e2-dcc4-40cc-9b28-1e8dbf402924",
   "metadata": {},
   "outputs": [
    {
     "name": "stderr",
     "output_type": "stream",
     "text": [
      "d:\\Anaconda\\envs\\llms\\Lib\\site-packages\\urllib3\\connectionpool.py:1097: InsecureRequestWarning: Unverified HTTPS request is being made to host 'anthropic.com'. Adding certificate verification is strongly advised. See: https://urllib3.readthedocs.io/en/latest/advanced-usage.html#tls-warnings\n",
      "  warnings.warn(\n",
      "d:\\Anaconda\\envs\\llms\\Lib\\site-packages\\urllib3\\connectionpool.py:1097: InsecureRequestWarning: Unverified HTTPS request is being made to host 'www.anthropic.com'. Adding certificate verification is strongly advised. See: https://urllib3.readthedocs.io/en/latest/advanced-usage.html#tls-warnings\n",
      "  warnings.warn(\n"
     ]
    },
    {
     "data": {
      "text/plain": [
       "{'links': [{'type': 'Pagina Acerca de',\n",
       "   'url': 'https://www.anthropic.com/company'},\n",
       "  {'type': 'Pagina de Carreras', 'url': 'https://www.anthropic.com/careers'},\n",
       "  {'type': 'Pagina de Empleos', 'url': 'https://www.anthropic.com/jobs'},\n",
       "  {'type': 'Pagina de Investigación',\n",
       "   'url': 'https://www.anthropic.com/research'},\n",
       "  {'type': 'Pagina de Claude', 'url': 'https://www.anthropic.com/claude'},\n",
       "  {'type': 'Pagina de Noticias', 'url': 'https://www.anthropic.com/news'}]}"
      ]
     },
     "execution_count": 48,
     "metadata": {},
     "output_type": "execute_result"
    }
   ],
   "source": [
    "get_links(\"https://anthropic.com\")"
   ]
  },
  {
   "cell_type": "markdown",
   "id": "0d74128e-dfb6-47ec-9549-288b621c838c",
   "metadata": {},
   "source": [
    "## Segundo paso: ¡crea el folleto!\n",
    "\n",
    "Reúne todos los detalles en otro mensaje para GPT4-o"
   ]
  },
  {
   "cell_type": "code",
   "execution_count": 16,
   "id": "85a5b6e2-e7ef-44a9-bc7f-59ede71037b5",
   "metadata": {},
   "outputs": [],
   "source": [
    "def get_all_details(url):\n",
    "    result = \"Landing page:\\n\"\n",
    "    result += Website(url).get_contents()\n",
    "    links = get_links(url)\n",
    "    print(\"Links encontrados:\", links)\n",
    "    for link in links[\"links\"]:\n",
    "        result += f\"\\n\\n{link['type']}\\n\"\n",
    "        result += Website(link[\"url\"]).get_contents()\n",
    "    return result"
   ]
  },
  {
   "cell_type": "code",
   "execution_count": null,
   "id": "5099bd14-076d-4745-baf3-dac08d8e5ab2",
   "metadata": {},
   "outputs": [],
   "source": [
    "print(get_all_details(\"https://anthropic.com\"))"
   ]
  },
  {
   "cell_type": "code",
   "execution_count": 17,
   "id": "9b863a55-f86c-4e3f-8a79-94e24c1a8cf2",
   "metadata": {},
   "outputs": [],
   "source": [
    "system_prompt = \"Eres un asistente que analiza el contenido de varias páginas relevantes del sitio web de una empresa\\\n",
    "y crea un folleto breve sobre la empresa para posibles clientes, inversores y nuevos empleados. Responde en formato Markdown.\\\n",
    "Incluye detalles sobre la cultura de la empresa, los clientes, las carreras/empleos y los cursos/packs para futuros empleos si tienes la información.\"\n",
    "\n",
    "# O descomenta las líneas a continuación para obtener un folleto más humorístico: esto demuestra lo fácil que es incorporar el \"tono\":\n",
    "\n",
    "# system_prompt = \"Eres un asistente que analiza el contenido de varias páginas relevantes del sitio web de una empresa \\\n",
    "# y crea un folleto breve, divertido y gracioso sobre la empresa para posibles clientes, inversores y nuevos empleados. Responde en formato Markdown.\\\n",
    "#Incluye detalles sobre la cultura de la empresa, los clientes y los cursos/packs para futuros empleos si tienes la información.\"\n"
   ]
  },
  {
   "cell_type": "code",
   "execution_count": 20,
   "id": "6ab83d92-d36b-4ce0-8bcc-5bb4c2f8ff23",
   "metadata": {},
   "outputs": [],
   "source": [
    "def get_brochure_user_prompt(company_name, url):\n",
    "    user_prompt = f\"Estás mirando una empresa llamada: {company_name}\\n\"\n",
    "    user_prompt += f\"Aquí se encuentra el contenido de su página de inicio y otras páginas relevantes; usa esta información para crear un breve folleto de la empresa en Markdown.\\n\"\n",
    "    user_prompt += get_all_details(url)\n",
    "    user_prompt = user_prompt[:20_000] # Truncar si tiene más de 20.000 caracteres\n",
    "    return user_prompt"
   ]
  },
  {
   "cell_type": "code",
   "execution_count": 23,
   "id": "cd909e0b-1312-4ce2-a553-821e795d7572",
   "metadata": {},
   "outputs": [
    {
     "name": "stdout",
     "output_type": "stream",
     "text": [
      "Links encontrados: {'links': [{'type': 'Página Acerca de', 'url': 'https://www.anthropic.com/company'}, {'type': 'Página de Carreras', 'url': 'https://www.anthropic.com/careers'}, {'type': 'Página de Investigación', 'url': 'https://www.anthropic.com/research'}, {'type': 'Página de Claude', 'url': 'https://www.anthropic.com/claude'}, {'type': 'Página de API', 'url': 'https://www.anthropic.com/api'}, {'type': 'Página de Precios', 'url': 'https://www.anthropic.com/pricing'}, {'type': 'Página de Clientes', 'url': 'https://www.anthropic.com/customers'}]}\n"
     ]
    },
    {
     "data": {
      "text/plain": [
       "\"Estás mirando una empresa llamada: Anthropic\\nAquí se encuentra el contenido de su página de inicio y otras páginas relevantes; usa esta información para crear un breve folleto de la empresa en Markdown.\\nLanding page:\\nTítulo de la Web:\\nHome \\\\ Anthropic\\nContenido de la Web:\\nClaude\\nOverview\\nTeam\\nEnterprise\\nAPI\\nPricing\\nResearch\\nCompany\\nCareers\\nNews\\nAI\\nresearch\\nand\\nproducts\\nthat put safety at the frontier\\nClaude.ai\\nMeet Claude 3.5 Sonnet\\nClaude 3.5 Sonnet, our most intelligent AI model, is now available.\\nTalk to Claude\\nAPI\\nBuild with Claude\\nStart using Claude to drive efficiency and create new revenue streams.\\nLearn more\\nAnnouncements\\nIntroducing computer use, a new Claude 3.5 Sonnet, and Claude 3.5 Haiku\\nOct 22, 2024\\nModel updates\\n3.5 Sonnet\\n3.5 Haiku\\nOur Work\\nProduct\\nClaude for Enterprise\\nSep 4, 2024\\nAlignment\\n·\\nResearch\\nConstitutional AI: Harmlessness from AI Feedback\\nDec 15, 2022\\nAnnouncements\\nCore Views on AI Safety: When, Why, What, and How\\nMar 8, 2023\\nWork with Anthropic\\nAnthropic is an AI safety and research company based in San Francisco. Our interdisciplinary team has experience across ML, physics, policy, and product. Together, we generate research and create reliable, beneficial AI systems.\\nSee open roles\\nClaude\\nAPI\\nTeam\\nPricing\\nResearch\\nCompany\\nCustomers\\nNews\\nCareers\\nPress Inquiries\\nSupport\\nStatus\\nAvailability\\nTwitter\\nLinkedIn\\nYouTube\\nTerms of Service – Consumer\\nTerms of Service – Commercial\\nPrivacy Policy\\nUsage Policy\\nResponsible Disclosure Policy\\nCompliance\\nPrivacy Choices\\n© 2024 Anthropic PBC\\n\\n\\n\\nPágina Acerca de\\nTítulo de la Web:\\nCompany \\\\ Anthropic\\nContenido de la Web:\\nClaude\\nOverview\\nTeam\\nEnterprise\\nAPI\\nPricing\\nResearch\\nCompany\\nCareers\\nNews\\nMaking AI systems\\nyou can rely on\\nAnthropic is an AI safety and research company. We build reliable, interpretable, and steerable AI systems.\\nJoin us\\nOur Purpose\\nWe believe AI will have a vast impact on the world. Anthropic is dedicated to building systems that people can rely on and generating research about the opportunities and risks of AI.\\nWe Build Safer Systems\\nWe aim to build frontier AI systems that are reliable, interpretable, and steerable. We conduct frontier research, develop and apply a variety of safety techniques, and deploy the resulting systems via a set of partnerships and products.\\nSafety Is a Science\\nWe treat AI safety as a systematic science, conducting research, applying it to our products, feeding those insights back into our research, and regularly sharing what we learn with the world along the way.\\nInterdisciplinary\\nAnthropic is a collaborative team of researchers, engineers, policy experts, business leaders and operators, who bring our experience from many different domains to our work.\\nAI Companies are One Piece of a Big Puzzle\\nAI has the potential to fundamentally change how the world works. We view ourselves as just one piece of this evolving puzzle. We collaborate with civil society, government, academia, nonprofits and industry to promote safety industry-wide.\\nThe Team\\nWe’re a team of researchers, engineers, policy experts and operational leaders, with experience spanning a variety of disciplines, all working together to build reliable and understandable AI systems.\\nResearch\\nWe conduct frontier AI research across a variety of modalities, and explore novel and emerging safety research areas from interpretability to RL from human feedback to policy and societal impacts analysis.\\nPolicy\\nWe think about the impacts of our work and strive to communicate what we’re seeing at the frontier to policymakers and civil society in the US and abroad to help promote safe and reliable AI.\\nProduct\\nWe translate our research into tangible, practical tools like Claude that benefit businesses, nonprofits and civil society groups and their clients and people around the globe.\\nOperations\\nOur people, finance, legal, and recruiting teams are the human engines that make Anthropic go. We’ve had previous careers at NASA, startups, and the armed forces and our diverse experiences help make Anthropic a great place to work (and we love plants!).\\nOur Values\\n01\\nHere for the mission\\nAnthropic exists for our mission: to ensure transformative AI helps people and society flourish. Progress this decade may be rapid, and we expect increasingly capable systems to pose novel challenges. We pursue our mission by building frontier systems, studying their behaviors, working to responsibly deploy them, and regularly sharing our safety insights. We collaborate with other projects and stakeholders seeking a similar outcome.\\n02\\nUnusually high trust\\nOur company is an unusually high trust environment: we assume good faith, disagree kindly, and prioritize honesty. We expect emotional maturity and intellectual openness. At its best, our trust enables us to make better decisions as an organization than any one of us could as individuals.\\n03\\nOne big team\\nCollaboration is central to our work, culture, and value proposition. While we have many teams at Anthropic, we feel the broader sense in which we are all on the same team working together towards the mission. Leadership sets the strategy, with broad input from everyone, and trusts each piece of the organization to pursue these goals in their unique style. Individuals commonly contribute to work across many different areas.\\n04\\nDo the simple thing that works\\nWe celebrate trying the simple thing before the clever, novel thing. We embrace pragmatism - sensible, practical approaches that acknowledge tradeoffs. We love empiricism - finding out what actually works by trying it - and apply this to our research, our engineering and our collaboration. We aim to be open about what we understand and what we don’t.\\nGovernance\\nAnthropic is a Public Benefit Corporation, whose purpose is the responsible development and maintenance of advanced AI for the long-term benefit of humanity. Our Board of Directors is elected by stockholders and our Long-Term Benefit Trust, as explained\\nhere.\\nCurrent members of the Board and the Long-Term Benefit Trust (LTBT) are listed below.\\nAnthropic Board of Directors\\nDario Amodei, Daniela Amodei, Yasmin Razavi, and Jay Kreps.\\nLTBT Trustees\\nNeil Buddy Shah, Kanika Bahl, and Zach Robinson.\\nCompany News\\nSee All\\nAnnouncements\\nClaude 3.5 Sonnet on GitHub Copilot\\nOct 29, 2024\\nAnnouncements\\n·\\nProduct\\nDeveloping a computer use model\\nOct 22, 2024\\nAnnouncements\\nIntroducing computer use, a new Claude 3.5 Sonnet, and Claude 3.5 Haiku\\nOct 22, 2024\\nWant to help us build the future of safe AI?\\nJoin us\\nClaude\\nAPI\\nTeam\\nPricing\\nResearch\\nCompany\\nCustomers\\nNews\\nCareers\\nPress Inquiries\\nSupport\\nStatus\\nAvailability\\nTwitter\\nLinkedIn\\nYouTube\\nTerms of Service – Consumer\\nTerms of Service – Commercial\\nPrivacy Policy\\nUsage Policy\\nResponsible Disclosure Policy\\nCompliance\\nPrivacy Choices\\n© 2024 Anthropic PBC\\n\\n\\n\\nPágina de Carreras\\nTítulo de la Web:\\nCareers \\\\ Anthropic\\nContenido de la Web:\\nClaude\\nOverview\\nTeam\\nEnterprise\\nAPI\\nPricing\\nResearch\\nCompany\\nCareers\\nNews\\nJoin the team\\nmaking AI safe\\nWe’re a public benefit corporation headquartered in San Francisco. Our team’s experience spans a variety of backgrounds and disciplines, from physics and machine learning to public policy and business. We work as a cohesive team that collectively forecasts the impact and tractability of research ideas in advancing our mission.\\nSee open roles\\nWhat We Offer\\nHealth & Wellness\\nAt Anthropic, we believe that supporting our employees is crucial to our collective success and wellbeing. That's why we offer a range of benefits to best support you and your family, now and in the future.\\nComprehensive health, dental, and vision insurance for you and your dependents\\nInclusive fertility benefits via Carrot Fertility\\n22 weeks of paid parental leave\\nFlexible paid time off and absence policies\\nGenerous mental health support for you and your dependents\\nCompensation & Support\\nOur goal is to foster an environment where you can thrive professionally while feeling confident that you and your loved ones are taken care of.\\nCompetitive salary and equity packages\\nOptional equity donation matching at a 1:1 ratio, up to 25% of your equity grant\\nRobust retirement plans and salary sacrifice programs with market competitive matching\\nLife and income protection plans\\nAdditional Benefits\\n$500/month flexible wellness and time saver stipend\\nCommuter benefits\\nAnnual education stipend\\nHome office stipends\\nRelocation support for those moving for Anthropic\\nDaily meals and snacks in the office\\nHow We Hire\\nThe interview process at Anthropic varies based on role and candidate, but our standard process looks like this:\\nStep 1\\nResume\\nSubmit your resume via our website.\\nStep 2\\nExploratory chat\\nYou’ll have a chat with one of our staff to discuss your career interests and relevant experience, and learn more about Anthropic.\\nStep 3\\nSkills Assessment\\nFor technical roles, you’ll have a one-hour technical screening interview.\\nFor operations or policy roles, you’ll get a take-home assignment. These typically involve writing responses to several role-relevant questions; they may occasionally require some outside research. Assignments usually take between 2-5 hours, depending on the role.\\nWe include this to minimize bias and make well-informed hiring decisions. We think seeing a candidate’s work helps us assess how they might actually perform on the job; similarly, the assignment gives candidates a better idea of what their work at Anthropic might entail. If a candidate likes working through their take-home, that is one indicator that they would enjoy taking on the role, and vice versa.\\nWe recognize that completing work assignments requires time and effort, and that they are not perfectly reflective of the role’s work. Nonetheless, we think that work tests are a useful complement to interviews and reference checks.\\nStep 4\\nTeam Screen\\nYou'll have a conversation with either the Hiring Manager or a member of your potential team.\\nStep 5\\nInterview Panel\\nFor technical roles, you’ll have 3-4 more one-hour technical interviews, plus a culture interview.\\nFor operations or policy roles, you’ll have 3-5 hours of interviews, including a culture interview.\\nStep 6\\nFinal Checks\\nWe’ll ask for some references, and have you chat with our leadership.\\nStep 7\\nOffer\\nWe’ll make you an offer!\\nTechnical Interviews\\nTechnical interviews at Anthropic are broadly categorized into ‘engineering’ or ‘research’ interviews, and each candidate is given a mix tailored to their skillset.\\nEngineering interviews are usually carried out in a shared Python coding environment, like Google Colab. Frontend engineering interviews are in JavaScript. They have the form:\\nHere’s a description of a component from our stack. Could you re-implement a toy version of it for me in one hour?\\nThese components are ‘chunkier’ than the more common LeetCode problems, and are intended to mimic the day-to-day of engineering at Anthropic.\\nWe are particularly interested in your thought process and how you attack the problem. You’ll be allowed to look things up with Google, but it’s still important to be familiar with Python syntax and the standard library. We primarily code in Python, and a common reason candidates fail interviews is that they're not fully comfortable in Python.\\nOnly one of our engineering interviews touches on machine learning topics, and you can ask to pass on that one if you wish. You do not need to learn anything about machine learning before interviewing as an engineer at Anthropic.\\nResearch interviews are broader in form. They’ll include some engineering interviews, and some discussions about the kinds of systems we study.\\nBoth the research and engineering interview process also include softer questions about your experience and motivations, and time to ask us about Anthropic.\\nOther Things\\nEngineers here do lots of research, and researchers do lots of engineering\\nWhile there’s historically been a division between engineering and research in machine learning, we think that boundary has dissolved with the advent of large models. The distribution of candidates we interview is strongly bimodal in both engineering and research experience however, and we have necessarily tailored our interview structure to that.\\nIf you’ve an engineering background, please apply as an engineer. You’ll perform much better in the interviews, and if you join you’ll have as much input to Anthropic’s direction and interests as anyone else.\\nAs evidence towards this: all of our papers have engineers as authors, and often as first author. Research and engineering hires all share a single title - ‘Member of Technical Staff’.\\nWe value direct evidence of ability\\nIf you’ve done interesting independent research, written an insightful blog post, or made substantial contributions to open-source software, put that at the top of your resume!\\nFeedback\\nWe do not provide feedback on resumes or interviews.\\nVisas\\nAnthropic sponsors visas! We aren't able to sponsor them for every role and every candidate; operations roles are especially difficult to support. But if we make you an offer, we will make every effort to get you into the United States, and we retain an immigration lawyer to help with this.\\nGreen cards\\nOnce you’re eligible, we’re also keen to sponsor green cards!\\nWe do not require PhDs, degrees, or previous ML experience\\nAbout half of Anthropic technical staff have a PhD of some sort; about half had prior experience in ML. We have several brilliant colleagues who never went to college.\\nRemote interviewing\\nAll our interviews are conducted over Google Meet. We prefer PST office hours, but we can be flexible if that’s difficult for you.\\nRe-applying\\nSimilarly, if interviews don’t work out this time, you’re welcome to re-apply after 12 months, and earlier if something materially changes about your experience or skills.\\nRemote work\\nAnthropic staff all come to the office regularly. Most staff live in the Bay Area, though a few live further away and come in for one week a month. We also understand that moving can take time, so as a transitional phase some folks start while fully remote.\\nOffer timing\\nIf we make an offer, we’re happy to give you time to think about it and finish up any other interview processes you’re going through.\\nInternships\\nWe do not offer internships.\\nCandidate Privacy Policy\\nUS Candidate Privacy Policy\\nUK Employee and Candidate Privacy Policy\\nClaude\\nAPI\\nTeam\\nPricing\\nResearch\\nCompany\\nCustomers\\nNews\\nCareers\\nPress Inquiries\\nSupport\\nStatus\\nAvailability\\nTwitter\\nLinkedIn\\nYouTube\\nTerms of Service – Consumer\\nTerms of Service – Commercial\\nPrivacy Policy\\nUsage Policy\\nResponsible Disclosure Policy\\nCompliance\\nPrivacy Choices\\n© 2024 Anthropic PBC\\n\\n\\n\\nPágina de Investigación\\nTítulo de la Web:\\nResearch \\\\ Anthropic\\nContenido de la Web:\\nClaude\\nOverview\\nTeam\\nEnterprise\\nAPI\\nPricing\\nResearch\\nCompany\\nCareers\\nNews\\nResearching\\nat the frontier\\nAt Anthropic, we develop large-scale AI systems, and our research teams help us to create safer, steerable, and more reliable models.\\nSee open roles\\nClaude\\nAPI\\nTeam\\nPricing\\nResearch\\nCompany\\nCustomers\\nNews\\nCareers\\nPress Inquiries\\nSupport\\nStatus\\nAvailability\\nTwitter\\nLinkedIn\\nYouTube\\nTerms of Service – Consumer\\nTerms of Service – Commercial\\nPrivacy Policy\\nUsage Policy\\nResponsible Disclosure Policy\\nCompliance\\nPrivacy Choices\\n© 2024 Anthropic PBC\\n\\n\\n\\nPágina de Claude\\nTítulo de la Web:\\nMeet Claude \\\\ Anthropic\\nContenido de la Web:\\nClaude\\nOverview\\nTeam\\nEnterprise\\nAPI\\nPricing\\nResearch\\nCompany\\nCareers\\nNews\\nTry Claude\\nMeet Claude\\nClaude is AI for all of us. Whether you're brainstorming alone or building with a team of thousands, Claude is here to help.\\nTry Claude\\nGet API access\\nClaude’s capabilities\\nAdvanced reasoning\\nClaude can perform complex cognitive tasks that go beyond simple pattern recognition or text generation\\nVision analysis\\nTranscribe and analyze almost any static image, from handwritten notes and graphs, to photographs\\nCode generation\\nStart creating websites in HTML and CSS, turning images into structured JSON data, or debugging complex code bases\\nMultilingual processing\\nTranslate between various languages in real-time, practice grammar, or create multi-lingual content\\nAnnouncements\\nIntroducing computer use, a new Claude 3.5 Sonnet, and Claude 3.5 Haiku\\nOct 22, 2024\\nModel updates\\n3.5 Sonnet\\n3.5 Haiku\\nThe Claude model family\\nRight-sized for any task, the Claude family of models offers the best combination of speed and performance.\\nLight & fast\\nHaiku\\nOur fastest model that can execute lightweight actions, with industry-leading speed.\\nHard-working\\nSonnet\\nOur best combination of performance and speed for efficient, high-throughput tasks.\\nPowerful\\nOpus\\nOur highest-performing model, which can handle complex analysis, longer tasks with many steps, and higher-order math and coding tasks.\\nCost\\nIntelligence\\nWhy Claude?\\nAnthropic builds frontier AI models backed by uncompromising integrity.\\nSecure\\nWith accessibility via AWS and GCP, SOC 2 Type II certification, and HIPAA compliance options, Claude adheres to the security practices your enterprise demands.\\nFeatured paper\\nMany-shot jailbreaking\\nFeatured post\\nChallenges in red teaming AI systems\\nTrustworthy\\nClaude combines best-in-class jailbreak resistance and misuse prevention to mitigate brand risk for our customers.\\nFeatured paper\\nRed Teaming Language Models to Reduce Harms: Methods, Scaling Behaviors, and Lessons Learned\\nFeatured paper\\nEvaluating and Mitigating Discrimination in Language Model Decisions\\nReliable\\nClaude empowers you to deploy AI to business critical use cases, with very low hallucination rates and very high accuracy over long documents.\\nFeatured post\\nClaude’s Character\\nFeatured paper\\nQuestion Decomposition Improves the Faithfulness of Model-Generated Reasoning\\nLeading companies build with Claude\\nRead customer stories\\nTalk to Claude\\nClaude is fast, capable, and truly conversational. Work with Claude to help you do your best work\\nTry Claude\\nBuild with Claude\\nUse the API to integrate Claude into you and your customer workflows to let AI transform your business\\nGet API access\\nTake Claude with you\\nTalk to Claude, anywhere you go. Brainstorm ideas, get answers, and analyze images on the go. The Claude apps put the power of frontier intelligence in your back pocket.\\nCompany News\\nSee All\\nAnnouncements\\nClaude 3.5 Sonnet on GitHub Copilot\\nOct 29, 2024\\nAnnouncements\\n·\\nProduct\\nDeveloping a computer use model\\nOct 22, 2024\\nAnnouncements\\nIntroducing computer use, a new Claude 3.5 Sonnet, and Claude 3.5 Haiku\\nOct 22, 2024\\nClaude\\nAPI\\nTeam\\nPricing\\nResearch\\nCompany\\nCustomers\\nNews\\nCareers\\nPress Inquiries\\nSupport\\nStatus\\nAvailability\\nTwitter\\nLinkedIn\\nYouTube\\nTerms of Service – Consumer\\nTerms of Service – Commercial\\nPrivacy Policy\\nUsage Policy\\nResponsible Disclosure Policy\\nCompliance\\nPrivacy Choices\\n© 2024 Anthropic PBC\\n\\n\\n\\nPágina de API\\nTítulo de la Web:\\nBuild with Claude \\\\ Anthropic\\nContenido de la Web:\\nClaude\\nOverview\\nTeam\\nEnterprise\\nAPI\\nPricing\\nResearch\\nCompany\\nCareers\\nNews\\nBuild with Claude\\nCreate user-facing experiences, new products, and new ways to work with the most advanced AI models on the market.\\nStart building\\nDeveloper docs\\nGet started\\nSelf-serve\\nLaunch your own generative AI solution with:\\nAccess to all Claude models\\nUsage-based tiers\\nAutomatically increasing rate limits\\nSimple pay-as-you-go pricing\\nSelf-serve deployment on workbench\\nPrompting guides & developer documentation\\nStart building\\nNeed additional support?\\nNeed custom rate limits or hands-on support? Reach out to the Anthropic sales team for:\\nAnthropic-supported onboarding\\nCustom rate limits\\nBilling via monthly invoices\\nPrompting support\\nDeployment support\\nContact sales\\nAnnouncements\\nIntroducing computer use, a new Claude 3.5 Sonnet, and Claude 3.5 Haiku\\nOct 22, 2024\\nModel updates\\n3.5 Sonnet\\n3.5 Haiku\\nThe Claude model family\\nRight-sized for any task, the Claude family of models offers the best combination of speed and performance.\\nLight & fast\\nHaiku\\nOur fastest model that can execute lightweight actions, with industry-leading speed.\\nHard-working\\nSonnet\\nOur best comb\""
      ]
     },
     "execution_count": 23,
     "metadata": {},
     "output_type": "execute_result"
    }
   ],
   "source": [
    "get_brochure_user_prompt(\"Anthropic\", \"https://anthropic.com\")"
   ]
  },
  {
   "cell_type": "code",
   "execution_count": 33,
   "id": "949475ed",
   "metadata": {},
   "outputs": [],
   "source": [
    "from markdown_pdf import MarkdownPdf, Section\n",
    "# import markdown2\n",
    "# import pdfkit\n",
    "\n",
    "def markdown_to_pdf(texto_markdown, pdf_output):\n",
    "    # Crea una instancia de MarkdownPdf\n",
    "    pdf = MarkdownPdf()\n",
    "\n",
    "    # Crea una sección con el contenido de texto_markdown\n",
    "    seccion = Section(texto_markdown)\n",
    "\n",
    "    # Añade la sección al PDF\n",
    "    pdf.add_section(seccion)\n",
    "\n",
    "    # Guarda el PDF\n",
    "    pdf.save(pdf_output)"
   ]
  },
  {
   "cell_type": "code",
   "execution_count": 34,
   "id": "e996611a",
   "metadata": {},
   "outputs": [],
   "source": [
    "markdown_to_pdf(\"# Este es el titulo ## Subtitulo Este es el texto\", \"tmp.pdf\")"
   ]
  },
  {
   "cell_type": "code",
   "execution_count": 41,
   "id": "e44de579-4a1a-4e6a-a510-20ea3e4b8d46",
   "metadata": {},
   "outputs": [],
   "source": [
    "def create_brochure(company_name, url,model=None, pdffilename=None):\n",
    "    model_to_use=model or MODEL\n",
    "    print(model_to_use)\n",
    "    response = openai.chat.completions.create(\n",
    "        model=model_to_use,\n",
    "        messages=[\n",
    "            {\"role\": \"system\", \"content\": system_prompt},\n",
    "            {\"role\": \"user\", \"content\": get_brochure_user_prompt(company_name, url)}\n",
    "          ],\n",
    "    )\n",
    "    result = response.choices[0].message.content\n",
    "    display(Markdown(result))\n",
    "    if pdffilename:\n",
    "        markdown_to_pdf(result, f\"{company_name}.pdf\")"
   ]
  },
  {
   "cell_type": "code",
   "execution_count": 42,
   "id": "e093444a-9407-42ae-924a-145730591a39",
   "metadata": {},
   "outputs": [
    {
     "name": "stdout",
     "output_type": "stream",
     "text": [
      "gpt-4o-mini\n"
     ]
    }
   ],
   "source": [
    "create_brochure(\"Anthropic\", \"https://anthropic.com\")"
   ]
  },
  {
   "cell_type": "code",
   "execution_count": 37,
   "id": "e15ba8cb-f0ea-4821-9c32-f2d3fd8fca69",
   "metadata": {},
   "outputs": [
    {
     "name": "stderr",
     "output_type": "stream",
     "text": [
      "d:\\Anaconda\\envs\\llms\\Lib\\site-packages\\urllib3\\connectionpool.py:1097: InsecureRequestWarning: Unverified HTTPS request is being made to host 'serviloc.es'. Adding certificate verification is strongly advised. See: https://urllib3.readthedocs.io/en/latest/advanced-usage.html#tls-warnings\n",
      "  warnings.warn(\n",
      "d:\\Anaconda\\envs\\llms\\Lib\\site-packages\\urllib3\\connectionpool.py:1097: InsecureRequestWarning: Unverified HTTPS request is being made to host 'serviloc.es'. Adding certificate verification is strongly advised. See: https://urllib3.readthedocs.io/en/latest/advanced-usage.html#tls-warnings\n",
      "  warnings.warn(\n"
     ]
    },
    {
     "name": "stdout",
     "output_type": "stream",
     "text": [
      "Links encontrados: {'links': [{'type': 'Página de contacto', 'url': 'https://serviloc.es/contacto/'}, {'type': 'Página de la empresa', 'url': 'https://serviloc.es/'}, {'type': 'Página de Instalaciones', 'url': 'https://serviloc.es/instalaciones/'}, {'type': 'Página de gestión de proyectos e instalación', 'url': 'https://serviloc.es/gestion-proyectos-instalacion/'}, {'type': 'Página sobre seguridad al volante', 'url': 'https://serviloc.es/la-seguridad-al-volante-en-los-proximos-anos/'}, {'type': 'Página de sistemas antirrobos', 'url': 'https://serviloc.es/sistemas-antirrobos-coches/'}, {'type': 'Página en LinkedIn', 'url': 'https://www.linkedin.com/company/serviloc-control-y-gesti%C3%B3n-de-flotas-sl/'}, {'type': 'Página de Instagram', 'url': 'https://www.instagram.com/servilocgps/'}]}\n"
     ]
    },
    {
     "name": "stderr",
     "output_type": "stream",
     "text": [
      "d:\\Anaconda\\envs\\llms\\Lib\\site-packages\\urllib3\\connectionpool.py:1097: InsecureRequestWarning: Unverified HTTPS request is being made to host 'serviloc.es'. Adding certificate verification is strongly advised. See: https://urllib3.readthedocs.io/en/latest/advanced-usage.html#tls-warnings\n",
      "  warnings.warn(\n",
      "d:\\Anaconda\\envs\\llms\\Lib\\site-packages\\urllib3\\connectionpool.py:1097: InsecureRequestWarning: Unverified HTTPS request is being made to host 'serviloc.es'. Adding certificate verification is strongly advised. See: https://urllib3.readthedocs.io/en/latest/advanced-usage.html#tls-warnings\n",
      "  warnings.warn(\n",
      "d:\\Anaconda\\envs\\llms\\Lib\\site-packages\\urllib3\\connectionpool.py:1097: InsecureRequestWarning: Unverified HTTPS request is being made to host 'serviloc.es'. Adding certificate verification is strongly advised. See: https://urllib3.readthedocs.io/en/latest/advanced-usage.html#tls-warnings\n",
      "  warnings.warn(\n",
      "d:\\Anaconda\\envs\\llms\\Lib\\site-packages\\urllib3\\connectionpool.py:1097: InsecureRequestWarning: Unverified HTTPS request is being made to host 'serviloc.es'. Adding certificate verification is strongly advised. See: https://urllib3.readthedocs.io/en/latest/advanced-usage.html#tls-warnings\n",
      "  warnings.warn(\n",
      "d:\\Anaconda\\envs\\llms\\Lib\\site-packages\\urllib3\\connectionpool.py:1097: InsecureRequestWarning: Unverified HTTPS request is being made to host 'serviloc.es'. Adding certificate verification is strongly advised. See: https://urllib3.readthedocs.io/en/latest/advanced-usage.html#tls-warnings\n",
      "  warnings.warn(\n",
      "d:\\Anaconda\\envs\\llms\\Lib\\site-packages\\urllib3\\connectionpool.py:1097: InsecureRequestWarning: Unverified HTTPS request is being made to host 'serviloc.es'. Adding certificate verification is strongly advised. See: https://urllib3.readthedocs.io/en/latest/advanced-usage.html#tls-warnings\n",
      "  warnings.warn(\n",
      "d:\\Anaconda\\envs\\llms\\Lib\\site-packages\\urllib3\\connectionpool.py:1097: InsecureRequestWarning: Unverified HTTPS request is being made to host 'www.linkedin.com'. Adding certificate verification is strongly advised. See: https://urllib3.readthedocs.io/en/latest/advanced-usage.html#tls-warnings\n",
      "  warnings.warn(\n",
      "d:\\Anaconda\\envs\\llms\\Lib\\site-packages\\urllib3\\connectionpool.py:1097: InsecureRequestWarning: Unverified HTTPS request is being made to host 'www.instagram.com'. Adding certificate verification is strongly advised. See: https://urllib3.readthedocs.io/en/latest/advanced-usage.html#tls-warnings\n",
      "  warnings.warn(\n"
     ]
    },
    {
     "data": {
      "text/markdown": [
       "# Folleto de Serviloc\n",
       "\n",
       "## Sobre Serviloc\n",
       "Serviloc es una empresa líder en la **gestión de flotas y sistemas telemáticos en vehículos**. Con más de **25 años de experiencia** en el sector, nos especializamos en la instalación de sistemas telemáticos y electrónicos para todo tipo de vehículos, garantizando soluciones a medida que optimizan la eficiencia y el control de tu flota. Nuestro compromiso con la innovación y la excelencia nos distingue como referentes en España.\n",
       "\n",
       "---\n",
       "\n",
       "## Nuestros Servicios\n",
       "- **Instalación de Sistemas Telemáticos**: Realizamos instalaciones a domicilio de manera rápida y eficiente, adaptándonos a tus necesidades específicas.\n",
       "- **Gestión de Proyectos**: Coordinación precisa desde el primer contacto hasta la ejecución, asegurando resultados exitosos.\n",
       "- **Soporte Continuo**: Ofrecemos asistencia técnica después de la instalación, garantizando el funcionamiento óptimo de los sistemas.\n",
       "\n",
       "---\n",
       "\n",
       "## Cultura de la Empresa\n",
       "En Serviloc, cultivamos una cultura basada en la **innovación**, **experiencia**, y **atención personalizada**. Nuestro equipo de expertos está comprometido con la calidad y la satisfacción del cliente, ofreciendo atención constante y soluciones personalizadas. Creemos en la formación continua y el desarrollo profesional de nuestros colaboradores.\n",
       "\n",
       "---\n",
       "\n",
       "## Clientes\n",
       "Contamos con una diversa gama de clientes satisfechos, desde pequeñas empresas hasta grandes corporaciones, a quienes ayudamos a optimizar sus operaciones a través de tecnología de vanguardia. Nuestra atención personalizada garantiza que cada cliente reciba la mejor solución para sus necesidades.\n",
       "\n",
       "---\n",
       "\n",
       "## Oportunidades de Empleo\n",
       "Serviloc está en constante crecimiento y busca individuos apasionados que deseen formar parte de nuestro equipo. Ofrecemos:\n",
       "- **Carreras en Instalación y Telemática**: Posiciones enfocadas en la instalación de sistemas telemáticos, sistemas embarcados y electrónica.\n",
       "- **Capacitación Continua**: Cursos y capacitación en tecnología IoT y gestión de flotas para impulsar tu carrera.\n",
       "\n",
       "---\n",
       "\n",
       "## Contáctanos\n",
       "¿Tienes preguntas o te gustaría solicitar más información sobre nuestros servicios? No dudes en contactarnos:\n",
       "\n",
       "- **Teléfono**: 935 705 176\n",
       "- **Email**: info@serviloc.es\n",
       "- **Dirección**: Carrer de Can Pantiquet, 69, 08100 Mollet del Vallès, Barcelona\n",
       "- **Horarios**: Lunes a viernes: 8:00–17:00\n",
       "\n",
       "---\n",
       "\n",
       "## ¡Solicita tu Demo!\n",
       "Empieza a optimizar la gestión de tu flota con una demostración personalizada. **[Solicita una demo aquí](#)**.\n",
       "\n",
       "---\n",
       "\n",
       "Serviloc: **Soluciones telemáticas a tu medida.**"
      ],
      "text/plain": [
       "<IPython.core.display.Markdown object>"
      ]
     },
     "metadata": {},
     "output_type": "display_data"
    }
   ],
   "source": [
    "create_brochure(\"Serviloc\", \"https://serviloc.es\", True)"
   ]
  },
  {
   "cell_type": "markdown",
   "id": "61eaaab7-0b47-4b29-82d4-75d474ad8d18",
   "metadata": {},
   "source": [
    "## Por último, una pequeña mejora\n",
    "\n",
    "Con un pequeño ajuste, podemos cambiar esto para que los resultados se transmitan desde OpenAI,\n",
    "con la animación de máquina de escribir habitual\n"
   ]
  },
  {
   "cell_type": "code",
   "execution_count": 32,
   "id": "51db0e49-f261-4137-aabe-92dd601f7725",
   "metadata": {},
   "outputs": [],
   "source": [
    "def stream_brochure(company_name, url):\n",
    "    stream = openai.chat.completions.create(\n",
    "        model=MODEL,\n",
    "        messages=[\n",
    "            {\"role\": \"system\", \"content\": system_prompt},\n",
    "            {\"role\": \"user\", \"content\": get_brochure_user_prompt(company_name, url)}\n",
    "          ],\n",
    "        stream=True\n",
    "    )\n",
    "    \n",
    "    response = \"\"\n",
    "    display_handle = display(Markdown(\"\"), display_id=True)\n",
    "    for chunk in stream:\n",
    "        response += chunk.choices[0].delta.content or ''\n",
    "        response = response.replace(\"```\",\"\").replace(\"markdown\", \"\")\n",
    "        update_display(Markdown(response), display_id=display_handle.display_id)"
   ]
  },
  {
   "cell_type": "code",
   "execution_count": null,
   "id": "56bf0ae3-ee9d-4a72-9cd6-edcac67ceb6d",
   "metadata": {},
   "outputs": [],
   "source": [
    "stream_brochure(\"Anthropic\", \"https://anthropic.com\")"
   ]
  },
  {
   "cell_type": "markdown",
   "id": "a27bf9e0-665f-4645-b66b-9725e2a959b5",
   "metadata": {},
   "source": [
    "## Aplicaciones empresariales\n",
    "\n",
    "En este ejercicio, ampliamos el código del día 1 para realizar múltiples llamadas a LLM y generar un documento.\n",
    "\n",
    "En términos de técnicas, este es quizás el primer ejemplo de patrones de diseño de Agentic AI, ya que combinamos múltiples llamadas a LLM. Esto se abordará más en la semana 2 y luego volveremos a Agentic AI de manera importante en la semana 8, cuando construyamos una solución Agent completamente autónoma.\n",
    "\n",
    "En términos de aplicaciones empresariales, generar contenido de esta manera es uno de los casos de uso más comunes. Al igual que con el resumen, esto se puede aplicar a cualquier vertical empresarial. Escriba contenido de marketing, genere un tutorial de producto a partir de una especificación, cree contenido de correo electrónico personalizado y mucho más. Explore cómo puede aplicar la generación de contenido a su negocio e intente crear un prototipo de prueba de concepto."
   ]
  },
  {
   "cell_type": "code",
   "execution_count": null,
   "id": "22e878f1-08fe-4465-b50c-869352174eae",
   "metadata": {},
   "outputs": [],
   "source": []
  }
 ],
 "metadata": {
  "kernelspec": {
   "display_name": "llms",
   "language": "python",
   "name": "python3"
  },
  "language_info": {
   "codemirror_mode": {
    "name": "ipython",
    "version": 3
   },
   "file_extension": ".py",
   "mimetype": "text/x-python",
   "name": "python",
   "nbconvert_exporter": "python",
   "pygments_lexer": "ipython3",
   "version": "3.11.11"
  }
 },
 "nbformat": 4,
 "nbformat_minor": 5
}
