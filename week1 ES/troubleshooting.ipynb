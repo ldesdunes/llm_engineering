{
 "cells": [
  {
   "cell_type": "markdown",
   "id": "2a793b1d-a0a9-404c-ada6-58937227cfce",
   "metadata": {},
   "source": [
    "# ¡Ay, Dios!\n",
    "\n",
    "Si has llegado hasta aquí, es porque todavía tienes problemas para configurar tu entorno. ¡Lo siento mucho! No te rindas y en poco tiempo lo tendremos listo y funcionando.\n",
    "\n",
    "Configurar un entorno de ciencia de datos puede ser un desafío porque hay mucho que hacer. Pero lo lograremos.\n",
    "\n",
    "Y recuerda: estoy disponible para ayudarte. Envíame un mensaje o un correo electrónico a ed@edwarddonner.com y me pondré manos a la obra."
   ]
  },
  {
   "cell_type": "markdown",
   "id": "f5190688-205a-46d1-a0dc-9136a42ad0db",
   "metadata": {},
   "source": [
    "# Paso 1\n",
    "\n",
    "Intenta ejecutar la siguiente celda (haz clic en la celda que está debajo de esta y presiona shift+return).\n",
    "\n",
    "Si esto arroja un error, entonces es probable que no estés ejecutando en un entorno \"activado\". Vuelve a consultar la Parte 5 de la guía de CONFIGURACIÓN para [PC](../SETUP-PC.md) o [Mac](../SETUP-mac.md) para configurar el entorno de Anaconda (o virtualenv) y activarlo, antes de ejecutar `jupyter lab`.\n",
    "\n",
    "Si miras en el indicador de Anaconda (PC) o en la Terminal (Mac), deberías ver `(llms)` en el indicador donde inicias `jupyter lab` - esa es la pista de que el entorno llms está activado.\n",
    "\n",
    "Si se encuentra en un entorno activado, lo siguiente que debe intentar es reiniciar todo:\n",
    "1. Cierre todas las ventanas de Jupyter, de esta manera\n",
    "2. Salga de todos los indicadores de comando/Terminales/Anaconda\n",
    "3. Repita la Parte 5 de las instrucciones de CONFIGURACIÓN para comenzar un nuevo entorno activado e iniciar el laboratorio de Jupyter\n",
    "4. Menú del kernel >> Reiniciar kernel y borrar las salidas de todas las celdas\n",
    "5. Regrese a este cuaderno y vuelva a intentar la celda a continuación.\n",
    "\n",
    "Si **eso** no funciona, ¡comunícate conmigo en el foro del curso! Le responderé rápidamente y lo resolveremos."
   ]
  },
  {
   "cell_type": "code",
   "execution_count": 1,
   "id": "6c78b7d9-1eea-412d-8751-3de20c0f6e2f",
   "metadata": {},
   "outputs": [],
   "source": [
    "# Esto debería ejecutarse sin salida, sin errores de importación.\n",
    "# Los errores de importación podrían indicar que iniciaste Jupyter Lab sin tu entorno activado. Consulta la parte 5 de CONFIGURACIÓN.\n",
    "\n",
    "from openai import OpenAI"
   ]
  },
  {
   "cell_type": "markdown",
   "id": "b66a8460-7b37-4b4c-a64b-24ae45cf07eb",
   "metadata": {},
   "source": [
    "# Paso 2\n",
    "\n",
    "Comprobemos que el archivo .env existe y que la clave OpenAI está configurada correctamente.\n",
    "Ejecute este código y compruebe que muestra un mensaje de éxito; de lo contrario, siga las instrucciones.\n",
    "\n",
    "Tenga en cuenta que el archivo `.env` no aparecerá en el explorador de archivos de Jupyter Lab, porque Jupyter oculta los archivos que comienzan con un punto para su seguridad; se consideran archivos ocultos. Si necesita cambiar el nombre, deberá utilizar una terminal de comandos o el Explorador de archivos (PC) / Ventana del Finder (Mac). ¡Pregunte a ChatGPT si eso le está dando problemas o envíeme un correo electrónico!"
   ]
  },
  {
   "cell_type": "code",
   "execution_count": 2,
   "id": "caa4837e-b970-4f89-aa9a-8aa793c754fd",
   "metadata": {},
   "outputs": [
    {
     "name": "stdout",
     "output_type": "stream",
     "text": [
      "Fichero .env encontrado.\n",
      "¡ÉXITO! Se encontró OPENAI_API_KEY y tiene el prefijo correcto\n"
     ]
    }
   ],
   "source": [
    "from pathlib import Path\n",
    "\n",
    "parent_dir = Path(\"..\")\n",
    "env_path = parent_dir / \".env\"\n",
    "\n",
    "if env_path.exists() and env_path.is_file():\n",
    "    print(\"Fichero .env encontrado.\")\n",
    "\n",
    "    # Lee el contenido del fichero .env\n",
    "    with env_path.open(\"r\") as env_file:\n",
    "        contents = env_file.readlines()\n",
    "\n",
    "    key_exists = any(line.startswith(\"OPENAI_API_KEY=\") for line in contents)\n",
    "    good_key = any(line.startswith(\"OPENAI_API_KEY=sk-proj-\") for line in contents)\n",
    "    \n",
    "    if key_exists and good_key:\n",
    "        print(\"¡ÉXITO! Se encontró OPENAI_API_KEY y tiene el prefijo correcto\")\n",
    "    elif key_exists:\n",
    "        print(\"Se encontró una OPENAI_API_KEY aunque no tenía el prefijo esperado sk-proj- \\nVerifique nuevamente su clave en el archivo.\")\n",
    "    else:\n",
    "        print(\"No encontré un OPENAI_API_KEY en el archivo .env\")\n",
    "else:\n",
    "    print(\"El archivo .env no se encuentra en el directorio llm_engineering. Debe tener exactamente el nombre: .env\")\n",
    "    \n",
    "    possible_misnamed_files = list(parent_dir.glob(\"*.env*\"))\n",
    "    \n",
    "    if possible_misnamed_files:\n",
    "        print(\"\\nAdvertencia: No se encontró ningún archivo '.env', pero se encontraron los siguientes archivos en el directorio llm_engineering que contienen '.env' en el nombre. ¿Quizás sea necesario cambiar el nombre?\")\n",
    "        for file in possible_misnamed_files:\n",
    "            print(file.name)"
   ]
  },
  {
   "cell_type": "markdown",
   "id": "0ba9420d-3bf0-4e08-abac-f2fbf0e9c7f1",
   "metadata": {},
   "source": [
    "# Paso 3\n",
    "\n",
    "Ahora, verifiquemos que la clave API esté configurada correctamente en el archivo `.env`.\n",
    "Intente ejecutar la siguiente celda."
   ]
  },
  {
   "cell_type": "code",
   "execution_count": null,
   "id": "0ee8e613-5a6e-4d1f-96ef-91132da545c8",
   "metadata": {},
   "outputs": [],
   "source": [
    "# Esto debería imprimir tu clave API en la salida\n",
    "\n",
    "import os\n",
    "from dotenv import load_dotenv\n",
    "load_dotenv()\n",
    "\n",
    "api_key = os.getenv(\"OPENAI_API_KEY\")\n",
    "\n",
    "if not api_key:\n",
    "    print(\"No se encontró ninguna clave API: intente con el menú Kernel >> Reiniciar Kernel y borrar las salidas de todas las celdas\")\n",
    "elif api_key[:8]!=\"sk-proj-\":\n",
    "    print(\"Se encontró una clave API, pero no empieza por sk-proj-; verifique que esté usando la clave correcta\")\n",
    "elif api_key.strip() != api_key:\n",
    "    print(\"Se encontró una clave API, pero parece que podría tener espacios o caracteres de tabulación al principio o al final; elimínelos\")\n",
    "else:\n",
    "    print(\"Se encontró la clave API y hasta ahora parece buena!\")\n",
    "\n",
    "print(\"Mi clave es\", os.getenv(\"OPENAI_API_KEY\"))"
   ]
  },
  {
   "cell_type": "markdown",
   "id": "f403e515-0e7d-4be4-bb79-5a102dbd6c94",
   "metadata": {},
   "source": [
    "## Debería imprimir algo como:\n",
    "\n",
    "`Mi clave es sk-proj-blahblahblah`\n",
    "\n",
    "Si no imprimió una clave, entonces no puede encontrar un archivo llamado `.env` en la carpeta `llm_engineering`.\n",
    "El nombre del archivo debe ser exactamente `.env` - no funcionará si se llama `my-keys.env` o `.env.doc`.\n",
    "Vuelva a verificar esos pasos en las instrucciones. ¿Es posible que `.env` en realidad se llame `.env.txt`? En Windows, es posible que deba cambiar una configuración en el Explorador de archivos para asegurarse de que se muestren las extensiones de archivo (\"Mostrar extensiones de archivo\" configurado en \"Activado\"). También debería ver las extensiones de archivo si escribe `dir` en el directorio `llm_engineering`.\n",
    "\n",
    "Problemas desagradables a tener en cuenta:\n",
    "- En el archivo .env, no debe haber espacio entre el signo igual y la clave. Por ejemplo: `OPENAI_API_KEY=sk-proj-...`\n",
    "- Si copiaste y pegaste tu clave API desde otra aplicación, asegúrate de que no haya reemplazado los guiones de tu clave con guiones largos.\n",
    "- Si cambiaste tu archivo .env, es posible que tengas que reiniciar tu \"kernel\" de Jupyter (el proceso de Python) para que se aplique el cambio a través del menú Kernel >> Reiniciar kernel, y luego vuelve a ejecutar las celdas desde arriba.\n",
    "\n",
    "En el peor de los casos, si no puedes hacer que esta parte funcione, no es un gran problema. Solo tendrás que pegar tu clave en Jupyter Notebook (mira un ejemplo a continuación) y asegúrate de eliminarla antes de compartir Notebook con alguien más."
   ]
  },
  {
   "cell_type": "markdown",
   "id": "42afad1f-b0bf-4882-b469-7709060fee3a",
   "metadata": {},
   "source": [
    "# Paso 4\n",
    "\n",
    "Ahora ejecute el código a continuación y verá que GPT puede realizar operaciones aritméticas básicas.\n",
    "\n",
    "Si no es así, consulte la celda a continuación."
   ]
  },
  {
   "cell_type": "code",
   "execution_count": null,
   "id": "cccb58e7-6626-4033-9dc1-e7e3ff742f6b",
   "metadata": {},
   "outputs": [],
   "source": [
    "from openai import OpenAI\n",
    "\n",
    "# O BIEN:\n",
    "my_api_key = os.getenv(\"OPENAI_API_KEY\")\n",
    "\n",
    "# O si no ha podido hacer que .env funcione, descomente la siguiente línea y pegue su clave dentro de las comillas\n",
    "# my_api_key = \"REEMPLACE ESTE TEXTO CON SU CLAVE DE API DE OPENAI DENTRO DE LAS COMILLAS - debería comenzar con sk-proj-\"\n",
    "\n",
    "print(f\"Using API key {my_api_key}\")\n",
    "\n",
    "openai = OpenAI(api_key=my_api_key)\n",
    "completion = openai.chat.completions.create(\n",
    "    model='gpt-4o-mini',\n",
    "    messages=[{\"role\":\"user\", \"content\": \"What's 2+2?\"}],\n",
    ")\n",
    "print(completion.choices[0].message.content)"
   ]
  },
  {
   "cell_type": "markdown",
   "id": "81046a77-c359-4388-929f-ffc8ad5cb93c",
   "metadata": {},
   "source": [
    "# Si la clave se configuró correctamente y esto sigue sin funcionar, tal vez con un error de RateLimit\n",
    "\n",
    "¡Entonces hay algo mal con tu clave API!\n",
    "\n",
    "Primero revisa esta página web para asegurarte de que tienes un saldo de crédito positivo.\n",
    "OpenAI requiere que tengas un saldo de crédito positivo y tiene mínimos. Mi argumento de venta para OpenAI es que vale la pena para tu educación: por menos del precio de un álbum de música, desarrollarás mucha experiencia comercial valiosa. Pero no es un requisito para este curso en absoluto; puedes verme ejecutar el código de OpenAI y luego esperar hasta que lleguemos a los modelos de código abierto en la semana 3. Además, te mostraré cómo usar Ollama para ejecutar modelos de código abierto localmente.\n",
    "\n",
    "https://platform.openai.com/settings/organization/billing/overview\n",
    "\n",
    "También intenta crear una nueva clave (botón en la parte superior derecha) aquí:\n",
    "\n",
    "https://platform.openai.com/api-keys\n",
    "\n",
    "A veces, OpenAI puede tardar unos minutos en darte acceso después de que lo intentes.\n",
    "\n",
    "## Si todo lo demás falla:\n",
    "\n",
    "(1) ¡Intenta pegar tu error en ChatGPT o Claude! Es sorprendente la frecuencia con la que pueden resolver las cosas.\n",
    "\n",
    "(2) ¡Contáctame! En el foro del curso\n",
    "\n",
    "¡Muchas gracias y lamento que esto te esté causando problemas!"
   ]
  },
  {
   "cell_type": "code",
   "execution_count": null,
   "id": "32dea02e-c216-4aed-9f84-934c981d0573",
   "metadata": {},
   "outputs": [],
   "source": []
  }
 ],
 "metadata": {
  "kernelspec": {
   "display_name": "Python 3 (ipykernel)",
   "language": "python",
   "name": "python3"
  },
  "language_info": {
   "codemirror_mode": {
    "name": "ipython",
    "version": 3
   },
   "file_extension": ".py",
   "mimetype": "text/x-python",
   "name": "python",
   "nbconvert_exporter": "python",
   "pygments_lexer": "ipython3",
   "version": "3.11.10"
  }
 },
 "nbformat": 4,
 "nbformat_minor": 5
}
