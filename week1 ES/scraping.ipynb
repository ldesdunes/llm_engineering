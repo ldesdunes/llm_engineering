{
 "cells": [
  {
   "cell_type": "markdown",
   "id": "a98030af-fcd1-4d63-a36e-38ba053498fa",
   "metadata": {},
   "source": [
    "## Imports"
   ]
  },
  {
   "cell_type": "code",
   "execution_count": 21,
   "id": "d5b08506-dc8b-4443-9201-5f1848161363",
   "metadata": {},
   "outputs": [],
   "source": [
    "# imports\n",
    "# Si esto falla, verifica que esté ejecutándose desde un entorno \"activado\" con (llms) en el símbolo del sistema\n",
    "\n",
    "import os\n",
    "import requests\n",
    "import json\n",
    "import time\n",
    "from typing import List\n",
    "from dotenv import load_dotenv\n",
    "from bs4 import BeautifulSoup\n",
    "from IPython.display import Markdown, display, update_display\n",
    "from openai import OpenAI"
   ]
  },
  {
   "cell_type": "code",
   "execution_count": 16,
   "id": "fc5d8880-f2ee-4c06-af16-ecbc0262af61",
   "metadata": {},
   "outputs": [
    {
     "name": "stdout",
     "output_type": "stream",
     "text": [
      "¿Puede haber un problema con tu clave API? ¡Visita el cuaderno de resolución de problemas!\n"
     ]
    }
   ],
   "source": [
    "# Inicialización y constantes and constants\n",
    "\n",
    "load_dotenv()\n",
    "api_key = os.getenv('OPENAI_API_KEY')\n",
    "\n",
    "if api_key and api_key[:8]=='sk-proj-':\n",
    "    print(\"La clave de API parece buena\")\n",
    "else:\n",
    "    print(\"¿Puede haber un problema con tu clave API? ¡Visita el cuaderno de resolución de problemas!\")\n",
    "    \n",
    "MODEL = 'gpt-4o-mini'\n",
    "openai = OpenAI()"
   ]
  },
  {
   "cell_type": "code",
   "execution_count": 29,
   "id": "106dd65e-90af-4ca8-86b6-23a41840645b",
   "metadata": {},
   "outputs": [],
   "source": [
    "# La clase para representar una Página Web\n",
    "\n",
    "class Website:\n",
    "    \"\"\"\n",
    "    Una clase de utilidad para representar un sitio web que hemos scrappeado, ahora con enlaces\n",
    "    \"\"\"\n",
    "\n",
    "    def __init__(self, url):\n",
    "        self.url = url\n",
    "        self.title, self.text, soup = self.get_content_link(url)\n",
    "        links = list({link.get('href') for link in soup.find_all('a') if link.get('href') and link.get('href').startswith('http')})\n",
    "\n",
    "        self.links={}\n",
    "        for link in links:\n",
    "            time.sleep(2)\n",
    "            data = self.get_content_link(link)\n",
    "            if data:\n",
    "                self.links[link]=data\n",
    "\n",
    "    def get_content_link(self, url):\n",
    "        text = \"\"\n",
    "        title = \"\"\n",
    "        soup=None\n",
    "        try:\n",
    "            response = requests.get(url)\n",
    "            body = response.content\n",
    "            soup = BeautifulSoup(body, 'html.parser')\n",
    "            title = soup.title.string if soup.title else \"Sin título\"\n",
    "            if soup.body:\n",
    "                for irrelevant in soup.body([\"script\", \"style\", \"img\", \"input\"]):\n",
    "                    irrelevant.decompose()\n",
    "                text = soup.body.get_text(separator=\"\\n\", strip=True)\n",
    "        except Exception as e:\n",
    "            print(f\"Error al obtener el contenido de la web: {e}\")        \n",
    "        \n",
    "        return title, text, soup\n",
    "    \n",
    "    def get_body(self):\n",
    "        return f\"Contenido de la Web:\\n{self.text}\\n\\n\"\n",
    "    \n",
    "    def save_to_disk(self, file_name=\"web_content.txt\"):\n",
    "        \"\"\"\n",
    "        Guarda el contenido completo de la web en un archivo de texto en disco.\n",
    "        \n",
    "        Args:\n",
    "            file_name (str): El nombre del archivo donde se guardará el contenido. Por defecto, 'web_content.txt'.\n",
    "        \"\"\"\n",
    "        try:\n",
    "            with open(file_name, 'w', encoding='utf-8') as file:\n",
    "                # Guardar título\n",
    "                file.write(f\"Título: {self.title}\\n\\n\")\n",
    "                # Guardar URL original\n",
    "                file.write(f\"URL: {self.url}\\n\\n\")\n",
    "                # Guardar texto de la página\n",
    "                file.write(\"Contenido de la página:\\n\")\n",
    "                file.write(self.text + \"\\n\\n\")\n",
    "                \n",
    "                for link, content in self.links.items():\n",
    "                    title, text, _ = content  # Desempaquetar la tupla\n",
    "                    # Guardar enlaces encontrados\n",
    "                    file.write(\"Enlace encontrado:\\n\")\n",
    "                    file.write(f\"- {link}\\n\")\n",
    "                    file.write(f\"- {title}\\n\")\n",
    "                    file.write(f\"- {text}\\n\")\n",
    "            \n",
    "            print(f\"Contenido de la web guardado correctamente en {file_name}.\")\n",
    "        except Exception as e:\n",
    "            print(f\"Error al guardar el contenido de la web en disco: {e}\")\n",
    "\n",
    "    def save_to_markdown(self, file_name=\"web_content.md\"):\n",
    "        \"\"\"\n",
    "        Guarda el contenido completo de la web en un archivo Markdown (.md).\n",
    "        \n",
    "        Args:\n",
    "            file_name (str): El nombre del archivo donde se guardará el contenido. Por defecto, 'web_content.md'.\n",
    "        \"\"\"\n",
    "        try:\n",
    "            with open(file_name, 'w', encoding='utf-8') as file:\n",
    "                # Guardar título como encabezado nivel 1\n",
    "                file.write(f\"# {self.title}\\n\\n\")\n",
    "                # Guardar URL como enlace\n",
    "                file.write(f\"URL: [{self.url}]({self.url})\\n\\n\")\n",
    "                # Guardar contenido como encabezado nivel 2\n",
    "                file.write(\"## Contenido de la página\\n\\n\")\n",
    "                file.write(self.text + \"\\n\\n\")\n",
    "                # Guardar enlaces encontrados como lista\n",
    "                file.write(\"## Enlaces encontrados\\n\\n\")\n",
    "                for link in self.links.keys():\n",
    "                    file.write(f\"- [{link}]({link})\\n\")\n",
    "            \n",
    "            print(f\"Contenido de la web guardado correctamente en {file_name}.\")\n",
    "        except Exception as e:\n",
    "            print(f\"Error al guardar el contenido de la web en formato Markdown: {e}\")\n",
    "\n",
    "    "
   ]
  },
  {
   "cell_type": "code",
   "execution_count": 42,
   "id": "e30d8128-933b-44cc-81c8-ab4c9d86589a",
   "metadata": {},
   "outputs": [],
   "source": [
    "frog = Website(\"https://cursos.frogamesformacion.com\")\n",
    "# print(frog.get_body())\n",
    "# frog.links"
   ]
  },
  {
   "cell_type": "code",
   "execution_count": 30,
   "id": "404c4fdd",
   "metadata": {},
   "outputs": [
    {
     "name": "stdout",
     "output_type": "stream",
     "text": [
      "Error al obtener el contenido de la web: HTTPSConnectionPool(host='ibertransitextranet.bytemasteronline.com', port=443): Max retries exceeded with url: /_layouts/15/IbertransitENF/LoginPage/Ibertransit_LoginPage.aspx?ReturnUrl=/_layouts/15/Authenticate.aspx?Source=%2F&Source=/ (Caused by NameResolutionError(\"<urllib3.connection.HTTPSConnection object at 0x000001F8A6404C90>: Failed to resolve 'ibertransitextranet.bytemasteronline.com' ([Errno 11001] getaddrinfo failed)\"))\n",
      "Error al obtener el contenido de la web: HTTPSConnectionPool(host='globalmargroup.com', port=443): Max retries exceeded with url: / (Caused by SSLError(SSLCertVerificationError(1, '[SSL: CERTIFICATE_VERIFY_FAILED] certificate verify failed: self-signed certificate in certificate chain (_ssl.c:1006)')))\n"
     ]
    },
    {
     "name": "stderr",
     "output_type": "stream",
     "text": [
      "Some characters could not be decoded, and were replaced with REPLACEMENT CHARACTER.\n",
      "Some characters could not be decoded, and were replaced with REPLACEMENT CHARACTER.\n"
     ]
    },
    {
     "name": "stdout",
     "output_type": "stream",
     "text": [
      "Error al obtener el contenido de la web: HTTPSConnectionPool(host='bfirstextranet.bytemasteronline.com', port=443): Max retries exceeded with url: /login (Caused by SSLError(SSLCertVerificationError(1, '[SSL: CERTIFICATE_VERIFY_FAILED] certificate verify failed: self-signed certificate in certificate chain (_ssl.c:1006)')))\n",
      "Error al obtener el contenido de la web: HTTPSConnectionPool(host='www.instagram.com', port=443): Max retries exceeded with url: /ibertransit/ (Caused by SSLError(SSLCertVerificationError(1, '[SSL: CERTIFICATE_VERIFY_FAILED] certificate verify failed: self-signed certificate in certificate chain (_ssl.c:1006)')))\n"
     ]
    },
    {
     "name": "stderr",
     "output_type": "stream",
     "text": [
      "Some characters could not be decoded, and were replaced with REPLACEMENT CHARACTER.\n",
      "Some characters could not be decoded, and were replaced with REPLACEMENT CHARACTER.\n",
      "Some characters could not be decoded, and were replaced with REPLACEMENT CHARACTER.\n"
     ]
    },
    {
     "name": "stdout",
     "output_type": "stream",
     "text": [
      "Error al obtener el contenido de la web: HTTPSConnectionPool(host='www.facebook.com', port=443): Max retries exceeded with url: /ibertransit (Caused by SSLError(SSLCertVerificationError(1, '[SSL: CERTIFICATE_VERIFY_FAILED] certificate verify failed: self-signed certificate in certificate chain (_ssl.c:1006)')))\n"
     ]
    },
    {
     "name": "stderr",
     "output_type": "stream",
     "text": [
      "Some characters could not be decoded, and were replaced with REPLACEMENT CHARACTER.\n"
     ]
    },
    {
     "name": "stdout",
     "output_type": "stream",
     "text": [
      "Error al obtener el contenido de la web: HTTPSConnectionPool(host='twitter.com', port=443): Max retries exceeded with url: /ibertransit (Caused by SSLError(SSLCertVerificationError(1, '[SSL: CERTIFICATE_VERIFY_FAILED] certificate verify failed: self-signed certificate in certificate chain (_ssl.c:1006)')))\n"
     ]
    },
    {
     "name": "stderr",
     "output_type": "stream",
     "text": [
      "Some characters could not be decoded, and were replaced with REPLACEMENT CHARACTER.\n"
     ]
    },
    {
     "name": "stdout",
     "output_type": "stream",
     "text": [
      "Contenido de la web guardado correctamente en XOne_wiki.txt.\n"
     ]
    }
   ],
   "source": [
    "wiki = Website(\"https://ibertransit.com/\")\n",
    "wiki.save_to_disk('XOne_wiki.txt')"
   ]
  },
  {
   "cell_type": "markdown",
   "id": "1771af9c-717a-4fca-bbbe-8a95893312c3",
   "metadata": {},
   "source": [
    "## Primer paso: hacer que GPT-4o-mini determine qué enlaces son relevantes\n",
    "\n",
    "### Usar una llamada a gpt-4o-mini para leer los enlaces en una página web y responder en JSON estructurado.\n",
    "Debería decidir qué enlaces son relevantes y reemplazar los enlaces relativos como \"/about\" con \"https://company.com/about\".\n",
    "Usaremos \"one shot prompting\" en las que proporcionamos un ejemplo de cómo debería responder en la solicitud.\n",
    "\n",
    "Este es un excelente caso de uso para un LLM, porque requiere una comprensión matizada. Imagínate intentar programar esto sin LLMs analizando la página web: ¡sería muy difícil!\n",
    "\n",
    "Nota al margen: existe una técnica más avanzada llamada \"Salidas estructuradas\" en la que requerimos que el modelo responda de acuerdo con una especificación. Cubrimos esta técnica en la Semana 8 durante nuestro proyecto autónomo de inteligencia artificial Agentic."
   ]
  },
  {
   "cell_type": "code",
   "execution_count": 6,
   "id": "6957b079-0d96-45f7-a26a-3487510e9b35",
   "metadata": {},
   "outputs": [],
   "source": [
    "link_system_prompt = \"Se te proporciona una lista de enlaces que se encuentran en una página web. \\\n",
    "Puedes decidir cuáles de los enlaces serían los más relevantes para incluir en un folleto sobre la empresa, \\\n",
    "como enlaces a una página Acerca de, una página de la empresa, las carreras/empleos disponibles o páginas de Cursos/Packs.\\n\"\n",
    "link_system_prompt += \"Debes responder en JSON como en este ejemplo:\"\n",
    "link_system_prompt += \"\"\"\n",
    "{\n",
    "    \"links\": [\n",
    "        {\"type\": \"Pagina Sobre nosotros\", \"url\": \"https://url.completa/aqui/va/sobre/nosotros\"},\n",
    "        {\"type\": \"Pagina de Cursos\": \"url\": \"https://otra.url.completa/courses\"}\n",
    "    ]\n",
    "}\n",
    "\"\"\""
   ]
  },
  {
   "cell_type": "code",
   "execution_count": 15,
   "id": "b97e4068-97ed-4120-beae-c42105e4d59a",
   "metadata": {},
   "outputs": [
    {
     "name": "stdout",
     "output_type": "stream",
     "text": [
      "Se te proporciona una lista de enlaces que se encuentran en una página web. Puedes decidir cuáles de los enlaces serían los más relevantes para incluir en un folleto sobre la empresa, como enlaces a una página Acerca de, una página de la empresa, las carreras/empleos disponibles o páginas de Cursos/Packs.\n",
      "Debes responder en JSON como en este ejemplo:\n",
      "{\n",
      "    \"links\": [\n",
      "        {\"type\": \"Pagina Sobre nosotros\", \"url\": \"https://url.completa/aqui/va/sobre/nosotros\"},\n",
      "        {\"type\": \"Pagina de Cursos\": \"url\": \"https://otra.url.completa/courses\"}\n",
      "    ]\n",
      "}\n",
      "\n"
     ]
    }
   ],
   "source": [
    "print(link_system_prompt)"
   ]
  },
  {
   "cell_type": "code",
   "execution_count": 7,
   "id": "8e1f601b-2eaf-499d-b6b8-c99050c9d6b3",
   "metadata": {},
   "outputs": [],
   "source": [
    "def get_links_user_prompt(website):\n",
    "    user_prompt = f\"Aquí hay una lista de enlaces de la página web {website.url} - \"\n",
    "    user_prompt += \"Por favor, decide cuáles de estos son enlaces web relevantes para un folleto sobre la empresa. Responde con la URL https completa en formato JSON. \\\n",
    "No incluyas Términos y Condiciones, Privacidad ni enlaces de correo electrónico.\\n\"\n",
    "    user_prompt += \"Links (puede que algunos sean links relativos):\\n\"\n",
    "    user_prompt += \"\\n\".join(website.links)\n",
    "    return user_prompt"
   ]
  },
  {
   "cell_type": "code",
   "execution_count": null,
   "id": "6bcbfa78-6395-4685-b92c-22d592050fd7",
   "metadata": {},
   "outputs": [],
   "source": [
    "print(get_links_user_prompt(frog))"
   ]
  },
  {
   "cell_type": "code",
   "execution_count": 8,
   "id": "a29aca19-ca13-471c-a4b4-5abbfa813f69",
   "metadata": {},
   "outputs": [],
   "source": [
    "def get_links(url):\n",
    "    website = Website(url)\n",
    "    response = openai.chat.completions.create(\n",
    "        model=MODEL,\n",
    "        messages=[\n",
    "            {\"role\": \"system\", \"content\": link_system_prompt},\n",
    "            {\"role\": \"user\", \"content\": get_links_user_prompt(website)}\n",
    "      ],\n",
    "        response_format={\"type\": \"json_object\"}\n",
    "    )\n",
    "    result = response.choices[0].message.content\n",
    "    return json.loads(result)"
   ]
  },
  {
   "cell_type": "code",
   "execution_count": null,
   "id": "74a827a0-2782-4ae5-b210-4a242a8b4cc2",
   "metadata": {},
   "outputs": [],
   "source": [
    "anthropic = Website(\"https://anthropic.com\")\n",
    "anthropic.links"
   ]
  },
  {
   "cell_type": "code",
   "execution_count": 16,
   "id": "d3d583e2-dcc4-40cc-9b28-1e8dbf402924",
   "metadata": {},
   "outputs": [
    {
     "data": {
      "text/plain": [
       "{'links': [{'type': 'Pagina Sobre nosotros',\n",
       "   'url': 'https://anthropic.com/company'},\n",
       "  {'type': 'Pagina de Carreras', 'url': 'https://anthropic.com/careers'},\n",
       "  {'type': 'Pagina de Investigación', 'url': 'https://anthropic.com/research'},\n",
       "  {'type': 'Pagina de Productos', 'url': 'https://anthropic.com/claude'}]}"
      ]
     },
     "execution_count": 16,
     "metadata": {},
     "output_type": "execute_result"
    }
   ],
   "source": [
    "get_links(\"https://anthropic.com\")"
   ]
  },
  {
   "cell_type": "code",
   "execution_count": null,
   "id": "6fa95e97-51fd-4f57-a0ee-6047557463d0",
   "metadata": {},
   "outputs": [],
   "source": [
    "get_links(\"https://cursos.frogamesformacion.com\")"
   ]
  },
  {
   "cell_type": "markdown",
   "id": "0d74128e-dfb6-47ec-9549-288b621c838c",
   "metadata": {},
   "source": [
    "## Segundo paso: ¡crea el folleto!\n",
    "\n",
    "Reúne todos los detalles en otro mensaje para GPT4-o"
   ]
  },
  {
   "cell_type": "code",
   "execution_count": 9,
   "id": "85a5b6e2-e7ef-44a9-bc7f-59ede71037b5",
   "metadata": {},
   "outputs": [],
   "source": [
    "def get_all_details(url):\n",
    "    result = \"Landing page:\\n\"\n",
    "    result += Website(url).get_content_link()\n",
    "    links = get_links(url)\n",
    "    print(\"Links encontrados:\", links)\n",
    "    for link in links[\"links\"]:\n",
    "        result += f\"\\n\\n{link['type']}\\n\"\n",
    "        result += Website(link[\"url\"]).get_content_link()\n",
    "    return result"
   ]
  },
  {
   "cell_type": "code",
   "execution_count": null,
   "id": "5099bd14-076d-4745-baf3-dac08d8e5ab2",
   "metadata": {},
   "outputs": [],
   "source": [
    "print(get_all_details(\"https://anthropic.com\"))"
   ]
  },
  {
   "cell_type": "code",
   "execution_count": 11,
   "id": "9b863a55-f86c-4e3f-8a79-94e24c1a8cf2",
   "metadata": {},
   "outputs": [],
   "source": [
    "system_prompt = \"Eres un asistente que analiza el contenido de varias páginas relevantes del sitio web de una empresa\\\n",
    "y crea un folleto breve sobre la empresa para posibles clientes, inversores y nuevos empleados. Responde en formato Markdown.\\\n",
    "Incluye detalles sobre la cultura de la empresa, los clientes, las carreras/empleos y los futuros empleos si tienes la información.\"\n",
    "\n",
    "# O descomenta las líneas a continuación para obtener un folleto más humorístico: esto demuestra lo fácil que es incorporar el \"tono\":\n",
    "\n",
    "# system_prompt = \"Eres un asistente que analiza el contenido de varias páginas relevantes del sitio web de una empresa \\\n",
    "# y crea un folleto breve, divertido y gracioso sobre la empresa para posibles clientes, inversores y nuevos empleados. Responde en formato Markdown.\\\n",
    "#Incluye detalles sobre la cultura de la empresa, los clientes y los cursos/packs para futuros empleos si tienes la información.\"\n"
   ]
  },
  {
   "cell_type": "code",
   "execution_count": 12,
   "id": "6ab83d92-d36b-4ce0-8bcc-5bb4c2f8ff23",
   "metadata": {},
   "outputs": [],
   "source": [
    "def get_brochure_user_prompt(company_name, url):\n",
    "    user_prompt = f\"Estás mirando una empresa llamada: {company_name}\\n\"\n",
    "    user_prompt += f\"Aquí se encuentra el contenido de su página de inicio y otras páginas relevantes; usa esta información para crear un breve folleto de la empresa en Markdown.\\n\"\n",
    "    user_prompt += get_all_details(url)\n",
    "    user_prompt = user_prompt[:20_000] # Truncar si tiene más de 20.000 caracteres\n",
    "    return user_prompt"
   ]
  },
  {
   "cell_type": "code",
   "execution_count": 23,
   "id": "cd909e0b-1312-4ce2-a553-821e795d7572",
   "metadata": {},
   "outputs": [
    {
     "name": "stdout",
     "output_type": "stream",
     "text": [
      "Links encontrados: {'links': [{'type': 'Página Acerca de', 'url': 'https://www.anthropic.com/company'}, {'type': 'Página de Carreras', 'url': 'https://www.anthropic.com/careers'}, {'type': 'Página de Investigación', 'url': 'https://www.anthropic.com/research'}, {'type': 'Página de Claude', 'url': 'https://www.anthropic.com/claude'}, {'type': 'Página de API', 'url': 'https://www.anthropic.com/api'}, {'type': 'Página de Precios', 'url': 'https://www.anthropic.com/pricing'}, {'type': 'Página de Clientes', 'url': 'https://www.anthropic.com/customers'}]}\n"
     ]
    },
    {
     "data": {
      "text/plain": [
       "\"Estás mirando una empresa llamada: Anthropic\\nAquí se encuentra el contenido de su página de inicio y otras páginas relevantes; usa esta información para crear un breve folleto de la empresa en Markdown.\\nLanding page:\\nTítulo de la Web:\\nHome \\\\ Anthropic\\nContenido de la Web:\\nClaude\\nOverview\\nTeam\\nEnterprise\\nAPI\\nPricing\\nResearch\\nCompany\\nCareers\\nNews\\nAI\\nresearch\\nand\\nproducts\\nthat put safety at the frontier\\nClaude.ai\\nMeet Claude 3.5 Sonnet\\nClaude 3.5 Sonnet, our most intelligent AI model, is now available.\\nTalk to Claude\\nAPI\\nBuild with Claude\\nStart using Claude to drive efficiency and create new revenue streams.\\nLearn more\\nAnnouncements\\nIntroducing computer use, a new Claude 3.5 Sonnet, and Claude 3.5 Haiku\\nOct 22, 2024\\nModel updates\\n3.5 Sonnet\\n3.5 Haiku\\nOur Work\\nProduct\\nClaude for Enterprise\\nSep 4, 2024\\nAlignment\\n·\\nResearch\\nConstitutional AI: Harmlessness from AI Feedback\\nDec 15, 2022\\nAnnouncements\\nCore Views on AI Safety: When, Why, What, and How\\nMar 8, 2023\\nWork with Anthropic\\nAnthropic is an AI safety and research company based in San Francisco. Our interdisciplinary team has experience across ML, physics, policy, and product. Together, we generate research and create reliable, beneficial AI systems.\\nSee open roles\\nClaude\\nAPI\\nTeam\\nPricing\\nResearch\\nCompany\\nCustomers\\nNews\\nCareers\\nPress Inquiries\\nSupport\\nStatus\\nAvailability\\nTwitter\\nLinkedIn\\nYouTube\\nTerms of Service – Consumer\\nTerms of Service – Commercial\\nPrivacy Policy\\nUsage Policy\\nResponsible Disclosure Policy\\nCompliance\\nPrivacy Choices\\n© 2024 Anthropic PBC\\n\\n\\n\\nPágina Acerca de\\nTítulo de la Web:\\nCompany \\\\ Anthropic\\nContenido de la Web:\\nClaude\\nOverview\\nTeam\\nEnterprise\\nAPI\\nPricing\\nResearch\\nCompany\\nCareers\\nNews\\nMaking AI systems\\nyou can rely on\\nAnthropic is an AI safety and research company. We build reliable, interpretable, and steerable AI systems.\\nJoin us\\nOur Purpose\\nWe believe AI will have a vast impact on the world. Anthropic is dedicated to building systems that people can rely on and generating research about the opportunities and risks of AI.\\nWe Build Safer Systems\\nWe aim to build frontier AI systems that are reliable, interpretable, and steerable. We conduct frontier research, develop and apply a variety of safety techniques, and deploy the resulting systems via a set of partnerships and products.\\nSafety Is a Science\\nWe treat AI safety as a systematic science, conducting research, applying it to our products, feeding those insights back into our research, and regularly sharing what we learn with the world along the way.\\nInterdisciplinary\\nAnthropic is a collaborative team of researchers, engineers, policy experts, business leaders and operators, who bring our experience from many different domains to our work.\\nAI Companies are One Piece of a Big Puzzle\\nAI has the potential to fundamentally change how the world works. We view ourselves as just one piece of this evolving puzzle. We collaborate with civil society, government, academia, nonprofits and industry to promote safety industry-wide.\\nThe Team\\nWe’re a team of researchers, engineers, policy experts and operational leaders, with experience spanning a variety of disciplines, all working together to build reliable and understandable AI systems.\\nResearch\\nWe conduct frontier AI research across a variety of modalities, and explore novel and emerging safety research areas from interpretability to RL from human feedback to policy and societal impacts analysis.\\nPolicy\\nWe think about the impacts of our work and strive to communicate what we’re seeing at the frontier to policymakers and civil society in the US and abroad to help promote safe and reliable AI.\\nProduct\\nWe translate our research into tangible, practical tools like Claude that benefit businesses, nonprofits and civil society groups and their clients and people around the globe.\\nOperations\\nOur people, finance, legal, and recruiting teams are the human engines that make Anthropic go. We’ve had previous careers at NASA, startups, and the armed forces and our diverse experiences help make Anthropic a great place to work (and we love plants!).\\nOur Values\\n01\\nHere for the mission\\nAnthropic exists for our mission: to ensure transformative AI helps people and society flourish. Progress this decade may be rapid, and we expect increasingly capable systems to pose novel challenges. We pursue our mission by building frontier systems, studying their behaviors, working to responsibly deploy them, and regularly sharing our safety insights. We collaborate with other projects and stakeholders seeking a similar outcome.\\n02\\nUnusually high trust\\nOur company is an unusually high trust environment: we assume good faith, disagree kindly, and prioritize honesty. We expect emotional maturity and intellectual openness. At its best, our trust enables us to make better decisions as an organization than any one of us could as individuals.\\n03\\nOne big team\\nCollaboration is central to our work, culture, and value proposition. While we have many teams at Anthropic, we feel the broader sense in which we are all on the same team working together towards the mission. Leadership sets the strategy, with broad input from everyone, and trusts each piece of the organization to pursue these goals in their unique style. Individuals commonly contribute to work across many different areas.\\n04\\nDo the simple thing that works\\nWe celebrate trying the simple thing before the clever, novel thing. We embrace pragmatism - sensible, practical approaches that acknowledge tradeoffs. We love empiricism - finding out what actually works by trying it - and apply this to our research, our engineering and our collaboration. We aim to be open about what we understand and what we don’t.\\nGovernance\\nAnthropic is a Public Benefit Corporation, whose purpose is the responsible development and maintenance of advanced AI for the long-term benefit of humanity. Our Board of Directors is elected by stockholders and our Long-Term Benefit Trust, as explained\\nhere.\\nCurrent members of the Board and the Long-Term Benefit Trust (LTBT) are listed below.\\nAnthropic Board of Directors\\nDario Amodei, Daniela Amodei, Yasmin Razavi, and Jay Kreps.\\nLTBT Trustees\\nNeil Buddy Shah, Kanika Bahl, and Zach Robinson.\\nCompany News\\nSee All\\nAnnouncements\\nClaude 3.5 Sonnet on GitHub Copilot\\nOct 29, 2024\\nAnnouncements\\n·\\nProduct\\nDeveloping a computer use model\\nOct 22, 2024\\nAnnouncements\\nIntroducing computer use, a new Claude 3.5 Sonnet, and Claude 3.5 Haiku\\nOct 22, 2024\\nWant to help us build the future of safe AI?\\nJoin us\\nClaude\\nAPI\\nTeam\\nPricing\\nResearch\\nCompany\\nCustomers\\nNews\\nCareers\\nPress Inquiries\\nSupport\\nStatus\\nAvailability\\nTwitter\\nLinkedIn\\nYouTube\\nTerms of Service – Consumer\\nTerms of Service – Commercial\\nPrivacy Policy\\nUsage Policy\\nResponsible Disclosure Policy\\nCompliance\\nPrivacy Choices\\n© 2024 Anthropic PBC\\n\\n\\n\\nPágina de Carreras\\nTítulo de la Web:\\nCareers \\\\ Anthropic\\nContenido de la Web:\\nClaude\\nOverview\\nTeam\\nEnterprise\\nAPI\\nPricing\\nResearch\\nCompany\\nCareers\\nNews\\nJoin the team\\nmaking AI safe\\nWe’re a public benefit corporation headquartered in San Francisco. Our team’s experience spans a variety of backgrounds and disciplines, from physics and machine learning to public policy and business. We work as a cohesive team that collectively forecasts the impact and tractability of research ideas in advancing our mission.\\nSee open roles\\nWhat We Offer\\nHealth & Wellness\\nAt Anthropic, we believe that supporting our employees is crucial to our collective success and wellbeing. That's why we offer a range of benefits to best support you and your family, now and in the future.\\nComprehensive health, dental, and vision insurance for you and your dependents\\nInclusive fertility benefits via Carrot Fertility\\n22 weeks of paid parental leave\\nFlexible paid time off and absence policies\\nGenerous mental health support for you and your dependents\\nCompensation & Support\\nOur goal is to foster an environment where you can thrive professionally while feeling confident that you and your loved ones are taken care of.\\nCompetitive salary and equity packages\\nOptional equity donation matching at a 1:1 ratio, up to 25% of your equity grant\\nRobust retirement plans and salary sacrifice programs with market competitive matching\\nLife and income protection plans\\nAdditional Benefits\\n$500/month flexible wellness and time saver stipend\\nCommuter benefits\\nAnnual education stipend\\nHome office stipends\\nRelocation support for those moving for Anthropic\\nDaily meals and snacks in the office\\nHow We Hire\\nThe interview process at Anthropic varies based on role and candidate, but our standard process looks like this:\\nStep 1\\nResume\\nSubmit your resume via our website.\\nStep 2\\nExploratory chat\\nYou’ll have a chat with one of our staff to discuss your career interests and relevant experience, and learn more about Anthropic.\\nStep 3\\nSkills Assessment\\nFor technical roles, you’ll have a one-hour technical screening interview.\\nFor operations or policy roles, you’ll get a take-home assignment. These typically involve writing responses to several role-relevant questions; they may occasionally require some outside research. Assignments usually take between 2-5 hours, depending on the role.\\nWe include this to minimize bias and make well-informed hiring decisions. We think seeing a candidate’s work helps us assess how they might actually perform on the job; similarly, the assignment gives candidates a better idea of what their work at Anthropic might entail. If a candidate likes working through their take-home, that is one indicator that they would enjoy taking on the role, and vice versa.\\nWe recognize that completing work assignments requires time and effort, and that they are not perfectly reflective of the role’s work. Nonetheless, we think that work tests are a useful complement to interviews and reference checks.\\nStep 4\\nTeam Screen\\nYou'll have a conversation with either the Hiring Manager or a member of your potential team.\\nStep 5\\nInterview Panel\\nFor technical roles, you’ll have 3-4 more one-hour technical interviews, plus a culture interview.\\nFor operations or policy roles, you’ll have 3-5 hours of interviews, including a culture interview.\\nStep 6\\nFinal Checks\\nWe’ll ask for some references, and have you chat with our leadership.\\nStep 7\\nOffer\\nWe’ll make you an offer!\\nTechnical Interviews\\nTechnical interviews at Anthropic are broadly categorized into ‘engineering’ or ‘research’ interviews, and each candidate is given a mix tailored to their skillset.\\nEngineering interviews are usually carried out in a shared Python coding environment, like Google Colab. Frontend engineering interviews are in JavaScript. They have the form:\\nHere’s a description of a component from our stack. Could you re-implement a toy version of it for me in one hour?\\nThese components are ‘chunkier’ than the more common LeetCode problems, and are intended to mimic the day-to-day of engineering at Anthropic.\\nWe are particularly interested in your thought process and how you attack the problem. You’ll be allowed to look things up with Google, but it’s still important to be familiar with Python syntax and the standard library. We primarily code in Python, and a common reason candidates fail interviews is that they're not fully comfortable in Python.\\nOnly one of our engineering interviews touches on machine learning topics, and you can ask to pass on that one if you wish. You do not need to learn anything about machine learning before interviewing as an engineer at Anthropic.\\nResearch interviews are broader in form. They’ll include some engineering interviews, and some discussions about the kinds of systems we study.\\nBoth the research and engineering interview process also include softer questions about your experience and motivations, and time to ask us about Anthropic.\\nOther Things\\nEngineers here do lots of research, and researchers do lots of engineering\\nWhile there’s historically been a division between engineering and research in machine learning, we think that boundary has dissolved with the advent of large models. The distribution of candidates we interview is strongly bimodal in both engineering and research experience however, and we have necessarily tailored our interview structure to that.\\nIf you’ve an engineering background, please apply as an engineer. You’ll perform much better in the interviews, and if you join you’ll have as much input to Anthropic’s direction and interests as anyone else.\\nAs evidence towards this: all of our papers have engineers as authors, and often as first author. Research and engineering hires all share a single title - ‘Member of Technical Staff’.\\nWe value direct evidence of ability\\nIf you’ve done interesting independent research, written an insightful blog post, or made substantial contributions to open-source software, put that at the top of your resume!\\nFeedback\\nWe do not provide feedback on resumes or interviews.\\nVisas\\nAnthropic sponsors visas! We aren't able to sponsor them for every role and every candidate; operations roles are especially difficult to support. But if we make you an offer, we will make every effort to get you into the United States, and we retain an immigration lawyer to help with this.\\nGreen cards\\nOnce you’re eligible, we’re also keen to sponsor green cards!\\nWe do not require PhDs, degrees, or previous ML experience\\nAbout half of Anthropic technical staff have a PhD of some sort; about half had prior experience in ML. We have several brilliant colleagues who never went to college.\\nRemote interviewing\\nAll our interviews are conducted over Google Meet. We prefer PST office hours, but we can be flexible if that’s difficult for you.\\nRe-applying\\nSimilarly, if interviews don’t work out this time, you’re welcome to re-apply after 12 months, and earlier if something materially changes about your experience or skills.\\nRemote work\\nAnthropic staff all come to the office regularly. Most staff live in the Bay Area, though a few live further away and come in for one week a month. We also understand that moving can take time, so as a transitional phase some folks start while fully remote.\\nOffer timing\\nIf we make an offer, we’re happy to give you time to think about it and finish up any other interview processes you’re going through.\\nInternships\\nWe do not offer internships.\\nCandidate Privacy Policy\\nUS Candidate Privacy Policy\\nUK Employee and Candidate Privacy Policy\\nClaude\\nAPI\\nTeam\\nPricing\\nResearch\\nCompany\\nCustomers\\nNews\\nCareers\\nPress Inquiries\\nSupport\\nStatus\\nAvailability\\nTwitter\\nLinkedIn\\nYouTube\\nTerms of Service – Consumer\\nTerms of Service – Commercial\\nPrivacy Policy\\nUsage Policy\\nResponsible Disclosure Policy\\nCompliance\\nPrivacy Choices\\n© 2024 Anthropic PBC\\n\\n\\n\\nPágina de Investigación\\nTítulo de la Web:\\nResearch \\\\ Anthropic\\nContenido de la Web:\\nClaude\\nOverview\\nTeam\\nEnterprise\\nAPI\\nPricing\\nResearch\\nCompany\\nCareers\\nNews\\nResearching\\nat the frontier\\nAt Anthropic, we develop large-scale AI systems, and our research teams help us to create safer, steerable, and more reliable models.\\nSee open roles\\nClaude\\nAPI\\nTeam\\nPricing\\nResearch\\nCompany\\nCustomers\\nNews\\nCareers\\nPress Inquiries\\nSupport\\nStatus\\nAvailability\\nTwitter\\nLinkedIn\\nYouTube\\nTerms of Service – Consumer\\nTerms of Service – Commercial\\nPrivacy Policy\\nUsage Policy\\nResponsible Disclosure Policy\\nCompliance\\nPrivacy Choices\\n© 2024 Anthropic PBC\\n\\n\\n\\nPágina de Claude\\nTítulo de la Web:\\nMeet Claude \\\\ Anthropic\\nContenido de la Web:\\nClaude\\nOverview\\nTeam\\nEnterprise\\nAPI\\nPricing\\nResearch\\nCompany\\nCareers\\nNews\\nTry Claude\\nMeet Claude\\nClaude is AI for all of us. Whether you're brainstorming alone or building with a team of thousands, Claude is here to help.\\nTry Claude\\nGet API access\\nClaude’s capabilities\\nAdvanced reasoning\\nClaude can perform complex cognitive tasks that go beyond simple pattern recognition or text generation\\nVision analysis\\nTranscribe and analyze almost any static image, from handwritten notes and graphs, to photographs\\nCode generation\\nStart creating websites in HTML and CSS, turning images into structured JSON data, or debugging complex code bases\\nMultilingual processing\\nTranslate between various languages in real-time, practice grammar, or create multi-lingual content\\nAnnouncements\\nIntroducing computer use, a new Claude 3.5 Sonnet, and Claude 3.5 Haiku\\nOct 22, 2024\\nModel updates\\n3.5 Sonnet\\n3.5 Haiku\\nThe Claude model family\\nRight-sized for any task, the Claude family of models offers the best combination of speed and performance.\\nLight & fast\\nHaiku\\nOur fastest model that can execute lightweight actions, with industry-leading speed.\\nHard-working\\nSonnet\\nOur best combination of performance and speed for efficient, high-throughput tasks.\\nPowerful\\nOpus\\nOur highest-performing model, which can handle complex analysis, longer tasks with many steps, and higher-order math and coding tasks.\\nCost\\nIntelligence\\nWhy Claude?\\nAnthropic builds frontier AI models backed by uncompromising integrity.\\nSecure\\nWith accessibility via AWS and GCP, SOC 2 Type II certification, and HIPAA compliance options, Claude adheres to the security practices your enterprise demands.\\nFeatured paper\\nMany-shot jailbreaking\\nFeatured post\\nChallenges in red teaming AI systems\\nTrustworthy\\nClaude combines best-in-class jailbreak resistance and misuse prevention to mitigate brand risk for our customers.\\nFeatured paper\\nRed Teaming Language Models to Reduce Harms: Methods, Scaling Behaviors, and Lessons Learned\\nFeatured paper\\nEvaluating and Mitigating Discrimination in Language Model Decisions\\nReliable\\nClaude empowers you to deploy AI to business critical use cases, with very low hallucination rates and very high accuracy over long documents.\\nFeatured post\\nClaude’s Character\\nFeatured paper\\nQuestion Decomposition Improves the Faithfulness of Model-Generated Reasoning\\nLeading companies build with Claude\\nRead customer stories\\nTalk to Claude\\nClaude is fast, capable, and truly conversational. Work with Claude to help you do your best work\\nTry Claude\\nBuild with Claude\\nUse the API to integrate Claude into you and your customer workflows to let AI transform your business\\nGet API access\\nTake Claude with you\\nTalk to Claude, anywhere you go. Brainstorm ideas, get answers, and analyze images on the go. The Claude apps put the power of frontier intelligence in your back pocket.\\nCompany News\\nSee All\\nAnnouncements\\nClaude 3.5 Sonnet on GitHub Copilot\\nOct 29, 2024\\nAnnouncements\\n·\\nProduct\\nDeveloping a computer use model\\nOct 22, 2024\\nAnnouncements\\nIntroducing computer use, a new Claude 3.5 Sonnet, and Claude 3.5 Haiku\\nOct 22, 2024\\nClaude\\nAPI\\nTeam\\nPricing\\nResearch\\nCompany\\nCustomers\\nNews\\nCareers\\nPress Inquiries\\nSupport\\nStatus\\nAvailability\\nTwitter\\nLinkedIn\\nYouTube\\nTerms of Service – Consumer\\nTerms of Service – Commercial\\nPrivacy Policy\\nUsage Policy\\nResponsible Disclosure Policy\\nCompliance\\nPrivacy Choices\\n© 2024 Anthropic PBC\\n\\n\\n\\nPágina de API\\nTítulo de la Web:\\nBuild with Claude \\\\ Anthropic\\nContenido de la Web:\\nClaude\\nOverview\\nTeam\\nEnterprise\\nAPI\\nPricing\\nResearch\\nCompany\\nCareers\\nNews\\nBuild with Claude\\nCreate user-facing experiences, new products, and new ways to work with the most advanced AI models on the market.\\nStart building\\nDeveloper docs\\nGet started\\nSelf-serve\\nLaunch your own generative AI solution with:\\nAccess to all Claude models\\nUsage-based tiers\\nAutomatically increasing rate limits\\nSimple pay-as-you-go pricing\\nSelf-serve deployment on workbench\\nPrompting guides & developer documentation\\nStart building\\nNeed additional support?\\nNeed custom rate limits or hands-on support? Reach out to the Anthropic sales team for:\\nAnthropic-supported onboarding\\nCustom rate limits\\nBilling via monthly invoices\\nPrompting support\\nDeployment support\\nContact sales\\nAnnouncements\\nIntroducing computer use, a new Claude 3.5 Sonnet, and Claude 3.5 Haiku\\nOct 22, 2024\\nModel updates\\n3.5 Sonnet\\n3.5 Haiku\\nThe Claude model family\\nRight-sized for any task, the Claude family of models offers the best combination of speed and performance.\\nLight & fast\\nHaiku\\nOur fastest model that can execute lightweight actions, with industry-leading speed.\\nHard-working\\nSonnet\\nOur best comb\""
      ]
     },
     "execution_count": 23,
     "metadata": {},
     "output_type": "execute_result"
    }
   ],
   "source": [
    "get_brochure_user_prompt(\"Anthropic\", \"https://anthropic.com\")"
   ]
  },
  {
   "cell_type": "code",
   "execution_count": 13,
   "id": "e44de579-4a1a-4e6a-a510-20ea3e4b8d46",
   "metadata": {},
   "outputs": [],
   "source": [
    "def create_brochure(company_name, url):\n",
    "    response = openai.chat.completions.create(\n",
    "        model=MODEL,\n",
    "        messages=[\n",
    "            {\"role\": \"system\", \"content\": system_prompt},\n",
    "            {\"role\": \"user\", \"content\": get_brochure_user_prompt(company_name, url)}\n",
    "          ],\n",
    "    )\n",
    "    result = response.choices[0].message.content\n",
    "    display(Markdown(result))"
   ]
  },
  {
   "cell_type": "code",
   "execution_count": null,
   "id": "e093444a-9407-42ae-924a-145730591a39",
   "metadata": {},
   "outputs": [],
   "source": [
    "create_brochure(\"Anthropic\", \"https://anthropic.com\")"
   ]
  },
  {
   "cell_type": "code",
   "execution_count": null,
   "id": "e15ba8cb-f0ea-4821-9c32-f2d3fd8fca69",
   "metadata": {},
   "outputs": [],
   "source": [
    "create_brochure(\"Frogames Formación\", \"https://cursos.frogamesformacion.com\")"
   ]
  },
  {
   "cell_type": "markdown",
   "id": "61eaaab7-0b47-4b29-82d4-75d474ad8d18",
   "metadata": {},
   "source": [
    "## Por último, una pequeña mejora\n",
    "\n",
    "Con un pequeño ajuste, podemos cambiar esto para que los resultados se transmitan desde OpenAI,\n",
    "con la animación de máquina de escribir habitual\n"
   ]
  },
  {
   "cell_type": "code",
   "execution_count": 14,
   "id": "51db0e49-f261-4137-aabe-92dd601f7725",
   "metadata": {},
   "outputs": [],
   "source": [
    "def stream_brochure(company_name, url):\n",
    "    stream = openai.chat.completions.create(\n",
    "        model=MODEL,\n",
    "        messages=[\n",
    "            {\"role\": \"system\", \"content\": system_prompt},\n",
    "            {\"role\": \"user\", \"content\": get_brochure_user_prompt(company_name, url)}\n",
    "          ],\n",
    "        stream=True\n",
    "    )\n",
    "    \n",
    "    response = \"\"\n",
    "    display_handle = display(Markdown(\"\"), display_id=True)\n",
    "    for chunk in stream:\n",
    "        response += chunk.choices[0].delta.content or ''\n",
    "        response = response.replace(\"```\",\"\").replace(\"markdown\", \"\")\n",
    "        update_display(Markdown(response), display_id=display_handle.display_id)"
   ]
  },
  {
   "cell_type": "code",
   "execution_count": null,
   "id": "56bf0ae3-ee9d-4a72-9cd6-edcac67ceb6d",
   "metadata": {},
   "outputs": [],
   "source": [
    "stream_brochure(\"Anthropic\", \"https://anthropic.com\")"
   ]
  },
  {
   "cell_type": "markdown",
   "id": "a27bf9e0-665f-4645-b66b-9725e2a959b5",
   "metadata": {},
   "source": [
    "## Aplicaciones empresariales\n",
    "\n",
    "En este ejercicio, ampliamos el código del día 1 para realizar múltiples llamadas a LLM y generar un documento.\n",
    "\n",
    "En términos de técnicas, este es quizás el primer ejemplo de patrones de diseño de Agentic AI, ya que combinamos múltiples llamadas a LLM. Esto se abordará más en la semana 2 y luego volveremos a Agentic AI de manera importante en la semana 8, cuando construyamos una solución Agent completamente autónoma.\n",
    "\n",
    "En términos de aplicaciones empresariales, generar contenido de esta manera es uno de los casos de uso más comunes. Al igual que con el resumen, esto se puede aplicar a cualquier vertical empresarial. Escriba contenido de marketing, genere un tutorial de producto a partir de una especificación, cree contenido de correo electrónico personalizado y mucho más. Explore cómo puede aplicar la generación de contenido a su negocio e intente crear un prototipo de prueba de concepto."
   ]
  },
  {
   "cell_type": "code",
   "execution_count": null,
   "id": "22e878f1-08fe-4465-b50c-869352174eae",
   "metadata": {},
   "outputs": [],
   "source": []
  }
 ],
 "metadata": {
  "kernelspec": {
   "display_name": "llms",
   "language": "python",
   "name": "python3"
  },
  "language_info": {
   "codemirror_mode": {
    "name": "ipython",
    "version": 3
   },
   "file_extension": ".py",
   "mimetype": "text/x-python",
   "name": "python",
   "nbconvert_exporter": "python",
   "pygments_lexer": "ipython3",
   "version": "3.11.11"
  }
 },
 "nbformat": 4,
 "nbformat_minor": 5
}
