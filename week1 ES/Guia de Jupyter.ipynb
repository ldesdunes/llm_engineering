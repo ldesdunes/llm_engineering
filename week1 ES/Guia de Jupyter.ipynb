{
 "cells": [
  {
   "cell_type": "markdown",
   "id": "5c291475-8c7c-461c-9b12-545a887b2432",
   "metadata": {},
   "source": [
    "# Jupyter Lab\n",
    "\n",
    "## Una guía de inicio rápido\n",
    "\n",
    "¡Bienvenido al maravilloso mundo de Jupyter Lab!\n",
    "Este es un área de juegos de ciencia de datos donde puede escribir código fácilmente e investigar los resultados. Es un entorno ideal para:\n",
    "- Investigación y desarrollo\n",
    "- Creación de prototipos\n",
    "- Aprendizaje (¡somos nosotros!)\n",
    "\n",
    "Normalmente no se usa para enviar código de producción y en la semana 8 exploraremos el puente entre Jupyter y el código Python.\n",
    "\n",
    "Un archivo en Jupyter Lab, como este, se llama **Notebook**.\n",
    "\n",
    "Hace mucho tiempo, Jupyter solía llamarse \"IPython\", por lo que las extensiones de los notebooks son \".ipynb\", que significa \"IPython Notebook\".\n",
    "\n",
    "A la izquierda hay un explorador de archivos que le permite navegar por los directorios y elegir diferentes notebooks. Pero probablemente ya lo sepa, ¡o no habría llegado hasta aquí!\n",
    "\n",
    "El notebook consta de una serie de cuadros cuadrados llamados \"celdas\". Algunas de ellas contienen texto, como esta celda, y otras contienen código, como la celda que se muestra a continuación.\n",
    "\n",
    "Haga clic en una celda con código y presione «Shift + Return» (o «Shift + Enter») para ejecutar el código e imprimir el resultado.\n",
    "\n",
    "Haga lo mismo ahora para la celda que se muestra a continuación:"
   ]
  },
  {
   "cell_type": "code",
   "execution_count": 1,
   "id": "33d37cd8-55c9-4e03-868c-34aa9cab2c80",
   "metadata": {},
   "outputs": [
    {
     "data": {
      "text/plain": [
       "4"
      ]
     },
     "execution_count": 1,
     "metadata": {},
     "output_type": "execute_result"
    }
   ],
   "source": [
    "# Haga clic en cualquier lugar de esta celda y presione Shift + Intro\n",
    "\n",
    "2 + 2"
   ]
  },
  {
   "cell_type": "markdown",
   "id": "9e95df7b-55c6-4204-b8f9-cae83360fc23",
   "metadata": {},
   "source": [
    "## ¡Felicitaciones!\n",
    "\n",
    "Ahora ejecute la siguiente celda que establece un valor, seguida de las celdas posteriores para imprimir el valor."
   ]
  },
  {
   "cell_type": "code",
   "execution_count": 2,
   "id": "585eb9c1-85ee-4c27-8dc2-b4d8d022eda0",
   "metadata": {},
   "outputs": [],
   "source": [
    "# Definir el valor de una variable\n",
    "\n",
    "favorite_fruit = \"manzanas\""
   ]
  },
  {
   "cell_type": "code",
   "execution_count": 3,
   "id": "07792faa-761d-46cb-b9b7-2bbf70bb1628",
   "metadata": {},
   "outputs": [
    {
     "data": {
      "text/plain": [
       "'manzanas'"
      ]
     },
     "execution_count": 3,
     "metadata": {},
     "output_type": "execute_result"
    }
   ],
   "source": [
    "# El resultado de la última declaración se muestra después de ejecutarla.\n",
    "\n",
    "favorite_fruit"
   ]
  },
  {
   "cell_type": "code",
   "execution_count": 4,
   "id": "a067d2b1-53d5-4aeb-8a3c-574d39ff654a",
   "metadata": {},
   "outputs": [
    {
     "name": "stdout",
     "output_type": "stream",
     "text": [
      "Mis frutas favorita son manzanas\n"
     ]
    }
   ],
   "source": [
    "# Usamos la variable\n",
    "\n",
    "print(f\"Mis frutas favorita son {favorite_fruit}\")"
   ]
  },
  {
   "cell_type": "code",
   "execution_count": 5,
   "id": "4c5a4e60-b7f4-4953-9e80-6d84ba4664ad",
   "metadata": {},
   "outputs": [],
   "source": [
    "# Vamos a cambiar el valor de la variable\n",
    "\n",
    "favorite_fruit = f\"cualquiera excepto las {favorite_fruit}\""
   ]
  },
  {
   "cell_type": "markdown",
   "id": "9442d5c9-f57d-4839-b0af-dce58646c04f",
   "metadata": {},
   "source": [
    "## Ahora retroceda y vuelva a ejecutar la celda con la declaración de impresión, dos celdas atrás\n",
    "\n",
    "¿Ve cómo imprime algo diferente, aunque favorite_fruit se modificó más abajo en el cuaderno?\n",
    "\n",
    "El orden en que aparece el código en el cuaderno no importa. Lo que importa es el orden en que se **ejecuta** el código. Hay un proceso de Python detrás de este cuaderno en el que se están modificando las variables.\n",
    "\n",
    "Esto sorprende a algunas personas cuando usan Jupyter por primera vez."
   ]
  },
  {
   "cell_type": "code",
   "execution_count": 7,
   "id": "8e5ec81d-7c5b-4025-bd2e-468d67b581b6",
   "metadata": {},
   "outputs": [
    {
     "name": "stdout",
     "output_type": "stream",
     "text": [
      "Mis frutas favorita son manzanas\n"
     ]
    }
   ],
   "source": [
    "# Luego ejecuta esta celda dos veces y comprueba si entiendes lo que está pasando.\n",
    "\n",
    "print(f\"Mis frutas favorita son {favorite_fruit}\")\n",
    "\n",
    "favorite_fruit = \"manzanas\""
   ]
  },
  {
   "cell_type": "markdown",
   "id": "a29dab2d-bab9-4a54-8504-05e62594cc6f",
   "metadata": {},
   "source": [
    "# Explicación del 'kernel'\n",
    "\n",
    "Detrás de este cuaderno hay un proceso de Python que ejecuta cada celda cuando lo ejecutas. Ese proceso de Python se conoce como Kernel. Cada cuaderno tiene su propio Kernel.\n",
    "\n",
    "Puedes ir al menú Kernel y seleccionar \"Reiniciar Kernel\".\n",
    "\n",
    "Si luego intentas ejecutar la siguiente celda, obtendrás un error, porque favorite_fruit ya no está definido. Deberás ejecutar las celdas desde la parte superior del cuaderno nuevamente. Luego, la siguiente celda debería ejecutarse correctamente."
   ]
  },
  {
   "cell_type": "code",
   "execution_count": null,
   "id": "84b1e410-5eda-4e2c-97ce-4eebcff816c5",
   "metadata": {},
   "outputs": [],
   "source": [
    "print(f\"Mis frutas favorita son {favorite_fruit}\")"
   ]
  },
  {
   "cell_type": "markdown",
   "id": "4d4188fc-d9cc-42be-8b4e-ae8630456764",
   "metadata": {},
   "source": [
    "# Agregar y mover celdas\n",
    "\n",
    "Haz clic en esta celda y luego en el botón \\[+\\] de la barra de herramientas de arriba para crear una nueva celda inmediatamente debajo de esta. Copia y pega el código en la celda anterior y luego ejecútelo. También hay íconos en la parte superior derecha de la celda seleccionada para eliminarla (bin), duplicarla y moverla hacia arriba y hacia abajo."
   ]
  },
  {
   "cell_type": "code",
   "execution_count": null,
   "id": "ce258424-40c3-49a7-9462-e6fa25014b03",
   "metadata": {},
   "outputs": [],
   "source": []
  },
  {
   "cell_type": "markdown",
   "id": "30e71f50-8f01-470a-9d7a-b82a6cef4236",
   "metadata": {},
   "source": [
    "# Salida de celda\n",
    "\n",
    "Cuando se ejecuta una celda, la salida estándar y el resultado de la última instrucción se escriben en el área inmediatamente debajo del código, conocida como \"salida de celda\". Cuando se guarda un Notebook desde el menú Archivo (o Comando+S), la salida también se guarda, lo que la convierte en un registro útil de lo que sucedió.\n",
    "\n",
    "Puede limpiar esto yendo al menú Editar >> Borrar salidas de todas las celdas, o al menú Kernel >> Reiniciar Kernel y borrar salidas de todas las celdas."
   ]
  },
  {
   "cell_type": "code",
   "execution_count": null,
   "id": "a4d021e2-c284-411f-8ab1-030530cfbe72",
   "metadata": {},
   "outputs": [],
   "source": [
    "spams = [\"spam\"] * 1000\n",
    "print(spams)\n",
    "\n",
    "# ¡Podría valer la pena borrar la salida después de ejecutar esto!"
   ]
  },
  {
   "cell_type": "markdown",
   "id": "eac060f2-7a71-46e7-8235-b6ad0a76f5f8",
   "metadata": {},
   "source": [
    "# Uso de Markdown\n",
    "\n",
    "Entonces, ¿qué sucede con estas áreas con texto escrito, como esta? Bueno, en realidad hay un tipo diferente de celda llamada celda \"Markdown\" para agregar explicaciones como esta. Haga clic en el botón + para agregar una celda. Luego, en la barra de herramientas, haga clic donde dice \"Código\" y cámbielo a \"Markdown\".\n",
    "\n",
    "Agregue algunos comentarios usando el formato Markdown, tal vez copiando y pegando desde aquí:\n",
    "\n",
    "```\n",
    "# Este es un encabezado\n",
    "## Este es un subtítulo\n",
    "### Y un subsubtítulo\n",
    "\n",
    "Me gusta Jupyter Lab porque es\n",
    "- Fácil\n",
    "- Flexible\n",
    "- Satisfactorio\n",
    "```\n",
    "\n",
    "Y para convertir esto en texto formateado simplemente presione Shift+Return en la celda.\n",
    "Haga clic en la celda y presione el ícono de la papelera si desea eliminarlo."
   ]
  },
  {
   "cell_type": "code",
   "execution_count": null,
   "id": "e1586320-c90f-4f22-8b39-df6865484950",
   "metadata": {},
   "outputs": [],
   "source": []
  },
  {
   "cell_type": "markdown",
   "id": "1330c83c-67ac-4ca0-ac92-a71699e0c31b",
   "metadata": {},
   "source": [
    "# El signo de exclamación\n",
    "\n",
    "Hay una característica muy útil de Jupyter Labs: puedes escribir un comando con un ! delante en una celda de código, como:\n",
    "\n",
    "!pip install \\[some_package\\]\n",
    "\n",
    "Y lo ejecutará en la línea de comandos (como si estuviera en Windows Powershell o Mac Terminal) e imprimirá el resultado"
   ]
  },
  {
   "cell_type": "code",
   "execution_count": null,
   "id": "82042fc5-a907-4381-a4b8-eb9386df19cd",
   "metadata": {},
   "outputs": [],
   "source": [
    "# lista el directorio actual\n",
    "\n",
    "!ls"
   ]
  },
  {
   "cell_type": "code",
   "execution_count": null,
   "id": "4fc3e3da-8a55-40cc-9706-48bf12a0e20e",
   "metadata": {},
   "outputs": [],
   "source": [
    "# ping cnn.com - presiona el botón de detener en la barra de herramientas cuando estés aburrido\n",
    "\n",
    "!ping cnn.com"
   ]
  },
  {
   "cell_type": "code",
   "execution_count": null,
   "id": "a58e9462-89a2-4b4f-b4aa-51c4bd9f796b",
   "metadata": {},
   "outputs": [],
   "source": [
    "# Este es un comando útil que garantiza que tu entorno Anaconda\n",
    "# esté actualizado con cualquier nueva actualización de los paquetes;\n",
    "# Pero puede demorar un minuto e imprimirá mucho en la salida\n",
    "\n",
    "!conda env update -f ../environment.yml --prune"
   ]
  },
  {
   "cell_type": "markdown",
   "id": "4688baaf-a72c-41b5-90b6-474cb24790a7",
   "metadata": {},
   "source": [
    "# Cosas menores que encontramos en el curso\n",
    "\n",
    "Esto no es necesariamente una característica de Jupyter, pero es un buen paquete que conviene conocer y que resulta útil en Jupyter Labs, y lo uso en el curso.\n",
    "\n",
    "El paquete `tqdm` imprimirá una bonita barra de progreso si encapsulas cualquier iterable."
   ]
  },
  {
   "cell_type": "code",
   "execution_count": null,
   "id": "2646a4e5-3c23-4aee-a34d-d623815187d2",
   "metadata": {},
   "outputs": [],
   "source": [
    "# Aquí hay un código sin barra de progreso\n",
    "# Tomará 10 segundos mientras te preguntas qué está pasando...\n",
    "\n",
    "import time\n",
    "\n",
    "spams = [\"spam\"] * 1000\n",
    "\n",
    "for spam in spams:\n",
    "    time.sleep(0.01)"
   ]
  },
  {
   "cell_type": "code",
   "execution_count": null,
   "id": "6e96be3d-fa82-42a3-a8aa-b81dd20563a5",
   "metadata": {},
   "outputs": [],
   "source": [
    "# Y ahora, con una bonita barra de progreso:\n",
    "\n",
    "import time\n",
    "from tqdm import tqdm\n",
    "\n",
    "spams = [\"spam\"] * 1000\n",
    "\n",
    "for spam in tqdm(spams):\n",
    "    time.sleep(0.01)"
   ]
  },
  {
   "cell_type": "code",
   "execution_count": null,
   "id": "63c788dd-4618-4bb4-a5ce-204411a38ade",
   "metadata": {},
   "outputs": [],
   "source": [
    "# En otro tema, aquí hay una forma útil de imprimir la salida en Markdown\n",
    "\n",
    "from IPython.display import Markdown, display\n",
    "\n",
    "display(Markdown(\"# ¡Esto es un título!\\n\\n- Esto es un ítem de una lista\\n- Esto también\\n- Y por supuesto, ¡yo también!\"))\n"
   ]
  },
  {
   "cell_type": "markdown",
   "id": "9d14c1fb-3321-4387-b6ca-9af27676f980",
   "metadata": {},
   "source": [
    "# ¡Eso es todo! Estás al día con Jupyter Lab.\n",
    "\n",
    "## ¿Quieres ser aún más avanzado?\n",
    "\n",
    "Si quieres convertirte en un profesional de Jupyter Lab, puedes leer su tutorial [aquí](https://jupyterlab.readthedocs.io/en/latest/). Pero esto no es obligatorio para nuestro curso; ¡solo es una buena técnica para presionar Shift + Return y disfrutar del resultado!"
   ]
  },
  {
   "cell_type": "code",
   "execution_count": null,
   "id": "9e1e3196-1809-4d81-ada8-732c1d73022e",
   "metadata": {},
   "outputs": [],
   "source": []
  }
 ],
 "metadata": {
  "kernelspec": {
   "display_name": "Python 3 (ipykernel)",
   "language": "python",
   "name": "python3"
  },
  "language_info": {
   "codemirror_mode": {
    "name": "ipython",
    "version": 3
   },
   "file_extension": ".py",
   "mimetype": "text/x-python",
   "name": "python",
   "nbconvert_exporter": "python",
   "pygments_lexer": "ipython3",
   "version": "3.11.10"
  }
 },
 "nbformat": 4,
 "nbformat_minor": 5
}
