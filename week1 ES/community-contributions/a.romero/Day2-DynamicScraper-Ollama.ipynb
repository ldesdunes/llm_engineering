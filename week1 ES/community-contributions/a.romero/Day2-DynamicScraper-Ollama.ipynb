{
 "cells": [
  {
   "cell_type": "markdown",
   "id": "f9908a99-aa6f-40bc-8e05-b65001e24343",
   "metadata": {},
   "source": [
    "# Práctica Día 1 - Scraper Dinámico\n",
    "\n",
    "## Finalidad\n",
    "\n",
    "Este scraper dinámico está diseñado para extraer contenido de páginas web avanzadas que utilizan tecnologías como JavaScript para generar dinámicamente su contenido. A diferencia de los scrapers tradicionales que solo procesan HTML estático, este enfoque utiliza Selenium para controlar un navegador web real, permitiendo cargar y extraer información de sitios que requieren interacción con scripts o verificaciones adicionales."
   ]
  },
  {
   "cell_type": "markdown",
   "id": "2241d30d-a763-47bc-b761-2dbc00f34c93",
   "metadata": {},
   "source": [
    "### Celda 1: Importación de dependencias base\n",
    "**Descripción:** Importa módulos esenciales para el manejo de dependencias, instalación de librerías y control de procesos."
   ]
  },
  {
   "cell_type": "code",
   "execution_count": 1,
   "id": "24bab031-446a-434f-aa03-08e9d35c7fca",
   "metadata": {},
   "outputs": [],
   "source": [
    "import sys\n",
    "import subprocess\n",
    "import importlib.metadata\n",
    "import time"
   ]
  },
  {
   "cell_type": "markdown",
   "id": "f6c52885-edc8-4e7e-9cd0-bc25d072f8fc",
   "metadata": {},
   "source": [
    "### Celda 2: Lista de librerías necesarias\n",
    "**Descripción:** Define una lista de las librerías requeridas para ejecutar el proyecto de scraping dinámico."
   ]
  },
  {
   "cell_type": "code",
   "execution_count": 2,
   "id": "18494667-a40a-4c8f-a85e-014c696a1de4",
   "metadata": {},
   "outputs": [],
   "source": [
    "# Lista de librerías necesarias\n",
    "required_libraries = [\n",
    "    \"selenium\",\n",
    "    \"beautifulsoup4\",\n",
    "    \"python-dotenv\",\n",
    "    \"ollama\",\n",
    "    \"ipython\"\n",
    "]"
   ]
  },
  {
   "cell_type": "markdown",
   "id": "bfd8ccaa-5af5-4180-b9fb-73576d6650f4",
   "metadata": {},
   "source": [
    "### Celda 3: Función para instalar librerías\n",
    "**Descripción:** Verifica si las librerías necesarias están instaladas y las instala si es necesario."
   ]
  },
  {
   "cell_type": "code",
   "execution_count": 3,
   "id": "98e7e9a2-fc1a-436a-a9d3-9d4fbbab00d8",
   "metadata": {},
   "outputs": [],
   "source": [
    "# Función para comprobar e instalar librerías\n",
    "def install_libraries(libraries):\n",
    "    print(\"🔄 Comprobando e instalando librerías necesarias...\\n\")\n",
    "    \n",
    "    for i, lib in enumerate(libraries, 1):\n",
    "        try:\n",
    "            # Comprobar si la librería ya está instalada\n",
    "            importlib.metadata.version(lib)\n",
    "            print(f\"✅ ({i}/{len(libraries)}) La librería '{lib}' ya está instalada. Se omite.\\n\")\n",
    "        except importlib.metadata.PackageNotFoundError:\n",
    "            # Instalar la librería si no está instalada\n",
    "            try:\n",
    "                print(f\"👉 ({i}/{len(libraries)}) Instalando '{lib}'...\")\n",
    "                subprocess.check_call([sys.executable, \"-m\", \"pip\", \"install\", lib], stdout=subprocess.DEVNULL)\n",
    "                print(f\"✅ '{lib}' instalada correctamente.\\n\")\n",
    "            except Exception as e:\n",
    "                print(f\"⚠️ Error instalando la librería '{lib}': {e}\\n\")\n",
    "\n",
    "    print(\"✨ Todas las librerías necesarias están instaladas. Puedes continuar ejecutando la siguiente celda.\")"
   ]
  },
  {
   "cell_type": "markdown",
   "id": "ff39d134-929f-4192-9bc8-4d0bf023be80",
   "metadata": {},
   "source": [
    "### Celda 4: Instalación de librerías\n",
    "**Descripción:** Ejecuta la función para instalar todas las librerías requeridas y asegura que el entorno está configurado."
   ]
  },
  {
   "cell_type": "code",
   "execution_count": 4,
   "id": "2594f54a-ebf7-49d8-8bf2-746c9f07f7a4",
   "metadata": {},
   "outputs": [
    {
     "name": "stdout",
     "output_type": "stream",
     "text": [
      "🔄 Comprobando e instalando librerías necesarias...\n",
      "\n",
      "✅ (1/5) La librería 'selenium' ya está instalada. Se omite.\n",
      "\n",
      "✅ (2/5) La librería 'beautifulsoup4' ya está instalada. Se omite.\n",
      "\n",
      "✅ (3/5) La librería 'python-dotenv' ya está instalada. Se omite.\n",
      "\n",
      "✅ (4/5) La librería 'ollama' ya está instalada. Se omite.\n",
      "\n",
      "✅ (5/5) La librería 'ipython' ya está instalada. Se omite.\n",
      "\n",
      "✨ Todas las librerías necesarias están instaladas. Puedes continuar ejecutando la siguiente celda.\n"
     ]
    }
   ],
   "source": [
    "# Instalar librerías con mensajes\n",
    "install_libraries(required_libraries)"
   ]
  },
  {
   "cell_type": "markdown",
   "id": "9c6136a5-3d76-479a-9570-e6085da04f03",
   "metadata": {},
   "source": [
    "### Celda 5: Importación de todas las dependencias\n",
    "**Descripción:** Importa todas las dependencias necesarias para el funcionamiento del scraper, incluyendo Selenium, BeautifulSoup y OpenAI."
   ]
  },
  {
   "cell_type": "code",
   "execution_count": 5,
   "id": "2f6eb591-01ac-45d0-a38b-4abc14f42496",
   "metadata": {},
   "outputs": [],
   "source": [
    "# Importación de dependencias necesarias\n",
    "import sys\n",
    "import subprocess\n",
    "import importlib.metadata\n",
    "import os\n",
    "import requests\n",
    "import ollama\n",
    "from dotenv import load_dotenv\n",
    "from bs4 import BeautifulSoup\n",
    "from IPython.display import Markdown, display\n",
    "from selenium import webdriver\n",
    "from selenium.webdriver.chrome.service import Service\n",
    "from selenium.webdriver.chrome.options import Options\n",
    "import time"
   ]
  },
  {
   "cell_type": "markdown",
   "id": "6b99fc60-ccbd-4b9c-8615-17e696e0fd1f",
   "metadata": {},
   "source": [
    "### Celda 6: Declaramos las constantes\n",
    "**Descripción:** Carga las constantes necesarias para trabajar con Ollama"
   ]
  },
  {
   "cell_type": "code",
   "execution_count": 6,
   "id": "a892b607-1238-4251-aff5-8c29b15568eb",
   "metadata": {},
   "outputs": [],
   "source": [
    "# Cargamos las constantes\n",
    "OLLAMA_API = \"http://localhost:11434/api/chat\"\n",
    "MODEL = \"llama3.2\""
   ]
  },
  {
   "cell_type": "markdown",
   "id": "c929a23f-5b17-4c7c-8b3d-72c95bbd1fed",
   "metadata": {},
   "source": [
    "### Celda 6: Clase `DynamicWebsiteScraper`\n",
    "**Descripción:** Implementa una clase para manejar el navegador, cargar páginas dinámicas y extraer contenido relevante."
   ]
  },
  {
   "cell_type": "code",
   "execution_count": 7,
   "id": "3b7e1f64-e4d2-42a5-8046-0571186eaacc",
   "metadata": {},
   "outputs": [],
   "source": [
    "# Clase que utiliza Selenium para cargar y extraer el contenido de páginas web dinámicas.\n",
    "class DynamicWebsiteScraper:\n",
    "    def __init__(self, driver_path):\n",
    "        try:\n",
    "            print(\"🔄 Creando instancia de DynamicWebsiteScraper...\")\n",
    "            options = Options()\n",
    "            options.add_argument(\"--disable-gpu\")\n",
    "            options.add_argument(\"--no-sandbox\")\n",
    "            options.add_argument(\"--disable-dev-shm-usage\")\n",
    "            self.driver_service = Service(driver_path)\n",
    "            self.driver = webdriver.Chrome(service=self.driver_service, options=options)\n",
    "            print(\"✅ DynamicWebsiteScraper inicializado correctamente.\\n\")\n",
    "        except Exception as e:\n",
    "            print(f\"❌ Error al inicializar DynamicWebsiteScraper: {e}\")\n",
    "\n",
    "    def scrape(self, url, wait_time=5):\n",
    "        try:\n",
    "            self.driver.get(url)\n",
    "            time.sleep(wait_time)\n",
    "            page_source = self.driver.page_source\n",
    "            soup = BeautifulSoup(page_source, 'html.parser')\n",
    "            title = soup.title.string if soup.title else \"No tiene título\"\n",
    "            for tag in soup([\"script\", \"style\", \"img\", \"input\"]):\n",
    "                tag.decompose()\n",
    "            content = soup.get_text(separator=\"\\n\", strip=True)\n",
    "            return {\"title\": title, \"content\": content}\n",
    "        except Exception as e:\n",
    "            print(f\"❌ Error durante el scraping: {e}\")\n",
    "            return {\"title\": \"Error\", \"content\": \"\"}\n",
    "\n",
    "    def close(self):\n",
    "        try:\n",
    "            self.driver.quit()\n",
    "            print(\"✅ Navegador cerrado correctamente.\\n\")\n",
    "        except Exception as e:\n",
    "            print(f\"❌ Error al cerrar el navegador: {e}\")"
   ]
  },
  {
   "cell_type": "markdown",
   "id": "2c777b55-d0da-47ae-8358-b26ae69b5083",
   "metadata": {},
   "source": [
    "### Celda 7: Función `user_prompt_for`\n",
    "**Descripción:** Genera el mensaje de usuario basado en el título y contenido del sitio web extraído, que se utiliza como entrada para la API de Ollama."
   ]
  },
  {
   "cell_type": "code",
   "execution_count": 8,
   "id": "e6d92e71-0892-423f-b948-26789d6c89dc",
   "metadata": {},
   "outputs": [],
   "source": [
    "# Genera el mensaje de usuario para el modelo Ollmaa.\n",
    "def user_prompt_for(website):\n",
    "    try:\n",
    "        print(\"🔄 Generando el mensaje de usuario para el modelo GPT...\")\n",
    "        user_prompt = f\"Estás viendo un sitio web titulado {website['title']}\\n\"\n",
    "        user_prompt += (\n",
    "            \"El contenido de este sitio web es el siguiente:\\n\\n\"\n",
    "            f\"{website['content']}\\n\\n\"\n",
    "            \"Por favor, proporciona un breve resumen en español de este sitio web en formato Markdown.\"\n",
    "        )\n",
    "        print(\"✅ Mensaje de usuario generado correctamente.\\n\")\n",
    "        return user_prompt\n",
    "    except Exception as e:\n",
    "        print(f\"❌ Error al generar el mensaje de usuario: {e}\")\n",
    "        return \"\""
   ]
  },
  {
   "cell_type": "markdown",
   "id": "a34884bf-4f1b-4d72-ace9-fbde0eb49253",
   "metadata": {},
   "source": [
    "### Celda 8: Función `messages_for`\n",
    "**Descripción:** Genera los mensajes requeridos para la API de Ollama"
   ]
  },
  {
   "cell_type": "code",
   "execution_count": 9,
   "id": "edb853f6-9c00-4263-b532-65e89c75d135",
   "metadata": {},
   "outputs": [],
   "source": [
    "# Genera los mensajes requeridos para la API de OpenAI.\n",
    "def messages_for(website):\n",
    "    try:\n",
    "        print(\"🔄 Generando los mensajes para la API de Ollama...\")\n",
    "        messages = [\n",
    "            {\"role\": \"user\", \"content\": user_prompt_for(website)}\n",
    "        ]\n",
    "        print(\"✅ Mensajes generados correctamente para la API de Ollama.\\n\")\n",
    "        return messages\n",
    "    except Exception as e:\n",
    "        print(f\"❌ Error al generar los mensajes: {e}\")\n",
    "        return []"
   ]
  },
  {
   "cell_type": "markdown",
   "id": "d46c87f4-d993-45a5-b160-9fdd64c46664",
   "metadata": {},
   "source": [
    "### Celda 9: Función `summarize`\n",
    "**Descripción:** Realiza el scraping del sitio web, genera mensajes y solicita un resumen utilizando la API de Ollama."
   ]
  },
  {
   "cell_type": "code",
   "execution_count": 16,
   "id": "ad3c97b8-b9b5-4949-803e-808e46477595",
   "metadata": {},
   "outputs": [],
   "source": [
    "# Función para generar un resumen\n",
    "def summarize(url, scraper):\n",
    "    \"\"\"\n",
    "    Realiza el scraping del sitio web y utiliza la API de Ollama para generar un resumen.\n",
    "    :param url: URL del sitio web\n",
    "    :param scraper: Instancia de DynamicWebsiteScraper\n",
    "    :return: Resumen en Markdown\n",
    "    \"\"\"\n",
    "    try:\n",
    "        print(f\"🔄 Realizando scraping en la URL: {url}\")\n",
    "        website = scraper.scrape(url)  # Usamos el scraper para obtener el contenido dinámico\n",
    "        print(f\"✅ Scraping completado con éxito en la URL: {url}\\n\")\n",
    "\n",
    "        print(\"🔄 Generando el resumen a través de la API de OpenAI...\")\n",
    "        response = ollama.chat(model=MODEL, messages=messages_for(website))\n",
    "        \n",
    "        # Ajusta el acceso al contenido según la respuesta observada\n",
    "        if hasattr(response, \"message\") and hasattr(response.message, \"content\"):\n",
    "            return response.message.content\n",
    "        else:\n",
    "            raise ValueError(\"Formato de respuesta inesperado.\")\n",
    "\n",
    "    except Exception as e:\n",
    "        print(f\"❌ Error al generar el resumen: {e}\")\n",
    "        return \"Error al generar el resumen.\""
   ]
  },
  {
   "cell_type": "markdown",
   "id": "37e7c967-6a7b-4d72-8df3-b50879990a81",
   "metadata": {},
   "source": [
    "### Celda 10: Función `display_summary`\n",
    "**Descripción:** Llama a la función `summarize`, obtiene el resumen del sitio web y lo muestra en formato Markdown."
   ]
  },
  {
   "cell_type": "code",
   "execution_count": 11,
   "id": "c9485294-1823-45dc-a3e8-98a5ef77921a",
   "metadata": {},
   "outputs": [],
   "source": [
    "# Genera y muestra el resumen de un sitio web en formato Markdown utilizando un scraper.\n",
    "def display_summary(url, scraper):\n",
    "    try:\n",
    "        print(f\"🔄 Iniciando el proceso para generar el resumen del sitio web: {url}\")\n",
    "        summary = summarize(url, scraper)  # Llamada a summarize con url y scraper\n",
    "        \n",
    "        if summary.startswith(\"Error\"):\n",
    "            print(f\"❌ No se pudo generar el resumen para: {url}\")\n",
    "        else:\n",
    "            print(f\"✅ Resumen generado correctamente para: {url}\\n\")\n",
    "            display(Markdown(summary))  # Mostrar el resumen en Markdown\n",
    "    except Exception as e:\n",
    "        print(f\"❌ Ocurrió un error durante la visualización del resumen: {e}\")"
   ]
  },
  {
   "cell_type": "markdown",
   "id": "daa86c0b-7974-4a11-84f7-0db876f4b4db",
   "metadata": {},
   "source": [
    "## Configuración inicial para el Scraper Dinámico\n",
    "\n",
    "Para que el scraper dinámico funcione correctamente, es necesario configurar **ChromeDriver**, un controlador que permite a Selenium interactuar con el navegador Google Chrome. En esta sección, aprenderás a descargar, configurar y agregar ChromeDriver al PATH del sistema para garantizar la compatibilidad y el correcto funcionamiento del scraper. Sigue los pasos indicados para preparar tu entorno de trabajo."
   ]
  },
  {
   "cell_type": "markdown",
   "id": "de7fc1c5-f97f-44be-954b-a1e8b8689794",
   "metadata": {},
   "source": [
    "## 1. Descarga de ChromeDriver\n",
    "\n",
    "1. Ve a la página oficial de ChromeDriver:  \n",
    "   [https://chromedriver.chromium.org/downloads](https://chromedriver.chromium.org/downloads)\n",
    "\n",
    "2. Descarga la versión de **ChromeDriver** que sea compatible con la versión de tu navegador Google Chrome:\n",
    "   - **En Google Chrome**, verifica tu versión desde:\n",
    "     - `Configuración > Acerca de Google Chrome`.\n",
    "\n",
    "3. Una vez descargado el archivo, extrae el contenido en una carpeta de tu sistema. Algunos ejemplos de ubicaciones comunes:\n",
    "   - En **Windows**: `C:\\chromedriver\\chromedriver.exe`\n",
    "   - En **Linux/Mac**: `/usr/local/bin/chromedriver`\n",
    "\n",
    "---\n",
    "\n",
    "⚠️ **Nota importante**: Asegúrate de que la versión de ChromeDriver coincida con tu navegador Google Chrome, de lo contrario, podrían ocurrir errores de compatibilidad."
   ]
  },
  {
   "cell_type": "markdown",
   "id": "3eb102e5-c5dd-47ff-9b49-a525043ff9e5",
   "metadata": {},
   "source": [
    "## 2. Configuración en el código\n",
    "\n",
    "Para que tu script pueda encontrar el ejecutable de ChromeDriver, debes establecer correctamente su **ruta**. Aquí tienes algunos ejemplos dependiendo de tu sistema operativo:\n",
    "\n",
    "```python\n",
    "# En Windows\n",
    "CHROME_DRIVER_PATH = \"C:\\\\chromedriver\\\\chromedriver.exe\"\n",
    "\n",
    "# En Linux o Mac\n",
    "CHROME_DRIVER_PATH = \"/usr/local/bin/chromedriver\"\n"
   ]
  },
  {
   "cell_type": "markdown",
   "id": "66c400eb-c53f-4572-9b63-1c936c31e39a",
   "metadata": {},
   "source": [
    "## 3. Agregar ChromeDriver al PATH (opcional)\n",
    "\n",
    "Si prefieres no especificar la ruta completa cada vez, puedes agregar **ChromeDriver** al **PATH** de tu sistema operativo. Esto hará que sea accesible globalmente desde cualquier script.\n",
    "\n",
    "### En Windows:\n",
    "1. Abre `Configuración > Sistema > Acerca de > Configuración avanzada del sistema`.\n",
    "2. Haz clic en el botón **Variables de entorno**.\n",
    "3. Selecciona la variable `PATH` y haz clic en **Editar**.\n",
    "4. Añade la ruta donde se encuentra `chromedriver.exe`, por ejemplo:  \n",
    "   `C:\\chromedriver`.\n",
    "\n",
    "---\n",
    "\n",
    "### En Linux/Mac:\n",
    "1. Abre el archivo de configuración de tu terminal (`.bashrc` o `.zshrc`).\n",
    "2. Añade la siguiente línea al final del archivo:  \n",
    "   ```bash\n",
    "   export PATH=$PATH:/usr/local/bin\n",
    "3. Guarda el archivo y recarga el terminal ejecutando:\n",
    "4. ````bash\n",
    "   source ~/.bashrc  # o source ~/.zshrc\n"
   ]
  },
  {
   "cell_type": "markdown",
   "id": "251a2467-a8d7-4490-ad93-6dcb0d66eac2",
   "metadata": {},
   "source": [
    "## 4. Conclusión\n",
    "\n",
    "Con ChromeDriver correctamente configurado y accesible, puedes usarlo en tus proyectos de **web scraping** con Selenium. Si sigues teniendo problemas, revisa que:\n",
    "- La versión de ChromeDriver coincida con la versión de tu navegador Google Chrome.\n",
    "- La ruta al ejecutable esté correctamente definida.\n",
    "\n",
    "¡Ahora estás listo para continuar con el código de scraping!"
   ]
  },
  {
   "cell_type": "markdown",
   "id": "a823d9db-57f7-4749-aea4-9e76e242f280",
   "metadata": {},
   "source": [
    "### Celda 15: Ejecución del scraper\n",
    "**Descripción:** Configura el scraper con el camino al ChromeDriver, realiza el scraping del sitio web y genera un resumen, cerrando el navegador al finalizar."
   ]
  },
  {
   "cell_type": "code",
   "execution_count": 17,
   "id": "b62a61b6-09fa-4247-8f8a-7420a7443ab1",
   "metadata": {},
   "outputs": [
    {
     "name": "stdout",
     "output_type": "stream",
     "text": [
      "🔄 Iniciando la configuración del scraper...\n",
      "🔄 Creando instancia de DynamicWebsiteScraper...\n",
      "✅ DynamicWebsiteScraper inicializado correctamente.\n",
      "\n",
      "✅ Scraper configurado correctamente.\n",
      "\n",
      "🔄 Generando resumen para el sitio web: https://openai.com...\n",
      "\n",
      "🔄 Iniciando el proceso para generar el resumen del sitio web: https://openai.com\n",
      "🔄 Realizando scraping en la URL: https://openai.com\n",
      "✅ Scraping completado con éxito en la URL: https://openai.com\n",
      "\n",
      "🔄 Generando el resumen a través de la API de OpenAI...\n",
      "🔄 Generando los mensajes para la API de Ollama...\n",
      "🔄 Generando el mensaje de usuario para el modelo GPT...\n",
      "✅ Mensaje de usuario generado correctamente.\n",
      "\n",
      "✅ Mensajes generados correctamente para la API de Ollama.\n",
      "\n",
      "✅ Resumen generado correctamente para: https://openai.com\n",
      "\n"
     ]
    },
    {
     "data": {
      "text/markdown": [
       "**Resumen del sitio web ChatGPT**\n",
       "\n",
       "El sitio web de ChatGPT es una plataforma de inteligencia artificial que ofrece conversación y respuesta a preguntas con inteligencia artificial. Ofrece varias versiones de chatbots, incluyendo:\n",
       "\n",
       "*   GPT-4\n",
       "*   Sora\n",
       "*   DALL·E 3\n",
       "\n",
       "El sitio web también proporciona una API para desarrolladores, así como un plan de precios y documentación.\n",
       "Además, ofrece recursos adicionales, como artículos de investigación sobre la inteligencia artificial y políticas de privacidad.\n",
       "\n",
       "El sitio web es de propiedad de OpenAI y se enfoca en proporcionar herramientas de inteligencia artificial para empresas, equipos y individuos."
      ],
      "text/plain": [
       "<IPython.core.display.Markdown object>"
      ]
     },
     "metadata": {},
     "output_type": "display_data"
    },
    {
     "name": "stdout",
     "output_type": "stream",
     "text": [
      "🔄 Cerrando el scraper...\n",
      "✅ Navegador cerrado correctamente.\n",
      "\n",
      "✅ Scraper cerrado correctamente.\n"
     ]
    }
   ],
   "source": [
    "CHROME_DRIVER_PATH = \"C:\\\\tmp\\\\chromedriver-win64\\\\chromedriver.exe\"  # Ruta a tu ChromeDriver\n",
    "\n",
    "try:\n",
    "    print(\"🔄 Iniciando la configuración del scraper...\")\n",
    "    scraper = DynamicWebsiteScraper(CHROME_DRIVER_PATH)\n",
    "    print(\"✅ Scraper configurado correctamente.\\n\")\n",
    "    \n",
    "    url = \"https://openai.com\"\n",
    "    print(f\"🔄 Generando resumen para el sitio web: {url}...\\n\")\n",
    "    display_summary(url, scraper)\n",
    "\n",
    "except Exception as e:\n",
    "    print(f\"❌ Ocurrió un error durante el proceso: {e}\")\n",
    "    \n",
    "finally:\n",
    "    try:\n",
    "        print(\"🔄 Cerrando el scraper...\")\n",
    "        scraper.close()\n",
    "        print(\"✅ Scraper cerrado correctamente.\")\n",
    "    except Exception as close_error:\n",
    "        print(f\"❌ Error al cerrar el scraper: {close_error}\")\n"
   ]
  },
  {
   "cell_type": "code",
   "execution_count": null,
   "id": "c9ed2a2e-857e-45ca-8f2d-72f7f8e6046a",
   "metadata": {},
   "outputs": [],
   "source": []
  }
 ],
 "metadata": {
  "kernelspec": {
   "display_name": "Python 3 (ipykernel)",
   "language": "python",
   "name": "python3"
  },
  "language_info": {
   "codemirror_mode": {
    "name": "ipython",
    "version": 3
   },
   "file_extension": ".py",
   "mimetype": "text/x-python",
   "name": "python",
   "nbconvert_exporter": "python",
   "pygments_lexer": "ipython3",
   "version": "3.11.11"
  }
 },
 "nbformat": 4,
 "nbformat_minor": 5
}
