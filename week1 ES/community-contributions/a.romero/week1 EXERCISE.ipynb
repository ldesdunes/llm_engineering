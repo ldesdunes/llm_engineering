{
 "cells": [
  {
   "cell_type": "markdown",
   "id": "fe12c203-e6a6-452c-a655-afb8a03a4ff5",
   "metadata": {},
   "source": [
    "# Ejercicio final de la semana 1\n",
    "\n",
    "Para demostrar que estás familiarizado con la API de OpenAI y también con Ollama, crea una herramienta que responda a una pregunta técnica\n",
    "y la explique. ¡Esta es una herramienta que podrás usar durante el curso!"
   ]
  },
  {
   "cell_type": "code",
   "execution_count": null,
   "id": "c1070317-3ed9-4659-abe3-828943230e03",
   "metadata": {},
   "outputs": [],
   "source": [
    "from IPython.display import display, Markdown, update_display\n",
    "import os\n",
    "from dotenv import load_dotenv\n",
    "from openai import OpenAI\n",
    "import requests"
   ]
  },
  {
   "cell_type": "code",
   "execution_count": null,
   "id": "2efcfa8c-6011-4cdd-827a-2e9ec3ac6de3",
   "metadata": {},
   "outputs": [],
   "source": [
    "# Cargar las variables del fichero .env\n",
    "load_dotenv()\n",
    "api_key = os.getenv('OPENAI_API_KEY')\n",
    "\n",
    "# Mostrar resultados con estilo\n",
    "if not api_key:\n",
    "    display(Markdown(\"### ⚠️ **Clave API no encontrada**\\n\"\n",
    "                     \"Por favor, verifica el archivo .env en la carpeta de este proyecto y asegúrate de que contenga tu clave API de OpenAI. \"\n",
    "                     \"Consulta el cuaderno de resolución de problemas si necesitas ayuda.\"))\n",
    "elif not api_key.startswith(\"sk-proj-\"):\n",
    "    display(Markdown(\"### 🔑 **Clave API detectada, pero parece incorrecta**\\n\"\n",
    "                     \"- La clave no comienza con sk-proj-. Por favor, verifica si copiaste la clave completa desde OpenAI.\\n\"\n",
    "                     \"- Consulta el cuaderno de resolución de problemas para más información.\"))\n",
    "elif api_key.strip() != api_key:\n",
    "    display(Markdown(\"### ✂️ **Clave API detectada con posibles espacios**\\n\"\n",
    "                     \"- Parece que la clave tiene espacios adicionales o tabulaciones al inicio o al final. \"\n",
    "                     \"Por favor, edita el archivo .env y asegúrate de que la clave esté limpia.\"))\n",
    "else:\n",
    "    display(Markdown(\"### ✅ **¡Clave API encontrada y válida!**\\n\"\n",
    "                     \"¡Todo listo! Puedes proceder con las llamadas a la API de OpenAI. 🚀\"))"
   ]
  },
  {
   "cell_type": "code",
   "execution_count": null,
   "id": "4a456906-915a-4bfd-bb9d-57e505c5093f",
   "metadata": {},
   "outputs": [],
   "source": [
    "# constantes\n",
    "\n",
    "MODEL_GPT = 'gpt-4o-mini'\n",
    "MODEL_LLAMA = 'llama3.2'\n",
    "LLAMA_URL = \"http://localhost:11434\""
   ]
  },
  {
   "cell_type": "code",
   "execution_count": null,
   "id": "3f0d0137-52b0-47a8-81a8-11a90a010798",
   "metadata": {},
   "outputs": [],
   "source": [
    "# Aquí está la pregunta; escribe sobre esto para preguntar algo nuevo\n",
    "\n",
    "question = \"\"\"\n",
    "Explica qué hace este código y por qué:\n",
    "yield from {book.get(\"author\") for book in books if book.get(\"author\")}\n",
    "\"\"\""
   ]
  },
  {
   "cell_type": "code",
   "execution_count": null,
   "id": "0a10a810-5d3e-49b6-bdeb-dea47d961061",
   "metadata": {},
   "outputs": [],
   "source": [
    "# Configuramos OpenAI\n",
    "openai = OpenAI()"
   ]
  },
  {
   "cell_type": "code",
   "execution_count": null,
   "id": "894159a2-08de-48b3-a4b8-011f644dd3ad",
   "metadata": {},
   "outputs": [],
   "source": [
    "def get_openai_response_stream(model, question):\n",
    "    \"\"\"\n",
    "    Obtiene la respuesta de OpenAI con streaming, procesando el contenido en tiempo real.\n",
    "    \"\"\"\n",
    "    stream = openai.chat.completions.create(\n",
    "        model=model,\n",
    "        messages=[\n",
    "            {\"role\": \"system\", \"content\": \"Eres un asistente experto en programación.\"},\n",
    "            {\"role\": \"user\", \"content\": question}\n",
    "        ],\n",
    "        stream=True  # Activar streaming\n",
    "    )\n",
    "\n",
    "    response = \"\"\n",
    "    display_handle = display(Markdown(\"\"), display_id=True)\n",
    "\n",
    "    for chunk in stream:\n",
    "        text_chunk = chunk.choices[0].delta.content or \"\"\n",
    "        response += text_chunk\n",
    "        # Eliminar triples backticks y palabras clave innecesarias\n",
    "        cleaned_response = response.replace(\"```\", \"\").replace(\"markdown\", \"\")\n",
    "        update_display(Markdown(cleaned_response), display_id=display_handle.display_id)\n",
    "\n",
    "    return response.strip()"
   ]
  },
  {
   "cell_type": "code",
   "execution_count": null,
   "id": "f3417bd3-0db8-4e49-bb5e-e7d525baa54a",
   "metadata": {},
   "outputs": [],
   "source": [
    "def get_llama_response(model, question, url):\n",
    "    \"\"\"\n",
    "    Obtiene la respuesta de Llama y la procesa.\n",
    "    \"\"\"\n",
    "    llama_response = requests.post(\n",
    "        f\"{url}/v1/completions\",\n",
    "        json={\n",
    "            \"model\": model,\n",
    "            \"prompt\": question\n",
    "        }\n",
    "    )\n",
    "    if llama_response.status_code == 200:\n",
    "        llama_result = llama_response.json()\n",
    "        return llama_result.get('choices', [{}])[0].get('text', '').strip()\n",
    "    else:\n",
    "        return \"Error: Llama no respondió correctamente.\""
   ]
  },
  {
   "cell_type": "code",
   "execution_count": null,
   "id": "568a51af-9418-4875-8834-8c670966f4a7",
   "metadata": {},
   "outputs": [],
   "source": [
    "def process_responses(model_openai, model_llama, question, llama_url):\n",
    "    \"\"\"\n",
    "    Llama a las APIs de OpenAI y Llama de forma secuencial.\n",
    "    \"\"\"\n",
    "\n",
    "    # Mostrar progreso inicial\n",
    "    display(Markdown(\"### 🧠 **Iniciando el proceso...**\"))\n",
    "\n",
    "    # 1. OpenAI: Mostrar título y realizar la solicitud\n",
    "    display(Markdown(f\"#### 🧠 **Llamando a OpenAI ({model_openai})...**\"))\n",
    "    openai_response = get_openai_response_stream(model_openai, question)\n",
    "\n",
    "    # 2. Llama: Mostrar título y realizar la solicitud\n",
    "    display(Markdown(f\"#### 🐎 **Llamando a Llama ({model_llama})...**\"))\n",
    "    llama_response = get_llama_response(model_llama, question, llama_url)\n",
    "\n",
    "    # Mostrar ambas respuestas\n",
    "    display(Markdown(\"### 🆚 **Comparación de respuestas**\"))\n",
    "    display(Markdown(f\"#### 🧠 **OpenAI ({model_openai}):**\\n\\n{openai_response}\\n\"))\n",
    "    display(Markdown(f\"#### 🐎 **Llama ({model_llama}):**\\n\\n{llama_response}\\n\"))\n",
    "\n",
    "    return openai_response, llama_response"
   ]
  },
  {
   "cell_type": "code",
   "execution_count": null,
   "id": "695c04bf-dada-425c-a725-a2aa06cded02",
   "metadata": {},
   "outputs": [],
   "source": [
    "# Llamar al método principal para procesar ambas respuestas\n",
    "openai_result, llama_result = process_responses(MODEL_GPT, MODEL_LLAMA, question, LLAMA_URL)"
   ]
  }
 ],
 "metadata": {
  "kernelspec": {
   "display_name": "Python 3 (ipykernel)",
   "language": "python",
   "name": "python3"
  },
  "language_info": {
   "codemirror_mode": {
    "name": "ipython",
    "version": 3
   },
   "file_extension": ".py",
   "mimetype": "text/x-python",
   "name": "python",
   "nbconvert_exporter": "python",
   "pygments_lexer": "ipython3",
   "version": "3.11.11"
  }
 },
 "nbformat": 4,
 "nbformat_minor": 5
}
