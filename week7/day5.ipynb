{
 "cells": [
  {
   "cell_type": "markdown",
   "id": "c25e5705-7078-4d4a-9fa2-8aaa528ffced",
   "metadata": {},
   "source": [
    "# Semana 7, día 5\n",
    "\n",
    "Perfeccione un modelo de código abierto para predecir los precios de los productos\n",
    "\n",
    "Consulte este cuaderno en Google Colab:\n",
    "\n",
    "https://colab.research.google.com/drive/1g8_UF0ZOtGKKlidGsIVGl64J9VYB3Y3K?usp=sharing"
   ]
  },
  {
   "cell_type": "code",
   "execution_count": null,
   "id": "01bbe937-ed25-4344-8b3b-699428b5b1c7",
   "metadata": {},
   "outputs": [],
   "source": []
  }
 ],
 "metadata": {
  "kernelspec": {
   "display_name": "Python 3 (ipykernel)",
   "language": "python",
   "name": "python3"
  },
  "language_info": {
   "codemirror_mode": {
    "name": "ipython",
    "version": 3
   },
   "file_extension": ".py",
   "mimetype": "text/x-python",
   "name": "python",
   "nbconvert_exporter": "python",
   "pygments_lexer": "ipython3",
   "version": "3.11.10"
  }
 },
 "nbformat": 4,
 "nbformat_minor": 5
}
