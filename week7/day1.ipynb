{
 "cells": [
  {
   "cell_type": "markdown",
   "id": "c25e5705-7078-4d4a-9fa2-8aaa528ffced",
   "metadata": {},
   "source": [
    "# Semana 7 Día 1\n",
    "\n",
    "Afinar un modelo de código abierto para predecir los precios de los productos\n",
    "\n",
    "Consulte este cuaderno en Google Colab:\n",
    "\n",
    "https://colab.research.google.com/drive/1dbATHAeHXd4CCHScgzsU-YYbcrHqiyqf?usp=sharing"
   ]
  },
  {
   "cell_type": "code",
   "execution_count": null,
   "id": "cd48c800-e3b7-43ed-81e0-19a56fa07d5a",
   "metadata": {},
   "outputs": [],
   "source": []
  }
 ],
 "metadata": {
  "kernelspec": {
   "display_name": "Python 3 (ipykernel)",
   "language": "python",
   "name": "python3"
  },
  "language_info": {
   "codemirror_mode": {
    "name": "ipython",
    "version": 3
   },
   "file_extension": ".py",
   "mimetype": "text/x-python",
   "name": "python",
   "nbconvert_exporter": "python",
   "pygments_lexer": "ipython3",
   "version": "3.11.10"
  }
 },
 "nbformat": 4,
 "nbformat_minor": 5
}
