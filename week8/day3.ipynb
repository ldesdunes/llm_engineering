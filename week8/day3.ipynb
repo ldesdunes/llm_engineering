{
 "cells": [
  {
   "cell_type": "markdown",
   "id": "0df0d850-49eb-4a0b-a27a-146969db710d",
   "metadata": {},
   "source": [
    "# El precio justo\n",
    "\n",
    "Hoy crearemos otra pieza del rompecabezas: un ScanningAgent que busca ofertas prometedoras suscribiéndose a feeds RSS."
   ]
  },
  {
   "cell_type": "code",
   "execution_count": 1,
   "id": "d3763a79-8a5a-4300-8de4-93e85475af10",
   "metadata": {},
   "outputs": [],
   "source": [
    "# imports\n",
    "\n",
    "import os\n",
    "import json\n",
    "from dotenv import load_dotenv\n",
    "from openai import OpenAI\n",
    "from agents.deals import ScrapedDeal, DealSelection"
   ]
  },
  {
   "cell_type": "code",
   "execution_count": 2,
   "id": "c6469e32-16c3-4443-9475-ade710ef6933",
   "metadata": {},
   "outputs": [],
   "source": [
    "# Inicialización y constantes\n",
    "\n",
    "load_dotenv()\n",
    "os.environ['OPENAI_API_KEY'] = os.getenv('OPENAI_API_KEY', 'your-key-if-not-using-env')\n",
    "MODEL = 'gpt-4o-mini'\n",
    "openai = OpenAI()"
   ]
  },
  {
   "cell_type": "code",
   "execution_count": 3,
   "id": "afece9db-8cd4-46be-ac57-0b472e84da7d",
   "metadata": {},
   "outputs": [
    {
     "name": "stderr",
     "output_type": "stream",
     "text": [
      "100%|███████████████████████████████████████████████████████████████████| 5/5 [01:43<00:00, 20.64s/it]\n"
     ]
    }
   ],
   "source": [
    "deals = ScrapedDeal.fetch(show_progress=True)"
   ]
  },
  {
   "cell_type": "code",
   "execution_count": 4,
   "id": "8cd15c4d-eb44-4601-bf0c-f945c1d8e3ec",
   "metadata": {},
   "outputs": [
    {
     "data": {
      "text/plain": [
       "50"
      ]
     },
     "execution_count": 4,
     "metadata": {},
     "output_type": "execute_result"
    }
   ],
   "source": [
    "len(deals)"
   ]
  },
  {
   "cell_type": "code",
   "execution_count": 6,
   "id": "4259f30a-6455-49ed-8863-2f9ddd4776cb",
   "metadata": {},
   "outputs": [
    {
     "data": {
      "text/plain": [
       "\"Título: Shark Matrix Self-Emptying Robot Vacuum for $240 for Total members + free shipping\\nDetalles: Today only, My Best Buy Total members can get this while it's at the best price we've ever seen. My Best Buy Total is a paid membership, which costs $180 annually. Buy Now at Best Buy\\nCaracterísticas: precision home mapping 90 mins runtime Model: RV2320S\\nURL: https://www.dealnews.com/products/Shark/Shark-Matrix-Self-Emptying-Robot-Vacuum/462530.html?iref=rss-c196\""
      ]
     },
     "execution_count": 6,
     "metadata": {},
     "output_type": "execute_result"
    }
   ],
   "source": [
    "deals[44].describe()"
   ]
  },
  {
   "cell_type": "code",
   "execution_count": 7,
   "id": "8100e5ac-38f5-40c1-a712-08ae12c85038",
   "metadata": {},
   "outputs": [],
   "source": [
    "system_prompt = \"\"\"Identifica y resume las 5 ofertas más detalladas de una lista, seleccionando las ofertas que tengan la descripción más detallada y de alta calidad y el precio más claro.\n",
    "Responde estrictamente en JSON sin explicación, usando este formato. Debes proporcionar el precio como un número derivado de la descripción. Si el precio de una oferta no está claro, no incluyas esa oferta en tu respuesta.\n",
    "Lo más importante es que respondas con las 5 ofertas que tengan la descripción del producto más detallada con el precio. No es importante mencionar los términos de la oferta; lo más importante es una descripción detallada del producto.\n",
    "Ten cuidado con los productos que se describen como \"$XXX de descuento\" o \"reducidos en $XXX\"; este no es el precio real del producto. Solo responde con productos cuando estés muy seguro del precio.\n",
    "\n",
    "{\"deals\": [\n",
    "    {\n",
    "        \"product_description\": \"Un resumen claro del producto en 4 o 5 oraciones. Los detalles del artículo son mucho más importantes que el motivo por el que es una buena oferta. Evita mencionar descuentos y cupones; céntrese en el artículo en sí. Debe haber un párrafo de texto para cada artículo que elija.\",\n",
    "        \"price\": 99.99,\n",
    "        \"url\": \"la url donde se halla el artículo\"\n",
    "    },\n",
    "    ...\n",
    "]}\"\"\""
   ]
  },
  {
   "cell_type": "code",
   "execution_count": 8,
   "id": "f4bca170-af71-40c9-9597-1d72980c74d8",
   "metadata": {},
   "outputs": [],
   "source": [
    "user_prompt = \"\"\"Responde con las 5 ofertas más prometedoras de esta lista, seleccionando aquellas que tengan la descripción del producto más detallada y de mayor calidad y un precio claro.\n",
    "Responde estrictamente en JSON, y solo en JSON. Debes reformular la descripción para que sea un resumen del producto en sí, no los términos de la oferta.\n",
    "Recuerda responder con un párrafo de texto en el campo product_description para cada uno de los 5 artículos que selecciones.\n",
    "Ten cuidado con los productos que se describen como \"$XXX de descuento\" o \"reducidos en $XXX\": este no es el precio real del producto. Solo responde con productos cuando estés muy seguro del precio.\n",
    "\n",
    "Ofertas:\n",
    "\n",
    "\"\"\"\n",
    "user_prompt += '\\n\\n'.join([deal.describe() for deal in deals])"
   ]
  },
  {
   "cell_type": "code",
   "execution_count": 9,
   "id": "020947a6-561b-417b-98a0-a085e31d2ce3",
   "metadata": {},
   "outputs": [
    {
     "name": "stdout",
     "output_type": "stream",
     "text": [
      "Responde con las 5 ofertas más prometedoras de esta lista, seleccionando aquellas que tengan la descripción del producto más detallada y de mayor calidad y un precio claro.\n",
      "Responde estrictamente en JSON, y solo en JSON. Debes reformular la descripción para que sea un resumen del producto en sí, no los términos de la oferta.\n",
      "Recuerda responder con un párrafo de texto en el campo product_description para cada uno de los 5 artículos que selecciones.\n",
      "\n",
      "Ofertas:\n",
      "\n",
      "Título: Camera Last-Minute Savings at Best Buy: Up to 50% off + free shipping\n",
      "Detalles: Discounted brands include Sony, GoPro, and Canon. We've pictured the Canon EOS R6 Mark II Mirrorless Camera for $1,999.99 (low by $500). Shop Now at Best Buy\n",
      "Características: \n",
      "URL: https://www.dealnews.com/Camera-Last-Minute-Savings-at-Best-Buy-Up-to-50-off-free-shipping/21706615.html?iref=rss-c142\n",
      "\n",
      "Título: LG C3 Series OLED77C3PUA 77\" 4K HDR OLED UHD Smart TV for $1,500 for Total members + free shipping\n",
      "Detalles: Today only for My Best Buy Total members, this model is at the best price we've seen. My Best Buy Total is a paid membership, which costs $180. Buy Now at Best Buy\n",
      "Características: 4K resolution HDR 120Hz refresh rate WebOS 23 Alexa 4 HDMI 2.1 inputs Model: OLED77C3PUA\n",
      "URL: https://www.dealnews.com/products/LG/LG-C3-Series-OLED77-C3-PUA-77-4-K-HDR-OLED-UHD-Smart-TV/449311.html?iref=rss-c142\n",
      "\n",
      "Título: Samsung Galaxy S24 FE Android Phones: Up to $400 off w/ trade-in + bundle savings + free shipping\n",
      "Detalles: With an eligible trade-in, you can get up to $400 off the S24 FE, dropping prices as low as $249.99. Plus, you'll have the option to add Samsung Galaxy Buds FE or a Galaxy Watch FE to your order, at a $30 or $80 savings respectively. Shop Now at Samsung\n",
      "Características: \n",
      "URL: https://www.dealnews.com/Samsung-Galaxy-S24-FE-Android-Phones-Up-to-400-off-w-trade-in-bundle-savings-free-shipping/21706601.html?iref=rss-c142\n",
      "\n",
      "Título: Apple AirTag 4-Pack for $70 for Plus members + free shipping\n",
      "Detalles: My Best Buy Plus me\n"
     ]
    }
   ],
   "source": [
    "print(user_prompt[:2000])"
   ]
  },
  {
   "cell_type": "code",
   "execution_count": 10,
   "id": "7de46f74-868c-4127-8a68-cf2da7d600bb",
   "metadata": {},
   "outputs": [],
   "source": [
    "def get_recommendations():\n",
    "    completion = openai.beta.chat.completions.parse(\n",
    "        model=\"gpt-4o-mini\",\n",
    "        messages=[\n",
    "            {\"role\": \"system\", \"content\": system_prompt},\n",
    "            {\"role\": \"user\", \"content\": user_prompt}\n",
    "      ],\n",
    "        response_format=DealSelection\n",
    "    )\n",
    "    result = completion.choices[0].message.parsed\n",
    "    return result"
   ]
  },
  {
   "cell_type": "code",
   "execution_count": 11,
   "id": "4c06270d-8c17-4d5a-9cfe-b6cefe788d5e",
   "metadata": {},
   "outputs": [],
   "source": [
    "result = get_recommendations()"
   ]
  },
  {
   "cell_type": "code",
   "execution_count": 12,
   "id": "84e62845-3338-441a-8161-c70097af4773",
   "metadata": {},
   "outputs": [
    {
     "data": {
      "text/plain": [
       "5"
      ]
     },
     "execution_count": 12,
     "metadata": {},
     "output_type": "execute_result"
    }
   ],
   "source": [
    "len(result.deals)"
   ]
  },
  {
   "cell_type": "code",
   "execution_count": 15,
   "id": "e5554a0a-ae40-4684-ad3e-faa3d22e030c",
   "metadata": {},
   "outputs": [
    {
     "data": {
      "text/plain": [
       "Deal(product_description='El Samsung Galaxy S24 FE es un teléfono inteligente con Android que destaca por su rendimiento y versatilidad. Equipado con un sistema de cámara avanzado y un diseño ergonómico, es perfecto para usuarios que buscan calidad en fotografía y funcionalidad diaria. Su opción de intercambio también permite obtener descuentos significativos a la hora de actualizar.', price=249.99, url='https://www.dealnews.com/Samsung-Galaxy-S24-FE-Android-Phones-Up-to-400-off-w-trade-in-bundle-savings-free-shipping/21706601.html?iref=rss-c142')"
      ]
     },
     "execution_count": 15,
     "metadata": {},
     "output_type": "execute_result"
    }
   ],
   "source": [
    "result.deals[2]"
   ]
  },
  {
   "cell_type": "code",
   "execution_count": 16,
   "id": "8bdc57fb-7497-47af-a643-6ba5a21cc17e",
   "metadata": {},
   "outputs": [],
   "source": [
    "from agents.scanner_agent import ScannerAgent"
   ]
  },
  {
   "cell_type": "code",
   "execution_count": 17,
   "id": "132278bc-217a-43a6-b6c4-724140c6a225",
   "metadata": {},
   "outputs": [],
   "source": [
    "agent = ScannerAgent()\n",
    "result = agent.scan()"
   ]
  },
  {
   "cell_type": "code",
   "execution_count": 18,
   "id": "2e1d013a-c930-4dad-901b-41433379e14b",
   "metadata": {},
   "outputs": [
    {
     "data": {
      "text/plain": [
       "DealSelection(deals=[Deal(product_description='La LG C3 Series OLED77C3PUA es un televisor inteligente de 77 pulgadas con resolución 4K y HDR. Cuenta con un sistema operativo WebOS 23, una tasa de refresco de 120Hz y soporte para Alexa. Incluye cuatro puertos HDMI 2.1, lo que lo convierte en una opción ideal para quienes buscan una experiencia de visualización excepcional con múltiples dispositivos.', price=1500.0, url='https://www.dealnews.com/products/LG/LG-C3-Series-OLED77-C3-PUA-77-4-K-HDR-OLED-UHD-Smart-TV/449311.html?iref=rss=c142'), Deal(product_description='Los auriculares Beats Studio Pro son inalámbricos y cuentan con tecnología de cancelación de ruido, ideales para disfrutar de música sin distracciones. Están diseñados para ofrecer una calidad de sonido superior y un ajuste cómodo, listo para usar en cualquier momento. Estos auriculares son perfectos para quienes buscan estilo y alto rendimiento en audio.', price=150.0, url='https://www.dealnews.com/products/Beats/Beats-Studio-Pro-Wireless-Bluetooth-Noise-Cancelling-Headphones/458989.html?iref=rss=c142'), Deal(product_description='El Samsung Galaxy S24 FE es un teléfono inteligente Android que destaca por su velocidad y versatilidad. Ofrece una pantalla vibrante, excelentes capacidades fotográficas y un rendimiento robusto. La inclusión de Samsung Galaxy Buds FE o Galaxy Watch FE como opciones adicionales permite personalizar aún más la experiencia del usuario.', price=249.99, url='https://www.dealnews.com/Samsung-Galaxy-S24-FE-Android-Phones-Up-to-400-off-w-trade-in-bundle-savings-free-shipping/21706601.html?iref=rss=c142'), Deal(product_description='La Panasonic Technics Premium HiFi True Wireless son unos auriculares que ofrecen conectividad multipunto para hasta tres dispositivos y un estuche de carga inalámbrica, lo que brinda comodidad y facilidad de uso. Con resistencia al agua IPX4, son una excelente opción para la vida activa y el uso diario.', price=200.0, url='https://www.dealnews.com/Panasonic-Technics-Premium-Hi-Fi-True-Wireless-Earbuds-with-Noise-Cancelling-for-200-free-shipping/21705818.html?iref=rss=c142'), Deal(product_description='El Shark Matrix es un aspirador robot autovaciable que permite una limpieza eficiente y sin esfuerzo. Con mapeo de precisión del hogar y una duración de batería de hasta 90 minutos, es ideal para quienes buscan comodidad y tecnología avanzada en el hogar. Su diseño compacto y funciones inteligentes lo hacen un dispositivo esencial para la limpieza moderna.', price=240.0, url='https://www.dealnews.com/products/Shark/Shark-Matrix-Self-Emptying-Robot-Vacuum/462530.html?iref=rss=f1912')])"
      ]
     },
     "execution_count": 18,
     "metadata": {},
     "output_type": "execute_result"
    }
   ],
   "source": [
    "result"
   ]
  },
  {
   "cell_type": "code",
   "execution_count": null,
   "id": "5ee2e837-1f1d-42d4-8bc4-51cccc343006",
   "metadata": {},
   "outputs": [],
   "source": []
  }
 ],
 "metadata": {
  "kernelspec": {
   "display_name": "Python 3 (ipykernel)",
   "language": "python",
   "name": "python3"
  },
  "language_info": {
   "codemirror_mode": {
    "name": "ipython",
    "version": 3
   },
   "file_extension": ".py",
   "mimetype": "text/x-python",
   "name": "python",
   "nbconvert_exporter": "python",
   "pygments_lexer": "ipython3",
   "version": "3.11.10"
  }
 },
 "nbformat": 4,
 "nbformat_minor": 5
}
