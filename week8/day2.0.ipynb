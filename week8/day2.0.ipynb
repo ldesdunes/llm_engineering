{
 "cells": [
  {
   "cell_type": "markdown",
   "id": "046fd8f8-ad14-4c7f-b759-fec52f5b5306",
   "metadata": {},
   "source": [
    "# El precio es correcto\n",
    "\n",
    "Hoy construimos una solución más compleja para estimar los precios de los bienes.\n",
    "\n",
    "1. Este cuaderno: crea una base de datos RAG con nuestros 400 000 datos de entrenamiento\n",
    "2. Cuaderno del día 2.1: visualiza en 2D\n",
    "3. Cuaderno del día 2.2: visualiza en 3D\n",
    "4. Cuaderno del día 2.3: crea y prueba una canalización RAG con GPT-4o-mini\n",
    "5. Cuaderno del día 2.4: (a) recupera nuestro tasador de Bosque aleatorio (b) crea un tasador de conjunto que permita contribuciones de todos los tasadores\n",
    "\n",
    "¡Uf! ¡Eso es mucho para hacer en un día!\n",
    "\n",
    "## TEN EN CUENTA:\n",
    "\n",
    "Ya tenemos un estimador de productos muy poderoso con nuestro LLM patentado y perfeccionado. ¡La mayoría de las personas estarían muy satisfechas con eso! La razón principal por la que agregamos estos pasos adicionales es para profundizar su experiencia con RAG y con los flujos de trabajo de Agentic."
   ]
  },
  {
   "cell_type": "code",
   "execution_count": 1,
   "id": "993a2a24-1a58-42be-8034-6d116fb8d786",
   "metadata": {},
   "outputs": [],
   "source": [
    "# imports\n",
    "\n",
    "import os\n",
    "import re\n",
    "import math\n",
    "import json\n",
    "from tqdm import tqdm\n",
    "import random\n",
    "from dotenv import load_dotenv\n",
    "from huggingface_hub import login\n",
    "import numpy as np\n",
    "import pickle\n",
    "from sentence_transformers import SentenceTransformer\n",
    "from datasets import load_dataset\n",
    "import chromadb\n",
    "from items import Item\n",
    "from sklearn.manifold import TSNE\n",
    "import plotly.graph_objects as go"
   ]
  },
  {
   "cell_type": "code",
   "execution_count": 2,
   "id": "2359ccc0-dbf2-4b1e-9473-e472b32f548b",
   "metadata": {},
   "outputs": [],
   "source": [
    "# environment\n",
    "\n",
    "load_dotenv()\n",
    "os.environ['OPENAI_API_KEY'] = os.getenv('OPENAI_API_KEY', 'your-key-if-not-using-env')\n",
    "os.environ['HF_TOKEN'] = os.getenv('HF_TOKEN', 'your-key-if-not-using-env')\n",
    "DB = \"products_vectorstore\""
   ]
  },
  {
   "cell_type": "code",
   "execution_count": 3,
   "id": "645167e6-cf0d-42d2-949f-1089a25a2841",
   "metadata": {},
   "outputs": [
    {
     "name": "stderr",
     "output_type": "stream",
     "text": [
      "Note: Environment variable`HF_TOKEN` is set and is the current active token independently from the token you've just configured.\n"
     ]
    }
   ],
   "source": [
    "# Log in en HuggingFace\n",
    "\n",
    "hf_token = os.environ['HF_TOKEN']\n",
    "login(hf_token, add_to_git_credential=True)"
   ]
  },
  {
   "cell_type": "markdown",
   "id": "3d4995a4-f67f-4871-87df-8c6439b06366",
   "metadata": {},
   "source": [
    "## Volvamos a los archivos pkl\n",
    "\n",
    "Aunque disfrutamos mucho de la curación de datos en la semana 6, probablemente no queramos pasar por todo ese proceso nuevamente.\n",
    "\n",
    "Reutilicemos los archivos pkl que creamos entonces. Copie los archivos `train.pkl` y `test.pkl` de la carpeta de la semana 6 a esta carpeta de la semana 8, o también puede descargarlos desde aquí:\n",
    "\n",
    "https://drive.google.com/drive/folders/1f_IZGybvs9o0J5sb3xmtTEQB3BXllzrW?usp=drive_link"
   ]
  },
  {
   "cell_type": "code",
   "execution_count": 4,
   "id": "688bd995-ec3e-43cd-8179-7fe14b275877",
   "metadata": {},
   "outputs": [],
   "source": [
    "# Con train.pkl en esta carpeta, puedes ejecutar:\n",
    "\n",
    "with open('train.pkl', 'rb') as file:\n",
    "    train = pickle.load(file)"
   ]
  },
  {
   "cell_type": "code",
   "execution_count": 5,
   "id": "2817eaf5-4302-4a18-9148-d1062e3b3dbb",
   "metadata": {},
   "outputs": [
    {
     "data": {
      "text/plain": [
       "'How much does this cost to the nearest dollar?\\n\\nDelphi FG0166 Fuel Pump Module\\nDelphi brings 80 years of OE Heritage into each Delphi pump, ensuring quality and fitment for each Delphi part. Part is validated, tested and matched to the right vehicle application Delphi brings 80 years of OE Heritage into each Delphi assembly, ensuring quality and fitment for each Delphi part Always be sure to check and clean fuel tank to avoid unnecessary returns Rigorous OE-testing ensures the pump can withstand extreme temperatures Brand Delphi, Fit Type Vehicle Specific Fit, Dimensions LxWxH 19.7 x 7.7 x 5.1 inches, Weight 2.2 Pounds, Auto Part Position Unknown, Operation Mode Mechanical, Manufacturer Delphi, Model FUEL PUMP, Dimensions 19.7\\n\\nPrice is $227.00'"
      ]
     },
     "execution_count": 5,
     "metadata": {},
     "output_type": "execute_result"
    }
   ],
   "source": [
    "train[0].prompt"
   ]
  },
  {
   "cell_type": "markdown",
   "id": "9ae1ba16-7e80-4096-ac88-64ef8edcc80c",
   "metadata": {},
   "source": [
    "# Ahora crea un almacén de datos de Chroma\n",
    "\n",
    "En la semana 5, creamos un almacén de datos de Chroma con 123 documentos que representan fragmentos de objetos de nuestra empresa ficticia Insurellm.\n",
    "\n",
    "¡Ahora crearemos un almacén de datos de Chroma con 400 000 productos de nuestro conjunto de datos de entrenamiento! ¡Se está volviendo real!\n",
    "\n",
    "Ten en cuenta que no usaremos LangChain, pero la API es muy sencilla y coherente con la anterior."
   ]
  },
  {
   "cell_type": "code",
   "execution_count": 6,
   "id": "f4aab95e-d719-4476-b6e7-e248120df25a",
   "metadata": {},
   "outputs": [],
   "source": [
    "client = chromadb.PersistentClient(path=DB)"
   ]
  },
  {
   "cell_type": "code",
   "execution_count": 7,
   "id": "5f95dafd-ab80-464e-ba8a-dec7a2424780",
   "metadata": {},
   "outputs": [],
   "source": [
    "# Comprueba si la colección existe y elimínala si es así\n",
    "collection_name = \"products\"\n",
    "existing_collection_names = [collection.name for collection in client.list_collections()]\n",
    "if collection_name in existing_collection_names:\n",
    "    client.delete_collection(collection_name)\n",
    "    print(f\"Deleted existing collection: {collection_name}\")\n",
    "\n",
    "collection = client.create_collection(collection_name)"
   ]
  },
  {
   "cell_type": "markdown",
   "id": "d392ed28-203d-4e73-be87-ac1390bdf722",
   "metadata": {},
   "source": [
    "# Presentamos SentenceTransformer\n",
    "\n",
    "El modelo all-MiniLM es un modelo muy útil de HuggingFace que asigna oraciones y párrafos a un espacio vectorial denso de 384 dimensiones y es ideal para tareas como la búsqueda semántica.\n",
    "\n",
    "https://huggingface.co/sentence-transformers/all-MiniLM-L6-v2\n",
    "\n",
    "Puede ejecutarse localmente con bastante rapidez.\n",
    "\n",
    "La última vez usamos incrustaciones de OpenAI para producir incrustaciones vectoriales. Beneficios en comparación con las incrustaciones de OpenAI:\n",
    "1. ¡Es gratis y rápido!\n",
    "2. Podemos ejecutarlo localmente, por lo que los datos nunca salen de nuestra caja; puede ser útil si estás creando un RAG personal"
   ]
  },
  {
   "cell_type": "code",
   "execution_count": 8,
   "id": "a87db200-d19d-44bf-acbd-15c45c70f5c9",
   "metadata": {},
   "outputs": [
    {
     "data": {
      "application/vnd.jupyter.widget-view+json": {
       "model_id": "0abff066da1c468995a0dea49389ca4f",
       "version_major": 2,
       "version_minor": 0
      },
      "text/plain": [
       "modules.json:   0%|          | 0.00/349 [00:00<?, ?B/s]"
      ]
     },
     "metadata": {},
     "output_type": "display_data"
    },
    {
     "data": {
      "application/vnd.jupyter.widget-view+json": {
       "model_id": "b4ac8dec2bcc4184a0da4e93b967440f",
       "version_major": 2,
       "version_minor": 0
      },
      "text/plain": [
       "config_sentence_transformers.json:   0%|          | 0.00/116 [00:00<?, ?B/s]"
      ]
     },
     "metadata": {},
     "output_type": "display_data"
    },
    {
     "data": {
      "application/vnd.jupyter.widget-view+json": {
       "model_id": "ce42693d83254ecb82da16384d45cde4",
       "version_major": 2,
       "version_minor": 0
      },
      "text/plain": [
       "README.md:   0%|          | 0.00/10.7k [00:00<?, ?B/s]"
      ]
     },
     "metadata": {},
     "output_type": "display_data"
    },
    {
     "data": {
      "application/vnd.jupyter.widget-view+json": {
       "model_id": "a063152ee30849ddb11ccd11f80cdbc8",
       "version_major": 2,
       "version_minor": 0
      },
      "text/plain": [
       "sentence_bert_config.json:   0%|          | 0.00/53.0 [00:00<?, ?B/s]"
      ]
     },
     "metadata": {},
     "output_type": "display_data"
    },
    {
     "data": {
      "application/vnd.jupyter.widget-view+json": {
       "model_id": "b9cbfe2239d94f93a2a66160d0271cf3",
       "version_major": 2,
       "version_minor": 0
      },
      "text/plain": [
       "config.json:   0%|          | 0.00/612 [00:00<?, ?B/s]"
      ]
     },
     "metadata": {},
     "output_type": "display_data"
    },
    {
     "data": {
      "application/vnd.jupyter.widget-view+json": {
       "model_id": "50f12201e4ab40eca7cad8daee09594c",
       "version_major": 2,
       "version_minor": 0
      },
      "text/plain": [
       "model.safetensors:   0%|          | 0.00/90.9M [00:00<?, ?B/s]"
      ]
     },
     "metadata": {},
     "output_type": "display_data"
    },
    {
     "data": {
      "application/vnd.jupyter.widget-view+json": {
       "model_id": "24a4129fff2d41a3a5d31cc49c650b7a",
       "version_major": 2,
       "version_minor": 0
      },
      "text/plain": [
       "tokenizer_config.json:   0%|          | 0.00/350 [00:00<?, ?B/s]"
      ]
     },
     "metadata": {},
     "output_type": "display_data"
    },
    {
     "data": {
      "application/vnd.jupyter.widget-view+json": {
       "model_id": "309281fe19f443fa9eb572835737cf82",
       "version_major": 2,
       "version_minor": 0
      },
      "text/plain": [
       "vocab.txt:   0%|          | 0.00/232k [00:00<?, ?B/s]"
      ]
     },
     "metadata": {},
     "output_type": "display_data"
    },
    {
     "data": {
      "application/vnd.jupyter.widget-view+json": {
       "model_id": "f04384edea0647848c4222c129a4a851",
       "version_major": 2,
       "version_minor": 0
      },
      "text/plain": [
       "tokenizer.json:   0%|          | 0.00/466k [00:00<?, ?B/s]"
      ]
     },
     "metadata": {},
     "output_type": "display_data"
    },
    {
     "data": {
      "application/vnd.jupyter.widget-view+json": {
       "model_id": "9ca6d223a7954772acba7b5e24e74c8d",
       "version_major": 2,
       "version_minor": 0
      },
      "text/plain": [
       "special_tokens_map.json:   0%|          | 0.00/112 [00:00<?, ?B/s]"
      ]
     },
     "metadata": {},
     "output_type": "display_data"
    },
    {
     "data": {
      "application/vnd.jupyter.widget-view+json": {
       "model_id": "5e66c0d00063407789ca35186fddf565",
       "version_major": 2,
       "version_minor": 0
      },
      "text/plain": [
       "1_Pooling/config.json:   0%|          | 0.00/190 [00:00<?, ?B/s]"
      ]
     },
     "metadata": {},
     "output_type": "display_data"
    }
   ],
   "source": [
    "model = SentenceTransformer('sentence-transformers/all-MiniLM-L6-v2')"
   ]
  },
  {
   "cell_type": "code",
   "execution_count": 9,
   "id": "9b23a025-4c35-4d3a-96ad-b956cad37b0a",
   "metadata": {},
   "outputs": [],
   "source": [
    "# Pasa una lista de textos y obtén una matriz numpy de vectores\n",
    "\n",
    "vector = model.encode([\"Hola, ¿cómo estás?\"])[0]"
   ]
  },
  {
   "cell_type": "code",
   "execution_count": 11,
   "id": "8adde63f-e732-4f7c-bba9-f8b2a469f14e",
   "metadata": {},
   "outputs": [
    {
     "data": {
      "text/plain": [
       "array([-1.15370599e-03,  5.10658771e-02,  1.53511772e-02,  2.32141279e-02,\n",
       "       -5.79879768e-02, -7.84517266e-04,  1.17281683e-01, -1.06943250e-02,\n",
       "        2.04955712e-02, -1.72842965e-02,  6.00087605e-02, -9.82523989e-03,\n",
       "       -8.24677423e-02,  2.87922975e-02,  1.30775616e-01,  4.28776480e-02,\n",
       "       -2.61534397e-02, -2.76041329e-02,  2.44764015e-02, -7.89869577e-03,\n",
       "        6.07454889e-02,  6.74452493e-03, -7.15552717e-02,  1.07552797e-01,\n",
       "       -6.41963854e-02, -3.59639712e-02,  4.00140136e-02,  1.86637994e-02,\n",
       "       -3.14408615e-02, -7.57469609e-02, -3.55393589e-02,  4.59692478e-02,\n",
       "        2.67851613e-02,  2.39503346e-02,  1.50616253e-02, -1.37406476e-02,\n",
       "        7.68324211e-02, -1.17426433e-01, -4.72090617e-02,  4.06149738e-02,\n",
       "       -1.25587568e-01, -1.39257731e-02,  5.64726535e-03,  3.93795734e-03,\n",
       "        1.87711150e-03, -1.02197789e-01, -4.06028563e-03,  5.26404381e-02,\n",
       "        5.41950203e-02, -2.73344852e-02, -1.07816517e-01, -9.07926448e-03,\n",
       "       -6.23978786e-02,  4.39027734e-02,  4.04298678e-02,  4.08178791e-02,\n",
       "        3.86822782e-02, -9.24479440e-02,  8.18462521e-02,  7.00696409e-02,\n",
       "       -6.97071711e-03,  7.13722873e-03, -6.69290647e-02,  7.09900409e-02,\n",
       "        1.77098089e-03, -2.01685168e-02,  5.95598146e-02, -1.68965869e-02,\n",
       "       -9.33416411e-02,  1.23403862e-01,  7.11809471e-02, -4.51170020e-02,\n",
       "       -7.81235890e-03,  8.97687376e-02, -3.46053503e-02, -2.02766731e-02,\n",
       "       -1.34428870e-02, -2.48237047e-02, -2.27586851e-02,  4.10874337e-02,\n",
       "       -1.92391351e-02,  2.05888767e-02, -2.14694869e-02, -1.20852725e-03,\n",
       "        4.32141274e-02, -3.05415690e-02, -7.73221254e-02, -3.66263278e-03,\n",
       "        4.12230678e-02,  3.26646082e-02, -7.30957016e-02,  4.98029441e-02,\n",
       "       -3.73944007e-02,  2.89604869e-02,  2.81456094e-02,  7.00642937e-04,\n",
       "        3.97428907e-02, -5.36575019e-02,  2.44006999e-02,  5.66407256e-02,\n",
       "        1.03780776e-01,  5.98961264e-02,  3.36367525e-02,  1.80252045e-02,\n",
       "       -2.00557299e-02,  5.59930466e-02,  3.79038118e-02,  1.12217208e-02,\n",
       "        4.03001420e-02, -8.81724991e-03, -7.97468573e-02, -4.61770929e-02,\n",
       "       -8.54784623e-02, -3.76211889e-02, -1.26899838e-01, -4.37819436e-02,\n",
       "        7.42064416e-02,  3.42958868e-02, -3.72437984e-02, -6.12672754e-02,\n",
       "        5.16669191e-02,  5.68862669e-02, -1.31828748e-02, -3.77236418e-02,\n",
       "        5.63454330e-02, -7.60937855e-02, -2.52909623e-02, -3.45826765e-33,\n",
       "        5.35292067e-02, -6.24961294e-02, -4.13270807e-03,  7.79133663e-02,\n",
       "       -2.33104136e-02,  1.40332906e-02, -2.36265874e-03, -5.69629250e-03,\n",
       "       -4.29103859e-02,  1.54082617e-02, -7.93344080e-02,  5.02599925e-02,\n",
       "       -4.63284180e-02,  1.16433362e-02,  3.97023782e-02,  3.55630554e-02,\n",
       "        2.29058322e-02,  2.80973893e-02,  4.73903865e-02,  2.38720886e-02,\n",
       "        6.40742155e-03, -1.39428768e-02,  2.65136715e-02, -1.19088870e-02,\n",
       "       -1.85434017e-02,  2.38002595e-02,  3.49699594e-02, -9.54433084e-02,\n",
       "        1.22249704e-02,  8.32424462e-02, -9.94676445e-03,  2.10590623e-02,\n",
       "        4.38299775e-02, -1.64386835e-02,  2.82497685e-02, -6.28362745e-02,\n",
       "        7.01020807e-02,  4.07358557e-02, -1.00144325e-02,  6.64932886e-03,\n",
       "        7.13890642e-02,  3.39728445e-02,  2.73751877e-02, -2.00441070e-02,\n",
       "       -2.99280006e-02, -7.88372103e-03,  5.24731465e-02,  4.98762429e-02,\n",
       "        5.17551675e-02,  5.24720550e-02, -6.86229467e-02, -7.46398121e-02,\n",
       "       -2.71331556e-02, -1.19869830e-03,  2.89462730e-02,  3.64083052e-02,\n",
       "       -3.76330130e-02,  6.32333159e-02,  5.36930934e-03, -3.25953290e-02,\n",
       "       -4.77497578e-02, -6.04535034e-03,  4.09276597e-02, -3.78247276e-02,\n",
       "       -3.10128778e-02, -2.93507725e-02,  4.52908352e-02,  1.43069467e-02,\n",
       "        7.87172914e-02,  7.97440559e-02, -3.86446007e-02, -5.64253016e-04,\n",
       "       -2.69180089e-02,  2.89758034e-02, -7.03092106e-03, -1.40803326e-02,\n",
       "       -6.09330833e-03,  1.58898067e-02,  9.32804402e-03,  4.71684225e-02,\n",
       "       -7.37568960e-02,  1.61532797e-02,  5.20509519e-02,  5.29870987e-02,\n",
       "        8.99070650e-02,  9.83654186e-02,  7.28916153e-02,  7.80276023e-03,\n",
       "       -2.24995986e-02,  8.00257400e-02, -3.65805998e-02,  3.78976576e-02,\n",
       "        9.17792544e-02, -4.04332466e-02, -8.11976660e-03,  1.16275787e-33,\n",
       "       -3.40155028e-02, -5.08869402e-02,  8.68092664e-03, -2.30991598e-02,\n",
       "       -6.77964045e-03, -2.46200208e-02, -5.77750206e-02,  1.94319058e-02,\n",
       "       -6.48200437e-02, -4.37060446e-02, -5.58396727e-02, -9.49288383e-02,\n",
       "        5.70293479e-02, -2.63995454e-02,  1.43421907e-02,  2.55398247e-02,\n",
       "        1.42090824e-02, -6.93868324e-02, -1.01605766e-01, -9.44111403e-03,\n",
       "       -3.89459059e-02, -8.33440386e-03,  1.03615530e-01,  4.02822830e-02,\n",
       "       -2.19157082e-03, -5.65513782e-02,  9.17122960e-02,  9.08884183e-02,\n",
       "       -2.50445716e-02, -1.03872260e-02, -1.75285023e-02, -7.62456730e-02,\n",
       "       -8.02374166e-03,  1.53169744e-02, -5.20194396e-02,  7.08791539e-02,\n",
       "        1.60206892e-02, -3.40026468e-02,  1.95363779e-02,  3.17093986e-03,\n",
       "       -5.07767370e-04,  2.92005613e-02, -7.00440779e-02,  8.25527590e-03,\n",
       "       -2.02603564e-02,  3.86665501e-02,  1.90727115e-02, -7.03274757e-02,\n",
       "       -2.71815769e-02,  2.43367348e-02,  1.73008442e-02, -6.87274784e-02,\n",
       "       -4.50593233e-02, -1.63502507e-02,  4.66142595e-02, -1.24320984e-01,\n",
       "       -7.29689822e-02, -8.86908695e-02, -3.20190494e-03,  1.68352555e-02,\n",
       "        1.01981014e-01,  3.91502604e-02, -6.91697001e-02, -4.50675236e-03,\n",
       "        3.65079269e-02,  2.17586961e-02, -3.79452892e-02, -1.19066993e-02,\n",
       "       -1.81522002e-04,  7.78130665e-02,  6.55546337e-02, -1.45528121e-02,\n",
       "       -1.69671416e-01, -2.67121606e-02, -7.97102600e-02, -1.45389251e-02,\n",
       "       -1.33575499e-01, -2.14595143e-02,  4.03950065e-02, -6.34322967e-03,\n",
       "        1.51148308e-02, -3.85935903e-02, -1.68084446e-02, -6.41340166e-02,\n",
       "        3.84852029e-02, -1.72415432e-02, -5.87930158e-02,  6.87829480e-02,\n",
       "       -2.73210444e-02,  1.02755561e-01, -1.02439914e-02,  2.65916884e-02,\n",
       "       -3.17859761e-02,  3.93435825e-03, -8.18472654e-02, -1.65721925e-08,\n",
       "       -1.71459075e-02,  4.29818816e-02, -4.08381261e-02, -4.21385653e-02,\n",
       "       -6.54493598e-03,  1.06684100e-02, -2.75057666e-02,  1.60459802e-03,\n",
       "        8.21468681e-02,  2.38620844e-02,  2.90780272e-02, -1.28624234e-02,\n",
       "       -4.49011102e-03,  1.58182699e-02, -4.15139645e-02,  2.23846994e-02,\n",
       "        7.02291876e-02,  1.09489352e-01,  1.10803014e-02, -3.63722332e-02,\n",
       "        1.28627434e-01,  8.11320636e-03, -2.50995234e-02,  1.97062660e-02,\n",
       "       -2.37489976e-02,  1.64488275e-02, -2.33118292e-02,  1.12101294e-01,\n",
       "        1.61760077e-02, -5.30964658e-02, -5.24644740e-02,  7.63330907e-02,\n",
       "       -1.15880474e-01, -2.12341063e-02, -3.71716581e-02, -9.70583558e-02,\n",
       "       -8.19696765e-03, -2.01162398e-02, -1.57054085e-02, -2.75070276e-02,\n",
       "        4.44251411e-02, -1.24194538e-02, -9.78428796e-02, -3.40969935e-02,\n",
       "       -1.55277532e-02, -5.79544157e-02,  6.02208972e-02,  4.46651317e-03,\n",
       "       -9.32752118e-02, -2.12141424e-02,  1.40091227e-02, -7.44052902e-02,\n",
       "        7.58008426e-03,  5.96560352e-02,  4.02663276e-02, -1.51785687e-02,\n",
       "        1.19757742e-01,  3.24700028e-02, -5.18444516e-02,  4.95586768e-02,\n",
       "        3.62261757e-02,  7.91258272e-03,  4.46423851e-02, -2.25766692e-02],\n",
       "      dtype=float32)"
      ]
     },
     "execution_count": 11,
     "metadata": {},
     "output_type": "execute_result"
    }
   ],
   "source": [
    "vector"
   ]
  },
  {
   "cell_type": "code",
   "execution_count": 13,
   "id": "38de1bf8-c9b5-45b4-9f4b-86af93b3f80d",
   "metadata": {},
   "outputs": [],
   "source": [
    "def description(item):\n",
    "    text = item.prompt.replace(\"How much does this cost to the nearest dollar?\\n\\n\", \"\")\n",
    "    return text.split(\"\\n\\nPrice is $\")[0]"
   ]
  },
  {
   "cell_type": "code",
   "execution_count": 17,
   "id": "8c1205bd-4692-44ef-8ea4-69f255354537",
   "metadata": {},
   "outputs": [
    {
     "data": {
      "text/plain": [
       "'Delphi FG0166 Fuel Pump Module\\nDelphi brings 80 years of OE Heritage into each Delphi pump, ensuring quality and fitment for each Delphi part. Part is validated, tested and matched to the right vehicle application Delphi brings 80 years of OE Heritage into each Delphi assembly, ensuring quality and fitment for each Delphi part Always be sure to check and clean fuel tank to avoid unnecessary returns Rigorous OE-testing ensures the pump can withstand extreme temperatures Brand Delphi, Fit Type Vehicle Specific Fit, Dimensions LxWxH 19.7 x 7.7 x 5.1 inches, Weight 2.2 Pounds, Auto Part Position Unknown, Operation Mode Mechanical, Manufacturer Delphi, Model FUEL PUMP, Dimensions 19.7'"
      ]
     },
     "execution_count": 17,
     "metadata": {},
     "output_type": "execute_result"
    }
   ],
   "source": [
    "description(train[0])"
   ]
  },
  {
   "cell_type": "code",
   "execution_count": 18,
   "id": "8c79e2fe-1f50-4ebf-9a93-34f3088f2996",
   "metadata": {},
   "outputs": [
    {
     "name": "stderr",
     "output_type": "stream",
     "text": [
      "100%|█████████████████████████████████████████| 400/400 [15:49<00:00,  2.37s/it]\n"
     ]
    }
   ],
   "source": [
    "for i in tqdm(range(0, len(train), 1000)):\n",
    "    documents = [description(item) for item in train[i: i+1000]]\n",
    "    vectors = model.encode(documents).astype(float).tolist()\n",
    "    metadatas = [{\"category\": item.category, \"price\": item.price} for item in train[i: i+1000]]\n",
    "    ids = [f\"doc_{j}\" for j in range(i, i+1000)]\n",
    "    collection.add(\n",
    "        ids=ids,\n",
    "        documents=documents,\n",
    "        embeddings=vectors,\n",
    "        metadatas=metadatas\n",
    "    )"
   ]
  },
  {
   "cell_type": "code",
   "execution_count": null,
   "id": "8a6b21e9-9722-40bf-b933-c9312f401c97",
   "metadata": {},
   "outputs": [],
   "source": []
  }
 ],
 "metadata": {
  "kernelspec": {
   "display_name": "Python 3 (ipykernel)",
   "language": "python",
   "name": "python3"
  },
  "language_info": {
   "codemirror_mode": {
    "name": "ipython",
    "version": 3
   },
   "file_extension": ".py",
   "mimetype": "text/x-python",
   "name": "python",
   "nbconvert_exporter": "python",
   "pygments_lexer": "ipython3",
   "version": "3.11.10"
  }
 },
 "nbformat": 4,
 "nbformat_minor": 5
}
