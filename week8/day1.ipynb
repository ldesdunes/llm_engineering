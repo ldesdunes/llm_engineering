{
 "cells": [
  {
   "cell_type": "markdown",
   "id": "e426cd04-c053-43e8-b505-63cee7956a53",
   "metadata": {},
   "source": [
    "# Bienvenidos a una semana 8 muy ocupada\n",
    "\n",
    "## ¡Tenemos mucho que hacer esta semana!\n",
    "\n",
    "Avanzaremos a un ritmo más rápido de lo habitual, en particular porque se están convirtiendo en ingenieros de LLM competentes."
   ]
  },
  {
   "cell_type": "markdown",
   "id": "b3cf5389-93c5-4523-bc48-78fabb91d8f6",
   "metadata": {},
   "source": [
    "<table style=\"margin: 0; text-align: left;\">\n",
    "<tr>\n",
    "<td style=\"width: 150px; height: 150px; vertical-align: middle;\">\n",
    "<img src=\"../important.jpg\" width=\"150\" height=\"150\" style=\"display: block;\" />\n",
    "</td>\n",
    "<td>\n",
    "<h2 style=\"color:#900;\">Especialmente importante esta semana: obtenga lo último</h2>\n",
    "<span style=\"color:#900;\">Estoy mejorando continuamente estos laboratorios, agregando más ejemplos y ejercicios.\n",
    "Al comienzo de cada semana, vale la pena verificar que tienes el código más reciente.<br/>\n",
    "Primero haz un <a href=\"https://chatgpt.com/share/6734e705-3270-8012-a074-421661af6ba9\">git pull y fusiona los cambios según sea necesario</a>. ¿Tienes algún problema? Intente pedirle a ChatGPT que le aclare cómo realizar la fusión, o póngase en contacto conmigo.<br/><br/>\n",
    "Después de haber obtenido el código, desde el directorio llm_engineering, en un indicador de Anaconda (PC) o Terminal (Mac), ejecute:<br/>\n",
    "<code>conda env update --f environment.yml --prune</code><br/>\n",
    "O si utilizó virtualenv en lugar de Anaconda, ejecute esto desde su entorno activado en un Powershell (PC) o Terminal (Mac):<br/>\n",
    "<code>pip install -r requirements.txt</code>\n",
    "<br/>Luego reinicie el kernel (menú Kernel >> Reiniciar kernel y borrar resultados de todas las celdas) para incorporar los cambios.\n",
    "</span>\n",
    "</td>\n",
    "</tr>\n",
    "</table>"
   ]
  },
  {
   "cell_type": "code",
   "execution_count": 1,
   "id": "bc0e1c1c-be6a-4395-bbbd-eeafc9330d7e",
   "metadata": {},
   "outputs": [],
   "source": [
    "# Solo importaremos una librería!\n",
    "\n",
    "import modal"
   ]
  },
  {
   "cell_type": "markdown",
   "id": "ab5c8533-9f66-448f-b9b2-133d1ff50639",
   "metadata": {},
   "source": [
    "# Configuración de los tokens modales\n",
    "\n",
    "La primera vez que ejecutes esto, quita el comentario de la siguiente línea y ejecútala.\n",
    "Esto es lo mismo que ejecutar `modal setup` desde la línea de comandos. Se conecta con Modal e instala tus tokens.\n",
    "\n",
    "Un estudiante de Windows mencionó que en Windows, también podrías necesitar ejecutar este comando desde un símbolo del sistema después:\n",
    "`modal token new`\n",
    "(¡Gracias Ed B. por eso!)\n",
    "\n",
    "Y también escuché que en algunas situaciones, podrías necesitar reiniciar el kernel de este cuaderno Jupyter después de ejecutar esto. (Menú Kernel >> Reiniciar kernel y borrar resultados de todas las celdas)."
   ]
  },
  {
   "cell_type": "code",
   "execution_count": null,
   "id": "0d240622-8422-4c99-8464-c04d063e4cb6",
   "metadata": {},
   "outputs": [],
   "source": [
    "# Elimina el '#' de la siguiente línea y ejecuta la celda\n",
    "#!modal setup"
   ]
  },
  {
   "cell_type": "code",
   "execution_count": null,
   "id": "3b133701-f550-44a1-a67f-eb7ccc4769a9",
   "metadata": {},
   "outputs": [],
   "source": [
    "from hello import app, hello"
   ]
  },
  {
   "cell_type": "code",
   "execution_count": null,
   "id": "0f3f73ae-1295-49f3-9099-b8b41fc3429b",
   "metadata": {},
   "outputs": [],
   "source": [
    "with app.run(show_progress=False):\n",
    "    reply=hello.local()\n",
    "reply"
   ]
  },
  {
   "cell_type": "code",
   "execution_count": null,
   "id": "c1d8c6f9-edc7-4e52-9b3a-c07d7cff1ac7",
   "metadata": {},
   "outputs": [],
   "source": [
    "with app.run(show_progress=False):\n",
    "    reply=hello.remote()\n",
    "reply"
   ]
  },
  {
   "cell_type": "markdown",
   "id": "22e8d804-c027-45fb-8fef-06e7bba6295a",
   "metadata": {},
   "source": [
    "# Antes de continuar -\n",
    "\n",
    "## Necesitamos configurar tu token HuggingFace como secreto en Modal\n",
    "\n",
    "1. Ve a modal.com, inicia sesión y ve a tu panel de control\n",
    "2. Haz clic en Secretos en la barra de navegación\n",
    "3. Crea un nuevo secreto, haz clic en Hugging Face, este nuevo secreto debe llamarse **hf-secret** porque así es como lo llamamos en el código\n",
    "4. Completa tu HF_TOKEN donde te lo indique\n",
    "\n",
    "### Y ahora volvamos a la tarea: es hora de trabajar con Llama"
   ]
  },
  {
   "cell_type": "code",
   "execution_count": null,
   "id": "cb8b6c41-8259-4329-b1c4-a1f67d26d1be",
   "metadata": {},
   "outputs": [],
   "source": [
    "from llama import app, generate"
   ]
  },
  {
   "cell_type": "code",
   "execution_count": null,
   "id": "db4a718a-d95d-4f61-9688-c9df21d88fe6",
   "metadata": {},
   "outputs": [],
   "source": [
    "with modal.enable_output():\n",
    "    with app.run():\n",
    "        result=generate.remote(\"Life is a mystery, everyone must stand alone, I hear\")\n",
    "result"
   ]
  },
  {
   "cell_type": "code",
   "execution_count": null,
   "id": "9a9a6844-29ec-4264-8e72-362d976b3968",
   "metadata": {},
   "outputs": [],
   "source": [
    "import modal\n",
    "from pricer_ephemeral import app, price"
   ]
  },
  {
   "cell_type": "code",
   "execution_count": null,
   "id": "50e6cf99-8959-4ae3-ba02-e325cb7fff94",
   "metadata": {},
   "outputs": [],
   "source": [
    "with modal.enable_output():\n",
    "    with app.run():\n",
    "        result=price.remote(\"Quadcast HyperX condenser mic, connects via usb-c to your computer for crystal clear audio\")\n",
    "result"
   ]
  },
  {
   "cell_type": "markdown",
   "id": "04d8747f-8452-4077-8af6-27e03888508a",
   "metadata": {},
   "source": [
    "## Transición de aplicaciones efímeras a aplicaciones implementadas\n",
    "\n",
    "Desde una línea de comandos, `modal deployment xxx` implementará su código como una aplicación implementada\n",
    "\n",
    "Así es como puede empaquetar su servicio de IA detrás de una API para usarlo en un sistema de producción.\n",
    "\n",
    "También puede crear puntos finales REST fácilmente, aunque no lo cubriremos porque llamaremos directamente desde Python."
   ]
  },
  {
   "cell_type": "code",
   "execution_count": null,
   "id": "7f90d857-2f12-4521-bb90-28efd917f7d1",
   "metadata": {},
   "outputs": [],
   "source": [
    "!modal deploy pricer_service --no-fancy-output"
   ]
  },
  {
   "cell_type": "code",
   "execution_count": null,
   "id": "1dec70ff-1986-4405-8624-9bbbe0ce1f4a",
   "metadata": {},
   "outputs": [],
   "source": [
    "pricer = modal.Function.lookup(\"pricer-service\", \"price\")"
   ]
  },
  {
   "cell_type": "code",
   "execution_count": null,
   "id": "17776139-0d9e-4ad0-bcd0-82d3a92ca61f",
   "metadata": {},
   "outputs": [],
   "source": [
    "pricer.remote(\"Micrófono de condensador Quadcast HyperX que se conecta a tu computadora mediante USB-C para disfrutar de un audio nítido\")"
   ]
  },
  {
   "cell_type": "code",
   "execution_count": null,
   "id": "f56d1e55-2a03-4ce2-bb47-2ab6b9175a02",
   "metadata": {},
   "outputs": [],
   "source": [
    "!modal deploy pricer_service2 --no-fancy-output"
   ]
  },
  {
   "cell_type": "code",
   "execution_count": 5,
   "id": "9e19daeb-1281-484b-9d2f-95cc6fed2622",
   "metadata": {},
   "outputs": [
    {
     "name": "stdout",
     "output_type": "stream",
     "text": [
      "133.0\n"
     ]
    }
   ],
   "source": [
    "Pricer = modal.Cls.lookup(\"pricer-service\", \"Pricer\")\n",
    "pricer = Pricer()\n",
    "reply = pricer.price.remote(\"Micrófono de condensador Quadcast HyperX que se conecta a tu computadora mediante USB-C para disfrutar de un audio nítido\")\n",
    "print(reply)"
   ]
  },
  {
   "cell_type": "markdown",
   "id": "9c1b1451-6249-4462-bf2d-5937c059926c",
   "metadata": {},
   "source": [
    "# Opcional: Mantener activo Modal\n",
    "\n",
    "## Una forma de mejorar la velocidad del servicio de tarificación de Modal\n",
    "\n",
    "Un estudiante me mencionó que le preocupaba lo lento que parece ser Modal. La razón es que Modal pone nuestro servicio en reposo si no lo usamos y luego tarda 2,5 minutos en volver a funcionar.\n",
    "\n",
    "He agregado una utilidad llamada `keep_warm.py` que mantendrá activo nuestro Modal haciéndole ping cada 30 segundos.\n",
    "\n",
    "Para usar la utilidad, abre una nueva Terminal (Mac) o el Anaconda Prompt (Windows), asegúrate de que el entorno esté activado con `conda activate llms`\n",
    "\n",
    "Luego ejecuta: `python keep_warm.py` desde el directorio week8.\n",
    "\n",
    "Recuerda presionar Ctrl+C o salir de la ventana cuando ya no necesites que Modal se ejecute."
   ]
  },
  {
   "cell_type": "markdown",
   "id": "3754cfdd-ae28-47c8-91f2-6e060e2c91b3",
   "metadata": {},
   "source": [
    "## Y ahora presentamos nuestra clase Agente"
   ]
  },
  {
   "cell_type": "code",
   "execution_count": 3,
   "id": "ba9aedca-6a7b-4d30-9f64-59d76f76fb6d",
   "metadata": {},
   "outputs": [],
   "source": [
    "from agents.specialist_agent import SpecialistAgent"
   ]
  },
  {
   "cell_type": "code",
   "execution_count": 16,
   "id": "fe5843e5-e958-4a65-8326-8f5b4686de7f",
   "metadata": {},
   "outputs": [
    {
     "data": {
      "text/plain": [
       "299.0"
      ]
     },
     "execution_count": 16,
     "metadata": {},
     "output_type": "execute_result"
    }
   ],
   "source": [
    "agent = SpecialistAgent()\n",
    "agent.price(\"iPad Pro 2a generación\")"
   ]
  },
  {
   "cell_type": "code",
   "execution_count": null,
   "id": "f5a3181b-1310-4102-8d7d-52caf4c00538",
   "metadata": {},
   "outputs": [],
   "source": []
  }
 ],
 "metadata": {
  "kernelspec": {
   "display_name": "Python 3 (ipykernel)",
   "language": "python",
   "name": "python3"
  },
  "language_info": {
   "codemirror_mode": {
    "name": "ipython",
    "version": 3
   },
   "file_extension": ".py",
   "mimetype": "text/x-python",
   "name": "python",
   "nbconvert_exporter": "python",
   "pygments_lexer": "ipython3",
   "version": "3.11.10"
  }
 },
 "nbformat": 4,
 "nbformat_minor": 5
}
