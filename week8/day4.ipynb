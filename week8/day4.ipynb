{
 "cells": [
  {
   "cell_type": "markdown",
   "id": "23f53670-1a73-46ba-a754-4a497e8e0e64",
   "metadata": {},
   "source": [
    "# El precio justo\n",
    "\n",
    "Primero, perfeccionaremos dos agentes más simples:\n",
    "\n",
    "El **Agente de mensajería** para enviar notificaciones push\n",
    "\n",
    "El **Agente de planificación** para coordinar actividades\n",
    "\n",
    "Luego, lo juntaremos todo en un marco de agente.\n",
    "\n",
    "Para las notificaciones push, usaremos una plataforma ingeniosa llamada Pushover.\n",
    "\n",
    "Necesitará configurar una cuenta gratuita y agregar dos tokens a su archivo `.env`:\n",
    "\n",
    "```\n",
    "PUSHOVER_USER=xxx\n",
    "PUSHOVER_TOKEN=xxx\n",
    "```"
   ]
  },
  {
   "cell_type": "code",
   "execution_count": 1,
   "id": "80d683d9-9e92-44ae-af87-a413ca84db21",
   "metadata": {},
   "outputs": [],
   "source": [
    "from dotenv import load_dotenv\n",
    "from agents.messaging_agent import MessagingAgent"
   ]
  },
  {
   "cell_type": "code",
   "execution_count": 2,
   "id": "5ba769cc-5301-4810-b01f-cab584cfb3b3",
   "metadata": {},
   "outputs": [],
   "source": [
    "load_dotenv()\n",
    "DB = \"products_vectorstore\""
   ]
  },
  {
   "cell_type": "code",
   "execution_count": 3,
   "id": "e05cc427-3d2c-4792-ade1-d356f95a82a9",
   "metadata": {},
   "outputs": [],
   "source": [
    "agent = MessagingAgent()"
   ]
  },
  {
   "cell_type": "code",
   "execution_count": 12,
   "id": "5ec518f5-dae4-44b1-a185-d7eaf853ec00",
   "metadata": {},
   "outputs": [],
   "source": [
    "agent.push(\"NOTICIAS MASIVAS!!!\")"
   ]
  },
  {
   "cell_type": "code",
   "execution_count": 13,
   "id": "57b3a014-0b15-425a-a29b-6fefc5006dee",
   "metadata": {},
   "outputs": [],
   "source": [
    "import chromadb\n",
    "DB = \"products_vectorstore\"\n",
    "client = chromadb.PersistentClient(path=DB)\n",
    "collection = client.get_or_create_collection('products')\n",
    "from agents.planning_agent import PlanningAgent"
   ]
  },
  {
   "cell_type": "code",
   "execution_count": 14,
   "id": "a5c31c39-e357-446e-9cec-b4775c298941",
   "metadata": {},
   "outputs": [],
   "source": [
    "planner = PlanningAgent(collection)"
   ]
  },
  {
   "cell_type": "code",
   "execution_count": 15,
   "id": "d9ac771b-ea12-41c0-a7ce-05f12e27ad9e",
   "metadata": {},
   "outputs": [
    {
     "data": {
      "text/plain": [
       "Opportunity(deal=Deal(product_description='El televisor inteligente Roku de 55\" ofrece una impresionante calidad de imagen en 4K HDR. Con acceso a más de 500,000 películas y programas a través de múltiples aplicaciones, es fácil encontrar contenido de tu agrado. Su diseño delgado y elegante se adapta perfectamente a cualquier habitación, y cuenta con controles de voz y compatibilidad con dispositivos de hogar inteligente. Ideal para quienes disfrutan del cine en casa.', price=230.0, url='https://www.dealnews.com/products/Roku/Roku-Smart-TV-55-Inch-Select-Series-4-K-HDR-Roku-TV-Enhanced-Voice-Remote-Brilliant-4-K-Picture/480824.html?iref=rss-c142'), estimate=624.9172272599017, discount=394.91722725990167)"
      ]
     },
     "execution_count": 15,
     "metadata": {},
     "output_type": "execute_result"
    }
   ],
   "source": [
    "planner.plan()"
   ]
  },
  {
   "cell_type": "code",
   "execution_count": null,
   "id": "05459903-85a8-4fa1-beda-598648f46868",
   "metadata": {},
   "outputs": [],
   "source": []
  }
 ],
 "metadata": {
  "kernelspec": {
   "display_name": "Python 3 (ipykernel)",
   "language": "python",
   "name": "python3"
  },
  "language_info": {
   "codemirror_mode": {
    "name": "ipython",
    "version": 3
   },
   "file_extension": ".py",
   "mimetype": "text/x-python",
   "name": "python",
   "nbconvert_exporter": "python",
   "pygments_lexer": "ipython3",
   "version": "3.11.10"
  }
 },
 "nbformat": 4,
 "nbformat_minor": 5
}
