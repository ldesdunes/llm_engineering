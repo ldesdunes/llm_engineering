{
 "cells": [
  {
   "cell_type": "markdown",
   "id": "db8736a7-ed94-441c-9556-831fa57b5a10",
   "metadata": {},
   "source": [
    "# El evaluador de precios de productos (continuación)\n",
    "\n",
    "Un modelo que puede estimar cuánto cuesta algo a partir de su descripción.\n",
    "\n",
    "## ¡POR FIN, llegó el momento de realizar los ajustes precisos!\n",
    "\n",
    "Después de toda esta preparación de datos y del aprendizaje automático tradicional, finalmente llegamos al momento que estaba esperando: el ajuste preciso de un modelo."
   ]
  },
  {
   "cell_type": "code",
   "execution_count": 1,
   "id": "681c717b-4c24-4ac3-a5f3-3c5881d6e70a",
   "metadata": {},
   "outputs": [],
   "source": [
    "# imports\n",
    "\n",
    "import os\n",
    "import re\n",
    "import math\n",
    "import json\n",
    "import random\n",
    "from dotenv import load_dotenv\n",
    "from huggingface_hub import login\n",
    "from items import Item\n",
    "import matplotlib.pyplot as plt\n",
    "import numpy as np\n",
    "import pickle\n",
    "from collections import Counter\n",
    "from openai import OpenAI\n",
    "from anthropic import Anthropic"
   ]
  },
  {
   "cell_type": "code",
   "execution_count": 2,
   "id": "21a3833e-4093-43b0-8f7b-839c50b911ea",
   "metadata": {},
   "outputs": [],
   "source": [
    "# movimos nuestro Tester a un paquete separado\n",
    "# lo llamamos mediante Tester.test(function_name, test_dataset)\n",
    "\n",
    "from testing import Tester"
   ]
  },
  {
   "cell_type": "code",
   "execution_count": 3,
   "id": "36d05bdc-0155-4c72-a7ee-aa4e614ffd3c",
   "metadata": {},
   "outputs": [],
   "source": [
    "# environment\n",
    "\n",
    "load_dotenv()\n",
    "os.environ['OPENAI_API_KEY'] = os.getenv('OPENAI_API_KEY', 'your-key-if-not-using-env')\n",
    "os.environ['ANTHROPIC_API_KEY'] = os.getenv('ANTHROPIC_API_KEY', 'your-key-if-not-using-env')\n",
    "os.environ['HF_TOKEN'] = os.getenv('HF_TOKEN', 'your-key-if-not-using-env')"
   ]
  },
  {
   "cell_type": "code",
   "execution_count": 4,
   "id": "4dd3aad2-6f99-433c-8792-e461d2f06622",
   "metadata": {},
   "outputs": [
    {
     "name": "stderr",
     "output_type": "stream",
     "text": [
      "Note: Environment variable`HF_TOKEN` is set and is the current active token independently from the token you've just configured.\n"
     ]
    }
   ],
   "source": [
    "# Log in en HuggingFace\n",
    "\n",
    "hf_token = os.environ['HF_TOKEN']\n",
    "login(hf_token, add_to_git_credential=True)"
   ]
  },
  {
   "cell_type": "code",
   "execution_count": 5,
   "id": "b0a6fb86-74a4-403c-ab25-6db2d74e9d2b",
   "metadata": {},
   "outputs": [],
   "source": [
    "openai = OpenAI()"
   ]
  },
  {
   "cell_type": "code",
   "execution_count": 6,
   "id": "c830ed3e-24ee-4af6-a07b-a1bfdcd39278",
   "metadata": {},
   "outputs": [],
   "source": [
    "%matplotlib inline"
   ]
  },
  {
   "cell_type": "code",
   "execution_count": 7,
   "id": "5c9b05f4-c9eb-462c-8d86-de9140a2d985",
   "metadata": {},
   "outputs": [],
   "source": [
    "# ¡Evitemos tener que volver a curar todos nuestros datos! Carguemos los archivos pickle:\n",
    "\n",
    "with open('train.pkl', 'rb') as file:\n",
    "    train = pickle.load(file)\n",
    "\n",
    "with open('test.pkl', 'rb') as file:\n",
    "    test = pickle.load(file)"
   ]
  },
  {
   "cell_type": "code",
   "execution_count": 8,
   "id": "e8367135-f40e-43e1-8f3c-09e990ab1194",
   "metadata": {},
   "outputs": [],
   "source": [
    "# OpenAI recomienda realizar ajustes con poblaciones de 50 a 100 ejemplos\n",
    "# Pero como nuestros ejemplos son muy pequeños, sugiero que utilicemos 200 ejemplos (y 1 época)\n",
    "\n",
    "fine_tune_train = train[:200]\n",
    "fine_tune_validation = train[200:250]"
   ]
  },
  {
   "cell_type": "markdown",
   "id": "8be4a889-81c3-42b1-a2fc-034cdc7321a6",
   "metadata": {},
   "source": [
    "# Paso 1\n",
    "\n",
    "Preparar nuestros datos para el ajuste fino en formato JSONL (líneas JSON) y subirlos a OpenAI"
   ]
  },
  {
   "cell_type": "code",
   "execution_count": 9,
   "id": "8ae2fb3c-1cff-4ce3-911e-627c970edd7b",
   "metadata": {},
   "outputs": [],
   "source": [
    "# Primero, trabajemos en un buen mensaje para un modelo Frontier\n",
    "# Observe que estoy eliminando el \"al dólar más cercano\"\n",
    "# Cuando entrenemos nuestros propios modelos, necesitaremos hacer que el problema sea lo más fácil posible,\n",
    "# pero un modelo Frontier no necesita tal simplificación.\n",
    "\n",
    "def messages_for(item):\n",
    "    system_message = \"Estimas los precios de los artículos. Respondes solo con el precio, sin explicaciones.\"\n",
    "    user_prompt = item.test_prompt().replace(\" redondeado al dólar más cercano\",\"\").replace(\"\\n\\nPrice is $\",\"\")\n",
    "    return [\n",
    "        {\"role\": \"system\", \"content\": system_message},\n",
    "        {\"role\": \"user\", \"content\": user_prompt},\n",
    "        {\"role\": \"assistant\", \"content\": f\"El Precio es ${item.price:.2f}\"}\n",
    "    ]"
   ]
  },
  {
   "cell_type": "code",
   "execution_count": 10,
   "id": "1aa280f6-1227-426a-a2e2-1ce985feba1e",
   "metadata": {},
   "outputs": [
    {
     "data": {
      "text/plain": [
       "[{'role': 'system',\n",
       "  'content': 'Estimas los precios de los artículos. Respondes solo con el precio, sin explicaciones.'},\n",
       " {'role': 'user',\n",
       "  'content': '¿Cuánto cuesta esto?\\n\\nDelphi FG0166 Fuel Pump Module\\nDelphi brings 80 years of OE Heritage into each Delphi pump, ensuring quality and fitment for each Delphi part. Part is validated, tested and matched to the right vehicle application Delphi brings 80 years of OE Heritage into each Delphi assembly, ensuring quality and fitment for each Delphi part Always be sure to check and clean fuel tank to avoid unnecessary returns Rigorous OE-testing ensures the pump can withstand extreme temperatures Brand Delphi, Fit Type Vehicle Specific Fit, Dimensions LxWxH 19.7 x 7.7 x 5.1 inches, Weight 2.2 Pounds, Auto Part Position Unknown, Operation Mode Mechanical, Manufacturer Delphi, Model FUEL PUMP, Dimensions 19.7'},\n",
       " {'role': 'assistant', 'content': 'El Precio es $226.95'}]"
      ]
     },
     "execution_count": 10,
     "metadata": {},
     "output_type": "execute_result"
    }
   ],
   "source": [
    "messages_for(train[0])"
   ]
  },
  {
   "cell_type": "code",
   "execution_count": 11,
   "id": "c0e5b56c-8a0b-4d8e-a112-ce87efb4e152",
   "metadata": {},
   "outputs": [],
   "source": [
    "# Convierte los elementos en una lista de objetos json: una cadena \"jsonl\"\n",
    "# Cada fila representa un mensaje en el formato:\n",
    "# {\"messages\" : [{\"role\": \"system\", \"content\": \"You estimate prices...\n",
    "\n",
    "\n",
    "def make_jsonl(items):\n",
    "    result = \"\"\n",
    "    for item in items:\n",
    "        messages = messages_for(item)\n",
    "        messages_str = json.dumps(messages)\n",
    "        result += '{\"messages\": ' + messages_str +'}\\n'\n",
    "    return result.strip()"
   ]
  },
  {
   "cell_type": "code",
   "execution_count": 12,
   "id": "5e72de93-a6a6-4b35-855e-15786b97bf5f",
   "metadata": {},
   "outputs": [
    {
     "name": "stdout",
     "output_type": "stream",
     "text": [
      "{\"messages\": [{\"role\": \"system\", \"content\": \"Estimas los precios de los art\\u00edculos. Respondes solo con el precio, sin explicaciones.\"}, {\"role\": \"user\", \"content\": \"\\u00bfCu\\u00e1nto cuesta esto?\\n\\nDelphi FG0166 Fuel Pump Module\\nDelphi brings 80 years of OE Heritage into each Delphi pump, ensuring quality and fitment for each Delphi part. Part is validated, tested and matched to the right vehicle application Delphi brings 80 years of OE Heritage into each Delphi assembly, ensuring quality and fitment for each Delphi part Always be sure to check and clean fuel tank to avoid unnecessary returns Rigorous OE-testing ensures the pump can withstand extreme temperatures Brand Delphi, Fit Type Vehicle Specific Fit, Dimensions LxWxH 19.7 x 7.7 x 5.1 inches, Weight 2.2 Pounds, Auto Part Position Unknown, Operation Mode Mechanical, Manufacturer Delphi, Model FUEL PUMP, Dimensions 19.7\"}, {\"role\": \"assistant\", \"content\": \"El Precio es $226.95\"}]}\n",
      "{\"messages\": [{\"role\": \"system\", \"content\": \"Estimas los precios de los art\\u00edculos. Respondes solo con el precio, sin explicaciones.\"}, {\"role\": \"user\", \"content\": \"\\u00bfCu\\u00e1nto cuesta esto?\\n\\nPower Stop Rear Z36 Truck and Tow Brake Kit with Calipers\\nThe Power Stop Z36 Truck & Tow Performance brake kit provides the superior stopping power demanded by those who tow boats, haul loads, tackle mountains, lift trucks, and play in the harshest conditions. The brake rotors are drilled to keep temperatures down during extreme braking and slotted to sweep away any debris for constant pad contact. Combined with our Z36 Carbon-Fiber Ceramic performance friction formulation, you can confidently push your rig to the limit and look good doing it with red powder brake calipers. Components are engineered to handle the stress of towing, hauling, mountainous driving, and lifted trucks. Dust-free braking performance. Z36 Carbon-Fiber Ceramic formula provides the extreme braking performance demanded by your truck or 4x\"}, {\"role\": \"assistant\", \"content\": \"El Precio es $506.98\"}]}\n",
      "{\"messages\": [{\"role\": \"system\", \"content\": \"Estimas los precios de los art\\u00edculos. Respondes solo con el precio, sin explicaciones.\"}, {\"role\": \"user\", \"content\": \"\\u00bfCu\\u00e1nto cuesta esto?\\n\\nABBA 36 Gas Cooktop with 5 Sealed Burners - Tempered Glass Surface with SABAF Burners, Natural Gas Stove for Countertop, Home Improvement Essentials, Easy to Clean, 36 x 4.1 x 20.5\\ncooktop Gas powered with 4 fast burners and 1 ultra-fast center burner Tempered glass surface with removable grid for easy cleaning Lightweight for easy installation. Installation Manual Included Counter cutout Dimensions 19 3/8 x 34 1/2 (see diagram) Insured shipping for your satisfaction and peace of mind Brand Name ABBA EST. 1956, Weight 30 pounds, Dimensions 20.5\\\\ D x 36\\\\ W x 4.1\\\\ H, Installation Type Count\"}, {\"role\": \"assistant\", \"content\": \"El Precio es $405.00\"}]}\n"
     ]
    }
   ],
   "source": [
    "print(make_jsonl(train[:3]))"
   ]
  },
  {
   "cell_type": "code",
   "execution_count": 13,
   "id": "7734bff0-95c4-4e67-a87e-7e2254e2c67d",
   "metadata": {},
   "outputs": [],
   "source": [
    "# Convierte los elementos en jsonl y escríbelos en un archivo\n",
    "\n",
    "def write_jsonl(items, filename):\n",
    "    with open(filename, \"w\") as f:\n",
    "        jsonl = make_jsonl(items)\n",
    "        f.write(jsonl)"
   ]
  },
  {
   "cell_type": "code",
   "execution_count": 14,
   "id": "393d3ad8-999a-4f99-8c04-339d9166d604",
   "metadata": {},
   "outputs": [],
   "source": [
    "write_jsonl(fine_tune_train, \"fine_tune_train.jsonl\")"
   ]
  },
  {
   "cell_type": "code",
   "execution_count": 15,
   "id": "8e23927f-d73e-4668-ac20-abe6f14a56cb",
   "metadata": {},
   "outputs": [],
   "source": [
    "write_jsonl(fine_tune_validation, \"fine_tune_validation.jsonl\")"
   ]
  },
  {
   "cell_type": "code",
   "execution_count": 16,
   "id": "d59ad8d2-c61a-448e-b7ed-232f1606970f",
   "metadata": {},
   "outputs": [],
   "source": [
    "with open(\"fine_tune_train.jsonl\", \"rb\") as f:\n",
    "    train_file = openai.files.create(file=f, purpose=\"fine-tune\")"
   ]
  },
  {
   "cell_type": "code",
   "execution_count": 17,
   "id": "083fefba-fd54-47ce-9ff3-aabbc200846f",
   "metadata": {},
   "outputs": [
    {
     "data": {
      "text/plain": [
       "FileObject(id='file-GPAaJXhXMCkRdSDsWFx74H', bytes=194543, created_at=1733931897, filename='fine_tune_train.jsonl', object='file', purpose='fine-tune', status='processed', status_details=None)"
      ]
     },
     "execution_count": 17,
     "metadata": {},
     "output_type": "execute_result"
    }
   ],
   "source": [
    "train_file"
   ]
  },
  {
   "cell_type": "code",
   "execution_count": 18,
   "id": "97df3360-0760-4422-a556-5f26d23de6dc",
   "metadata": {},
   "outputs": [],
   "source": [
    "with open(\"fine_tune_validation.jsonl\", \"rb\") as f:\n",
    "    validation_file = openai.files.create(file=f, purpose=\"fine-tune\")"
   ]
  },
  {
   "cell_type": "code",
   "execution_count": 19,
   "id": "a1abb8f3-9e52-4061-970c-fcf399d8ffa3",
   "metadata": {},
   "outputs": [
    {
     "data": {
      "text/plain": [
       "FileObject(id='file-9d3RFyqVUGFK2JJRmUkLPN', bytes=48536, created_at=1733931922, filename='fine_tune_validation.jsonl', object='file', purpose='fine-tune', status='processed', status_details=None)"
      ]
     },
     "execution_count": 19,
     "metadata": {},
     "output_type": "execute_result"
    }
   ],
   "source": [
    "validation_file"
   ]
  },
  {
   "cell_type": "markdown",
   "id": "466052b9-9fb9-48f6-8cf9-c74e6ddc1394",
   "metadata": {},
   "source": [
    "# Paso 2\n",
    "\n",
    "Me encanta Weights and Biases, una hermosa plataforma gratuita para monitorear las tareas de entrenamiento.\n",
    "Weights and Biases está integrado con OpenAI para realizar ajustes.\n",
    "\n",
    "Primero, crea tu cuenta gratuita de Weights & Biases en:\n",
    "\n",
    "https://wandb.ai\n",
    "\n",
    "Desde el menú Avatar >> Configuración, cerca de la parte inferior, puedes crear una clave API.\n",
    "\n",
    "Luego, visita el panel de control de OpenAI en:\n",
    "\n",
    "https://platform.openai.com/account/organization\n",
    "\n",
    "En la sección de integraciones, puedes agregar tu clave de Weights & Biases.\n",
    "\n",
    "## ¡Y ahora es momento de realizar ajustes!"
   ]
  },
  {
   "cell_type": "code",
   "execution_count": 20,
   "id": "c7add1a7-a746-4d6e-a5f8-e25629b8b527",
   "metadata": {},
   "outputs": [],
   "source": [
    "wandb_integration = {\"type\": \"wandb\", \"wandb\": {\"project\": \"gpt-pricer\"}}"
   ]
  },
  {
   "cell_type": "code",
   "execution_count": 21,
   "id": "49801e69-9277-4deb-9f33-99efb6b45ac2",
   "metadata": {},
   "outputs": [
    {
     "data": {
      "text/plain": [
       "'file-GPAaJXhXMCkRdSDsWFx74H'"
      ]
     },
     "execution_count": 21,
     "metadata": {},
     "output_type": "execute_result"
    }
   ],
   "source": [
    "train_file.id"
   ]
  },
  {
   "cell_type": "code",
   "execution_count": 22,
   "id": "45421b86-5531-4e42-ab19-d6abbb8f4c13",
   "metadata": {},
   "outputs": [
    {
     "data": {
      "text/plain": [
       "FineTuningJob(id='ftjob-p4rQmPhZZla0Ql7HkR6Tr49P', created_at=1733933434, error=Error(code=None, message=None, param=None), fine_tuned_model=None, finished_at=None, hyperparameters=Hyperparameters(n_epochs=1, batch_size='auto', learning_rate_multiplier='auto'), model='gpt-4o-mini-2024-07-18', object='fine_tuning.job', organization_id='org-pEVhVaVVGq4jT3s3eYJFbeAM', result_files=[], seed=42, status='validating_files', trained_tokens=None, training_file='file-GPAaJXhXMCkRdSDsWFx74H', validation_file='file-9d3RFyqVUGFK2JJRmUkLPN', estimated_finish=None, integrations=[FineTuningJobWandbIntegrationObject(type='wandb', wandb=FineTuningJobWandbIntegration(project='gpt-pricer', entity=None, name=None, tags=None, run_id='ftjob-p4rQmPhZZla0Ql7HkR6Tr49P'))], user_provided_suffix='pricer')"
      ]
     },
     "execution_count": 22,
     "metadata": {},
     "output_type": "execute_result"
    }
   ],
   "source": [
    "openai.fine_tuning.jobs.create(\n",
    "    training_file=train_file.id,\n",
    "    validation_file=validation_file.id,\n",
    "    model=\"gpt-4o-mini-2024-07-18\",\n",
    "    seed=42,\n",
    "    hyperparameters={\"n_epochs\": 1},\n",
    "    integrations = [wandb_integration],\n",
    "    suffix=\"pricer\"\n",
    ")"
   ]
  },
  {
   "cell_type": "code",
   "execution_count": 23,
   "id": "aeb9de2e-542c-4e83-81c7-b6745133e48b",
   "metadata": {},
   "outputs": [
    {
     "data": {
      "text/plain": [
       "SyncCursorPage[FineTuningJob](data=[FineTuningJob(id='ftjob-p4rQmPhZZla0Ql7HkR6Tr49P', created_at=1733933434, error=Error(code=None, message=None, param=None), fine_tuned_model=None, finished_at=None, hyperparameters=Hyperparameters(n_epochs=1, batch_size=1, learning_rate_multiplier=1.8), model='gpt-4o-mini-2024-07-18', object='fine_tuning.job', organization_id='org-pEVhVaVVGq4jT3s3eYJFbeAM', result_files=[], seed=42, status='validating_files', trained_tokens=None, training_file='file-GPAaJXhXMCkRdSDsWFx74H', validation_file='file-9d3RFyqVUGFK2JJRmUkLPN', estimated_finish=None, integrations=[FineTuningJobWandbIntegrationObject(type='wandb', wandb=FineTuningJobWandbIntegration(project='gpt-pricer', entity=None, name=None, tags=None, run_id='ftjob-p4rQmPhZZla0Ql7HkR6Tr49P'))], user_provided_suffix='pricer')], object='list', has_more=False)"
      ]
     },
     "execution_count": 23,
     "metadata": {},
     "output_type": "execute_result"
    }
   ],
   "source": [
    "openai.fine_tuning.jobs.list(limit=1)"
   ]
  },
  {
   "cell_type": "code",
   "execution_count": 24,
   "id": "40d24873-8ff5-413f-b0d4-8f77c28f18e1",
   "metadata": {},
   "outputs": [],
   "source": [
    "job_id = openai.fine_tuning.jobs.list(limit=1).data[0].id"
   ]
  },
  {
   "cell_type": "code",
   "execution_count": 25,
   "id": "a32aef35-4b38-436c-ad00-d082f758efa7",
   "metadata": {},
   "outputs": [
    {
     "data": {
      "text/plain": [
       "'ftjob-p4rQmPhZZla0Ql7HkR6Tr49P'"
      ]
     },
     "execution_count": 25,
     "metadata": {},
     "output_type": "execute_result"
    }
   ],
   "source": [
    "job_id"
   ]
  },
  {
   "cell_type": "code",
   "execution_count": 26,
   "id": "a7e01247-c133-48e1-93d3-c79c399e6178",
   "metadata": {},
   "outputs": [
    {
     "data": {
      "text/plain": [
       "FineTuningJob(id='ftjob-p4rQmPhZZla0Ql7HkR6Tr49P', created_at=1733933434, error=Error(code=None, message=None, param=None), fine_tuned_model=None, finished_at=None, hyperparameters=Hyperparameters(n_epochs=1, batch_size=1, learning_rate_multiplier=1.8), model='gpt-4o-mini-2024-07-18', object='fine_tuning.job', organization_id='org-pEVhVaVVGq4jT3s3eYJFbeAM', result_files=[], seed=42, status='running', trained_tokens=None, training_file='file-GPAaJXhXMCkRdSDsWFx74H', validation_file='file-9d3RFyqVUGFK2JJRmUkLPN', estimated_finish=None, integrations=[FineTuningJobWandbIntegrationObject(type='wandb', wandb=FineTuningJobWandbIntegration(project='gpt-pricer', entity=None, name=None, tags=None, run_id='ftjob-p4rQmPhZZla0Ql7HkR6Tr49P'))], user_provided_suffix='pricer')"
      ]
     },
     "execution_count": 26,
     "metadata": {},
     "output_type": "execute_result"
    }
   ],
   "source": [
    "openai.fine_tuning.jobs.retrieve(job_id)"
   ]
  },
  {
   "cell_type": "code",
   "execution_count": 31,
   "id": "0f5150e1-b8de-485f-8eba-cf1e5b00c117",
   "metadata": {},
   "outputs": [
    {
     "data": {
      "text/plain": [
       "[FineTuningJobEvent(id='ftevent-SUZcrMwADLLQQEMUGgozLRI6', created_at=1733934036, level='info', message='The job has successfully completed', object='fine_tuning.job.event', data={}, type='message'),\n",
       " FineTuningJobEvent(id='ftevent-sNAJrVUA2Q4WS8c7Wde8xdiB', created_at=1733934032, level='info', message='New fine-tuned model created', object='fine_tuning.job.event', data={}, type='message'),\n",
       " FineTuningJobEvent(id='ftevent-WMjZxPqn7C3KjWcZkZhH8VgO', created_at=1733933956, level='info', message='Step 200/200: training loss=1.00, validation loss=1.01, full validation loss=1.00', object='fine_tuning.job.event', data={'step': 200, 'train_loss': 0.9960129857063293, 'valid_loss': 1.0093616909450955, 'total_steps': 200, 'full_valid_loss': 0.9953101560804579, 'train_mean_token_accuracy': 0.7777777910232544, 'valid_mean_token_accuracy': 0.7777777777777778, 'full_valid_mean_token_accuracy': 0.8177777777777778}, type='metrics'),\n",
       " FineTuningJobEvent(id='ftevent-RaWX2UFNT2OanMxAlZBiQMJY', created_at=1733933947, level='info', message='Step 199/200: training loss=1.21', object='fine_tuning.job.event', data={'step': 199, 'train_loss': 1.2128726243972778, 'total_steps': 200, 'train_mean_token_accuracy': 0.7777777910232544}, type='metrics'),\n",
       " FineTuningJobEvent(id='ftevent-uhZpgEqozzUOjZRxY7b4Dxad', created_at=1733933947, level='info', message='Step 198/200: training loss=0.45', object='fine_tuning.job.event', data={'step': 198, 'train_loss': 0.4496243894100189, 'total_steps': 200, 'train_mean_token_accuracy': 0.8888888955116272}, type='metrics'),\n",
       " FineTuningJobEvent(id='ftevent-4TZY39094gH6ECWFbEQK1CFZ', created_at=1733933947, level='info', message='Step 197/200: training loss=1.10', object='fine_tuning.job.event', data={'step': 197, 'train_loss': 1.1002496480941772, 'total_steps': 200, 'train_mean_token_accuracy': 0.7777777910232544}, type='metrics'),\n",
       " FineTuningJobEvent(id='ftevent-P6GD9Wi4BIcOOwFaNqzAROgE', created_at=1733933946, level='info', message='Step 196/200: training loss=0.77', object='fine_tuning.job.event', data={'step': 196, 'train_loss': 0.7691603899002075, 'total_steps': 200, 'train_mean_token_accuracy': 0.8888888955116272}, type='metrics'),\n",
       " FineTuningJobEvent(id='ftevent-VGv9wETQqc8oEdtjZOZM95LR', created_at=1733933943, level='info', message='Step 195/200: training loss=1.08', object='fine_tuning.job.event', data={'step': 195, 'train_loss': 1.0771393775939941, 'total_steps': 200, 'train_mean_token_accuracy': 0.7777777910232544}, type='metrics'),\n",
       " FineTuningJobEvent(id='ftevent-09vc8l5BoXeSdzMwmeg8YCX1', created_at=1733933943, level='info', message='Step 194/200: training loss=0.70', object='fine_tuning.job.event', data={'step': 194, 'train_loss': 0.7002463936805725, 'total_steps': 200, 'train_mean_token_accuracy': 0.8888888955116272}, type='metrics'),\n",
       " FineTuningJobEvent(id='ftevent-K4ItmNBGqNeSVcCEiIdtLewI', created_at=1733933943, level='info', message='Step 193/200: training loss=1.02', object='fine_tuning.job.event', data={'step': 193, 'train_loss': 1.0180184841156006, 'total_steps': 200, 'train_mean_token_accuracy': 0.7777777910232544}, type='metrics')]"
      ]
     },
     "execution_count": 31,
     "metadata": {},
     "output_type": "execute_result"
    }
   ],
   "source": [
    "openai.fine_tuning.jobs.list_events(fine_tuning_job_id=job_id, limit=10).data"
   ]
  },
  {
   "cell_type": "markdown",
   "id": "066fef03-8338-4526-9df3-89b649ad4f0a",
   "metadata": {},
   "source": [
    "# Step 3\n",
    "\n",
    "Test our fine tuned model"
   ]
  },
  {
   "cell_type": "code",
   "execution_count": 32,
   "id": "fa4488cb-3c17-4eda-abd1-53c1c68a491b",
   "metadata": {},
   "outputs": [],
   "source": [
    "fine_tuned_model_name = openai.fine_tuning.jobs.retrieve(job_id).fine_tuned_model"
   ]
  },
  {
   "cell_type": "code",
   "execution_count": 33,
   "id": "e9370937-5a6f-4724-8265-b208663b4450",
   "metadata": {},
   "outputs": [
    {
     "data": {
      "text/plain": [
       "'ft:gpt-4o-mini-2024-07-18:frogames-formaci-n:pricer:AdJjsGIf'"
      ]
     },
     "execution_count": 33,
     "metadata": {},
     "output_type": "execute_result"
    }
   ],
   "source": [
    "fine_tuned_model_name"
   ]
  },
  {
   "cell_type": "code",
   "execution_count": 34,
   "id": "66ea68e8-ab1b-4f0d-aba4-a59574d8f85e",
   "metadata": {},
   "outputs": [],
   "source": [
    "# The prompt\n",
    "\n",
    "def messages_for(item):\n",
    "    system_message = \"Estimas los precios de los artículos. Respondes solo con el precio, sin explicaciones.\"\n",
    "    user_prompt = item.test_prompt().replace(\" redondeado al dólar más cercano\",\"\").replace(\"\\n\\nPrice is $\",\"\")\n",
    "    return [\n",
    "        {\"role\": \"system\", \"content\": system_message},\n",
    "        {\"role\": \"user\", \"content\": user_prompt},\n",
    "        {\"role\": \"assistant\", \"content\": \"El Precio es $\"}\n",
    "    ]"
   ]
  },
  {
   "cell_type": "code",
   "execution_count": 35,
   "id": "4ff92d61-0d27-4b0d-8b32-c9891016509b",
   "metadata": {},
   "outputs": [
    {
     "data": {
      "text/plain": [
       "[{'role': 'system',\n",
       "  'content': 'Estimas los precios de los artículos. Respondes solo con el precio, sin explicaciones.'},\n",
       " {'role': 'user',\n",
       "  'content': \"¿Cuánto cuesta esto?\\n\\nOEM AC Compressor w/A/C Repair Kit For Ford F150 F-150 V8 & Lincoln Mark LT 2007 2008 - BuyAutoParts NEW\\nAs one of the world's largest automotive parts suppliers, our parts are trusted every day by mechanics and vehicle owners worldwide. This A/C Compressor and Components Kit is manufactured and tested to the strictest OE standards for unparalleled performance. Built for trouble-free ownership and 100% visually inspected and quality tested, this A/C Compressor and Components Kit is backed by our 100% satisfaction guarantee. Guaranteed Exact Fit for easy installation 100% BRAND NEW, premium ISO/TS 16949 quality - tested to meet or exceed OEM specifications Engineered for superior durability, backed by industry-leading unlimited-mileage warranty Included in this K\"},\n",
       " {'role': 'assistant', 'content': 'El Precio es $'}]"
      ]
     },
     "execution_count": 35,
     "metadata": {},
     "output_type": "execute_result"
    }
   ],
   "source": [
    "# Try this out\n",
    "\n",
    "messages_for(test[0])"
   ]
  },
  {
   "cell_type": "code",
   "execution_count": 36,
   "id": "b1af1888-f94a-4106-b0d8-8a70939eec4e",
   "metadata": {},
   "outputs": [],
   "source": [
    "# A utility function to extract the price from a string\n",
    "\n",
    "def get_price(s):\n",
    "    s = s.replace('$','').replace(',','')\n",
    "    match = re.search(r\"[-+]?\\d*\\.\\d+|\\d+\", s)\n",
    "    return float(match.group()) if match else 0"
   ]
  },
  {
   "cell_type": "code",
   "execution_count": 37,
   "id": "f138c5b7-bcc1-4085-aced-68dad1bf36b4",
   "metadata": {},
   "outputs": [
    {
     "data": {
      "text/plain": [
       "99.99"
      ]
     },
     "execution_count": 37,
     "metadata": {},
     "output_type": "execute_result"
    }
   ],
   "source": [
    "get_price(\"El precio es aproximadamente $99.99 ya que blah blah\")"
   ]
  },
  {
   "cell_type": "code",
   "execution_count": 38,
   "id": "501a2a7a-69c8-451b-bbc0-398bcb9e1612",
   "metadata": {},
   "outputs": [],
   "source": [
    "# The function for gpt-4o-mini\n",
    "\n",
    "def gpt_fine_tuned(item):\n",
    "    response = openai.chat.completions.create(\n",
    "        model=fine_tuned_model_name, \n",
    "        messages=messages_for(item),\n",
    "        seed=42,\n",
    "        max_tokens=7\n",
    "    )\n",
    "    reply = response.choices[0].message.content\n",
    "    return get_price(reply)"
   ]
  },
  {
   "cell_type": "code",
   "execution_count": 39,
   "id": "843d88b4-364a-431b-b48b-8a7c1f68b786",
   "metadata": {},
   "outputs": [
    {
     "name": "stdout",
     "output_type": "stream",
     "text": [
      "374.41\n",
      "393.69\n"
     ]
    }
   ],
   "source": [
    "print(test[0].price)\n",
    "print(gpt_fine_tuned(test[0]))"
   ]
  },
  {
   "cell_type": "code",
   "execution_count": 40,
   "id": "edd7ada0-15b7-42ec-bbbb-1250e0eb9af1",
   "metadata": {},
   "outputs": [
    {
     "name": "stdout",
     "output_type": "stream",
     "text": [
      "¿Cuánto cuesta esto redondeado al dólar más cercano?\n",
      "\n",
      "OEM AC Compressor w/A/C Repair Kit For Ford F150 F-150 V8 & Lincoln Mark LT 2007 2008 - BuyAutoParts NEW\n",
      "As one of the world's largest automotive parts suppliers, our parts are trusted every day by mechanics and vehicle owners worldwide. This A/C Compressor and Components Kit is manufactured and tested to the strictest OE standards for unparalleled performance. Built for trouble-free ownership and 100% visually inspected and quality tested, this A/C Compressor and Components Kit is backed by our 100% satisfaction guarantee. Guaranteed Exact Fit for easy installation 100% BRAND NEW, premium ISO/TS 16949 quality - tested to meet or exceed OEM specifications Engineered for superior durability, backed by industry-leading unlimited-mileage warranty Included in this K\n",
      "\n",
      "Price is $\n"
     ]
    }
   ],
   "source": [
    "print(test[0].test_prompt())"
   ]
  },
  {
   "cell_type": "code",
   "execution_count": 41,
   "id": "36bdd2c9-1859-4f99-a09f-3ec83b845b30",
   "metadata": {},
   "outputs": [
    {
     "name": "stdout",
     "output_type": "stream",
     "text": [
      "\u001b[92m1: Guess: $393.69 Truth: $374.41 Error: $19.28 SLE: 0.00 Item: OEM AC Compressor w/A/C Repair Kit For F...\u001b[0m\n",
      "\u001b[93m2: Guess: $143.65 Truth: $225.11 Error: $81.46 SLE: 0.20 Item: Motorcraft YB3125 Fan Clutch\u001b[0m\n",
      "\u001b[92m3: Guess: $58.95 Truth: $61.68 Error: $2.73 SLE: 0.00 Item: Dorman 603-159 Front Washer Fluid Reserv...\u001b[0m\n",
      "\u001b[93m4: Guess: $799.95 Truth: $599.99 Error: $199.96 SLE: 0.08 Item: HP Premium 17.3-inch HD Plus Touchscreen...\u001b[0m\n",
      "\u001b[92m5: Guess: $39.95 Truth: $16.99 Error: $22.96 SLE: 0.68 Item: 5-Position Super Switch Pickup Selector ...\u001b[0m\n",
      "\u001b[92m6: Guess: $22.22 Truth: $31.99 Error: $9.77 SLE: 0.12 Item: Horror Bookmarks, Resin Horror Bookmarks...\u001b[0m\n",
      "\u001b[93m7: Guess: $161.18 Truth: $101.79 Error: $59.39 SLE: 0.21 Item: SK6241 - Stinger 4 Gauge 6000 Series Pow...\u001b[0m\n",
      "\u001b[93m8: Guess: $199.00 Truth: $289.00 Error: $90.00 SLE: 0.14 Item: Godox ML60Bi LED Light Kit, Handheld LED...\u001b[0m\n",
      "\u001b[92m9: Guess: $519.95 Truth: $635.86 Error: $115.91 SLE: 0.04 Item: Randall RG75DG3PLUS G3 Plus 100-Watt Com...\u001b[0m\n",
      "\u001b[93m10: Guess: $139.99 Truth: $65.99 Error: $74.00 SLE: 0.55 Item: HOLDWILL 6 Pack LED Shop Light, 4FT 24W ...\u001b[0m\n",
      "\u001b[91m11: Guess: $100.69 Truth: $254.21 Error: $153.52 SLE: 0.85 Item: Viking Horns V103C/1005ATK 3 Gallon Air ...\u001b[0m\n",
      "\u001b[91m12: Guess: $193.95 Truth: $412.99 Error: $219.04 SLE: 0.57 Item: CURT 70110 Custom Tow Bar Base Plate Bra...\u001b[0m\n",
      "\u001b[91m13: Guess: $69.99 Truth: $205.50 Error: $135.51 SLE: 1.14 Item: 10-Pack Solar HAMMERED BRONZE Finish Pos...\u001b[0m\n",
      "\u001b[92m14: Guess: $289.99 Truth: $248.23 Error: $41.76 SLE: 0.02 Item: COSTWAY Electric Tumble Dryer, Sliver\u001b[0m\n",
      "\u001b[93m15: Guess: $289.99 Truth: $399.00 Error: $109.01 SLE: 0.10 Item: FREE SIGNAL TV Transit 32\" 12 Volt DC Po...\u001b[0m\n",
      "\u001b[93m16: Guess: $285.00 Truth: $373.94 Error: $88.94 SLE: 0.07 Item: Bilstein 5100 Monotube Gas Shock Set com...\u001b[0m\n",
      "\u001b[93m17: Guess: $164.50 Truth: $92.89 Error: $71.61 SLE: 0.32 Item: Sangean K-200 Multi-Function Upright AM/...\u001b[0m\n",
      "\u001b[91m18: Guess: $139.73 Truth: $51.99 Error: $87.74 SLE: 0.95 Item: Charles Leonard Magnetic Lapboard Class ...\u001b[0m\n",
      "\u001b[91m19: Guess: $289.99 Truth: $179.00 Error: $110.99 SLE: 0.23 Item: Gigabyte AMD Radeon HD 7870 2 GB GDDR5 D...\u001b[0m\n",
      "\u001b[92m20: Guess: $22.99 Truth: $19.42 Error: $3.57 SLE: 0.03 Item: 3dRose LLC 8 x 8 x 0.25 Inches Bull Terr...\u001b[0m\n",
      "\u001b[91m21: Guess: $199.00 Truth: $539.95 Error: $340.95 SLE: 0.99 Item: ROKINON 85mm F1.4 Auto Focus Full Frame ...\u001b[0m\n",
      "\u001b[92m22: Guess: $164.99 Truth: $147.67 Error: $17.32 SLE: 0.01 Item: AUTOSAVER88 Headlight Assembly Compatibl...\u001b[0m\n",
      "\u001b[92m23: Guess: $50.00 Truth: $24.99 Error: $25.01 SLE: 0.45 Item: ASI NAUTICAL 2.5 Inches Opera Glasses Bi...\u001b[0m\n",
      "\u001b[91m24: Guess: $69.00 Truth: $149.00 Error: $80.00 SLE: 0.58 Item: Behringer TUBE OVERDRIVE TO100 Authentic...\u001b[0m\n",
      "\u001b[92m25: Guess: $10.99 Truth: $16.99 Error: $6.00 SLE: 0.16 Item: Fun Express Insect Finger Puppets - 24 f...\u001b[0m\n",
      "\u001b[92m26: Guess: $19.99 Truth: $7.99 Error: $12.00 SLE: 0.72 Item: WAFJAMF Roller Stamp Identity Theft Stam...\u001b[0m\n",
      "\u001b[92m27: Guess: $193.95 Truth: $199.99 Error: $6.04 SLE: 0.00 Item: Capulina Tiffany Floor Lamp 2-Light 16\" ...\u001b[0m\n",
      "\u001b[91m28: Guess: $139.99 Truth: $251.45 Error: $111.46 SLE: 0.34 Item: Apple Watch Series 6 (GPS, 44mm) - Space...\u001b[0m\n",
      "\u001b[93m29: Guess: $154.65 Truth: $231.62 Error: $76.97 SLE: 0.16 Item: ICON 01725 Tandem Axle Fender Skirt FS17...\u001b[0m\n",
      "\u001b[91m30: Guess: $799.95 Truth: $135.00 Error: $664.95 SLE: 3.14 Item: SanDisk 128GB Ultra (10 Pack) MicroSD Cl...\u001b[0m\n",
      "\u001b[91m31: Guess: $193.95 Truth: $356.62 Error: $162.67 SLE: 0.37 Item: Velvac 2020,L,C/Hr,W,E2003,102\",Bk - 715...\u001b[0m\n",
      "\u001b[91m32: Guess: $139.99 Truth: $257.99 Error: $118.00 SLE: 0.37 Item: TCMT Passenger Backrest Sissy Bar & Lugg...\u001b[0m\n",
      "\u001b[92m33: Guess: $22.69 Truth: $27.99 Error: $5.30 SLE: 0.04 Item: Alnicov 63.5MM Brass Tremolo Block，Tremo...\u001b[0m\n",
      "\u001b[92m34: Guess: $139.73 Truth: $171.20 Error: $31.47 SLE: 0.04 Item: Subaru Forester Outback Legacy OEM Engin...\u001b[0m\n",
      "\u001b[93m35: Guess: $279.95 Truth: $225.00 Error: $54.95 SLE: 0.05 Item: Richmond Auto Upholstery - 2012 Dodge Ra...\u001b[0m\n",
      "\u001b[91m36: Guess: $193.95 Truth: $105.00 Error: $88.95 SLE: 0.37 Item: AP-39 Automotive Paint Primer Grey 2K Ur...\u001b[0m\n",
      "\u001b[91m37: Guess: $799.00 Truth: $299.99 Error: $499.01 SLE: 0.96 Item: Road Top Wireless Carplay Retrofit Kit D...\u001b[0m\n",
      "\u001b[91m38: Guess: $788.95 Truth: $535.09 Error: $253.86 SLE: 0.15 Item: Gibson Performance Exhaust 5658 Aluminiz...\u001b[0m\n",
      "\u001b[92m39: Guess: $22.00 Truth: $12.33 Error: $9.67 SLE: 0.30 Item: Bella Tunno Happy Links - Baby Montessor...\u001b[0m\n",
      "\u001b[91m40: Guess: $199.99 Truth: $84.99 Error: $115.00 SLE: 0.72 Item: CANMORE H300 Handheld GPS Golf Device, S...\u001b[0m\n",
      "\u001b[92m41: Guess: $19.99 Truth: $15.99 Error: $4.00 SLE: 0.04 Item: DCPOWER AC Adapter Compatible Replacemen...\u001b[0m\n",
      "\u001b[92m42: Guess: $69.99 Truth: $62.44 Error: $7.55 SLE: 0.01 Item: Sharp, VX2128V, Commercial Desktop Calcu...\u001b[0m\n",
      "\u001b[91m43: Guess: $179.99 Truth: $82.99 Error: $97.00 SLE: 0.59 Item: Melissa & Doug Lifelike Plush Stork Gian...\u001b[0m\n",
      "\u001b[91m44: Guess: $100.00 Truth: $599.95 Error: $499.95 SLE: 3.18 Item: Sony SSCS8 2-Way 3-Driver Center Channel...\u001b[0m\n",
      "\u001b[92m45: Guess: $199.00 Truth: $194.99 Error: $4.01 SLE: 0.00 Item: ASUS Chromebook CX1, 14\" Full HD NanoEdg...\u001b[0m\n",
      "\u001b[91m46: Guess: $139.99 Truth: $344.95 Error: $204.96 SLE: 0.81 Item: FiiO X7 32GB Hi-Res Lossless Music Playe...\u001b[0m\n",
      "\u001b[91m47: Guess: $139.99 Truth: $37.99 Error: $102.00 SLE: 1.65 Item: TORRO Leather Case Compatible with iPhon...\u001b[0m\n",
      "\u001b[91m48: Guess: $393.69 Truth: $224.35 Error: $169.34 SLE: 0.31 Item: Universal Air Conditioner KT 1031 A/C Co...\u001b[0m\n",
      "\u001b[91m49: Guess: $317.50 Truth: $814.00 Error: $496.50 SLE: 0.88 Item: Street Series Stainless Performance Cat-...\u001b[0m\n",
      "\u001b[92m50: Guess: $500.00 Truth: $439.88 Error: $60.12 SLE: 0.02 Item: Lenovo IdeaPad 3 14-inch Laptop, 14.0-in...\u001b[0m\n",
      "\u001b[92m51: Guess: $289.00 Truth: $341.43 Error: $52.43 SLE: 0.03 Item: Access Bed Covers TonnoSport 22050219 - ...\u001b[0m\n",
      "\u001b[92m52: Guess: $69.95 Truth: $46.78 Error: $23.17 SLE: 0.16 Item: G.I. JOE Hasbro 3 3/4\" Wave 5 Action Fig...\u001b[0m\n",
      "\u001b[92m53: Guess: $164.50 Truth: $171.44 Error: $6.94 SLE: 0.00 Item: T&S Brass B-0232-BST Double Pantry Fauce...\u001b[0m\n",
      "\u001b[91m54: Guess: $193.95 Truth: $458.00 Error: $264.05 SLE: 0.73 Item: ZTUOAUMA Fuel Injection Pump 3090942 309...\u001b[0m\n",
      "\u001b[92m55: Guess: $127.99 Truth: $130.75 Error: $2.76 SLE: 0.00 Item: 2AP18AA#ABA Hp Prime Graphing Calculator...\u001b[0m\n",
      "\u001b[93m56: Guess: $22.50 Truth: $83.81 Error: $61.31 SLE: 1.65 Item: Lowrance 000-0119-83 Nmea 2000 25' Exten...\u001b[0m\n",
      "\u001b[91m57: Guess: $193.95 Truth: $386.39 Error: $192.44 SLE: 0.47 Item: Jeep Genuine Accessories 82213051 Hood L...\u001b[0m\n",
      "\u001b[91m58: Guess: $799.00 Truth: $169.00 Error: $630.00 SLE: 2.40 Item: GODOX CB-06 Hard Carrying Case with Whee...\u001b[0m\n",
      "\u001b[92m59: Guess: $31.95 Truth: $17.95 Error: $14.00 SLE: 0.31 Item: Au-Tomotive Gold, INC. Ford Black Valet ...\u001b[0m\n",
      "\u001b[91m60: Guess: $139.99 Truth: $269.00 Error: $129.01 SLE: 0.42 Item: Snailfly Black Roof Rack Rail + Cross Ba...\u001b[0m\n",
      "\u001b[93m61: Guess: $31.95 Truth: $77.77 Error: $45.82 SLE: 0.76 Item: KING SHA Anti Glare LED Track Lighting H...\u001b[0m\n",
      "\u001b[93m62: Guess: $164.50 Truth: $88.99 Error: $75.51 SLE: 0.37 Item: APS Compatible with Chevy Silverado 1500...\u001b[0m\n",
      "\u001b[91m63: Guess: $193.95 Truth: $364.41 Error: $170.46 SLE: 0.39 Item: Wilwood Engineering 14011291R Brake Cali...\u001b[0m\n",
      "\u001b[92m64: Guess: $161.18 Truth: $127.03 Error: $34.15 SLE: 0.06 Item: ACDelco Gold 336-1925A Starter, Remanufa...\u001b[0m\n",
      "\u001b[93m65: Guess: $557.30 Truth: $778.95 Error: $221.65 SLE: 0.11 Item: UWS EC10783 69-Inch Matte Black Heavy-Wa...\u001b[0m\n",
      "\u001b[93m66: Guess: $139.99 Truth: $206.66 Error: $66.67 SLE: 0.15 Item: Dell Latitude E5440 14in Business Laptop...\u001b[0m\n",
      "\u001b[92m67: Guess: $39.99 Truth: $35.94 Error: $4.05 SLE: 0.01 Item: (Plug and Play) Spare Tire Brake Light W...\u001b[0m\n",
      "\u001b[92m68: Guess: $164.50 Truth: $149.00 Error: $15.50 SLE: 0.01 Item: The Ultimate Roadside Rescue Assistant\u001b[0m\n",
      "\u001b[92m69: Guess: $289.99 Truth: $251.98 Error: $38.01 SLE: 0.02 Item: Brand New 18\" x 8.5\" Replacement Wheel f...\u001b[0m\n",
      "\u001b[92m70: Guess: $127.99 Truth: $160.00 Error: $32.01 SLE: 0.05 Item: Headlight Headlamp LH Left & RH Right Pa...\u001b[0m\n",
      "\u001b[92m71: Guess: $65.69 Truth: $39.99 Error: $25.70 SLE: 0.24 Item: Lilo And Stitch Deluxe Oversize Print La...\u001b[0m\n",
      "\u001b[92m72: Guess: $289.99 Truth: $362.41 Error: $72.42 SLE: 0.05 Item: AC Compressor & A/C Clutch For Hyundai A...\u001b[0m\n",
      "\u001b[93m73: Guess: $252.00 Truth: $344.00 Error: $92.00 SLE: 0.10 Item: House Of Troy PIN475-AB Pinnacle Collect...\u001b[0m\n",
      "\u001b[92m74: Guess: $19.73 Truth: $25.09 Error: $5.36 SLE: 0.05 Item: Juno T29 WH Floating Electrical Feed Sin...\u001b[0m\n",
      "\u001b[92m75: Guess: $164.50 Truth: $175.95 Error: $11.45 SLE: 0.00 Item: Sherman GO-PARTS - for 2013-2016 Toyota ...\u001b[0m\n",
      "\u001b[93m76: Guess: $193.00 Truth: $132.64 Error: $60.36 SLE: 0.14 Item: Roland RPU-3 Electronic Keyboard Pedal o...\u001b[0m\n",
      "\u001b[91m77: Guess: $799.95 Truth: $422.99 Error: $376.96 SLE: 0.40 Item: Rockland VMI14 12,000 Pound 12 Volt DC E...\u001b[0m\n",
      "\u001b[91m78: Guess: $289.99 Truth: $146.48 Error: $143.51 SLE: 0.46 Item: Max Advanced Brakes Elite XDS Front Cros...\u001b[0m\n",
      "\u001b[92m79: Guess: $193.95 Truth: $156.83 Error: $37.12 SLE: 0.04 Item: Quality-Built 11030 Premium Quality Alte...\u001b[0m\n",
      "\u001b[92m80: Guess: $289.00 Truth: $251.99 Error: $37.01 SLE: 0.02 Item: Lucida LG-510 Student Classical Guitar, ...\u001b[0m\n",
      "\u001b[91m81: Guess: $193.95 Truth: $940.33 Error: $746.38 SLE: 2.48 Item: Longacre 52-79800 Aluminum Turn Plates\u001b[0m\n",
      "\u001b[92m82: Guess: $65.69 Truth: $52.99 Error: $12.70 SLE: 0.04 Item: Motion Pro 08-0380 Adjustable Torque Wre...\u001b[0m\n",
      "\u001b[93m83: Guess: $139.99 Truth: $219.95 Error: $79.96 SLE: 0.20 Item: Glyph Thunderbolt 3 NVMe Dock (0 GB)\u001b[0m\n",
      "\u001b[93m84: Guess: $289.99 Truth: $441.03 Error: $151.04 SLE: 0.17 Item: TOYO Open Country MT Performance Radial ...\u001b[0m\n",
      "\u001b[93m85: Guess: $127.99 Truth: $168.98 Error: $40.99 SLE: 0.08 Item: Razer Seiren X USB Streaming Microphone ...\u001b[0m\n",
      "\u001b[92m86: Guess: $4.65 Truth: $2.49 Error: $2.16 SLE: 0.23 Item: Happy Birthday to Dad From Your Daughter...\u001b[0m\n",
      "\u001b[93m87: Guess: $139.99 Truth: $98.62 Error: $41.37 SLE: 0.12 Item: Little Tikes My Real Jam First Concert S...\u001b[0m\n",
      "\u001b[93m88: Guess: $193.95 Truth: $256.95 Error: $63.00 SLE: 0.08 Item: Studio M Peace and Harmony Art Pole Comm...\u001b[0m\n",
      "\u001b[92m89: Guess: $39.95 Truth: $30.99 Error: $8.96 SLE: 0.06 Item: MyVolts 12V Power Supply Adaptor Compati...\u001b[0m\n",
      "\u001b[92m90: Guess: $500.00 Truth: $569.84 Error: $69.84 SLE: 0.02 Item: Dell Latitude 7212 Rugged Extreme Tablet...\u001b[0m\n",
      "\u001b[92m91: Guess: $164.99 Truth: $177.99 Error: $13.00 SLE: 0.01 Item: Covermates Contour Fit Car Cover - Light...\u001b[0m\n",
      "\u001b[91m92: Guess: $317.50 Truth: $997.99 Error: $680.49 SLE: 1.31 Item: Westin 57-4025 Black HDX Grille Guard fi...\u001b[0m\n",
      "\u001b[93m93: Guess: $279.00 Truth: $219.00 Error: $60.00 SLE: 0.06 Item: Fieldpiece JL2 Job Link Wireless App Tra...\u001b[0m\n",
      "\u001b[93m94: Guess: $289.00 Truth: $225.55 Error: $63.45 SLE: 0.06 Item: hansgrohe Talis S Modern Premium Easy Cl...\u001b[0m\n",
      "\u001b[92m95: Guess: $557.30 Truth: $495.95 Error: $61.35 SLE: 0.01 Item: G-Technology G-SPEED eS PRO High-Perform...\u001b[0m\n",
      "\u001b[92m96: Guess: $788.00 Truth: $942.37 Error: $154.37 SLE: 0.03 Item: DreamLine SHDR-1960723L-01 Shower Door, ...\u001b[0m\n",
      "\u001b[92m97: Guess: $19.30 Truth: $1.94 Error: $17.36 SLE: 3.73 Item: Sanctuary Square Backplate Finish: Oiled...\u001b[0m\n",
      "\u001b[92m98: Guess: $289.95 Truth: $284.34 Error: $5.61 SLE: 0.00 Item: Pelican Protector 1750 Long Case - Multi...\u001b[0m\n",
      "\u001b[92m99: Guess: $139.73 Truth: $171.90 Error: $32.17 SLE: 0.04 Item: Brock Replacement Driver and Passenger H...\u001b[0m\n",
      "\u001b[91m100: Guess: $279.00 Truth: $144.99 Error: $134.01 SLE: 0.42 Item: Carlinkit Ai Box Mini, Android 11, Multi...\u001b[0m\n",
      "\u001b[92m101: Guess: $525.00 Truth: $470.47 Error: $54.53 SLE: 0.01 Item: StarDot NetCamLIVE2 YouTube Live Stream ...\u001b[0m\n",
      "\u001b[92m102: Guess: $50.95 Truth: $66.95 Error: $16.00 SLE: 0.07 Item: Atomic Compatible FILXXCAR0016 16x25x5 M...\u001b[0m\n",
      "\u001b[93m103: Guess: $193.95 Truth: $117.00 Error: $76.95 SLE: 0.25 Item: Bandai Awakening of S. H. s.h.figuarts s...\u001b[0m\n",
      "\u001b[92m104: Guess: $154.65 Truth: $172.14 Error: $17.49 SLE: 0.01 Item: Fit System 62135G Passenger Side Towing ...\u001b[0m\n",
      "\u001b[93m105: Guess: $289.99 Truth: $392.74 Error: $102.75 SLE: 0.09 Item: Black Horse Black Aluminum Exceed Runnin...\u001b[0m\n",
      "\u001b[92m106: Guess: $39.95 Truth: $16.99 Error: $22.96 SLE: 0.68 Item: Dearsun Twinkle Star Color Night Light P...\u001b[0m\n",
      "\u001b[92m107: Guess: $9.99 Truth: $1.34 Error: $8.65 SLE: 2.39 Item: Pokemon - Gallade Spirit Link (83/108) -...\u001b[0m\n",
      "\u001b[93m108: Guess: $249.99 Truth: $349.98 Error: $99.99 SLE: 0.11 Item: Ibanez GA34STCE-NT GIO Series Classical ...\u001b[0m\n",
      "\u001b[91m109: Guess: $799.95 Truth: $370.71 Error: $429.24 SLE: 0.59 Item: Set 2 Heavy Duty 12-16.5 12x16.5 12 Ply ...\u001b[0m\n",
      "\u001b[92m110: Guess: $39.95 Truth: $65.88 Error: $25.93 SLE: 0.24 Item: Hairpin Table Legs 28\" Heavy Duty Hairpi...\u001b[0m\n",
      "\u001b[91m111: Guess: $799.99 Truth: $229.99 Error: $570.00 SLE: 1.55 Item: Marada Racing Seat with Adjustable Slide...\u001b[0m\n",
      "\u001b[92m112: Guess: $10.99 Truth: $9.14 Error: $1.85 SLE: 0.03 Item: Remington Industries 24UL1007STRWHI25 24...\u001b[0m\n",
      "\u001b[91m113: Guess: $289.99 Truth: $199.00 Error: $90.99 SLE: 0.14 Item: Acer S3-391-6046 13.3-inch Ultrabook, In...\u001b[0m\n",
      "\u001b[92m114: Guess: $109.99 Truth: $109.99 Error: $0.00 SLE: 0.00 Item: ICBEAMER 7\" RGB LED Headlights Bulb Halo...\u001b[0m\n",
      "\u001b[91m115: Guess: $289.99 Truth: $570.42 Error: $280.43 SLE: 0.46 Item: R1 Concepts Front Rear Brakes and Rotors...\u001b[0m\n",
      "\u001b[93m116: Guess: $378.98 Truth: $279.99 Error: $98.99 SLE: 0.09 Item: Camplux 2.64 GPM Tankless , Outdoor Port...\u001b[0m\n",
      "\u001b[92m117: Guess: $39.99 Truth: $30.99 Error: $9.00 SLE: 0.06 Item: KNOKLOCK 10 Pack 3.75 Inch(96mm) Kitchen...\u001b[0m\n",
      "\u001b[92m118: Guess: $34.95 Truth: $31.99 Error: $2.96 SLE: 0.01 Item: Valley Enterprises Yaesu USB FTDI CT-62 ...\u001b[0m\n",
      "\u001b[92m119: Guess: $39.99 Truth: $15.90 Error: $24.09 SLE: 0.79 Item: G9 LED Light Bulbs，8W，75W 100W replaceme...\u001b[0m\n",
      "\u001b[91m120: Guess: $139.98 Truth: $45.99 Error: $93.99 SLE: 1.21 Item: ZCHAOZ 4 Lights Antique White Farmhouse ...\u001b[0m\n",
      "\u001b[91m121: Guess: $252.18 Truth: $113.52 Error: $138.66 SLE: 0.63 Item: Honeywell TH8320R1003 Honeywell VisionPr...\u001b[0m\n",
      "\u001b[91m122: Guess: $252.18 Truth: $516.99 Error: $264.81 SLE: 0.51 Item: Patriot Exhaust H8013-1 1-7/8\" Clippster...\u001b[0m\n",
      "\u001b[91m123: Guess: $100.69 Truth: $196.99 Error: $96.30 SLE: 0.44 Item: Fitrite Autopart New Front Left Driver S...\u001b[0m\n",
      "\u001b[91m124: Guess: $139.99 Truth: $46.55 Error: $93.44 SLE: 1.18 Item: Technical Precision Replacement for GE G...\u001b[0m\n",
      "\u001b[91m125: Guess: $164.50 Truth: $356.99 Error: $192.49 SLE: 0.60 Item: Covercraft Carhartt SeatSaver Front Row ...\u001b[0m\n",
      "\u001b[91m126: Guess: $799.95 Truth: $319.95 Error: $480.00 SLE: 0.84 Item: Sennheiser SD Pro 2 (506008) - Double-Si...\u001b[0m\n",
      "\u001b[91m127: Guess: $193.95 Truth: $96.06 Error: $97.89 SLE: 0.49 Item: Hitachi MAF0110 Mass Air Flow Sensor\u001b[0m\n",
      "\u001b[91m128: Guess: $289.00 Truth: $190.99 Error: $98.01 SLE: 0.17 Item: AmScope SE305R-P-LED-PS36A 10X-30X LED C...\u001b[0m\n",
      "\u001b[91m129: Guess: $139.73 Truth: $257.95 Error: $118.22 SLE: 0.37 Item: Front Left Driver Side Window Regulator ...\u001b[0m\n",
      "\u001b[91m130: Guess: $161.95 Truth: $62.95 Error: $99.00 SLE: 0.87 Item: Premium Replica Hubcap Set, Fits Nissan ...\u001b[0m\n",
      "\u001b[92m131: Guess: $65.69 Truth: $47.66 Error: $18.03 SLE: 0.10 Item: Excellerations Phonics Spelling Game for...\u001b[0m\n",
      "\u001b[93m132: Guess: $289.99 Truth: $226.99 Error: $63.00 SLE: 0.06 Item: RC4WD BigDog Dual Axle Scale Car/Truck T...\u001b[0m\n",
      "\u001b[93m133: Guess: $262.47 Truth: $359.95 Error: $97.48 SLE: 0.10 Item: Unknown Stage 2 Clutch Kit - Low Altitud...\u001b[0m\n",
      "\u001b[92m134: Guess: $50.95 Truth: $78.40 Error: $27.45 SLE: 0.18 Item: 2002-2008 Dodge Ram 1500 Mopar 4X4 Emble...\u001b[0m\n",
      "\u001b[92m135: Guess: $164.99 Truth: $172.77 Error: $7.78 SLE: 0.00 Item: Pro Comp Alloys Series 89 Wheel with Pol...\u001b[0m\n",
      "\u001b[92m136: Guess: $339.30 Truth: $316.45 Error: $22.85 SLE: 0.00 Item: Detroit Axle - Front Rear Strut & Coil S...\u001b[0m\n",
      "\u001b[91m137: Guess: $186.89 Truth: $87.99 Error: $98.90 SLE: 0.56 Item: ECCPP Rear Wheel Axle Replacement fit fo...\u001b[0m\n",
      "\u001b[93m138: Guess: $139.99 Truth: $226.63 Error: $86.64 SLE: 0.23 Item: Dell Latitude E6520 Intel i7-2720QM 2.20...\u001b[0m\n",
      "\u001b[92m139: Guess: $21.99 Truth: $31.49 Error: $9.50 SLE: 0.12 Item: F FIERCE CYCLE 251pcs Black Universal Mo...\u001b[0m\n",
      "\u001b[93m140: Guess: $252.18 Truth: $196.00 Error: $56.18 SLE: 0.06 Item: Flash Furniture 4 Pk. HERCULES Series 88...\u001b[0m\n",
      "\u001b[92m141: Guess: $58.18 Truth: $78.40 Error: $20.22 SLE: 0.09 Item: B&M 30287 Throttle Valve/Kickdown Cable,...\u001b[0m\n",
      "\u001b[91m142: Guess: $289.99 Truth: $116.25 Error: $173.74 SLE: 0.83 Item: Gates TCK226 PowerGrip Premium Timing Be...\u001b[0m\n",
      "\u001b[91m143: Guess: $252.18 Truth: $112.78 Error: $139.40 SLE: 0.64 Item: Monroe Shocks & Struts Quick-Strut 17149...\u001b[0m\n",
      "\u001b[92m144: Guess: $22.50 Truth: $27.32 Error: $4.82 SLE: 0.03 Item: Feit Electric BPMR16/GU10/930CA/6 35W EQ...\u001b[0m\n",
      "\u001b[92m145: Guess: $179.99 Truth: $145.91 Error: $34.08 SLE: 0.04 Item: Yellow Jacket 2806 Contractor Extension ...\u001b[0m\n",
      "\u001b[92m146: Guess: $164.50 Truth: $171.09 Error: $6.59 SLE: 0.00 Item: Garage-Pro Tailgate SET Compatible with ...\u001b[0m\n",
      "\u001b[92m147: Guess: $142.95 Truth: $167.95 Error: $25.00 SLE: 0.03 Item: 3M Perfect It Buffing and Polishing Kit ...\u001b[0m\n",
      "\u001b[92m148: Guess: $39.18 Truth: $28.49 Error: $10.69 SLE: 0.10 Item: Chinese Style Dollhouse Model DIY Miniat...\u001b[0m\n",
      "\u001b[92m149: Guess: $142.95 Truth: $122.23 Error: $20.72 SLE: 0.02 Item: Generic NRG Innovations SRK-161H Steerin...\u001b[0m\n",
      "\u001b[92m150: Guess: $39.95 Truth: $32.99 Error: $6.96 SLE: 0.03 Item: Learning Resources Coding Critters Range...\u001b[0m\n",
      "\u001b[91m151: Guess: $164.50 Truth: $71.20 Error: $93.30 SLE: 0.69 Item: Bosch Automotive 15463 Oxygen Sensor, OE...\u001b[0m\n",
      "\u001b[91m152: Guess: $289.99 Truth: $112.75 Error: $177.24 SLE: 0.88 Item: Case of 24-2 Inch Blue Painters Tape - 6...\u001b[0m\n",
      "\u001b[91m153: Guess: $58.95 Truth: $142.43 Error: $83.48 SLE: 0.76 Item: MOCA Engine Water Pump & Fan Clutch fit ...\u001b[0m\n",
      "\u001b[91m154: Guess: $47.99 Truth: $398.99 Error: $351.00 SLE: 4.41 Item: SAREMAS Foot Step Bars for Hyundai Palis...\u001b[0m\n",
      "\u001b[93m155: Guess: $579.99 Truth: $449.00 Error: $130.99 SLE: 0.07 Item: Gretsch G9210 Square Neck Boxcar Mahogan...\u001b[0m\n",
      "\u001b[91m156: Guess: $279.95 Truth: $189.00 Error: $90.95 SLE: 0.15 Item: NikoMaku Mirror Dash Cam Front and Rear ...\u001b[0m\n",
      "\u001b[93m157: Guess: $164.95 Truth: $120.91 Error: $44.04 SLE: 0.10 Item: Fenix HP25R v2.0 USB-C Rechargeable Head...\u001b[0m\n",
      "\u001b[93m158: Guess: $139.99 Truth: $203.53 Error: $63.54 SLE: 0.14 Item: R&L Racing Heavy Duty Roll-Up Soft Tonne...\u001b[0m\n",
      "\u001b[92m159: Guess: $299.99 Truth: $349.99 Error: $50.00 SLE: 0.02 Item: Garmin 010-02258-10 GPSMAP 64sx, Handhel...\u001b[0m\n",
      "\u001b[92m160: Guess: $22.50 Truth: $34.35 Error: $11.85 SLE: 0.17 Item: Brown 5-7/8\" X 8-1/2\" X 3/16\" Thick Heav...\u001b[0m\n",
      "\u001b[93m161: Guess: $289.00 Truth: $384.99 Error: $95.99 SLE: 0.08 Item: GAOMON PD2200 Pen Display & 20 Pen Nibs ...\u001b[0m\n",
      "\u001b[91m162: Guess: $299.99 Truth: $211.00 Error: $88.99 SLE: 0.12 Item: VXMOTOR for 97-03 Ford F150/F250 Lightdu...\u001b[0m\n",
      "\u001b[91m163: Guess: $799.95 Truth: $129.00 Error: $670.95 SLE: 3.31 Item: HP EliteBook 2540p Intel Core i7-640LM X...\u001b[0m\n",
      "\u001b[93m164: Guess: $65.69 Truth: $111.45 Error: $45.76 SLE: 0.27 Item: Green EPX Mixing Nozzles 100-Pack-fits 3...\u001b[0m\n",
      "\u001b[93m165: Guess: $22.50 Truth: $81.12 Error: $58.62 SLE: 1.57 Item: Box Partners 6 1/4 x 3 1/8\" 13 Pt. Manil...\u001b[0m\n",
      "\u001b[91m166: Guess: $799.95 Truth: $457.08 Error: $342.87 SLE: 0.31 Item: Vixen Air 1/2\" NPT Air Ride Suspension H...\u001b[0m\n",
      "\u001b[91m167: Guess: $139.99 Truth: $49.49 Error: $90.50 SLE: 1.05 Item: Smart Floor Lamp, 2700-6500K+RGBPink Mul...\u001b[0m\n",
      "\u001b[92m168: Guess: $50.19 Truth: $80.56 Error: $30.37 SLE: 0.22 Item: SOZG 324mm Wheelbase Body Shell RC Car B...\u001b[0m\n",
      "\u001b[91m169: Guess: $164.50 Truth: $278.39 Error: $113.89 SLE: 0.27 Item: Mickey Thompson ET Street S/S Racing Rad...\u001b[0m\n",
      "\u001b[93m170: Guess: $285.95 Truth: $364.50 Error: $78.55 SLE: 0.06 Item: Pirelli 275/40R20 106W XL RFT P0 PZ4-LUX...\u001b[0m\n",
      "\u001b[92m171: Guess: $393.69 Truth: $378.99 Error: $14.70 SLE: 0.00 Item: Torklift C3212 Rear Tie Down\u001b[0m\n",
      "\u001b[92m172: Guess: $139.73 Truth: $165.28 Error: $25.55 SLE: 0.03 Item: Cardone 78-4226 Remanufactured Ford Comp...\u001b[0m\n",
      "\u001b[91m173: Guess: $161.18 Truth: $56.74 Error: $104.44 SLE: 1.07 Item: Kidde AccessPoint 001798 Supra TouchPoin...\u001b[0m\n",
      "\u001b[92m174: Guess: $289.99 Truth: $307.95 Error: $17.96 SLE: 0.00 Item: 3M Protecta 3100414 Self Retracting Life...\u001b[0m\n",
      "\u001b[91m175: Guess: $139.99 Truth: $38.00 Error: $101.99 SLE: 1.65 Item: Plantronics 89435-01 Wired Headset, Blac...\u001b[0m\n",
      "\u001b[93m176: Guess: $109.99 Truth: $53.00 Error: $56.99 SLE: 0.52 Item: Logitech K750 Wireless Solar Keyboard fo...\u001b[0m\n",
      "\u001b[91m177: Guess: $799.00 Truth: $498.00 Error: $301.00 SLE: 0.22 Item: Olympus PEN E-PL9 Body Only with 3-Inch ...\u001b[0m\n",
      "\u001b[91m178: Guess: $252.18 Truth: $53.99 Error: $198.19 SLE: 2.33 Item: Beck/Arnley 051-6066 Hub & Bearing Assem...\u001b[0m\n",
      "\u001b[93m179: Guess: $221.65 Truth: $350.00 Error: $128.35 SLE: 0.21 Item: Eibach Pro-Kit Performance Springs E10-6...\u001b[0m\n",
      "\u001b[91m180: Guess: $139.99 Truth: $299.95 Error: $159.96 SLE: 0.57 Item: LEGO DC Batman 1989 Batwing 76161 Displa...\u001b[0m\n",
      "\u001b[91m181: Guess: $179.99 Truth: $94.93 Error: $85.06 SLE: 0.40 Item: Kingston Brass KS3608PL Restoration 4-In...\u001b[0m\n",
      "\u001b[93m182: Guess: $279.00 Truth: $379.00 Error: $100.00 SLE: 0.09 Item: Polk Vanishing Series 265-LS In-Wall 3-W...\u001b[0m\n",
      "\u001b[92m183: Guess: $289.99 Truth: $299.95 Error: $9.96 SLE: 0.00 Item: Spec-D Tuning LED Projector Headlights G...\u001b[0m\n",
      "\u001b[93m184: Guess: $65.00 Truth: $24.99 Error: $40.01 SLE: 0.87 Item: RICHMOND & FINCH Airpod Pro Case, Green ...\u001b[0m\n",
      "\u001b[91m185: Guess: $164.50 Truth: $41.04 Error: $123.46 SLE: 1.88 Item: LFA Industries 43B-5A-33JT 1/16-1/2-1.5-...\u001b[0m\n",
      "\u001b[91m186: Guess: $69.99 Truth: $327.90 Error: $257.91 SLE: 2.35 Item: SAUTVS LED Headlight Assembly for Slings...\u001b[0m\n",
      "\u001b[92m187: Guess: $18.99 Truth: $10.99 Error: $8.00 SLE: 0.26 Item: 2 Pack Combo Womens Safety Glasses Impac...\u001b[0m\n",
      "\u001b[92m188: Guess: $15.99 Truth: $14.99 Error: $1.00 SLE: 0.00 Item: Arepa - Venezuelan cuisine - Venezuela P...\u001b[0m\n",
      "\u001b[92m189: Guess: $69.99 Truth: $84.95 Error: $14.96 SLE: 0.04 Item: Schlage Lock Company KS23D2300 Padlock, ...\u001b[0m\n",
      "\u001b[93m190: Guess: $47.22 Truth: $111.00 Error: $63.78 SLE: 0.71 Item: Techni Mobili White Sit to Stand Mobile ...\u001b[0m\n",
      "\u001b[92m191: Guess: $139.99 Truth: $123.73 Error: $16.26 SLE: 0.02 Item: Special Lite Products Contemporary Wall ...\u001b[0m\n",
      "\u001b[91m192: Guess: $299.00 Truth: $557.38 Error: $258.38 SLE: 0.39 Item: Tascam DP-24SD 24-Track Digital Portastu...\u001b[0m\n",
      "\u001b[93m193: Guess: $164.50 Truth: $95.55 Error: $68.95 SLE: 0.29 Item: Glow Lighting 636CC10SP Vista Crystal Fl...\u001b[0m\n",
      "\u001b[92m194: Guess: $193.95 Truth: $154.00 Error: $39.95 SLE: 0.05 Item: Z3 Wind Deflector, Smoke Tint, Lexan, Wi...\u001b[0m\n",
      "\u001b[91m195: Guess: $799.95 Truth: $198.99 Error: $600.96 SLE: 1.93 Item: Olympus E-20 5MP Digital Camera w/ 4x Op...\u001b[0m\n",
      "\u001b[91m196: Guess: $799.95 Truth: $430.44 Error: $369.51 SLE: 0.38 Item: PHYNEDI 1:1000 World Trade Center (1973-...\u001b[0m\n",
      "\u001b[92m197: Guess: $65.69 Truth: $45.67 Error: $20.02 SLE: 0.13 Item: YANGHUAN Unstable Unicorns Adventure Car...\u001b[0m\n",
      "\u001b[91m198: Guess: $139.99 Truth: $249.00 Error: $109.01 SLE: 0.33 Item: Interlogix NX-1820E NetworX Touch Screen...\u001b[0m\n",
      "\u001b[92m199: Guess: $69.99 Truth: $42.99 Error: $27.00 SLE: 0.23 Item: Steering Damper,Universal Motorcycle Han...\u001b[0m\n",
      "\u001b[92m200: Guess: $164.50 Truth: $181.33 Error: $16.83 SLE: 0.01 Item: Amprobe TIC 410A Hot Stick Attachment\u001b[0m\n",
      "\u001b[92m201: Guess: $9.30 Truth: $6.03 Error: $3.27 SLE: 0.15 Item: MyCableMart 3.5mm Plug/Jack, 4 Conductor...\u001b[0m\n",
      "\u001b[92m202: Guess: $18.99 Truth: $29.99 Error: $11.00 SLE: 0.19 Item: OtterBox + Pop Symmetry Series Case for ...\u001b[0m\n",
      "\u001b[92m203: Guess: $799.95 Truth: $899.00 Error: $99.05 SLE: 0.01 Item: Dell XPS X8700-1572BLK Desktop ( Intel C...\u001b[0m\n",
      "\u001b[93m204: Guess: $279.95 Truth: $399.99 Error: $120.04 SLE: 0.13 Item: Franklin Iron Works Sperry Industrial Br...\u001b[0m\n",
      "\u001b[92m205: Guess: $10.99 Truth: $4.66 Error: $6.33 SLE: 0.56 Item: Avery Legal Dividers, Standard Collated ...\u001b[0m\n",
      "\u001b[91m206: Guess: $139.30 Truth: $261.41 Error: $122.11 SLE: 0.39 Item: Moen 8346 Commercial Posi-Temp Pressure ...\u001b[0m\n",
      "\u001b[92m207: Guess: $127.22 Truth: $136.97 Error: $9.75 SLE: 0.01 Item: Carlisle Versa Trail ATR All Terrain Rad...\u001b[0m\n",
      "\u001b[91m208: Guess: $249.95 Truth: $79.00 Error: $170.95 SLE: 1.31 Item: SUNWAYFOTO 44mm Tripod Ball Head Arca Co...\u001b[0m\n",
      "\u001b[91m209: Guess: $817.95 Truth: $444.99 Error: $372.96 SLE: 0.37 Item: NanoBeam AC NBE-5AC-Gen2-US 4 Units 5GHz...\u001b[0m\n",
      "\u001b[92m210: Guess: $339.99 Truth: $411.94 Error: $71.95 SLE: 0.04 Item: WULF 4\" Front 2\" Rear Leveling Lift Kit ...\u001b[0m\n",
      "\u001b[91m211: Guess: $322.22 Truth: $148.40 Error: $173.82 SLE: 0.60 Item: Alera ALEVABFMC Valencia Series Mobile B...\u001b[0m\n",
      "\u001b[91m212: Guess: $799.95 Truth: $244.99 Error: $554.96 SLE: 1.39 Item: YU-GI-OH! Ignition Assault Booster Box\u001b[0m\n",
      "\u001b[91m213: Guess: $289.99 Truth: $86.50 Error: $203.49 SLE: 1.44 Item: 48\" x 36\" Extra-Large Framed Magnetic Bl...\u001b[0m\n",
      "\u001b[92m214: Guess: $289.99 Truth: $297.95 Error: $7.96 SLE: 0.00 Item: Dell Latitude D620 Renewed Notebook PC\u001b[0m\n",
      "\u001b[93m215: Guess: $500.00 Truth: $399.99 Error: $100.01 SLE: 0.05 Item: acer Aspire 5 Laptop, AMD Ryzen 3 5300U ...\u001b[0m\n",
      "\u001b[91m216: Guess: $100.00 Truth: $599.00 Error: $499.00 SLE: 3.17 Item: Elk 31080/6RC-GRN 30 by 6-Inch Viva 6-Li...\u001b[0m\n",
      "\u001b[93m217: Guess: $65.69 Truth: $105.99 Error: $40.30 SLE: 0.22 Item: Barbie Top Model Doll\u001b[0m\n",
      "\u001b[92m218: Guess: $788.00 Truth: $689.00 Error: $99.00 SLE: 0.02 Item: Danby Designer 20-In. Electric Range wit...\u001b[0m\n",
      "\u001b[92m219: Guess: $393.69 Truth: $404.99 Error: $11.30 SLE: 0.00 Item: FixtureDisplays® Metal Truss Podium Doub...\u001b[0m\n",
      "\u001b[93m220: Guess: $252.18 Truth: $207.76 Error: $44.42 SLE: 0.04 Item: ACDelco 13597235 GM Original Equipment A...\u001b[0m\n",
      "\u001b[91m221: Guess: $277.65 Truth: $171.82 Error: $105.83 SLE: 0.23 Item: EBC S1KF1135 Stage-1 Premium Street Brak...\u001b[0m\n",
      "\u001b[92m222: Guess: $289.99 Truth: $293.24 Error: $3.25 SLE: 0.00 Item: FXR Men's Boost FX Jacket (Black/Orange/...\u001b[0m\n",
      "\u001b[92m223: Guess: $317.95 Truth: $374.95 Error: $57.00 SLE: 0.03 Item: SuperATV Scratch Resistant 3-in-1 Flip W...\u001b[0m\n",
      "\u001b[91m224: Guess: $799.95 Truth: $111.99 Error: $687.96 SLE: 3.84 Item: SBU 3 Layer All Weather Mini Van Car Cov...\u001b[0m\n",
      "\u001b[92m225: Guess: $22.99 Truth: $42.99 Error: $20.00 SLE: 0.37 Item: 2 Pack Outdoor Brochure Holder Advertisi...\u001b[0m\n",
      "\u001b[91m226: Guess: $252.18 Truth: $116.71 Error: $135.47 SLE: 0.59 Item: Monroe Shocks & Struts Quick-Strut 17158...\u001b[0m\n",
      "\u001b[91m227: Guess: $289.99 Truth: $118.61 Error: $171.38 SLE: 0.79 Item: Elements of Design Magellan EB235AL Thre...\u001b[0m\n",
      "\u001b[93m228: Guess: $193.95 Truth: $147.12 Error: $46.83 SLE: 0.08 Item: GM Genuine Parts 15-62961 Air Conditioni...\u001b[0m\n",
      "\u001b[91m229: Guess: $799.99 Truth: $119.99 Error: $680.00 SLE: 3.57 Item: Baseus 17-in-1 USB C Docking Station to ...\u001b[0m\n",
      "\u001b[91m230: Guess: $164.50 Truth: $369.98 Error: $205.48 SLE: 0.65 Item: Whitehall™ Personalized Whitehall Capito...\u001b[0m\n",
      "\u001b[91m231: Guess: $799.95 Truth: $315.55 Error: $484.40 SLE: 0.86 Item: Pro Circuit Works Pipe PY05250 for 02-19...\u001b[0m\n",
      "\u001b[91m232: Guess: $289.99 Truth: $190.99 Error: $99.00 SLE: 0.17 Item: HYANKA 15 \"1200W Professional DJ Speaker...\u001b[0m\n",
      "\u001b[91m233: Guess: $799.95 Truth: $155.00 Error: $644.95 SLE: 2.68 Item: Bluetooth X6BT Card Reader Writer Encode...\u001b[0m\n",
      "\u001b[92m234: Guess: $285.95 Truth: $349.99 Error: $64.04 SLE: 0.04 Item: AIRAID Cold Air Intake System by K&N: In...\u001b[0m\n",
      "\u001b[91m235: Guess: $799.99 Truth: $249.99 Error: $550.00 SLE: 1.35 Item: Bostingner Shower Faucets Sets Complete,...\u001b[0m\n",
      "\u001b[92m236: Guess: $19.99 Truth: $42.99 Error: $23.00 SLE: 0.55 Item: PIT66 Front Bumper Turn Signal Lights, C...\u001b[0m\n",
      "\u001b[92m237: Guess: $22.99 Truth: $17.99 Error: $5.00 SLE: 0.05 Item: Caseology Bumpy Compatible with Google P...\u001b[0m\n",
      "\u001b[91m238: Guess: $799.95 Truth: $425.00 Error: $374.95 SLE: 0.40 Item: Fleck 2510 Timer Mechanical Filter Contr...\u001b[0m\n",
      "\u001b[91m239: Guess: $799.99 Truth: $249.99 Error: $550.00 SLE: 1.35 Item: Haloview MC7108 Wireless RV Backup Camer...\u001b[0m\n",
      "\u001b[92m240: Guess: $139.99 Truth: $138.23 Error: $1.76 SLE: 0.00 Item: Schmidt Spiele - Manhattan\u001b[0m\n",
      "\u001b[91m241: Guess: $799.99 Truth: $414.99 Error: $385.00 SLE: 0.43 Item: Corsa 14333 Tip Kit (Ford Mustang GT)\u001b[0m\n",
      "\u001b[91m242: Guess: $289.00 Truth: $168.28 Error: $120.72 SLE: 0.29 Item: Hoshizaki FM116A Fan Motor Kit 1\u001b[0m\n",
      "\u001b[93m243: Guess: $262.47 Truth: $199.99 Error: $62.48 SLE: 0.07 Item: BAINUO Antler Chandelier Lighting,6 Ligh...\u001b[0m\n",
      "\u001b[92m244: Guess: $149.99 Truth: $126.70 Error: $23.29 SLE: 0.03 Item: DNA MOTORING HL-OH-FEXP06-SM-AM Smoke Le...\u001b[0m\n",
      "\u001b[92m245: Guess: $18.77 Truth: $5.91 Error: $12.86 SLE: 1.11 Item: Wera Stainless 3840/1 TS 2.5mm Hex Inser...\u001b[0m\n",
      "\u001b[93m246: Guess: $139.95 Truth: $193.06 Error: $53.11 SLE: 0.10 Item: Celestron - PowerSeeker 127EQ Telescope ...\u001b[0m\n",
      "\u001b[92m247: Guess: $279.99 Truth: $249.99 Error: $30.00 SLE: 0.01 Item: NHOPEEW 10.1inch Android Car Radio Carpl...\u001b[0m\n",
      "\u001b[91m248: Guess: $799.95 Truth: $64.12 Error: $735.83 SLE: 6.30 Item: Other Harmonica (Suzuki-2Timer24- A)\u001b[0m\n",
      "\u001b[91m249: Guess: $22.99 Truth: $114.99 Error: $92.00 SLE: 2.48 Item: Harley Air Filter Venturi Intake Air Cle...\u001b[0m\n",
      "\u001b[92m250: Guess: $799.00 Truth: $926.00 Error: $127.00 SLE: 0.02 Item: Elite Screens Edge Free Ambient Light Re...\u001b[0m\n"
     ]
    },
    {
     "data": {
      "image/png": "[encoded data removed]",
      "text/plain": [
       "<Figure size 1200x800 with 1 Axes>"
      ]
     },
     "metadata": {},
     "output_type": "display_data"
    }
   ],
   "source": [
    "Tester.test(gpt_fine_tuned, test)"
   ]
  },
  {
   "cell_type": "code",
   "execution_count": null,
   "id": "e50373f5-3154-4445-b3f5-1fa508d52925",
   "metadata": {},
   "outputs": [],
   "source": []
  }
 ],
 "metadata": {
  "kernelspec": {
   "display_name": "Python 3 (ipykernel)",
   "language": "python",
   "name": "python3"
  },
  "language_info": {
   "codemirror_mode": {
    "name": "ipython",
    "version": 3
   },
   "file_extension": ".py",
   "mimetype": "text/x-python",
   "name": "python",
   "nbconvert_exporter": "python",
   "pygments_lexer": "ipython3",
   "version": "3.11.10"
  }
 },
 "nbformat": 4,
 "nbformat_minor": 5
}
